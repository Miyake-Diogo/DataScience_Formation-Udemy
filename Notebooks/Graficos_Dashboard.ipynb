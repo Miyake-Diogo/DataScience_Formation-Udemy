{
 "cells": [
  {
   "cell_type": "markdown",
   "metadata": {},
   "source": [
    "# Gráficos e Dashboards - Formação Cietista de Dados\n",
    "### Uso de graficos para apresentação dos resultados"
   ]
  },
  {
   "cell_type": "markdown",
   "metadata": {},
   "source": [
    "---------"
   ]
  },
  {
   "cell_type": "markdown",
   "metadata": {},
   "source": [
    "### Histograma\n",
    "Será usado o dataset trees para mostrar o gráfico de histograma"
   ]
  },
  {
   "cell_type": "code",
   "execution_count": 1,
   "metadata": {},
   "outputs": [
    {
     "data": {
      "text/html": [
       "<table>\n",
       "<thead><tr><th scope=col>Girth</th><th scope=col>Height</th><th scope=col>Volume</th></tr></thead>\n",
       "<tbody>\n",
       "\t<tr><td> 8.3</td><td>70  </td><td>10.3</td></tr>\n",
       "\t<tr><td> 8.6</td><td>65  </td><td>10.3</td></tr>\n",
       "\t<tr><td> 8.8</td><td>63  </td><td>10.2</td></tr>\n",
       "\t<tr><td>10.5</td><td>72  </td><td>16.4</td></tr>\n",
       "\t<tr><td>10.7</td><td>81  </td><td>18.8</td></tr>\n",
       "\t<tr><td>10.8</td><td>83  </td><td>19.7</td></tr>\n",
       "\t<tr><td>11.0</td><td>66  </td><td>15.6</td></tr>\n",
       "\t<tr><td>11.0</td><td>75  </td><td>18.2</td></tr>\n",
       "\t<tr><td>11.1</td><td>80  </td><td>22.6</td></tr>\n",
       "\t<tr><td>11.2</td><td>75  </td><td>19.9</td></tr>\n",
       "\t<tr><td>11.3</td><td>79  </td><td>24.2</td></tr>\n",
       "\t<tr><td>11.4</td><td>76  </td><td>21.0</td></tr>\n",
       "\t<tr><td>11.4</td><td>76  </td><td>21.4</td></tr>\n",
       "\t<tr><td>11.7</td><td>69  </td><td>21.3</td></tr>\n",
       "\t<tr><td>12.0</td><td>75  </td><td>19.1</td></tr>\n",
       "\t<tr><td>12.9</td><td>74  </td><td>22.2</td></tr>\n",
       "\t<tr><td>12.9</td><td>85  </td><td>33.8</td></tr>\n",
       "\t<tr><td>13.3</td><td>86  </td><td>27.4</td></tr>\n",
       "\t<tr><td>13.7</td><td>71  </td><td>25.7</td></tr>\n",
       "\t<tr><td>13.8</td><td>64  </td><td>24.9</td></tr>\n",
       "\t<tr><td>14.0</td><td>78  </td><td>34.5</td></tr>\n",
       "\t<tr><td>14.2</td><td>80  </td><td>31.7</td></tr>\n",
       "\t<tr><td>14.5</td><td>74  </td><td>36.3</td></tr>\n",
       "\t<tr><td>16.0</td><td>72  </td><td>38.3</td></tr>\n",
       "\t<tr><td>16.3</td><td>77  </td><td>42.6</td></tr>\n",
       "\t<tr><td>17.3</td><td>81  </td><td>55.4</td></tr>\n",
       "\t<tr><td>17.5</td><td>82  </td><td>55.7</td></tr>\n",
       "\t<tr><td>17.9</td><td>80  </td><td>58.3</td></tr>\n",
       "\t<tr><td>18.0</td><td>80  </td><td>51.5</td></tr>\n",
       "\t<tr><td>18.0</td><td>80  </td><td>51.0</td></tr>\n",
       "\t<tr><td>20.6</td><td>87  </td><td>77.0</td></tr>\n",
       "</tbody>\n",
       "</table>\n"
      ],
      "text/latex": [
       "\\begin{tabular}{r|lll}\n",
       " Girth & Height & Volume\\\\\n",
       "\\hline\n",
       "\t  8.3 & 70   & 10.3\\\\\n",
       "\t  8.6 & 65   & 10.3\\\\\n",
       "\t  8.8 & 63   & 10.2\\\\\n",
       "\t 10.5 & 72   & 16.4\\\\\n",
       "\t 10.7 & 81   & 18.8\\\\\n",
       "\t 10.8 & 83   & 19.7\\\\\n",
       "\t 11.0 & 66   & 15.6\\\\\n",
       "\t 11.0 & 75   & 18.2\\\\\n",
       "\t 11.1 & 80   & 22.6\\\\\n",
       "\t 11.2 & 75   & 19.9\\\\\n",
       "\t 11.3 & 79   & 24.2\\\\\n",
       "\t 11.4 & 76   & 21.0\\\\\n",
       "\t 11.4 & 76   & 21.4\\\\\n",
       "\t 11.7 & 69   & 21.3\\\\\n",
       "\t 12.0 & 75   & 19.1\\\\\n",
       "\t 12.9 & 74   & 22.2\\\\\n",
       "\t 12.9 & 85   & 33.8\\\\\n",
       "\t 13.3 & 86   & 27.4\\\\\n",
       "\t 13.7 & 71   & 25.7\\\\\n",
       "\t 13.8 & 64   & 24.9\\\\\n",
       "\t 14.0 & 78   & 34.5\\\\\n",
       "\t 14.2 & 80   & 31.7\\\\\n",
       "\t 14.5 & 74   & 36.3\\\\\n",
       "\t 16.0 & 72   & 38.3\\\\\n",
       "\t 16.3 & 77   & 42.6\\\\\n",
       "\t 17.3 & 81   & 55.4\\\\\n",
       "\t 17.5 & 82   & 55.7\\\\\n",
       "\t 17.9 & 80   & 58.3\\\\\n",
       "\t 18.0 & 80   & 51.5\\\\\n",
       "\t 18.0 & 80   & 51.0\\\\\n",
       "\t 20.6 & 87   & 77.0\\\\\n",
       "\\end{tabular}\n"
      ],
      "text/markdown": [
       "\n",
       "Girth | Height | Volume | \n",
       "|---|---|---|---|---|---|---|---|---|---|---|---|---|---|---|---|---|---|---|---|---|---|---|---|---|---|---|---|---|---|---|\n",
       "|  8.3 | 70   | 10.3 | \n",
       "|  8.6 | 65   | 10.3 | \n",
       "|  8.8 | 63   | 10.2 | \n",
       "| 10.5 | 72   | 16.4 | \n",
       "| 10.7 | 81   | 18.8 | \n",
       "| 10.8 | 83   | 19.7 | \n",
       "| 11.0 | 66   | 15.6 | \n",
       "| 11.0 | 75   | 18.2 | \n",
       "| 11.1 | 80   | 22.6 | \n",
       "| 11.2 | 75   | 19.9 | \n",
       "| 11.3 | 79   | 24.2 | \n",
       "| 11.4 | 76   | 21.0 | \n",
       "| 11.4 | 76   | 21.4 | \n",
       "| 11.7 | 69   | 21.3 | \n",
       "| 12.0 | 75   | 19.1 | \n",
       "| 12.9 | 74   | 22.2 | \n",
       "| 12.9 | 85   | 33.8 | \n",
       "| 13.3 | 86   | 27.4 | \n",
       "| 13.7 | 71   | 25.7 | \n",
       "| 13.8 | 64   | 24.9 | \n",
       "| 14.0 | 78   | 34.5 | \n",
       "| 14.2 | 80   | 31.7 | \n",
       "| 14.5 | 74   | 36.3 | \n",
       "| 16.0 | 72   | 38.3 | \n",
       "| 16.3 | 77   | 42.6 | \n",
       "| 17.3 | 81   | 55.4 | \n",
       "| 17.5 | 82   | 55.7 | \n",
       "| 17.9 | 80   | 58.3 | \n",
       "| 18.0 | 80   | 51.5 | \n",
       "| 18.0 | 80   | 51.0 | \n",
       "| 20.6 | 87   | 77.0 | \n",
       "\n",
       "\n"
      ],
      "text/plain": [
       "   Girth Height Volume\n",
       "1   8.3  70     10.3  \n",
       "2   8.6  65     10.3  \n",
       "3   8.8  63     10.2  \n",
       "4  10.5  72     16.4  \n",
       "5  10.7  81     18.8  \n",
       "6  10.8  83     19.7  \n",
       "7  11.0  66     15.6  \n",
       "8  11.0  75     18.2  \n",
       "9  11.1  80     22.6  \n",
       "10 11.2  75     19.9  \n",
       "11 11.3  79     24.2  \n",
       "12 11.4  76     21.0  \n",
       "13 11.4  76     21.4  \n",
       "14 11.7  69     21.3  \n",
       "15 12.0  75     19.1  \n",
       "16 12.9  74     22.2  \n",
       "17 12.9  85     33.8  \n",
       "18 13.3  86     27.4  \n",
       "19 13.7  71     25.7  \n",
       "20 13.8  64     24.9  \n",
       "21 14.0  78     34.5  \n",
       "22 14.2  80     31.7  \n",
       "23 14.5  74     36.3  \n",
       "24 16.0  72     38.3  \n",
       "25 16.3  77     42.6  \n",
       "26 17.3  81     55.4  \n",
       "27 17.5  82     55.7  \n",
       "28 17.9  80     58.3  \n",
       "29 18.0  80     51.5  \n",
       "30 18.0  80     51.0  \n",
       "31 20.6  87     77.0  "
      ]
     },
     "metadata": {},
     "output_type": "display_data"
    }
   ],
   "source": [
    "trees"
   ]
  },
  {
   "cell_type": "code",
   "execution_count": 2,
   "metadata": {},
   "outputs": [
    {
     "data": {
      "image/png": "[encoded data removed]",
      "text/plain": [
       "Plot with title \"Histogram of trees$Height\""
      ]
     },
     "metadata": {},
     "output_type": "display_data",
     "source": "R display func"
    }
   ],
   "source": [
    "hist(trees$Height)"
   ]
  },
  {
   "cell_type": "code",
   "execution_count": 4,
   "metadata": {},
   "outputs": [
    {
     "data": {
      "image/png": "[encoded data removed]",
      "text/plain": [
       "Plot with title \"Árvores\""
      ]
     },
     "metadata": {},
     "output_type": "display_data",
     "source": "R display func"
    }
   ],
   "source": [
    "hist(trees$Height, main=\"Árvores\", \n",
    "     ylab=\"Frequência\", xlab=\"Altura\", col=\"blue\", density=20, breaks=20)"
   ]
  },
  {
   "cell_type": "markdown",
   "metadata": {},
   "source": [
    "### Densidade\n",
    "Geração de gráfico de densidade"
   ]
  },
  {
   "cell_type": "code",
   "execution_count": 5,
   "metadata": {},
   "outputs": [],
   "source": [
    "densidade <- density(trees$Height)"
   ]
  },
  {
   "cell_type": "code",
   "execution_count": 6,
   "metadata": {},
   "outputs": [
    {
     "data": {
      "text/plain": [
       "\n",
       "Call:\n",
       "\tdensity.default(x = trees$Height)\n",
       "\n",
       "Data: trees$Height (31 obs.);\tBandwidth 'bw' = 2.704\n",
       "\n",
       "       x               y            \n",
       " Min.   :54.89   Min.   :0.0000748  \n",
       " 1st Qu.:64.94   1st Qu.:0.0051044  \n",
       " Median :75.00   Median :0.0214040  \n",
       " Mean   :75.00   Mean   :0.0248348  \n",
       " 3rd Qu.:85.06   3rd Qu.:0.0434164  \n",
       " Max.   :95.11   Max.   :0.0592414  "
      ]
     },
     "metadata": {},
     "output_type": "display_data"
    }
   ],
   "source": [
    "densidade"
   ]
  },
  {
   "cell_type": "code",
   "execution_count": 7,
   "metadata": {},
   "outputs": [
    {
     "data": {
      "image/png": "[encoded data removed]",
      "text/plain": [
       "Plot with title \"density.default(x = trees$Height)\""
      ]
     },
     "metadata": {},
     "output_type": "display_data",
     "source": "R display func"
    }
   ],
   "source": [
    "plot(densidade)"
   ]
  },
  {
   "cell_type": "code",
   "execution_count": 8,
   "metadata": {},
   "outputs": [
    {
     "data": {
      "image/png": "[encoded data removed]",
      "text/plain": [
       "Plot with title \"density.default(x = trees$Height)\""
      ]
     },
     "metadata": {},
     "output_type": "display_data",
     "source": "R display func"
    }
   ],
   "source": [
    "#Mesclar o gráfico de desnidade com o de histograma\n",
    "hist(trees$Height, main=NULL, xlab=NULL)\n",
    "par(new=TRUE)\n",
    "plot(densidade)"
   ]
  },
  {
   "cell_type": "code",
   "execution_count": 22,
   "metadata": {},
   "outputs": [],
   "source": [
    "par(new=FALSE)"
   ]
  },
  {
   "cell_type": "markdown",
   "metadata": {},
   "source": [
    "### Dispersão\n",
    "Geração de gráficos de dispersão e personalização"
   ]
  },
  {
   "cell_type": "code",
   "execution_count": 9,
   "metadata": {},
   "outputs": [
    {
     "data": {
      "image/png": "[encoded data removed]",
      "text/plain": [
       "plot without title"
      ]
     },
     "metadata": {},
     "output_type": "display_data",
     "source": "R display func"
    }
   ],
   "source": [
    "plot(trees$Girth, trees$Volume)"
   ]
  },
  {
   "cell_type": "code",
   "execution_count": 10,
   "metadata": {},
   "outputs": [
    {
     "data": {
      "image/png": "[encoded data removed]",
      "text/plain": [
       "Plot with title \"Árvores\""
      ]
     },
     "metadata": {},
     "output_type": "display_data",
     "source": "R display func"
    }
   ],
   "source": [
    "#editando\n",
    "plot(trees$Girth, trees$Volume, main=\"Árvores\", ylab=\"Circunferência\", \n",
    "     xlab=\"Volume\",col=\"blue\",pch=20)"
   ]
  },
  {
   "cell_type": "code",
   "execution_count": 13,
   "metadata": {},
   "outputs": [
    {
     "data": {
      "image/png": "[encoded data removed]",
      "text/plain": [
       "Plot with title \"Árvores\""
      ]
     },
     "metadata": {},
     "output_type": "display_data",
     "source": "R display func"
    }
   ],
   "source": [
    "plot(trees$Girth, trees$Volume, main=\"Árvores\", ylab=\"Circunferência\", \n",
    "     xlab=\"Volume\",col=\"blue\",pch=20, type=\"l\")"
   ]
  },
  {
   "cell_type": "code",
   "execution_count": 14,
   "metadata": {},
   "outputs": [
    {
     "data": {
      "image/png": "[encoded data removed]",
      "text/plain": [
       "Plot with title \"Árvores\""
      ]
     },
     "metadata": {},
     "output_type": "display_data",
     "source": "R display func"
    }
   ],
   "source": [
    "plot(jitter(trees$Girth), trees$Volume, main=\"Árvores\", ylab=\"Circunferência\", \n",
    "     xlab=\"Volume\",col=\"blue\",pch=20, type=\"l\")"
   ]
  },
  {
   "cell_type": "code",
   "execution_count": 16,
   "metadata": {},
   "outputs": [
    {
     "data": {
      "text/plain": [
       "        Jan    Feb    Mar    Apr    May    Jun    Jul    Aug    Sep    Oct\n",
       "1959 315.42 316.31 316.50 317.56 318.13 318.00 316.39 314.65 313.68 313.18\n",
       "1960 316.27 316.81 317.42 318.87 319.87 319.43 318.01 315.74 314.00 313.68\n",
       "1961 316.73 317.54 318.38 319.31 320.42 319.61 318.42 316.63 314.83 315.16\n",
       "1962 317.78 318.40 319.53 320.42 320.85 320.45 319.45 317.25 316.11 315.27\n",
       "1963 318.58 318.92 319.70 321.22 322.08 321.31 319.58 317.61 316.05 315.83\n",
       "1964 319.41 320.07 320.74 321.40 322.06 321.73 320.27 318.54 316.54 316.71\n",
       "1965 319.27 320.28 320.73 321.97 322.00 321.71 321.05 318.71 317.66 317.14\n",
       "1966 320.46 321.43 322.23 323.54 323.91 323.59 322.24 320.20 318.48 317.94\n",
       "1967 322.17 322.34 322.88 324.25 324.83 323.93 322.38 320.76 319.10 319.24\n",
       "1968 322.40 322.99 323.73 324.86 325.40 325.20 323.98 321.95 320.18 320.09\n",
       "1969 323.83 324.26 325.47 326.50 327.21 326.54 325.72 323.50 322.22 321.62\n",
       "1970 324.89 325.82 326.77 327.97 327.91 327.50 326.18 324.53 322.93 322.90\n",
       "1971 326.01 326.51 327.01 327.62 328.76 328.40 327.20 325.27 323.20 323.40\n",
       "1972 326.60 327.47 327.58 329.56 329.90 328.92 327.88 326.16 324.68 325.04\n",
       "1973 328.37 329.40 330.14 331.33 332.31 331.90 330.70 329.15 327.35 327.02\n",
       "1974 329.18 330.55 331.32 332.48 332.92 332.08 331.01 329.23 327.27 327.21\n",
       "1975 330.23 331.25 331.87 333.14 333.80 333.43 331.73 329.90 328.40 328.17\n",
       "1976 331.58 332.39 333.33 334.41 334.71 334.17 332.89 330.77 329.14 328.78\n",
       "1977 332.75 333.24 334.53 335.90 336.57 336.10 334.76 332.59 331.42 330.98\n",
       "1978 334.80 335.22 336.47 337.59 337.84 337.72 336.37 334.51 332.60 332.38\n",
       "1979 336.05 336.59 337.79 338.71 339.30 339.12 337.56 335.92 333.75 333.70\n",
       "1980 337.84 338.19 339.91 340.60 341.29 341.00 339.39 337.43 335.72 335.84\n",
       "1981 339.06 340.30 341.21 342.33 342.74 342.08 340.32 338.26 336.52 336.68\n",
       "1982 340.57 341.44 342.53 343.39 343.96 343.18 341.88 339.65 337.81 337.69\n",
       "1983 341.20 342.35 342.93 344.77 345.58 345.14 343.81 342.21 339.69 339.82\n",
       "1984 343.52 344.33 345.11 346.88 347.25 346.62 345.22 343.11 340.90 341.18\n",
       "1985 344.79 345.82 347.25 348.17 348.74 348.07 346.38 344.51 342.92 342.62\n",
       "1986 346.11 346.78 347.68 349.37 350.03 349.37 347.76 345.73 344.68 343.99\n",
       "1987 347.84 348.29 349.23 350.80 351.66 351.07 349.33 347.92 346.27 346.18\n",
       "1988 350.25 351.54 352.05 353.41 354.04 353.62 352.22 350.27 348.55 348.72\n",
       "1989 352.60 352.92 353.53 355.26 355.52 354.97 353.75 351.52 349.64 349.83\n",
       "1990 353.50 354.55 355.23 356.04 357.00 356.07 354.67 352.76 350.82 351.04\n",
       "1991 354.59 355.63 357.03 358.48 359.22 358.12 356.06 353.92 352.05 352.11\n",
       "1992 355.88 356.63 357.72 359.07 359.58 359.17 356.94 354.92 352.94 353.23\n",
       "1993 356.63 357.10 358.32 359.41 360.23 359.55 357.53 355.48 353.67 353.95\n",
       "1994 358.34 358.89 359.95 361.25 361.67 360.94 359.55 357.49 355.84 356.00\n",
       "1995 359.98 361.03 361.66 363.48 363.82 363.30 361.94 359.50 358.11 357.80\n",
       "1996 362.09 363.29 364.06 364.76 365.45 365.01 363.70 361.54 359.51 359.65\n",
       "1997 363.23 364.06 364.61 366.40 366.84 365.68 364.52 362.57 360.24 360.83\n",
       "        Nov    Dec\n",
       "1959 314.66 315.43\n",
       "1960 314.84 316.03\n",
       "1961 315.94 316.85\n",
       "1962 316.53 317.53\n",
       "1963 316.91 318.20\n",
       "1964 317.53 318.55\n",
       "1965 318.70 319.25\n",
       "1966 319.63 320.87\n",
       "1967 320.56 321.80\n",
       "1968 321.16 322.74\n",
       "1969 322.69 323.95\n",
       "1970 323.85 324.96\n",
       "1971 324.63 325.85\n",
       "1972 326.34 327.39\n",
       "1973 327.99 328.48\n",
       "1974 328.29 329.41\n",
       "1975 329.32 330.59\n",
       "1976 330.14 331.52\n",
       "1977 332.24 333.68\n",
       "1978 333.75 334.78\n",
       "1979 335.12 336.56\n",
       "1980 336.93 338.04\n",
       "1981 338.19 339.44\n",
       "1982 339.09 340.32\n",
       "1983 340.98 342.82\n",
       "1984 342.80 344.04\n",
       "1985 344.06 345.38\n",
       "1986 345.48 346.72\n",
       "1987 347.64 348.78\n",
       "1988 349.91 351.18\n",
       "1989 351.14 352.37\n",
       "1990 352.69 354.07\n",
       "1991 353.64 354.89\n",
       "1992 354.09 355.33\n",
       "1993 355.30 356.78\n",
       "1994 357.59 359.05\n",
       "1995 359.61 360.74\n",
       "1996 360.80 362.38\n",
       "1997 362.49 364.34"
      ]
     },
     "metadata": {},
     "output_type": "display_data"
    }
   ],
   "source": [
    "#Usando legendas nos gráficos\n",
    "#será usado o dataset CO2\n",
    "co2"
   ]
  },
  {
   "cell_type": "code",
   "execution_count": 18,
   "metadata": {},
   "outputs": [
    {
     "data": {
      "image/png": "[encoded data removed]",
      "text/plain": [
       "plot without title"
      ]
     },
     "metadata": {},
     "output_type": "display_data",
     "source": "R display func"
    }
   ],
   "source": [
    "plot(CO2$conc,CO2$uptake,pch=20,col=CO2$Treatment)\n",
    "legend(\"bottomright\", legend=c(\"nonchilled\",\"chilled\"), cex=1, fill=c(\"black\",\"red\"))"
   ]
  },
  {
   "cell_type": "markdown",
   "metadata": {},
   "source": [
    "### Dividindo a tela"
   ]
  },
  {
   "cell_type": "code",
   "execution_count": 19,
   "metadata": {},
   "outputs": [
    {
     "data": {
      "image/png": "[encoded data removed]",
      "text/plain": [
       "plot without title"
      ]
     },
     "metadata": {},
     "output_type": "display_data",
     "source": "R display func"
    }
   ],
   "source": [
    "plot(trees)"
   ]
  },
  {
   "cell_type": "code",
   "execution_count": 27,
   "metadata": {},
   "outputs": [
    {
     "data": {
      "text/html": [
       "<ol class=list-inline>\n",
       "\t<li>1</li>\n",
       "\t<li>2</li>\n",
       "\t<li>3</li>\n",
       "\t<li>4</li>\n",
       "</ol>\n"
      ],
      "text/latex": [
       "\\begin{enumerate*}\n",
       "\\item 1\n",
       "\\item 2\n",
       "\\item 3\n",
       "\\item 4\n",
       "\\end{enumerate*}\n"
      ],
      "text/markdown": [
       "1. 1\n",
       "2. 2\n",
       "3. 3\n",
       "4. 4\n",
       "\n",
       "\n"
      ],
      "text/plain": [
       "[1] 1 2 3 4"
      ]
     },
     "metadata": {},
     "output_type": "display_data"
    },
    {
     "data": {
      "image/png": "[encoded data removed]",
      "text/plain": [
       "plot without title"
      ]
     },
     "metadata": {},
     "output_type": "display_data",
     "source": "R display func"
    }
   ],
   "source": [
    "split.screen(figs=c(2,2))"
   ]
  },
  {
   "cell_type": "code",
   "execution_count": 28,
   "metadata": {},
   "outputs": [
    {
     "name": "stderr",
     "output_type": "stream",
     "text": [
      "Warning message in par(new = TRUE):\n",
      "\"chamada de par(new=TRUE) sem plot\""
     ]
    },
    {
     "data": {
      "image/png": "[encoded data removed]",
      "text/plain": [
       "Plot with title \"Histogram of trees$Volume\""
      ]
     },
     "metadata": {},
     "output_type": "display_data",
     "source": "R display func"
    }
   ],
   "source": [
    "screen(1)\n",
    "plot(trees$Girth, trees$Volume)\n",
    "screen(2)\n",
    "plot(trees$Girth, trees$Height)\n",
    "screen(3)\n",
    "plot(trees$Height, trees$Volume)\n",
    "screen(4)\n",
    "hist(trees$Volume)"
   ]
  },
  {
   "cell_type": "code",
   "execution_count": 26,
   "metadata": {},
   "outputs": [],
   "source": [
    "close.screen(all=TRUE)"
   ]
  },
  {
   "cell_type": "markdown",
   "metadata": {},
   "source": [
    "### BOXPLOT"
   ]
  },
  {
   "cell_type": "code",
   "execution_count": 29,
   "metadata": {},
   "outputs": [
    {
     "data": {
      "image/png": "[encoded data removed]",
      "text/plain": [
       "Plot with title \"Árvores\""
      ]
     },
     "metadata": {},
     "output_type": "display_data",
     "source": "R display func"
    }
   ],
   "source": [
    "boxplot(trees$Volume, main=\"Árvores\", xlab=\"Volume\")"
   ]
  },
  {
   "cell_type": "code",
   "execution_count": 30,
   "metadata": {},
   "outputs": [
    {
     "data": {
      "image/png": "[encoded data removed]",
      "text/plain": [
       "Plot with title \"Árvores\""
      ]
     },
     "metadata": {},
     "output_type": "display_data",
     "source": "R display func"
    }
   ],
   "source": [
    "boxplot(trees$Volume, main=\"Árvores\", xlab=\"Volume\", col=\"blue\", horizontal=T)"
   ]
  },
  {
   "cell_type": "code",
   "execution_count": 31,
   "metadata": {},
   "outputs": [
    {
     "data": {
      "image/png": "[encoded data removed]",
      "text/plain": [
       "Plot with title \"Árvores\""
      ]
     },
     "metadata": {},
     "output_type": "display_data",
     "source": "R display func"
    }
   ],
   "source": [
    "boxplot(trees$Volume, main=\"Árvores\", xlab=\"Volume\", col=\"blue\", horizontal=T, outline=F)"
   ]
  },
  {
   "cell_type": "code",
   "execution_count": 32,
   "metadata": {},
   "outputs": [
    {
     "name": "stderr",
     "output_type": "stream",
     "text": [
      "Warning message in bxp(structure(list(stats = structure(c(10.2, 19.4, 24.2, 37.3, :\n",
      "\"some notches went outside hinges ('box'): maybe set notch=FALSE\""
     ]
    },
    {
     "data": {
      "image/png": "[encoded data removed]",
      "text/plain": [
       "Plot with title \"Árvores\""
      ]
     },
     "metadata": {},
     "output_type": "display_data",
     "source": "R display func"
    }
   ],
   "source": [
    "boxplot(trees$Volume, main=\"Árvores\", xlab=\"Volume\", col=\"blue\", horizontal=T, notch=T)"
   ]
  },
  {
   "cell_type": "code",
   "execution_count": 33,
   "metadata": {},
   "outputs": [
    {
     "data": {
      "text/html": [
       "<table>\n",
       "<thead><tr><th scope=col>count</th><th scope=col>spray</th></tr></thead>\n",
       "<tbody>\n",
       "\t<tr><td>10</td><td>A </td></tr>\n",
       "\t<tr><td> 7</td><td>A </td></tr>\n",
       "\t<tr><td>20</td><td>A </td></tr>\n",
       "\t<tr><td>14</td><td>A </td></tr>\n",
       "\t<tr><td>14</td><td>A </td></tr>\n",
       "\t<tr><td>12</td><td>A </td></tr>\n",
       "\t<tr><td>10</td><td>A </td></tr>\n",
       "\t<tr><td>23</td><td>A </td></tr>\n",
       "\t<tr><td>17</td><td>A </td></tr>\n",
       "\t<tr><td>20</td><td>A </td></tr>\n",
       "\t<tr><td>14</td><td>A </td></tr>\n",
       "\t<tr><td>13</td><td>A </td></tr>\n",
       "\t<tr><td>11</td><td>B </td></tr>\n",
       "\t<tr><td>17</td><td>B </td></tr>\n",
       "\t<tr><td>21</td><td>B </td></tr>\n",
       "\t<tr><td>11</td><td>B </td></tr>\n",
       "\t<tr><td>16</td><td>B </td></tr>\n",
       "\t<tr><td>14</td><td>B </td></tr>\n",
       "\t<tr><td>17</td><td>B </td></tr>\n",
       "\t<tr><td>17</td><td>B </td></tr>\n",
       "\t<tr><td>19</td><td>B </td></tr>\n",
       "\t<tr><td>21</td><td>B </td></tr>\n",
       "\t<tr><td> 7</td><td>B </td></tr>\n",
       "\t<tr><td>13</td><td>B </td></tr>\n",
       "\t<tr><td> 0</td><td>C </td></tr>\n",
       "\t<tr><td> 1</td><td>C </td></tr>\n",
       "\t<tr><td> 7</td><td>C </td></tr>\n",
       "\t<tr><td> 2</td><td>C </td></tr>\n",
       "\t<tr><td> 3</td><td>C </td></tr>\n",
       "\t<tr><td> 1</td><td>C </td></tr>\n",
       "\t<tr><td>...</td><td>...</td></tr>\n",
       "\t<tr><td> 5</td><td>D </td></tr>\n",
       "\t<tr><td> 5</td><td>D </td></tr>\n",
       "\t<tr><td> 5</td><td>D </td></tr>\n",
       "\t<tr><td> 5</td><td>D </td></tr>\n",
       "\t<tr><td> 2</td><td>D </td></tr>\n",
       "\t<tr><td> 4</td><td>D </td></tr>\n",
       "\t<tr><td> 3</td><td>E </td></tr>\n",
       "\t<tr><td> 5</td><td>E </td></tr>\n",
       "\t<tr><td> 3</td><td>E </td></tr>\n",
       "\t<tr><td> 5</td><td>E </td></tr>\n",
       "\t<tr><td> 3</td><td>E </td></tr>\n",
       "\t<tr><td> 6</td><td>E </td></tr>\n",
       "\t<tr><td> 1</td><td>E </td></tr>\n",
       "\t<tr><td> 1</td><td>E </td></tr>\n",
       "\t<tr><td> 3</td><td>E </td></tr>\n",
       "\t<tr><td> 2</td><td>E </td></tr>\n",
       "\t<tr><td> 6</td><td>E </td></tr>\n",
       "\t<tr><td> 4</td><td>E </td></tr>\n",
       "\t<tr><td>11</td><td>F </td></tr>\n",
       "\t<tr><td> 9</td><td>F </td></tr>\n",
       "\t<tr><td>15</td><td>F </td></tr>\n",
       "\t<tr><td>22</td><td>F </td></tr>\n",
       "\t<tr><td>15</td><td>F </td></tr>\n",
       "\t<tr><td>16</td><td>F </td></tr>\n",
       "\t<tr><td>13</td><td>F </td></tr>\n",
       "\t<tr><td>10</td><td>F </td></tr>\n",
       "\t<tr><td>26</td><td>F </td></tr>\n",
       "\t<tr><td>26</td><td>F </td></tr>\n",
       "\t<tr><td>24</td><td>F </td></tr>\n",
       "\t<tr><td>13</td><td>F </td></tr>\n",
       "</tbody>\n",
       "</table>\n"
      ],
      "text/latex": [
       "\\begin{tabular}{r|ll}\n",
       " count & spray\\\\\n",
       "\\hline\n",
       "\t 10 & A \\\\\n",
       "\t  7 & A \\\\\n",
       "\t 20 & A \\\\\n",
       "\t 14 & A \\\\\n",
       "\t 14 & A \\\\\n",
       "\t 12 & A \\\\\n",
       "\t 10 & A \\\\\n",
       "\t 23 & A \\\\\n",
       "\t 17 & A \\\\\n",
       "\t 20 & A \\\\\n",
       "\t 14 & A \\\\\n",
       "\t 13 & A \\\\\n",
       "\t 11 & B \\\\\n",
       "\t 17 & B \\\\\n",
       "\t 21 & B \\\\\n",
       "\t 11 & B \\\\\n",
       "\t 16 & B \\\\\n",
       "\t 14 & B \\\\\n",
       "\t 17 & B \\\\\n",
       "\t 17 & B \\\\\n",
       "\t 19 & B \\\\\n",
       "\t 21 & B \\\\\n",
       "\t  7 & B \\\\\n",
       "\t 13 & B \\\\\n",
       "\t  0 & C \\\\\n",
       "\t  1 & C \\\\\n",
       "\t  7 & C \\\\\n",
       "\t  2 & C \\\\\n",
       "\t  3 & C \\\\\n",
       "\t  1 & C \\\\\n",
       "\t ... & ...\\\\\n",
       "\t  5 & D \\\\\n",
       "\t  5 & D \\\\\n",
       "\t  5 & D \\\\\n",
       "\t  5 & D \\\\\n",
       "\t  2 & D \\\\\n",
       "\t  4 & D \\\\\n",
       "\t  3 & E \\\\\n",
       "\t  5 & E \\\\\n",
       "\t  3 & E \\\\\n",
       "\t  5 & E \\\\\n",
       "\t  3 & E \\\\\n",
       "\t  6 & E \\\\\n",
       "\t  1 & E \\\\\n",
       "\t  1 & E \\\\\n",
       "\t  3 & E \\\\\n",
       "\t  2 & E \\\\\n",
       "\t  6 & E \\\\\n",
       "\t  4 & E \\\\\n",
       "\t 11 & F \\\\\n",
       "\t  9 & F \\\\\n",
       "\t 15 & F \\\\\n",
       "\t 22 & F \\\\\n",
       "\t 15 & F \\\\\n",
       "\t 16 & F \\\\\n",
       "\t 13 & F \\\\\n",
       "\t 10 & F \\\\\n",
       "\t 26 & F \\\\\n",
       "\t 26 & F \\\\\n",
       "\t 24 & F \\\\\n",
       "\t 13 & F \\\\\n",
       "\\end{tabular}\n"
      ],
      "text/markdown": [
       "\n",
       "count | spray | \n",
       "|---|---|---|---|---|---|---|---|---|---|---|---|---|---|---|---|---|---|---|---|---|---|---|---|---|---|---|---|---|---|---|---|---|---|---|---|---|---|---|---|---|---|---|---|---|---|---|---|---|---|---|---|---|---|---|---|---|---|---|---|---|\n",
       "| 10 | A  | \n",
       "|  7 | A  | \n",
       "| 20 | A  | \n",
       "| 14 | A  | \n",
       "| 14 | A  | \n",
       "| 12 | A  | \n",
       "| 10 | A  | \n",
       "| 23 | A  | \n",
       "| 17 | A  | \n",
       "| 20 | A  | \n",
       "| 14 | A  | \n",
       "| 13 | A  | \n",
       "| 11 | B  | \n",
       "| 17 | B  | \n",
       "| 21 | B  | \n",
       "| 11 | B  | \n",
       "| 16 | B  | \n",
       "| 14 | B  | \n",
       "| 17 | B  | \n",
       "| 17 | B  | \n",
       "| 19 | B  | \n",
       "| 21 | B  | \n",
       "|  7 | B  | \n",
       "| 13 | B  | \n",
       "|  0 | C  | \n",
       "|  1 | C  | \n",
       "|  7 | C  | \n",
       "|  2 | C  | \n",
       "|  3 | C  | \n",
       "|  1 | C  | \n",
       "| ... | ... | \n",
       "|  5 | D  | \n",
       "|  5 | D  | \n",
       "|  5 | D  | \n",
       "|  5 | D  | \n",
       "|  2 | D  | \n",
       "|  4 | D  | \n",
       "|  3 | E  | \n",
       "|  5 | E  | \n",
       "|  3 | E  | \n",
       "|  5 | E  | \n",
       "|  3 | E  | \n",
       "|  6 | E  | \n",
       "|  1 | E  | \n",
       "|  1 | E  | \n",
       "|  3 | E  | \n",
       "|  2 | E  | \n",
       "|  6 | E  | \n",
       "|  4 | E  | \n",
       "| 11 | F  | \n",
       "|  9 | F  | \n",
       "| 15 | F  | \n",
       "| 22 | F  | \n",
       "| 15 | F  | \n",
       "| 16 | F  | \n",
       "| 13 | F  | \n",
       "| 10 | F  | \n",
       "| 26 | F  | \n",
       "| 26 | F  | \n",
       "| 24 | F  | \n",
       "| 13 | F  | \n",
       "\n",
       "\n"
      ],
      "text/plain": [
       "    count spray\n",
       "1   10    A    \n",
       "2    7    A    \n",
       "3   20    A    \n",
       "4   14    A    \n",
       "5   14    A    \n",
       "6   12    A    \n",
       "7   10    A    \n",
       "8   23    A    \n",
       "9   17    A    \n",
       "10  20    A    \n",
       "11  14    A    \n",
       "12  13    A    \n",
       "13  11    B    \n",
       "14  17    B    \n",
       "15  21    B    \n",
       "16  11    B    \n",
       "17  16    B    \n",
       "18  14    B    \n",
       "19  17    B    \n",
       "20  17    B    \n",
       "21  19    B    \n",
       "22  21    B    \n",
       "23   7    B    \n",
       "24  13    B    \n",
       "25   0    C    \n",
       "26   1    C    \n",
       "27   7    C    \n",
       "28   2    C    \n",
       "29   3    C    \n",
       "30   1    C    \n",
       "... ...   ...  \n",
       "43   5    D    \n",
       "44   5    D    \n",
       "45   5    D    \n",
       "46   5    D    \n",
       "47   2    D    \n",
       "48   4    D    \n",
       "49   3    E    \n",
       "50   5    E    \n",
       "51   3    E    \n",
       "52   5    E    \n",
       "53   3    E    \n",
       "54   6    E    \n",
       "55   1    E    \n",
       "56   1    E    \n",
       "57   3    E    \n",
       "58   2    E    \n",
       "59   6    E    \n",
       "60   4    E    \n",
       "61  11    F    \n",
       "62   9    F    \n",
       "63  15    F    \n",
       "64  22    F    \n",
       "65  15    F    \n",
       "66  16    F    \n",
       "67  13    F    \n",
       "68  10    F    \n",
       "69  26    F    \n",
       "70  26    F    \n",
       "71  24    F    \n",
       "72  13    F    "
      ]
     },
     "metadata": {},
     "output_type": "display_data"
    }
   ],
   "source": [
    "InsectSprays"
   ]
  },
  {
   "cell_type": "code",
   "execution_count": 36,
   "metadata": {},
   "outputs": [
    {
     "data": {
      "text/html": [
       "<table>\n",
       "<thead><tr><th scope=col>spray</th><th scope=col>count</th></tr></thead>\n",
       "<tbody>\n",
       "\t<tr><td>A  </td><td>174</td></tr>\n",
       "\t<tr><td>B  </td><td>184</td></tr>\n",
       "\t<tr><td>C  </td><td> 25</td></tr>\n",
       "\t<tr><td>D  </td><td> 59</td></tr>\n",
       "\t<tr><td>E  </td><td> 42</td></tr>\n",
       "\t<tr><td>F  </td><td>200</td></tr>\n",
       "</tbody>\n",
       "</table>\n"
      ],
      "text/latex": [
       "\\begin{tabular}{r|ll}\n",
       " spray & count\\\\\n",
       "\\hline\n",
       "\t A   & 174\\\\\n",
       "\t B   & 184\\\\\n",
       "\t C   &  25\\\\\n",
       "\t D   &  59\\\\\n",
       "\t E   &  42\\\\\n",
       "\t F   & 200\\\\\n",
       "\\end{tabular}\n"
      ],
      "text/markdown": [
       "\n",
       "spray | count | \n",
       "|---|---|---|---|---|---|\n",
       "| A   | 174 | \n",
       "| B   | 184 | \n",
       "| C   |  25 | \n",
       "| D   |  59 | \n",
       "| E   |  42 | \n",
       "| F   | 200 | \n",
       "\n",
       "\n"
      ],
      "text/plain": [
       "  spray count\n",
       "1 A     174  \n",
       "2 B     184  \n",
       "3 C      25  \n",
       "4 D      59  \n",
       "5 E      42  \n",
       "6 F     200  "
      ]
     },
     "metadata": {},
     "output_type": "display_data"
    }
   ],
   "source": [
    "spray = aggregate(. ~spray, data=InsectSprays, sum)\n",
    "spray"
   ]
  },
  {
   "cell_type": "code",
   "execution_count": 41,
   "metadata": {},
   "outputs": [
    {
     "data": {
      "image/png": "[encoded data removed]",
      "text/plain": [
       "plot without title"
      ]
     },
     "metadata": {},
     "output_type": "display_data",
     "source": "R display func"
    }
   ],
   "source": [
    "barplot(spray$count, col=gray.colors(6), xlab=\"Spray\", ylab=\"Tota\", names.arg=spray$spray)\n",
    "box()"
   ]
  },
  {
   "cell_type": "markdown",
   "metadata": {},
   "source": [
    "### Grafico de torta"
   ]
  },
  {
   "cell_type": "code",
   "execution_count": 46,
   "metadata": {},
   "outputs": [
    {
     "data": {
      "image/png": "[encoded data removed]",
      "text/plain": [
       "Plot with title \"Spray\""
      ]
     },
     "metadata": {},
     "output_type": "display_data",
     "source": "R display func"
    }
   ],
   "source": [
    "pie(spray$count, labels=NA,main=\"Spray\", col=c(1:6))\n",
    "legend(\"bottomright\", legend=spray$spray, cex=1, fill=c(1:6))\n",
    "#bottomright, bottom, bottomleft, left, topleft, top, topright, right, center"
   ]
  },
  {
   "cell_type": "markdown",
   "metadata": {},
   "source": [
    "## Uso da biblioteca Lattice"
   ]
  },
  {
   "cell_type": "code",
   "execution_count": 47,
   "metadata": {},
   "outputs": [],
   "source": [
    "library(lattice)"
   ]
  },
  {
   "cell_type": "code",
   "execution_count": 48,
   "metadata": {},
   "outputs": [
    {
     "data": {},
     "metadata": {},
     "output_type": "display_data"
    },
    {
     "data": {
      "image/png": "[encoded data removed]",
      "text/plain": [
       "plot without title"
      ]
     },
     "metadata": {},
     "output_type": "display_data",
     "source": "R display func"
    }
   ],
   "source": [
    "bwplot(trees$Volume, main=\"Árvores\", xlab=\"Volume\", aspect=1, type=\"count\",nint=10 )"
   ]
  },
  {
   "cell_type": "code",
   "execution_count": 49,
   "metadata": {},
   "outputs": [
    {
     "data": {
      "text/html": [
       "<table>\n",
       "<thead><tr><th scope=col>weight</th><th scope=col>feed</th></tr></thead>\n",
       "<tbody>\n",
       "\t<tr><td>179      </td><td>horsebean</td></tr>\n",
       "\t<tr><td>160      </td><td>horsebean</td></tr>\n",
       "\t<tr><td>136      </td><td>horsebean</td></tr>\n",
       "\t<tr><td>227      </td><td>horsebean</td></tr>\n",
       "\t<tr><td>217      </td><td>horsebean</td></tr>\n",
       "\t<tr><td>168      </td><td>horsebean</td></tr>\n",
       "\t<tr><td>108      </td><td>horsebean</td></tr>\n",
       "\t<tr><td>124      </td><td>horsebean</td></tr>\n",
       "\t<tr><td>143      </td><td>horsebean</td></tr>\n",
       "\t<tr><td>140      </td><td>horsebean</td></tr>\n",
       "\t<tr><td>309      </td><td>linseed  </td></tr>\n",
       "\t<tr><td>229      </td><td>linseed  </td></tr>\n",
       "\t<tr><td>181      </td><td>linseed  </td></tr>\n",
       "\t<tr><td>141      </td><td>linseed  </td></tr>\n",
       "\t<tr><td>260      </td><td>linseed  </td></tr>\n",
       "\t<tr><td>203      </td><td>linseed  </td></tr>\n",
       "\t<tr><td>148      </td><td>linseed  </td></tr>\n",
       "\t<tr><td>169      </td><td>linseed  </td></tr>\n",
       "\t<tr><td>213      </td><td>linseed  </td></tr>\n",
       "\t<tr><td>257      </td><td>linseed  </td></tr>\n",
       "\t<tr><td>244      </td><td>linseed  </td></tr>\n",
       "\t<tr><td>271      </td><td>linseed  </td></tr>\n",
       "\t<tr><td>243      </td><td>soybean  </td></tr>\n",
       "\t<tr><td>230      </td><td>soybean  </td></tr>\n",
       "\t<tr><td>248      </td><td>soybean  </td></tr>\n",
       "\t<tr><td>327      </td><td>soybean  </td></tr>\n",
       "\t<tr><td>329      </td><td>soybean  </td></tr>\n",
       "\t<tr><td>250      </td><td>soybean  </td></tr>\n",
       "\t<tr><td>193      </td><td>soybean  </td></tr>\n",
       "\t<tr><td>271      </td><td>soybean  </td></tr>\n",
       "\t<tr><td>...</td><td>...</td></tr>\n",
       "\t<tr><td>226      </td><td>sunflower</td></tr>\n",
       "\t<tr><td>320      </td><td>sunflower</td></tr>\n",
       "\t<tr><td>295      </td><td>sunflower</td></tr>\n",
       "\t<tr><td>334      </td><td>sunflower</td></tr>\n",
       "\t<tr><td>322      </td><td>sunflower</td></tr>\n",
       "\t<tr><td>297      </td><td>sunflower</td></tr>\n",
       "\t<tr><td>318      </td><td>sunflower</td></tr>\n",
       "\t<tr><td>325      </td><td>meatmeal </td></tr>\n",
       "\t<tr><td>257      </td><td>meatmeal </td></tr>\n",
       "\t<tr><td>303      </td><td>meatmeal </td></tr>\n",
       "\t<tr><td>315      </td><td>meatmeal </td></tr>\n",
       "\t<tr><td>380      </td><td>meatmeal </td></tr>\n",
       "\t<tr><td>153      </td><td>meatmeal </td></tr>\n",
       "\t<tr><td>263      </td><td>meatmeal </td></tr>\n",
       "\t<tr><td>242      </td><td>meatmeal </td></tr>\n",
       "\t<tr><td>206      </td><td>meatmeal </td></tr>\n",
       "\t<tr><td>344      </td><td>meatmeal </td></tr>\n",
       "\t<tr><td>258      </td><td>meatmeal </td></tr>\n",
       "\t<tr><td>368      </td><td>casein   </td></tr>\n",
       "\t<tr><td>390      </td><td>casein   </td></tr>\n",
       "\t<tr><td>379      </td><td>casein   </td></tr>\n",
       "\t<tr><td>260      </td><td>casein   </td></tr>\n",
       "\t<tr><td>404      </td><td>casein   </td></tr>\n",
       "\t<tr><td>318      </td><td>casein   </td></tr>\n",
       "\t<tr><td>352      </td><td>casein   </td></tr>\n",
       "\t<tr><td>359      </td><td>casein   </td></tr>\n",
       "\t<tr><td>216      </td><td>casein   </td></tr>\n",
       "\t<tr><td>222      </td><td>casein   </td></tr>\n",
       "\t<tr><td>283      </td><td>casein   </td></tr>\n",
       "\t<tr><td>332      </td><td>casein   </td></tr>\n",
       "</tbody>\n",
       "</table>\n"
      ],
      "text/latex": [
       "\\begin{tabular}{r|ll}\n",
       " weight & feed\\\\\n",
       "\\hline\n",
       "\t 179       & horsebean\\\\\n",
       "\t 160       & horsebean\\\\\n",
       "\t 136       & horsebean\\\\\n",
       "\t 227       & horsebean\\\\\n",
       "\t 217       & horsebean\\\\\n",
       "\t 168       & horsebean\\\\\n",
       "\t 108       & horsebean\\\\\n",
       "\t 124       & horsebean\\\\\n",
       "\t 143       & horsebean\\\\\n",
       "\t 140       & horsebean\\\\\n",
       "\t 309       & linseed  \\\\\n",
       "\t 229       & linseed  \\\\\n",
       "\t 181       & linseed  \\\\\n",
       "\t 141       & linseed  \\\\\n",
       "\t 260       & linseed  \\\\\n",
       "\t 203       & linseed  \\\\\n",
       "\t 148       & linseed  \\\\\n",
       "\t 169       & linseed  \\\\\n",
       "\t 213       & linseed  \\\\\n",
       "\t 257       & linseed  \\\\\n",
       "\t 244       & linseed  \\\\\n",
       "\t 271       & linseed  \\\\\n",
       "\t 243       & soybean  \\\\\n",
       "\t 230       & soybean  \\\\\n",
       "\t 248       & soybean  \\\\\n",
       "\t 327       & soybean  \\\\\n",
       "\t 329       & soybean  \\\\\n",
       "\t 250       & soybean  \\\\\n",
       "\t 193       & soybean  \\\\\n",
       "\t 271       & soybean  \\\\\n",
       "\t ... & ...\\\\\n",
       "\t 226       & sunflower\\\\\n",
       "\t 320       & sunflower\\\\\n",
       "\t 295       & sunflower\\\\\n",
       "\t 334       & sunflower\\\\\n",
       "\t 322       & sunflower\\\\\n",
       "\t 297       & sunflower\\\\\n",
       "\t 318       & sunflower\\\\\n",
       "\t 325       & meatmeal \\\\\n",
       "\t 257       & meatmeal \\\\\n",
       "\t 303       & meatmeal \\\\\n",
       "\t 315       & meatmeal \\\\\n",
       "\t 380       & meatmeal \\\\\n",
       "\t 153       & meatmeal \\\\\n",
       "\t 263       & meatmeal \\\\\n",
       "\t 242       & meatmeal \\\\\n",
       "\t 206       & meatmeal \\\\\n",
       "\t 344       & meatmeal \\\\\n",
       "\t 258       & meatmeal \\\\\n",
       "\t 368       & casein   \\\\\n",
       "\t 390       & casein   \\\\\n",
       "\t 379       & casein   \\\\\n",
       "\t 260       & casein   \\\\\n",
       "\t 404       & casein   \\\\\n",
       "\t 318       & casein   \\\\\n",
       "\t 352       & casein   \\\\\n",
       "\t 359       & casein   \\\\\n",
       "\t 216       & casein   \\\\\n",
       "\t 222       & casein   \\\\\n",
       "\t 283       & casein   \\\\\n",
       "\t 332       & casein   \\\\\n",
       "\\end{tabular}\n"
      ],
      "text/markdown": [
       "\n",
       "weight | feed | \n",
       "|---|---|---|---|---|---|---|---|---|---|---|---|---|---|---|---|---|---|---|---|---|---|---|---|---|---|---|---|---|---|---|---|---|---|---|---|---|---|---|---|---|---|---|---|---|---|---|---|---|---|---|---|---|---|---|---|---|---|---|---|---|\n",
       "| 179       | horsebean | \n",
       "| 160       | horsebean | \n",
       "| 136       | horsebean | \n",
       "| 227       | horsebean | \n",
       "| 217       | horsebean | \n",
       "| 168       | horsebean | \n",
       "| 108       | horsebean | \n",
       "| 124       | horsebean | \n",
       "| 143       | horsebean | \n",
       "| 140       | horsebean | \n",
       "| 309       | linseed   | \n",
       "| 229       | linseed   | \n",
       "| 181       | linseed   | \n",
       "| 141       | linseed   | \n",
       "| 260       | linseed   | \n",
       "| 203       | linseed   | \n",
       "| 148       | linseed   | \n",
       "| 169       | linseed   | \n",
       "| 213       | linseed   | \n",
       "| 257       | linseed   | \n",
       "| 244       | linseed   | \n",
       "| 271       | linseed   | \n",
       "| 243       | soybean   | \n",
       "| 230       | soybean   | \n",
       "| 248       | soybean   | \n",
       "| 327       | soybean   | \n",
       "| 329       | soybean   | \n",
       "| 250       | soybean   | \n",
       "| 193       | soybean   | \n",
       "| 271       | soybean   | \n",
       "| ... | ... | \n",
       "| 226       | sunflower | \n",
       "| 320       | sunflower | \n",
       "| 295       | sunflower | \n",
       "| 334       | sunflower | \n",
       "| 322       | sunflower | \n",
       "| 297       | sunflower | \n",
       "| 318       | sunflower | \n",
       "| 325       | meatmeal  | \n",
       "| 257       | meatmeal  | \n",
       "| 303       | meatmeal  | \n",
       "| 315       | meatmeal  | \n",
       "| 380       | meatmeal  | \n",
       "| 153       | meatmeal  | \n",
       "| 263       | meatmeal  | \n",
       "| 242       | meatmeal  | \n",
       "| 206       | meatmeal  | \n",
       "| 344       | meatmeal  | \n",
       "| 258       | meatmeal  | \n",
       "| 368       | casein    | \n",
       "| 390       | casein    | \n",
       "| 379       | casein    | \n",
       "| 260       | casein    | \n",
       "| 404       | casein    | \n",
       "| 318       | casein    | \n",
       "| 352       | casein    | \n",
       "| 359       | casein    | \n",
       "| 216       | casein    | \n",
       "| 222       | casein    | \n",
       "| 283       | casein    | \n",
       "| 332       | casein    | \n",
       "\n",
       "\n"
      ],
      "text/plain": [
       "    weight feed     \n",
       "1   179    horsebean\n",
       "2   160    horsebean\n",
       "3   136    horsebean\n",
       "4   227    horsebean\n",
       "5   217    horsebean\n",
       "6   168    horsebean\n",
       "7   108    horsebean\n",
       "8   124    horsebean\n",
       "9   143    horsebean\n",
       "10  140    horsebean\n",
       "11  309    linseed  \n",
       "12  229    linseed  \n",
       "13  181    linseed  \n",
       "14  141    linseed  \n",
       "15  260    linseed  \n",
       "16  203    linseed  \n",
       "17  148    linseed  \n",
       "18  169    linseed  \n",
       "19  213    linseed  \n",
       "20  257    linseed  \n",
       "21  244    linseed  \n",
       "22  271    linseed  \n",
       "23  243    soybean  \n",
       "24  230    soybean  \n",
       "25  248    soybean  \n",
       "26  327    soybean  \n",
       "27  329    soybean  \n",
       "28  250    soybean  \n",
       "29  193    soybean  \n",
       "30  271    soybean  \n",
       "... ...    ...      \n",
       "42  226    sunflower\n",
       "43  320    sunflower\n",
       "44  295    sunflower\n",
       "45  334    sunflower\n",
       "46  322    sunflower\n",
       "47  297    sunflower\n",
       "48  318    sunflower\n",
       "49  325    meatmeal \n",
       "50  257    meatmeal \n",
       "51  303    meatmeal \n",
       "52  315    meatmeal \n",
       "53  380    meatmeal \n",
       "54  153    meatmeal \n",
       "55  263    meatmeal \n",
       "56  242    meatmeal \n",
       "57  206    meatmeal \n",
       "58  344    meatmeal \n",
       "59  258    meatmeal \n",
       "60  368    casein   \n",
       "61  390    casein   \n",
       "62  379    casein   \n",
       "63  260    casein   \n",
       "64  404    casein   \n",
       "65  318    casein   \n",
       "66  352    casein   \n",
       "67  359    casein   \n",
       "68  216    casein   \n",
       "69  222    casein   \n",
       "70  283    casein   \n",
       "71  332    casein   "
      ]
     },
     "metadata": {},
     "output_type": "display_data"
    }
   ],
   "source": [
    "chickwts"
   ]
  },
  {
   "cell_type": "code",
   "execution_count": 51,
   "metadata": {},
   "outputs": [
    {
     "data": {
      "text/html": [
       "<table>\n",
       "<thead><tr><th scope=col>Group.1</th><th scope=col>x</th></tr></thead>\n",
       "<tbody>\n",
       "\t<tr><td>casein   </td><td>3883     </td></tr>\n",
       "\t<tr><td>horsebean</td><td>1602     </td></tr>\n",
       "\t<tr><td>linseed  </td><td>2625     </td></tr>\n",
       "\t<tr><td>meatmeal </td><td>3046     </td></tr>\n",
       "\t<tr><td>soybean  </td><td>3450     </td></tr>\n",
       "\t<tr><td>sunflower</td><td>3947     </td></tr>\n",
       "</tbody>\n",
       "</table>\n"
      ],
      "text/latex": [
       "\\begin{tabular}{r|ll}\n",
       " Group.1 & x\\\\\n",
       "\\hline\n",
       "\t casein    & 3883     \\\\\n",
       "\t horsebean & 1602     \\\\\n",
       "\t linseed   & 2625     \\\\\n",
       "\t meatmeal  & 3046     \\\\\n",
       "\t soybean   & 3450     \\\\\n",
       "\t sunflower & 3947     \\\\\n",
       "\\end{tabular}\n"
      ],
      "text/markdown": [
       "\n",
       "Group.1 | x | \n",
       "|---|---|---|---|---|---|\n",
       "| casein    | 3883      | \n",
       "| horsebean | 1602      | \n",
       "| linseed   | 2625      | \n",
       "| meatmeal  | 3046      | \n",
       "| soybean   | 3450      | \n",
       "| sunflower | 3947      | \n",
       "\n",
       "\n"
      ],
      "text/plain": [
       "  Group.1   x   \n",
       "1 casein    3883\n",
       "2 horsebean 1602\n",
       "3 linseed   2625\n",
       "4 meatmeal  3046\n",
       "5 soybean   3450\n",
       "6 sunflower 3947"
      ]
     },
     "metadata": {},
     "output_type": "display_data"
    }
   ],
   "source": [
    "aggregate(chickwts$weight, by=list(chickwts$feed), FUN=sum)"
   ]
  },
  {
   "cell_type": "code",
   "execution_count": 52,
   "metadata": {},
   "outputs": [
    {
     "data": {},
     "metadata": {},
     "output_type": "display_data"
    },
    {
     "data": {
      "image/png": "[encoded data removed]",
      "text/plain": [
       "plot without title"
      ]
     },
     "metadata": {},
     "output_type": "display_data",
     "source": "R display func"
    }
   ],
   "source": [
    "histogram(~weight | feed, data=chickwts)"
   ]
  },
  {
   "cell_type": "code",
   "execution_count": 53,
   "metadata": {},
   "outputs": [
    {
     "data": {},
     "metadata": {},
     "output_type": "display_data"
    },
    {
     "data": {
      "image/png": "[encoded data removed]",
      "text/plain": [
       "plot without title"
      ]
     },
     "metadata": {},
     "output_type": "display_data",
     "source": "R display func"
    }
   ],
   "source": [
    "densityplot(~CO2$conc | CO2$Treatment, plot.points=F)"
   ]
  },
  {
   "cell_type": "code",
   "execution_count": 54,
   "metadata": {},
   "outputs": [
    {
     "data": {},
     "metadata": {},
     "output_type": "display_data"
    },
    {
     "data": {
      "image/png": "[encoded data removed]",
      "text/plain": [
       "plot without title"
      ]
     },
     "metadata": {},
     "output_type": "display_data",
     "source": "R display func"
    }
   ],
   "source": [
    "xyplot(CO2$conc ~CO2$uptake | CO2$Treatment)"
   ]
  },
  {
   "cell_type": "code",
   "execution_count": 55,
   "metadata": {},
   "outputs": [
    {
     "data": {},
     "metadata": {},
     "output_type": "display_data"
    },
    {
     "data": {
      "image/png": "[encoded data removed]",
      "text/plain": [
       "plot without title"
      ]
     },
     "metadata": {},
     "output_type": "display_data",
     "source": "R display func"
    }
   ],
   "source": [
    "xyplot(CO2$conc ~CO2$uptake | CO2$Type)"
   ]
  },
  {
   "cell_type": "code",
   "execution_count": 56,
   "metadata": {},
   "outputs": [
    {
     "data": {
      "text/html": [
       "<table>\n",
       "<thead><tr><th scope=col>agegp</th><th scope=col>alcgp</th><th scope=col>tobgp</th><th scope=col>ncases</th><th scope=col>ncontrols</th></tr></thead>\n",
       "<tbody>\n",
       "\t<tr><td>25-34    </td><td>0-39g/day</td><td>0-9g/day </td><td>0        </td><td>40       </td></tr>\n",
       "\t<tr><td>25-34    </td><td>0-39g/day</td><td>10-19    </td><td>0        </td><td>10       </td></tr>\n",
       "\t<tr><td>25-34    </td><td>0-39g/day</td><td>20-29    </td><td>0        </td><td> 6       </td></tr>\n",
       "\t<tr><td>25-34    </td><td>0-39g/day</td><td>30+      </td><td>0        </td><td> 5       </td></tr>\n",
       "\t<tr><td>25-34    </td><td>40-79    </td><td>0-9g/day </td><td>0        </td><td>27       </td></tr>\n",
       "\t<tr><td>25-34    </td><td>40-79    </td><td>10-19    </td><td>0        </td><td> 7       </td></tr>\n",
       "\t<tr><td>25-34    </td><td>40-79    </td><td>20-29    </td><td>0        </td><td> 4       </td></tr>\n",
       "\t<tr><td>25-34    </td><td>40-79    </td><td>30+      </td><td>0        </td><td> 7       </td></tr>\n",
       "\t<tr><td>25-34    </td><td>80-119   </td><td>0-9g/day </td><td>0        </td><td> 2       </td></tr>\n",
       "\t<tr><td>25-34    </td><td>80-119   </td><td>10-19    </td><td>0        </td><td> 1       </td></tr>\n",
       "\t<tr><td>25-34    </td><td>80-119   </td><td>30+      </td><td>0        </td><td> 2       </td></tr>\n",
       "\t<tr><td>25-34    </td><td>120+     </td><td>0-9g/day </td><td>0        </td><td> 1       </td></tr>\n",
       "\t<tr><td>25-34    </td><td>120+     </td><td>10-19    </td><td>1        </td><td> 1       </td></tr>\n",
       "\t<tr><td>25-34    </td><td>120+     </td><td>20-29    </td><td>0        </td><td> 1       </td></tr>\n",
       "\t<tr><td>25-34    </td><td>120+     </td><td>30+      </td><td>0        </td><td> 2       </td></tr>\n",
       "\t<tr><td>35-44    </td><td>0-39g/day</td><td>0-9g/day </td><td>0        </td><td>60       </td></tr>\n",
       "\t<tr><td>35-44    </td><td>0-39g/day</td><td>10-19    </td><td>1        </td><td>14       </td></tr>\n",
       "\t<tr><td>35-44    </td><td>0-39g/day</td><td>20-29    </td><td>0        </td><td> 7       </td></tr>\n",
       "\t<tr><td>35-44    </td><td>0-39g/day</td><td>30+      </td><td>0        </td><td> 8       </td></tr>\n",
       "\t<tr><td>35-44    </td><td>40-79    </td><td>0-9g/day </td><td>0        </td><td>35       </td></tr>\n",
       "\t<tr><td>35-44    </td><td>40-79    </td><td>10-19    </td><td>3        </td><td>23       </td></tr>\n",
       "\t<tr><td>35-44    </td><td>40-79    </td><td>20-29    </td><td>1        </td><td>14       </td></tr>\n",
       "\t<tr><td>35-44    </td><td>40-79    </td><td>30+      </td><td>0        </td><td> 8       </td></tr>\n",
       "\t<tr><td>35-44    </td><td>80-119   </td><td>0-9g/day </td><td>0        </td><td>11       </td></tr>\n",
       "\t<tr><td>35-44    </td><td>80-119   </td><td>10-19    </td><td>0        </td><td> 6       </td></tr>\n",
       "\t<tr><td>35-44    </td><td>80-119   </td><td>20-29    </td><td>0        </td><td> 2       </td></tr>\n",
       "\t<tr><td>35-44    </td><td>80-119   </td><td>30+      </td><td>0        </td><td> 1       </td></tr>\n",
       "\t<tr><td>35-44    </td><td>120+     </td><td>0-9g/day </td><td>2        </td><td> 3       </td></tr>\n",
       "\t<tr><td>35-44    </td><td>120+     </td><td>10-19    </td><td>0        </td><td> 3       </td></tr>\n",
       "\t<tr><td>35-44    </td><td>120+     </td><td>20-29    </td><td>2        </td><td> 4       </td></tr>\n",
       "\t<tr><td>...</td><td>...</td><td>...</td><td>...</td><td>...</td></tr>\n",
       "\t<tr><td>55-64    </td><td>120+     </td><td>0-9g/day </td><td> 5       </td><td>10       </td></tr>\n",
       "\t<tr><td>55-64    </td><td>120+     </td><td>10-19    </td><td> 6       </td><td> 7       </td></tr>\n",
       "\t<tr><td>55-64    </td><td>120+     </td><td>20-29    </td><td> 2       </td><td> 3       </td></tr>\n",
       "\t<tr><td>55-64    </td><td>120+     </td><td>30+      </td><td> 5       </td><td> 6       </td></tr>\n",
       "\t<tr><td>65-74    </td><td>0-39g/day</td><td>0-9g/day </td><td> 5       </td><td>48       </td></tr>\n",
       "\t<tr><td>65-74    </td><td>0-39g/day</td><td>10-19    </td><td> 4       </td><td>14       </td></tr>\n",
       "\t<tr><td>65-74    </td><td>0-39g/day</td><td>20-29    </td><td> 2       </td><td> 7       </td></tr>\n",
       "\t<tr><td>65-74    </td><td>0-39g/day</td><td>30+      </td><td> 0       </td><td> 2       </td></tr>\n",
       "\t<tr><td>65-74    </td><td>40-79    </td><td>0-9g/day </td><td>17       </td><td>34       </td></tr>\n",
       "\t<tr><td>65-74    </td><td>40-79    </td><td>10-19    </td><td> 3       </td><td>10       </td></tr>\n",
       "\t<tr><td>65-74    </td><td>40-79    </td><td>20-29    </td><td> 5       </td><td> 9       </td></tr>\n",
       "\t<tr><td>65-74    </td><td>80-119   </td><td>0-9g/day </td><td> 6       </td><td>13       </td></tr>\n",
       "\t<tr><td>65-74    </td><td>80-119   </td><td>10-19    </td><td> 4       </td><td>12       </td></tr>\n",
       "\t<tr><td>65-74    </td><td>80-119   </td><td>20-29    </td><td> 2       </td><td> 3       </td></tr>\n",
       "\t<tr><td>65-74    </td><td>80-119   </td><td>30+      </td><td> 1       </td><td> 1       </td></tr>\n",
       "\t<tr><td>65-74    </td><td>120+     </td><td>0-9g/day </td><td> 3       </td><td> 4       </td></tr>\n",
       "\t<tr><td>65-74    </td><td>120+     </td><td>10-19    </td><td> 1       </td><td> 2       </td></tr>\n",
       "\t<tr><td>65-74    </td><td>120+     </td><td>20-29    </td><td> 1       </td><td> 1       </td></tr>\n",
       "\t<tr><td>65-74    </td><td>120+     </td><td>30+      </td><td> 1       </td><td> 1       </td></tr>\n",
       "\t<tr><td>75+      </td><td>0-39g/day</td><td>0-9g/day </td><td> 1       </td><td>18       </td></tr>\n",
       "\t<tr><td>75+      </td><td>0-39g/day</td><td>10-19    </td><td> 2       </td><td> 6       </td></tr>\n",
       "\t<tr><td>75+      </td><td>0-39g/day</td><td>30+      </td><td> 1       </td><td> 3       </td></tr>\n",
       "\t<tr><td>75+      </td><td>40-79    </td><td>0-9g/day </td><td> 2       </td><td> 5       </td></tr>\n",
       "\t<tr><td>75+      </td><td>40-79    </td><td>10-19    </td><td> 1       </td><td> 3       </td></tr>\n",
       "\t<tr><td>75+      </td><td>40-79    </td><td>20-29    </td><td> 0       </td><td> 3       </td></tr>\n",
       "\t<tr><td>75+      </td><td>40-79    </td><td>30+      </td><td> 1       </td><td> 1       </td></tr>\n",
       "\t<tr><td>75+      </td><td>80-119   </td><td>0-9g/day </td><td> 1       </td><td> 1       </td></tr>\n",
       "\t<tr><td>75+      </td><td>80-119   </td><td>10-19    </td><td> 1       </td><td> 1       </td></tr>\n",
       "\t<tr><td>75+      </td><td>120+     </td><td>0-9g/day </td><td> 2       </td><td> 2       </td></tr>\n",
       "\t<tr><td>75+      </td><td>120+     </td><td>10-19    </td><td> 1       </td><td> 1       </td></tr>\n",
       "</tbody>\n",
       "</table>\n"
      ],
      "text/latex": [
       "\\begin{tabular}{r|lllll}\n",
       " agegp & alcgp & tobgp & ncases & ncontrols\\\\\n",
       "\\hline\n",
       "\t 25-34     & 0-39g/day & 0-9g/day  & 0         & 40       \\\\\n",
       "\t 25-34     & 0-39g/day & 10-19     & 0         & 10       \\\\\n",
       "\t 25-34     & 0-39g/day & 20-29     & 0         &  6       \\\\\n",
       "\t 25-34     & 0-39g/day & 30+       & 0         &  5       \\\\\n",
       "\t 25-34     & 40-79     & 0-9g/day  & 0         & 27       \\\\\n",
       "\t 25-34     & 40-79     & 10-19     & 0         &  7       \\\\\n",
       "\t 25-34     & 40-79     & 20-29     & 0         &  4       \\\\\n",
       "\t 25-34     & 40-79     & 30+       & 0         &  7       \\\\\n",
       "\t 25-34     & 80-119    & 0-9g/day  & 0         &  2       \\\\\n",
       "\t 25-34     & 80-119    & 10-19     & 0         &  1       \\\\\n",
       "\t 25-34     & 80-119    & 30+       & 0         &  2       \\\\\n",
       "\t 25-34     & 120+      & 0-9g/day  & 0         &  1       \\\\\n",
       "\t 25-34     & 120+      & 10-19     & 1         &  1       \\\\\n",
       "\t 25-34     & 120+      & 20-29     & 0         &  1       \\\\\n",
       "\t 25-34     & 120+      & 30+       & 0         &  2       \\\\\n",
       "\t 35-44     & 0-39g/day & 0-9g/day  & 0         & 60       \\\\\n",
       "\t 35-44     & 0-39g/day & 10-19     & 1         & 14       \\\\\n",
       "\t 35-44     & 0-39g/day & 20-29     & 0         &  7       \\\\\n",
       "\t 35-44     & 0-39g/day & 30+       & 0         &  8       \\\\\n",
       "\t 35-44     & 40-79     & 0-9g/day  & 0         & 35       \\\\\n",
       "\t 35-44     & 40-79     & 10-19     & 3         & 23       \\\\\n",
       "\t 35-44     & 40-79     & 20-29     & 1         & 14       \\\\\n",
       "\t 35-44     & 40-79     & 30+       & 0         &  8       \\\\\n",
       "\t 35-44     & 80-119    & 0-9g/day  & 0         & 11       \\\\\n",
       "\t 35-44     & 80-119    & 10-19     & 0         &  6       \\\\\n",
       "\t 35-44     & 80-119    & 20-29     & 0         &  2       \\\\\n",
       "\t 35-44     & 80-119    & 30+       & 0         &  1       \\\\\n",
       "\t 35-44     & 120+      & 0-9g/day  & 2         &  3       \\\\\n",
       "\t 35-44     & 120+      & 10-19     & 0         &  3       \\\\\n",
       "\t 35-44     & 120+      & 20-29     & 2         &  4       \\\\\n",
       "\t ... & ... & ... & ... & ...\\\\\n",
       "\t 55-64     & 120+      & 0-9g/day  &  5        & 10       \\\\\n",
       "\t 55-64     & 120+      & 10-19     &  6        &  7       \\\\\n",
       "\t 55-64     & 120+      & 20-29     &  2        &  3       \\\\\n",
       "\t 55-64     & 120+      & 30+       &  5        &  6       \\\\\n",
       "\t 65-74     & 0-39g/day & 0-9g/day  &  5        & 48       \\\\\n",
       "\t 65-74     & 0-39g/day & 10-19     &  4        & 14       \\\\\n",
       "\t 65-74     & 0-39g/day & 20-29     &  2        &  7       \\\\\n",
       "\t 65-74     & 0-39g/day & 30+       &  0        &  2       \\\\\n",
       "\t 65-74     & 40-79     & 0-9g/day  & 17        & 34       \\\\\n",
       "\t 65-74     & 40-79     & 10-19     &  3        & 10       \\\\\n",
       "\t 65-74     & 40-79     & 20-29     &  5        &  9       \\\\\n",
       "\t 65-74     & 80-119    & 0-9g/day  &  6        & 13       \\\\\n",
       "\t 65-74     & 80-119    & 10-19     &  4        & 12       \\\\\n",
       "\t 65-74     & 80-119    & 20-29     &  2        &  3       \\\\\n",
       "\t 65-74     & 80-119    & 30+       &  1        &  1       \\\\\n",
       "\t 65-74     & 120+      & 0-9g/day  &  3        &  4       \\\\\n",
       "\t 65-74     & 120+      & 10-19     &  1        &  2       \\\\\n",
       "\t 65-74     & 120+      & 20-29     &  1        &  1       \\\\\n",
       "\t 65-74     & 120+      & 30+       &  1        &  1       \\\\\n",
       "\t 75+       & 0-39g/day & 0-9g/day  &  1        & 18       \\\\\n",
       "\t 75+       & 0-39g/day & 10-19     &  2        &  6       \\\\\n",
       "\t 75+       & 0-39g/day & 30+       &  1        &  3       \\\\\n",
       "\t 75+       & 40-79     & 0-9g/day  &  2        &  5       \\\\\n",
       "\t 75+       & 40-79     & 10-19     &  1        &  3       \\\\\n",
       "\t 75+       & 40-79     & 20-29     &  0        &  3       \\\\\n",
       "\t 75+       & 40-79     & 30+       &  1        &  1       \\\\\n",
       "\t 75+       & 80-119    & 0-9g/day  &  1        &  1       \\\\\n",
       "\t 75+       & 80-119    & 10-19     &  1        &  1       \\\\\n",
       "\t 75+       & 120+      & 0-9g/day  &  2        &  2       \\\\\n",
       "\t 75+       & 120+      & 10-19     &  1        &  1       \\\\\n",
       "\\end{tabular}\n"
      ],
      "text/markdown": [
       "\n",
       "agegp | alcgp | tobgp | ncases | ncontrols | \n",
       "|---|---|---|---|---|---|---|---|---|---|---|---|---|---|---|---|---|---|---|---|---|---|---|---|---|---|---|---|---|---|---|---|---|---|---|---|---|---|---|---|---|---|---|---|---|---|---|---|---|---|---|---|---|---|---|---|---|---|---|---|---|\n",
       "| 25-34     | 0-39g/day | 0-9g/day  | 0         | 40        | \n",
       "| 25-34     | 0-39g/day | 10-19     | 0         | 10        | \n",
       "| 25-34     | 0-39g/day | 20-29     | 0         |  6        | \n",
       "| 25-34     | 0-39g/day | 30+       | 0         |  5        | \n",
       "| 25-34     | 40-79     | 0-9g/day  | 0         | 27        | \n",
       "| 25-34     | 40-79     | 10-19     | 0         |  7        | \n",
       "| 25-34     | 40-79     | 20-29     | 0         |  4        | \n",
       "| 25-34     | 40-79     | 30+       | 0         |  7        | \n",
       "| 25-34     | 80-119    | 0-9g/day  | 0         |  2        | \n",
       "| 25-34     | 80-119    | 10-19     | 0         |  1        | \n",
       "| 25-34     | 80-119    | 30+       | 0         |  2        | \n",
       "| 25-34     | 120+      | 0-9g/day  | 0         |  1        | \n",
       "| 25-34     | 120+      | 10-19     | 1         |  1        | \n",
       "| 25-34     | 120+      | 20-29     | 0         |  1        | \n",
       "| 25-34     | 120+      | 30+       | 0         |  2        | \n",
       "| 35-44     | 0-39g/day | 0-9g/day  | 0         | 60        | \n",
       "| 35-44     | 0-39g/day | 10-19     | 1         | 14        | \n",
       "| 35-44     | 0-39g/day | 20-29     | 0         |  7        | \n",
       "| 35-44     | 0-39g/day | 30+       | 0         |  8        | \n",
       "| 35-44     | 40-79     | 0-9g/day  | 0         | 35        | \n",
       "| 35-44     | 40-79     | 10-19     | 3         | 23        | \n",
       "| 35-44     | 40-79     | 20-29     | 1         | 14        | \n",
       "| 35-44     | 40-79     | 30+       | 0         |  8        | \n",
       "| 35-44     | 80-119    | 0-9g/day  | 0         | 11        | \n",
       "| 35-44     | 80-119    | 10-19     | 0         |  6        | \n",
       "| 35-44     | 80-119    | 20-29     | 0         |  2        | \n",
       "| 35-44     | 80-119    | 30+       | 0         |  1        | \n",
       "| 35-44     | 120+      | 0-9g/day  | 2         |  3        | \n",
       "| 35-44     | 120+      | 10-19     | 0         |  3        | \n",
       "| 35-44     | 120+      | 20-29     | 2         |  4        | \n",
       "| ... | ... | ... | ... | ... | \n",
       "| 55-64     | 120+      | 0-9g/day  |  5        | 10        | \n",
       "| 55-64     | 120+      | 10-19     |  6        |  7        | \n",
       "| 55-64     | 120+      | 20-29     |  2        |  3        | \n",
       "| 55-64     | 120+      | 30+       |  5        |  6        | \n",
       "| 65-74     | 0-39g/day | 0-9g/day  |  5        | 48        | \n",
       "| 65-74     | 0-39g/day | 10-19     |  4        | 14        | \n",
       "| 65-74     | 0-39g/day | 20-29     |  2        |  7        | \n",
       "| 65-74     | 0-39g/day | 30+       |  0        |  2        | \n",
       "| 65-74     | 40-79     | 0-9g/day  | 17        | 34        | \n",
       "| 65-74     | 40-79     | 10-19     |  3        | 10        | \n",
       "| 65-74     | 40-79     | 20-29     |  5        |  9        | \n",
       "| 65-74     | 80-119    | 0-9g/day  |  6        | 13        | \n",
       "| 65-74     | 80-119    | 10-19     |  4        | 12        | \n",
       "| 65-74     | 80-119    | 20-29     |  2        |  3        | \n",
       "| 65-74     | 80-119    | 30+       |  1        |  1        | \n",
       "| 65-74     | 120+      | 0-9g/day  |  3        |  4        | \n",
       "| 65-74     | 120+      | 10-19     |  1        |  2        | \n",
       "| 65-74     | 120+      | 20-29     |  1        |  1        | \n",
       "| 65-74     | 120+      | 30+       |  1        |  1        | \n",
       "| 75+       | 0-39g/day | 0-9g/day  |  1        | 18        | \n",
       "| 75+       | 0-39g/day | 10-19     |  2        |  6        | \n",
       "| 75+       | 0-39g/day | 30+       |  1        |  3        | \n",
       "| 75+       | 40-79     | 0-9g/day  |  2        |  5        | \n",
       "| 75+       | 40-79     | 10-19     |  1        |  3        | \n",
       "| 75+       | 40-79     | 20-29     |  0        |  3        | \n",
       "| 75+       | 40-79     | 30+       |  1        |  1        | \n",
       "| 75+       | 80-119    | 0-9g/day  |  1        |  1        | \n",
       "| 75+       | 80-119    | 10-19     |  1        |  1        | \n",
       "| 75+       | 120+      | 0-9g/day  |  2        |  2        | \n",
       "| 75+       | 120+      | 10-19     |  1        |  1        | \n",
       "\n",
       "\n"
      ],
      "text/plain": [
       "    agegp alcgp     tobgp    ncases ncontrols\n",
       "1   25-34 0-39g/day 0-9g/day 0      40       \n",
       "2   25-34 0-39g/day 10-19    0      10       \n",
       "3   25-34 0-39g/day 20-29    0       6       \n",
       "4   25-34 0-39g/day 30+      0       5       \n",
       "5   25-34 40-79     0-9g/day 0      27       \n",
       "6   25-34 40-79     10-19    0       7       \n",
       "7   25-34 40-79     20-29    0       4       \n",
       "8   25-34 40-79     30+      0       7       \n",
       "9   25-34 80-119    0-9g/day 0       2       \n",
       "10  25-34 80-119    10-19    0       1       \n",
       "11  25-34 80-119    30+      0       2       \n",
       "12  25-34 120+      0-9g/day 0       1       \n",
       "13  25-34 120+      10-19    1       1       \n",
       "14  25-34 120+      20-29    0       1       \n",
       "15  25-34 120+      30+      0       2       \n",
       "16  35-44 0-39g/day 0-9g/day 0      60       \n",
       "17  35-44 0-39g/day 10-19    1      14       \n",
       "18  35-44 0-39g/day 20-29    0       7       \n",
       "19  35-44 0-39g/day 30+      0       8       \n",
       "20  35-44 40-79     0-9g/day 0      35       \n",
       "21  35-44 40-79     10-19    3      23       \n",
       "22  35-44 40-79     20-29    1      14       \n",
       "23  35-44 40-79     30+      0       8       \n",
       "24  35-44 80-119    0-9g/day 0      11       \n",
       "25  35-44 80-119    10-19    0       6       \n",
       "26  35-44 80-119    20-29    0       2       \n",
       "27  35-44 80-119    30+      0       1       \n",
       "28  35-44 120+      0-9g/day 2       3       \n",
       "29  35-44 120+      10-19    0       3       \n",
       "30  35-44 120+      20-29    2       4       \n",
       "... ...   ...       ...      ...    ...      \n",
       "59  55-64 120+      0-9g/day  5     10       \n",
       "60  55-64 120+      10-19     6      7       \n",
       "61  55-64 120+      20-29     2      3       \n",
       "62  55-64 120+      30+       5      6       \n",
       "63  65-74 0-39g/day 0-9g/day  5     48       \n",
       "64  65-74 0-39g/day 10-19     4     14       \n",
       "65  65-74 0-39g/day 20-29     2      7       \n",
       "66  65-74 0-39g/day 30+       0      2       \n",
       "67  65-74 40-79     0-9g/day 17     34       \n",
       "68  65-74 40-79     10-19     3     10       \n",
       "69  65-74 40-79     20-29     5      9       \n",
       "70  65-74 80-119    0-9g/day  6     13       \n",
       "71  65-74 80-119    10-19     4     12       \n",
       "72  65-74 80-119    20-29     2      3       \n",
       "73  65-74 80-119    30+       1      1       \n",
       "74  65-74 120+      0-9g/day  3      4       \n",
       "75  65-74 120+      10-19     1      2       \n",
       "76  65-74 120+      20-29     1      1       \n",
       "77  65-74 120+      30+       1      1       \n",
       "78  75+   0-39g/day 0-9g/day  1     18       \n",
       "79  75+   0-39g/day 10-19     2      6       \n",
       "80  75+   0-39g/day 30+       1      3       \n",
       "81  75+   40-79     0-9g/day  2      5       \n",
       "82  75+   40-79     10-19     1      3       \n",
       "83  75+   40-79     20-29     0      3       \n",
       "84  75+   40-79     30+       1      1       \n",
       "85  75+   80-119    0-9g/day  1      1       \n",
       "86  75+   80-119    10-19     1      1       \n",
       "87  75+   120+      0-9g/day  2      2       \n",
       "88  75+   120+      10-19     1      1       "
      ]
     },
     "metadata": {},
     "output_type": "display_data"
    }
   ],
   "source": [
    "esoph"
   ]
  },
  {
   "cell_type": "code",
   "execution_count": 57,
   "metadata": {},
   "outputs": [
    {
     "data": {},
     "metadata": {},
     "output_type": "display_data"
    },
    {
     "data": {
      "image/png": "[encoded data removed]",
      "text/plain": [
       "plot without title"
      ]
     },
     "metadata": {},
     "output_type": "display_data",
     "source": "R display func"
    }
   ],
   "source": [
    "dotplot(esoph$alcgp ~esoph$ncontrols | esoph$tobgp, data=esoph)"
   ]
  },
  {
   "cell_type": "markdown",
   "metadata": {},
   "source": [
    "### Gráfico 3D"
   ]
  },
  {
   "cell_type": "code",
   "execution_count": 59,
   "metadata": {},
   "outputs": [
    {
     "data": {},
     "metadata": {},
     "output_type": "display_data"
    },
    {
     "data": {
      "image/png": "[encoded data removed]",
      "text/plain": [
       "plot without title"
      ]
     },
     "metadata": {},
     "output_type": "display_data",
     "source": "R display func"
    }
   ],
   "source": [
    "cloud(decrease ~rowpos * colpos,groups = treatment, data=OrchardSprays)"
   ]
  },
  {
   "cell_type": "markdown",
   "metadata": {},
   "source": [
    "## FIM"
   ]
  }
 ],
 "metadata": {
  "kernelspec": {
   "display_name": "R",
   "language": "R",
   "name": "ir"
  },
  "language_info": {
   "codemirror_mode": "r",
   "file_extension": ".r",
   "mimetype": "text/x-r-source",
   "name": "R",
   "pygments_lexer": "r",
   "version": "3.4.3"
  }
 },
 "nbformat": 4,
 "nbformat_minor": 2
}
