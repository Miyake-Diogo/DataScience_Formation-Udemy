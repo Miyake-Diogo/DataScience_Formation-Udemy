{
 "cells": [
  {
   "cell_type": "markdown",
   "metadata": {},
   "source": [
    "# Estatistica 3 com o R - Formação cientista de dados"
   ]
  },
  {
   "cell_type": "markdown",
   "metadata": {},
   "source": [
    "## Distribuição de Poisson"
   ]
  },
  {
   "cell_type": "code",
   "execution_count": 2,
   "metadata": {},
   "outputs": [
    {
     "data": {
      "text/html": [
       "0.180447044315484"
      ],
      "text/latex": [
       "0.180447044315484"
      ],
      "text/markdown": [
       "0.180447044315484"
      ],
      "text/plain": [
       "[1] 0.180447"
      ]
     },
     "metadata": {},
     "output_type": "display_data"
    }
   ],
   "source": [
    "# media 2 acidentes com x=3\n",
    "dpois(3, lambda=2)"
   ]
  },
  {
   "cell_type": "code",
   "execution_count": 1,
   "metadata": {},
   "outputs": [
    {
     "data": {
      "text/html": [
       "0.647231888782231"
      ],
      "text/latex": [
       "0.647231888782231"
      ],
      "text/markdown": [
       "0.647231888782231"
      ],
      "text/plain": [
       "[1] 0.6472319"
      ]
     },
     "metadata": {},
     "output_type": "display_data"
    }
   ],
   "source": [
    "#Se x<+3\n",
    "ppois(3,lambda=3)"
   ]
  },
  {
   "cell_type": "code",
   "execution_count": 4,
   "metadata": {},
   "outputs": [
    {
     "data": {
      "text/html": [
       "0.142876539501453"
      ],
      "text/latex": [
       "0.142876539501453"
      ],
      "text/markdown": [
       "0.142876539501453"
      ],
      "text/plain": [
       "[1] 0.1428765"
      ]
     },
     "metadata": {},
     "output_type": "display_data"
    }
   ],
   "source": [
    "#numero de acidentes por dia, de dois acidentes, se for maior que 3 acidentes\n",
    "ppois(3,lambda=2, lower.tail=F)"
   ]
  },
  {
   "cell_type": "code",
   "execution_count": 6,
   "metadata": {},
   "outputs": [],
   "source": [
    "novela = matrix(c(19,6,43,32), nrow=2,byrow=T) #Matrix com duas linhas\n",
    "fix(novela)"
   ]
  },
  {
   "cell_type": "code",
   "execution_count": 8,
   "metadata": {},
   "outputs": [],
   "source": [
    "rownames(novela) = c(\"Masculino\", \"Feminino\")"
   ]
  },
  {
   "cell_type": "code",
   "execution_count": 9,
   "metadata": {},
   "outputs": [],
   "source": [
    "colnames(novela) = c(\"Assiste\", \"NaoAssiste\")\n",
    "fix(novela)"
   ]
  },
  {
   "cell_type": "code",
   "execution_count": 10,
   "metadata": {},
   "outputs": [
    {
     "data": {
      "text/plain": [
       "\n",
       "\tPearson's Chi-squared test with Yates' continuity correction\n",
       "\n",
       "data:  novela\n",
       "X-squared = 2.0374, df = 1, p-value = 0.1535\n"
      ]
     },
     "metadata": {},
     "output_type": "display_data"
    }
   ],
   "source": [
    "chisq.test(novela) #teste quiquadrado"
   ]
  },
  {
   "cell_type": "markdown",
   "metadata": {},
   "source": [
    "Conclusão: hipotese nula não rejeitada"
   ]
  },
  {
   "cell_type": "markdown",
   "metadata": {},
   "source": [
    "## ANOVA"
   ]
  },
  {
   "cell_type": "code",
   "execution_count": 11,
   "metadata": {},
   "outputs": [
    {
     "data": {
      "text/html": [
       "<table>\n",
       "<thead><tr><th scope=col>Sexo</th><th scope=col>Remedio</th><th scope=col>Horas</th></tr></thead>\n",
       "<tbody>\n",
       "\t<tr><td>F </td><td>A </td><td> 5</td></tr>\n",
       "\t<tr><td>F </td><td>A </td><td>10</td></tr>\n",
       "\t<tr><td>F </td><td>A </td><td> 7</td></tr>\n",
       "\t<tr><td>F </td><td>A </td><td> 7</td></tr>\n",
       "\t<tr><td>M </td><td>A </td><td> 7</td></tr>\n",
       "\t<tr><td>M </td><td>A </td><td> 6</td></tr>\n",
       "\t<tr><td>M </td><td>A </td><td> 9</td></tr>\n",
       "\t<tr><td>M </td><td>A </td><td> 9</td></tr>\n",
       "\t<tr><td>F </td><td>B </td><td> 5</td></tr>\n",
       "\t<tr><td>F </td><td>B </td><td> 5</td></tr>\n",
       "\t<tr><td>F </td><td>B </td><td> 5</td></tr>\n",
       "\t<tr><td>F </td><td>B </td><td> 8</td></tr>\n",
       "\t<tr><td>M </td><td>B </td><td> 7</td></tr>\n",
       "\t<tr><td>M </td><td>B </td><td> 8</td></tr>\n",
       "\t<tr><td>M </td><td>B </td><td>10</td></tr>\n",
       "\t<tr><td>M </td><td>B </td><td> 7</td></tr>\n",
       "\t<tr><td>F </td><td>C </td><td>10</td></tr>\n",
       "\t<tr><td>F </td><td>C </td><td>10</td></tr>\n",
       "\t<tr><td>F </td><td>C </td><td> 6</td></tr>\n",
       "\t<tr><td>F </td><td>C </td><td> 6</td></tr>\n",
       "\t<tr><td>M </td><td>C </td><td>10</td></tr>\n",
       "\t<tr><td>M </td><td>C </td><td> 6</td></tr>\n",
       "\t<tr><td>M </td><td>C </td><td>10</td></tr>\n",
       "\t<tr><td>M </td><td>C </td><td> 5</td></tr>\n",
       "</tbody>\n",
       "</table>\n"
      ],
      "text/latex": [
       "\\begin{tabular}{r|lll}\n",
       " Sexo & Remedio & Horas\\\\\n",
       "\\hline\n",
       "\t F  & A  &  5\\\\\n",
       "\t F  & A  & 10\\\\\n",
       "\t F  & A  &  7\\\\\n",
       "\t F  & A  &  7\\\\\n",
       "\t M  & A  &  7\\\\\n",
       "\t M  & A  &  6\\\\\n",
       "\t M  & A  &  9\\\\\n",
       "\t M  & A  &  9\\\\\n",
       "\t F  & B  &  5\\\\\n",
       "\t F  & B  &  5\\\\\n",
       "\t F  & B  &  5\\\\\n",
       "\t F  & B  &  8\\\\\n",
       "\t M  & B  &  7\\\\\n",
       "\t M  & B  &  8\\\\\n",
       "\t M  & B  & 10\\\\\n",
       "\t M  & B  &  7\\\\\n",
       "\t F  & C  & 10\\\\\n",
       "\t F  & C  & 10\\\\\n",
       "\t F  & C  &  6\\\\\n",
       "\t F  & C  &  6\\\\\n",
       "\t M  & C  & 10\\\\\n",
       "\t M  & C  &  6\\\\\n",
       "\t M  & C  & 10\\\\\n",
       "\t M  & C  &  5\\\\\n",
       "\\end{tabular}\n"
      ],
      "text/markdown": [
       "\n",
       "Sexo | Remedio | Horas | \n",
       "|---|---|---|---|---|---|---|---|---|---|---|---|---|---|---|---|---|---|---|---|---|---|---|---|\n",
       "| F  | A  |  5 | \n",
       "| F  | A  | 10 | \n",
       "| F  | A  |  7 | \n",
       "| F  | A  |  7 | \n",
       "| M  | A  |  7 | \n",
       "| M  | A  |  6 | \n",
       "| M  | A  |  9 | \n",
       "| M  | A  |  9 | \n",
       "| F  | B  |  5 | \n",
       "| F  | B  |  5 | \n",
       "| F  | B  |  5 | \n",
       "| F  | B  |  8 | \n",
       "| M  | B  |  7 | \n",
       "| M  | B  |  8 | \n",
       "| M  | B  | 10 | \n",
       "| M  | B  |  7 | \n",
       "| F  | C  | 10 | \n",
       "| F  | C  | 10 | \n",
       "| F  | C  |  6 | \n",
       "| F  | C  |  6 | \n",
       "| M  | C  | 10 | \n",
       "| M  | C  |  6 | \n",
       "| M  | C  | 10 | \n",
       "| M  | C  |  5 | \n",
       "\n",
       "\n"
      ],
      "text/plain": [
       "   Sexo Remedio Horas\n",
       "1  F    A        5   \n",
       "2  F    A       10   \n",
       "3  F    A        7   \n",
       "4  F    A        7   \n",
       "5  M    A        7   \n",
       "6  M    A        6   \n",
       "7  M    A        9   \n",
       "8  M    A        9   \n",
       "9  F    B        5   \n",
       "10 F    B        5   \n",
       "11 F    B        5   \n",
       "12 F    B        8   \n",
       "13 M    B        7   \n",
       "14 M    B        8   \n",
       "15 M    B       10   \n",
       "16 M    B        7   \n",
       "17 F    C       10   \n",
       "18 F    C       10   \n",
       "19 F    C        6   \n",
       "20 F    C        6   \n",
       "21 M    C       10   \n",
       "22 M    C        6   \n",
       "23 M    C       10   \n",
       "24 M    C        5   "
      ]
     },
     "metadata": {},
     "output_type": "display_data"
    }
   ],
   "source": [
    "tratamento = read.csv(file.choose(), se=\";\", header=T)\n",
    "tratamento\n",
    "fix(tratamento)"
   ]
  },
  {
   "cell_type": "code",
   "execution_count": 12,
   "metadata": {},
   "outputs": [
    {
     "data": {
      "image/png": "[encoded data removed]",
      "text/plain": [
       "plot without title"
      ]
     },
     "metadata": {},
     "output_type": "display_data",
     "source": "R display func"
    }
   ],
   "source": [
    "boxplot(tratamento$Horas ~ tratamento$Remedio)"
   ]
  },
  {
   "cell_type": "code",
   "execution_count": 13,
   "metadata": {},
   "outputs": [],
   "source": [
    "an = aov(Horas ~ Remedio, data=tratamento)"
   ]
  },
  {
   "cell_type": "code",
   "execution_count": 14,
   "metadata": {},
   "outputs": [
    {
     "data": {
      "text/plain": [
       "            Df Sum Sq Mean Sq F value Pr(>F)\n",
       "Remedio      2   4.08   2.042   0.538  0.592\n",
       "Residuals   21  79.75   3.798               "
      ]
     },
     "metadata": {},
     "output_type": "display_data"
    }
   ],
   "source": [
    "summary(an)"
   ]
  },
  {
   "cell_type": "code",
   "execution_count": 15,
   "metadata": {},
   "outputs": [
    {
     "data": {
      "text/plain": [
       "             Df Sum Sq Mean Sq F value Pr(>F)\n",
       "Remedio       2   4.08   2.042   0.533  0.596\n",
       "Sexo          1   4.17   4.167   1.087  0.311\n",
       "Remedio:Sexo  2   6.58   3.292   0.859  0.440\n",
       "Residuals    18  69.00   3.833               "
      ]
     },
     "metadata": {},
     "output_type": "display_data"
    }
   ],
   "source": [
    "an = aov(Horas ~ Remedio * Sexo, data=tratamento)\n",
    "summary(an)"
   ]
  },
  {
   "cell_type": "code",
   "execution_count": 16,
   "metadata": {},
   "outputs": [
    {
     "data": {
      "text/plain": [
       "  Tukey multiple comparisons of means\n",
       "    95% family-wise confidence level\n",
       "\n",
       "Fit: aov(formula = Horas ~ Remedio, data = tratamento)\n",
       "\n",
       "$Remedio\n",
       "      diff       lwr      upr     p adj\n",
       "B-A -0.625 -3.080978 1.830978 0.7991405\n",
       "C-A  0.375 -2.080978 2.830978 0.9218996\n",
       "C-B  1.000 -1.455978 3.455978 0.5689472\n"
      ]
     },
     "metadata": {},
     "output_type": "display_data"
    }
   ],
   "source": [
    "#teste de tukey\n",
    "an = aov(Horas ~ Remedio, data=tratamento)\n",
    "tukey = TukeyHSD(an)\n",
    "tukey\n"
   ]
  },
  {
   "cell_type": "code",
   "execution_count": 17,
   "metadata": {},
   "outputs": [
    {
     "data": {
      "image/png": "[encoded data removed]",
      "text/plain": [
       "Plot with title \"95% family-wise confidence level\n",
       "\""
      ]
     },
     "metadata": {},
     "output_type": "display_data",
     "source": "R display func"
    }
   ],
   "source": [
    "plot(tukey)"
   ]
  },
  {
   "cell_type": "markdown",
   "metadata": {},
   "source": [
    "## outliers"
   ]
  },
  {
   "cell_type": "code",
   "execution_count": 18,
   "metadata": {},
   "outputs": [
    {
     "data": {
      "image/png": "[encoded data removed]",
      "text/plain": [
       "plot without title"
      ]
     },
     "metadata": {},
     "output_type": "display_data",
     "source": "R display func"
    }
   ],
   "source": [
    "boxplot(iris)"
   ]
  },
  {
   "cell_type": "code",
   "execution_count": 19,
   "metadata": {},
   "outputs": [
    {
     "data": {
      "image/png": "[encoded data removed]",
      "text/plain": [
       "plot without title"
      ]
     },
     "metadata": {},
     "output_type": "display_data",
     "source": "R display func"
    }
   ],
   "source": [
    "boxplot(iris$Sepal.Width)"
   ]
  },
  {
   "cell_type": "code",
   "execution_count": 20,
   "metadata": {},
   "outputs": [
    {
     "data": {
      "image/png": "[encoded data removed]",
      "text/plain": [
       "plot without title"
      ]
     },
     "metadata": {},
     "output_type": "display_data",
     "source": "R display func"
    }
   ],
   "source": [
    "boxplot(iris$Sepal.Width, outline= F)"
   ]
  },
  {
   "cell_type": "code",
   "execution_count": 21,
   "metadata": {},
   "outputs": [
    {
     "data": {
      "text/html": [
       "<ol class=list-inline>\n",
       "\t<li>4.4</li>\n",
       "\t<li>4.1</li>\n",
       "\t<li>4.2</li>\n",
       "\t<li>2</li>\n",
       "</ol>\n"
      ],
      "text/latex": [
       "\\begin{enumerate*}\n",
       "\\item 4.4\n",
       "\\item 4.1\n",
       "\\item 4.2\n",
       "\\item 2\n",
       "\\end{enumerate*}\n"
      ],
      "text/markdown": [
       "1. 4.4\n",
       "2. 4.1\n",
       "3. 4.2\n",
       "4. 2\n",
       "\n",
       "\n"
      ],
      "text/plain": [
       "[1] 4.4 4.1 4.2 2.0"
      ]
     },
     "metadata": {},
     "output_type": "display_data"
    }
   ],
   "source": [
    "boxplot.stats(iris$Sepal.Width)$out #mostrar os numeros do outliers"
   ]
  },
  {
   "cell_type": "code",
   "execution_count": 22,
   "metadata": {},
   "outputs": [
    {
     "name": "stderr",
     "output_type": "stream",
     "text": [
      "Installing package into 'C:/Users/dmiyake/Documents/R/win-library/3.4'\n",
      "(as 'lib' is unspecified)\n"
     ]
    },
    {
     "name": "stdout",
     "output_type": "stream",
     "text": [
      "package 'outliers' successfully unpacked and MD5 sums checked\n",
      "\n",
      "The downloaded binary packages are in\n",
      "\tC:\\Users\\dmiyake\\AppData\\Local\\Temp\\RtmpSwNI61\\downloaded_packages\n"
     ]
    }
   ],
   "source": [
    "install.packages('outliers')\n",
    "library(outliers)"
   ]
  },
  {
   "cell_type": "code",
   "execution_count": 24,
   "metadata": {},
   "outputs": [
    {
     "data": {
      "text/html": [
       "4.4"
      ],
      "text/latex": [
       "4.4"
      ],
      "text/markdown": [
       "4.4"
      ],
      "text/plain": [
       "[1] 4.4"
      ]
     },
     "metadata": {},
     "output_type": "display_data"
    }
   ],
   "source": [
    "outlier(iris$Sepal.Width) #outliers superior"
   ]
  },
  {
   "cell_type": "code",
   "execution_count": 25,
   "metadata": {},
   "outputs": [
    {
     "data": {
      "text/html": [
       "2"
      ],
      "text/latex": [
       "2"
      ],
      "text/markdown": [
       "2"
      ],
      "text/plain": [
       "[1] 2"
      ]
     },
     "metadata": {},
     "output_type": "display_data"
    }
   ],
   "source": [
    "outlier(iris$Sepal.Width, opposite=T) #outliers inferior"
   ]
  },
  {
   "cell_type": "code",
   "execution_count": null,
   "metadata": {},
   "outputs": [],
   "source": []
  },
  {
   "cell_type": "code",
   "execution_count": null,
   "metadata": {},
   "outputs": [],
   "source": []
  }
 ],
 "metadata": {
  "kernelspec": {
   "display_name": "R",
   "language": "R",
   "name": "ir"
  },
  "language_info": {
   "codemirror_mode": "r",
   "file_extension": ".r",
   "mimetype": "text/x-r-source",
   "name": "R",
   "pygments_lexer": "r",
   "version": "3.4.3"
  }
 },
 "nbformat": 4,
 "nbformat_minor": 2
}
