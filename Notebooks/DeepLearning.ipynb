{
 "cells": [
  {
   "cell_type": "markdown",
   "metadata": {},
   "source": [
    "# Deep Learning - Formação Cientista de Dados\n",
    "### Uso de um algoritmo de deep learning para verificação de resultados.\n",
    "Será usado dois arquivos o train.csv.gz e o test.csv.gz"
   ]
  },
  {
   "cell_type": "code",
   "execution_count": 1,
   "metadata": {},
   "outputs": [],
   "source": [
    "digitos = read.csv(gzfile(file.choose()), header = F) #usar o arquivo train.csv"
   ]
  },
  {
   "cell_type": "code",
   "execution_count": 2,
   "metadata": {},
   "outputs": [
    {
     "data": {
      "text/html": [
       "<ol class=list-inline>\n",
       "\t<li>60000</li>\n",
       "\t<li>785</li>\n",
       "</ol>\n"
      ],
      "text/latex": [
       "\\begin{enumerate*}\n",
       "\\item 60000\n",
       "\\item 785\n",
       "\\end{enumerate*}\n"
      ],
      "text/markdown": [
       "1. 60000\n",
       "2. 785\n",
       "\n",
       "\n"
      ],
      "text/plain": [
       "[1] 60000   785"
      ]
     },
     "metadata": {},
     "output_type": "display_data"
    }
   ],
   "source": [
    "dim(digitos)"
   ]
  },
  {
   "cell_type": "code",
   "execution_count": 3,
   "metadata": {},
   "outputs": [
    {
     "data": {
      "text/html": [
       "<table>\n",
       "<thead><tr><th scope=col>V1</th><th scope=col>V2</th><th scope=col>V3</th><th scope=col>V4</th><th scope=col>V5</th><th scope=col>V6</th><th scope=col>V7</th><th scope=col>V8</th><th scope=col>V9</th><th scope=col>V10</th><th scope=col>...</th><th scope=col>V776</th><th scope=col>V777</th><th scope=col>V778</th><th scope=col>V779</th><th scope=col>V780</th><th scope=col>V781</th><th scope=col>V782</th><th scope=col>V783</th><th scope=col>V784</th><th scope=col>V785</th></tr></thead>\n",
       "<tbody>\n",
       "\t<tr><td>0  </td><td>0  </td><td>0  </td><td>0  </td><td>0  </td><td>0  </td><td>0  </td><td>0  </td><td>0  </td><td>0  </td><td>...</td><td>0  </td><td>0  </td><td>0  </td><td>0  </td><td>0  </td><td>0  </td><td>0  </td><td>0  </td><td>0  </td><td>2  </td></tr>\n",
       "\t<tr><td>0  </td><td>0  </td><td>0  </td><td>0  </td><td>0  </td><td>0  </td><td>0  </td><td>0  </td><td>0  </td><td>0  </td><td>...</td><td>0  </td><td>0  </td><td>0  </td><td>0  </td><td>0  </td><td>0  </td><td>0  </td><td>0  </td><td>0  </td><td>3  </td></tr>\n",
       "\t<tr><td>0  </td><td>0  </td><td>0  </td><td>0  </td><td>0  </td><td>0  </td><td>0  </td><td>0  </td><td>0  </td><td>0  </td><td>...</td><td>0  </td><td>0  </td><td>0  </td><td>0  </td><td>0  </td><td>0  </td><td>0  </td><td>0  </td><td>0  </td><td>0  </td></tr>\n",
       "\t<tr><td>0  </td><td>0  </td><td>0  </td><td>0  </td><td>0  </td><td>0  </td><td>0  </td><td>0  </td><td>0  </td><td>0  </td><td>...</td><td>0  </td><td>0  </td><td>0  </td><td>0  </td><td>0  </td><td>0  </td><td>0  </td><td>0  </td><td>0  </td><td>0  </td></tr>\n",
       "\t<tr><td>0  </td><td>0  </td><td>0  </td><td>0  </td><td>0  </td><td>0  </td><td>0  </td><td>0  </td><td>0  </td><td>0  </td><td>...</td><td>0  </td><td>0  </td><td>0  </td><td>0  </td><td>0  </td><td>0  </td><td>0  </td><td>0  </td><td>0  </td><td>2  </td></tr>\n",
       "\t<tr><td>0  </td><td>0  </td><td>0  </td><td>0  </td><td>0  </td><td>0  </td><td>0  </td><td>0  </td><td>0  </td><td>0  </td><td>...</td><td>0  </td><td>0  </td><td>0  </td><td>0  </td><td>0  </td><td>0  </td><td>0  </td><td>0  </td><td>0  </td><td>7  </td></tr>\n",
       "</tbody>\n",
       "</table>\n"
      ],
      "text/latex": [
       "\\begin{tabular}{r|lllllllllllllllllllllllllllllllllllllllllllllllllllllllllllllllllllllllllllllllllllllllllllllllllllllllllllllllllllllllllllllllllllllllllllllllllllllllllllllllllllllllllllllllllllllllllllllllllllllllllllllllllllllllllllllllllllllllllllllllllllllllllllllllllllllllllllllllllllllllllllllllllllllllllllllllllllllllllllllllllllllllllllllllllllllllllllllllllllllllllllllllllllllllllllllllllllllllllllllllllllllllllllllllllllllllllllllllllllllllllllllllllllllllllllllllllllllllllllllllllllllllllllllllllllllllllllllllllllllllllllllllllllllllllllllllllllllllllllllllllllllllllllllllllllllllllllllllllllllllllllllllllllllllllllllllllllllllllllllllllllllllllllllllllllllllllllllllllllllllllllllllllllllllllllllllllllllllllllllllllllllllllllllllllllllllllllllllllllllllllllllllllllllllllllllllll}\n",
       " V1 & V2 & V3 & V4 & V5 & V6 & V7 & V8 & V9 & V10 & ... & V776 & V777 & V778 & V779 & V780 & V781 & V782 & V783 & V784 & V785\\\\\n",
       "\\hline\n",
       "\t 0   & 0   & 0   & 0   & 0   & 0   & 0   & 0   & 0   & 0   & ... & 0   & 0   & 0   & 0   & 0   & 0   & 0   & 0   & 0   & 2  \\\\\n",
       "\t 0   & 0   & 0   & 0   & 0   & 0   & 0   & 0   & 0   & 0   & ... & 0   & 0   & 0   & 0   & 0   & 0   & 0   & 0   & 0   & 3  \\\\\n",
       "\t 0   & 0   & 0   & 0   & 0   & 0   & 0   & 0   & 0   & 0   & ... & 0   & 0   & 0   & 0   & 0   & 0   & 0   & 0   & 0   & 0  \\\\\n",
       "\t 0   & 0   & 0   & 0   & 0   & 0   & 0   & 0   & 0   & 0   & ... & 0   & 0   & 0   & 0   & 0   & 0   & 0   & 0   & 0   & 0  \\\\\n",
       "\t 0   & 0   & 0   & 0   & 0   & 0   & 0   & 0   & 0   & 0   & ... & 0   & 0   & 0   & 0   & 0   & 0   & 0   & 0   & 0   & 2  \\\\\n",
       "\t 0   & 0   & 0   & 0   & 0   & 0   & 0   & 0   & 0   & 0   & ... & 0   & 0   & 0   & 0   & 0   & 0   & 0   & 0   & 0   & 7  \\\\\n",
       "\\end{tabular}\n"
      ],
      "text/markdown": [
       "\n",
       "V1 | V2 | V3 | V4 | V5 | V6 | V7 | V8 | V9 | V10 | ... | V776 | V777 | V778 | V779 | V780 | V781 | V782 | V783 | V784 | V785 | \n",
       "|---|---|---|---|---|---|\n",
       "| 0   | 0   | 0   | 0   | 0   | 0   | 0   | 0   | 0   | 0   | ... | 0   | 0   | 0   | 0   | 0   | 0   | 0   | 0   | 0   | 2   | \n",
       "| 0   | 0   | 0   | 0   | 0   | 0   | 0   | 0   | 0   | 0   | ... | 0   | 0   | 0   | 0   | 0   | 0   | 0   | 0   | 0   | 3   | \n",
       "| 0   | 0   | 0   | 0   | 0   | 0   | 0   | 0   | 0   | 0   | ... | 0   | 0   | 0   | 0   | 0   | 0   | 0   | 0   | 0   | 0   | \n",
       "| 0   | 0   | 0   | 0   | 0   | 0   | 0   | 0   | 0   | 0   | ... | 0   | 0   | 0   | 0   | 0   | 0   | 0   | 0   | 0   | 0   | \n",
       "| 0   | 0   | 0   | 0   | 0   | 0   | 0   | 0   | 0   | 0   | ... | 0   | 0   | 0   | 0   | 0   | 0   | 0   | 0   | 0   | 2   | \n",
       "| 0   | 0   | 0   | 0   | 0   | 0   | 0   | 0   | 0   | 0   | ... | 0   | 0   | 0   | 0   | 0   | 0   | 0   | 0   | 0   | 7   | \n",
       "\n",
       "\n"
      ],
      "text/plain": [
       "  V1 V2 V3 V4 V5 V6 V7 V8 V9 V10 ... V776 V777 V778 V779 V780 V781 V782 V783\n",
       "1 0  0  0  0  0  0  0  0  0  0   ... 0    0    0    0    0    0    0    0   \n",
       "2 0  0  0  0  0  0  0  0  0  0   ... 0    0    0    0    0    0    0    0   \n",
       "3 0  0  0  0  0  0  0  0  0  0   ... 0    0    0    0    0    0    0    0   \n",
       "4 0  0  0  0  0  0  0  0  0  0   ... 0    0    0    0    0    0    0    0   \n",
       "5 0  0  0  0  0  0  0  0  0  0   ... 0    0    0    0    0    0    0    0   \n",
       "6 0  0  0  0  0  0  0  0  0  0   ... 0    0    0    0    0    0    0    0   \n",
       "  V784 V785\n",
       "1 0    2   \n",
       "2 0    3   \n",
       "3 0    0   \n",
       "4 0    0   \n",
       "5 0    2   \n",
       "6 0    7   "
      ]
     },
     "metadata": {},
     "output_type": "display_data"
    }
   ],
   "source": [
    "head(digitos)"
   ]
  },
  {
   "cell_type": "code",
   "execution_count": 4,
   "metadata": {},
   "outputs": [
    {
     "data": {
      "text/html": [
       "<ol class=list-inline>\n",
       "\t<li>1</li>\n",
       "\t<li>2</li>\n",
       "\t<li>3</li>\n",
       "\t<li>4</li>\n",
       "</ol>\n"
      ],
      "text/latex": [
       "\\begin{enumerate*}\n",
       "\\item 1\n",
       "\\item 2\n",
       "\\item 3\n",
       "\\item 4\n",
       "\\end{enumerate*}\n"
      ],
      "text/markdown": [
       "1. 1\n",
       "2. 2\n",
       "3. 3\n",
       "4. 4\n",
       "\n",
       "\n"
      ],
      "text/plain": [
       "[1] 1 2 3 4"
      ]
     },
     "metadata": {},
     "output_type": "display_data"
    },
    {
     "data": {
      "image/png": "[encoded data removed]",
      "text/plain": [
       "plot without title"
      ]
     },
     "metadata": {},
     "output_type": "display_data",
     "source": "R display func"
    }
   ],
   "source": [
    "split.screen (figs = c(2,2))"
   ]
  },
  {
   "cell_type": "code",
   "execution_count": 5,
   "metadata": {},
   "outputs": [],
   "source": [
    "dig = t(matrix(unlist (digitos[20, -785]),nrow=28,byrow=F)) # transpor a matriz"
   ]
  },
  {
   "cell_type": "code",
   "execution_count": 6,
   "metadata": {},
   "outputs": [],
   "source": [
    "dig = t(apply (dig, 2, rev)) #faz a reversão da imagem somente nas colunas"
   ]
  },
  {
   "cell_type": "code",
   "execution_count": 7,
   "metadata": {},
   "outputs": [
    {
     "data": {
      "text/html": [
       "<table>\n",
       "<tbody>\n",
       "\t<tr><td>0  </td><td>0  </td><td>  0</td><td>  0</td><td>  0</td><td>  0</td><td>  0</td><td>  0</td><td>  0</td><td>  0</td><td>...</td><td>  0</td><td>  0</td><td>  0</td><td>  0</td><td>0  </td><td>0  </td><td>0  </td><td>0  </td><td>0  </td><td>0  </td></tr>\n",
       "\t<tr><td>0  </td><td>0  </td><td>  0</td><td>  0</td><td>  0</td><td>  0</td><td>  0</td><td>  0</td><td>  0</td><td>  0</td><td>...</td><td>  0</td><td>  0</td><td>  0</td><td>  0</td><td>0  </td><td>0  </td><td>0  </td><td>0  </td><td>0  </td><td>0  </td></tr>\n",
       "\t<tr><td>0  </td><td>0  </td><td>  0</td><td>  0</td><td>  0</td><td>  0</td><td>  0</td><td>  0</td><td>  0</td><td>  0</td><td>...</td><td>  0</td><td>  0</td><td>  0</td><td>  0</td><td>0  </td><td>0  </td><td>0  </td><td>0  </td><td>0  </td><td>0  </td></tr>\n",
       "\t<tr><td>0  </td><td>0  </td><td>  0</td><td>  0</td><td>  0</td><td>  0</td><td>  0</td><td>  0</td><td>  0</td><td>  0</td><td>...</td><td>  0</td><td>  0</td><td>  0</td><td>  0</td><td>0  </td><td>0  </td><td>0  </td><td>0  </td><td>0  </td><td>0  </td></tr>\n",
       "\t<tr><td>0  </td><td>0  </td><td>  0</td><td>  0</td><td>  0</td><td>  0</td><td>  0</td><td>  0</td><td>  0</td><td>  0</td><td>...</td><td>  0</td><td>  0</td><td>  0</td><td>  0</td><td>0  </td><td>0  </td><td>0  </td><td>0  </td><td>0  </td><td>0  </td></tr>\n",
       "\t<tr><td>0  </td><td>0  </td><td>  0</td><td>  0</td><td>  0</td><td>  0</td><td>  0</td><td>  0</td><td>  0</td><td>  0</td><td>...</td><td>  0</td><td>  0</td><td>  0</td><td>  0</td><td>0  </td><td>0  </td><td>0  </td><td>0  </td><td>0  </td><td>0  </td></tr>\n",
       "\t<tr><td>0  </td><td>0  </td><td>  0</td><td>  0</td><td>  0</td><td>  0</td><td>  0</td><td>  0</td><td>  0</td><td>  0</td><td>...</td><td>157</td><td> 54</td><td>  4</td><td>  0</td><td>0  </td><td>0  </td><td>0  </td><td>0  </td><td>0  </td><td>0  </td></tr>\n",
       "\t<tr><td>0  </td><td>0  </td><td>  0</td><td>  0</td><td>  0</td><td>  0</td><td>  0</td><td>  0</td><td>  0</td><td>  0</td><td>...</td><td>253</td><td>253</td><td>127</td><td> 26</td><td>0  </td><td>0  </td><td>0  </td><td>0  </td><td>0  </td><td>0  </td></tr>\n",
       "\t<tr><td>0  </td><td>0  </td><td>  0</td><td>  0</td><td>  0</td><td>  0</td><td>  0</td><td>  0</td><td>  0</td><td>  0</td><td>...</td><td>213</td><td>253</td><td>253</td><td>133</td><td>0  </td><td>0  </td><td>0  </td><td>0  </td><td>0  </td><td>0  </td></tr>\n",
       "\t<tr><td>0  </td><td>0  </td><td>  0</td><td>  0</td><td>  0</td><td>  0</td><td>  0</td><td>  0</td><td>  0</td><td>  0</td><td>...</td><td> 20</td><td> 60</td><td> 60</td><td> 32</td><td>0  </td><td>0  </td><td>0  </td><td>0  </td><td>0  </td><td>0  </td></tr>\n",
       "\t<tr><td>0  </td><td>0  </td><td>  0</td><td>  0</td><td>  0</td><td>  0</td><td>  0</td><td>  0</td><td>  0</td><td>  0</td><td>...</td><td>  0</td><td>  0</td><td>  0</td><td>  0</td><td>0  </td><td>0  </td><td>0  </td><td>0  </td><td>0  </td><td>0  </td></tr>\n",
       "\t<tr><td>0  </td><td>0  </td><td>  0</td><td>  0</td><td>  0</td><td>  0</td><td>  0</td><td>  0</td><td>  0</td><td>  0</td><td>...</td><td>  0</td><td>  0</td><td>  0</td><td>  0</td><td>0  </td><td>0  </td><td>0  </td><td>0  </td><td>0  </td><td>0  </td></tr>\n",
       "\t<tr><td>0  </td><td>0  </td><td>  0</td><td>  0</td><td>  0</td><td>  0</td><td>  0</td><td>  0</td><td>  0</td><td>  0</td><td>...</td><td>  0</td><td>  0</td><td>  0</td><td>  0</td><td>0  </td><td>0  </td><td>0  </td><td>0  </td><td>0  </td><td>0  </td></tr>\n",
       "\t<tr><td>0  </td><td>0  </td><td>  0</td><td>  0</td><td>  0</td><td>  0</td><td>  0</td><td>  0</td><td>  0</td><td>  0</td><td>...</td><td>  0</td><td>  0</td><td>  0</td><td>  0</td><td>0  </td><td>0  </td><td>0  </td><td>0  </td><td>0  </td><td>0  </td></tr>\n",
       "\t<tr><td>0  </td><td>0  </td><td> 76</td><td>133</td><td>117</td><td> 13</td><td> 13</td><td> 13</td><td>  3</td><td>  0</td><td>...</td><td>  0</td><td>  0</td><td>  0</td><td>  0</td><td>0  </td><td>0  </td><td>0  </td><td>0  </td><td>0  </td><td>0  </td></tr>\n",
       "\t<tr><td>0  </td><td>0  </td><td>253</td><td>253</td><td>253</td><td>253</td><td>253</td><td>253</td><td>166</td><td>145</td><td>...</td><td>  0</td><td>  0</td><td>  0</td><td>  0</td><td>0  </td><td>0  </td><td>0  </td><td>0  </td><td>0  </td><td>0  </td></tr>\n",
       "\t<tr><td>0  </td><td>0  </td><td> 96</td><td>107</td><td>217</td><td>224</td><td>253</td><td>253</td><td>253</td><td>253</td><td>...</td><td>  0</td><td>  0</td><td>  0</td><td>  0</td><td>0  </td><td>0  </td><td>0  </td><td>0  </td><td>0  </td><td>0  </td></tr>\n",
       "\t<tr><td>0  </td><td>0  </td><td>  0</td><td>  0</td><td>  0</td><td> 16</td><td> 84</td><td>176</td><td>205</td><td>223</td><td>...</td><td> 33</td><td> 24</td><td>  0</td><td>  0</td><td>0  </td><td>0  </td><td>0  </td><td>0  </td><td>0  </td><td>0  </td></tr>\n",
       "\t<tr><td>0  </td><td>0  </td><td>  0</td><td>  0</td><td>  0</td><td>  0</td><td>  0</td><td>  0</td><td>  0</td><td> 28</td><td>...</td><td>230</td><td>216</td><td>130</td><td> 62</td><td>0  </td><td>0  </td><td>0  </td><td>0  </td><td>0  </td><td>0  </td></tr>\n",
       "\t<tr><td>0  </td><td>0  </td><td>  0</td><td>  0</td><td>  0</td><td>  0</td><td>  0</td><td>  0</td><td>  0</td><td>  0</td><td>...</td><td>253</td><td>253</td><td>253</td><td>220</td><td>0  </td><td>0  </td><td>0  </td><td>0  </td><td>0  </td><td>0  </td></tr>\n",
       "\t<tr><td>0  </td><td>0  </td><td>  0</td><td>  0</td><td>  0</td><td>  0</td><td>  0</td><td>  0</td><td>  0</td><td>  0</td><td>...</td><td> 64</td><td> 48</td><td> 48</td><td> 25</td><td>0  </td><td>0  </td><td>0  </td><td>0  </td><td>0  </td><td>0  </td></tr>\n",
       "\t<tr><td>0  </td><td>0  </td><td>  0</td><td>  0</td><td>  0</td><td>  0</td><td>  0</td><td>  0</td><td>  0</td><td>  0</td><td>...</td><td> 30</td><td>  0</td><td>  0</td><td>  0</td><td>0  </td><td>0  </td><td>0  </td><td>0  </td><td>0  </td><td>0  </td></tr>\n",
       "\t<tr><td>0  </td><td>0  </td><td>  0</td><td>  0</td><td>  0</td><td>  0</td><td>  0</td><td>  0</td><td>  0</td><td>  0</td><td>...</td><td>  0</td><td>  0</td><td>  0</td><td>  0</td><td>0  </td><td>0  </td><td>0  </td><td>0  </td><td>0  </td><td>0  </td></tr>\n",
       "\t<tr><td>0  </td><td>0  </td><td>  0</td><td>  0</td><td>  0</td><td>  0</td><td>  0</td><td>  0</td><td>  0</td><td>  0</td><td>...</td><td>  0</td><td>  0</td><td>  0</td><td>  0</td><td>0  </td><td>0  </td><td>0  </td><td>0  </td><td>0  </td><td>0  </td></tr>\n",
       "\t<tr><td>0  </td><td>0  </td><td>  0</td><td>  0</td><td>  0</td><td>  0</td><td>  0</td><td>  0</td><td>  0</td><td>  0</td><td>...</td><td>  0</td><td>  0</td><td>  0</td><td>  0</td><td>0  </td><td>0  </td><td>0  </td><td>0  </td><td>0  </td><td>0  </td></tr>\n",
       "\t<tr><td>0  </td><td>0  </td><td>  0</td><td>  0</td><td>  0</td><td>  0</td><td>  0</td><td>  0</td><td>  0</td><td>  0</td><td>...</td><td>  0</td><td>  0</td><td>  0</td><td>  0</td><td>0  </td><td>0  </td><td>0  </td><td>0  </td><td>0  </td><td>0  </td></tr>\n",
       "\t<tr><td>0  </td><td>0  </td><td>  0</td><td>  0</td><td>  0</td><td>  0</td><td>  0</td><td>  0</td><td>  0</td><td>  0</td><td>...</td><td>  0</td><td>  0</td><td>  0</td><td>  0</td><td>0  </td><td>0  </td><td>0  </td><td>0  </td><td>0  </td><td>0  </td></tr>\n",
       "\t<tr><td>0  </td><td>0  </td><td>  0</td><td>  0</td><td>  0</td><td>  0</td><td>  0</td><td>  0</td><td>  0</td><td>  0</td><td>...</td><td>  0</td><td>  0</td><td>  0</td><td>  0</td><td>0  </td><td>0  </td><td>0  </td><td>0  </td><td>0  </td><td>0  </td></tr>\n",
       "</tbody>\n",
       "</table>\n"
      ],
      "text/latex": [
       "\\begin{tabular}{llllllllllllllllllllllllllll}\n",
       "\t 0   & 0   &   0 &   0 &   0 &   0 &   0 &   0 &   0 &   0 & ... &   0 &   0 &   0 &   0 & 0   & 0   & 0   & 0   & 0   & 0  \\\\\n",
       "\t 0   & 0   &   0 &   0 &   0 &   0 &   0 &   0 &   0 &   0 & ... &   0 &   0 &   0 &   0 & 0   & 0   & 0   & 0   & 0   & 0  \\\\\n",
       "\t 0   & 0   &   0 &   0 &   0 &   0 &   0 &   0 &   0 &   0 & ... &   0 &   0 &   0 &   0 & 0   & 0   & 0   & 0   & 0   & 0  \\\\\n",
       "\t 0   & 0   &   0 &   0 &   0 &   0 &   0 &   0 &   0 &   0 & ... &   0 &   0 &   0 &   0 & 0   & 0   & 0   & 0   & 0   & 0  \\\\\n",
       "\t 0   & 0   &   0 &   0 &   0 &   0 &   0 &   0 &   0 &   0 & ... &   0 &   0 &   0 &   0 & 0   & 0   & 0   & 0   & 0   & 0  \\\\\n",
       "\t 0   & 0   &   0 &   0 &   0 &   0 &   0 &   0 &   0 &   0 & ... &   0 &   0 &   0 &   0 & 0   & 0   & 0   & 0   & 0   & 0  \\\\\n",
       "\t 0   & 0   &   0 &   0 &   0 &   0 &   0 &   0 &   0 &   0 & ... & 157 &  54 &   4 &   0 & 0   & 0   & 0   & 0   & 0   & 0  \\\\\n",
       "\t 0   & 0   &   0 &   0 &   0 &   0 &   0 &   0 &   0 &   0 & ... & 253 & 253 & 127 &  26 & 0   & 0   & 0   & 0   & 0   & 0  \\\\\n",
       "\t 0   & 0   &   0 &   0 &   0 &   0 &   0 &   0 &   0 &   0 & ... & 213 & 253 & 253 & 133 & 0   & 0   & 0   & 0   & 0   & 0  \\\\\n",
       "\t 0   & 0   &   0 &   0 &   0 &   0 &   0 &   0 &   0 &   0 & ... &  20 &  60 &  60 &  32 & 0   & 0   & 0   & 0   & 0   & 0  \\\\\n",
       "\t 0   & 0   &   0 &   0 &   0 &   0 &   0 &   0 &   0 &   0 & ... &   0 &   0 &   0 &   0 & 0   & 0   & 0   & 0   & 0   & 0  \\\\\n",
       "\t 0   & 0   &   0 &   0 &   0 &   0 &   0 &   0 &   0 &   0 & ... &   0 &   0 &   0 &   0 & 0   & 0   & 0   & 0   & 0   & 0  \\\\\n",
       "\t 0   & 0   &   0 &   0 &   0 &   0 &   0 &   0 &   0 &   0 & ... &   0 &   0 &   0 &   0 & 0   & 0   & 0   & 0   & 0   & 0  \\\\\n",
       "\t 0   & 0   &   0 &   0 &   0 &   0 &   0 &   0 &   0 &   0 & ... &   0 &   0 &   0 &   0 & 0   & 0   & 0   & 0   & 0   & 0  \\\\\n",
       "\t 0   & 0   &  76 & 133 & 117 &  13 &  13 &  13 &   3 &   0 & ... &   0 &   0 &   0 &   0 & 0   & 0   & 0   & 0   & 0   & 0  \\\\\n",
       "\t 0   & 0   & 253 & 253 & 253 & 253 & 253 & 253 & 166 & 145 & ... &   0 &   0 &   0 &   0 & 0   & 0   & 0   & 0   & 0   & 0  \\\\\n",
       "\t 0   & 0   &  96 & 107 & 217 & 224 & 253 & 253 & 253 & 253 & ... &   0 &   0 &   0 &   0 & 0   & 0   & 0   & 0   & 0   & 0  \\\\\n",
       "\t 0   & 0   &   0 &   0 &   0 &  16 &  84 & 176 & 205 & 223 & ... &  33 &  24 &   0 &   0 & 0   & 0   & 0   & 0   & 0   & 0  \\\\\n",
       "\t 0   & 0   &   0 &   0 &   0 &   0 &   0 &   0 &   0 &  28 & ... & 230 & 216 & 130 &  62 & 0   & 0   & 0   & 0   & 0   & 0  \\\\\n",
       "\t 0   & 0   &   0 &   0 &   0 &   0 &   0 &   0 &   0 &   0 & ... & 253 & 253 & 253 & 220 & 0   & 0   & 0   & 0   & 0   & 0  \\\\\n",
       "\t 0   & 0   &   0 &   0 &   0 &   0 &   0 &   0 &   0 &   0 & ... &  64 &  48 &  48 &  25 & 0   & 0   & 0   & 0   & 0   & 0  \\\\\n",
       "\t 0   & 0   &   0 &   0 &   0 &   0 &   0 &   0 &   0 &   0 & ... &  30 &   0 &   0 &   0 & 0   & 0   & 0   & 0   & 0   & 0  \\\\\n",
       "\t 0   & 0   &   0 &   0 &   0 &   0 &   0 &   0 &   0 &   0 & ... &   0 &   0 &   0 &   0 & 0   & 0   & 0   & 0   & 0   & 0  \\\\\n",
       "\t 0   & 0   &   0 &   0 &   0 &   0 &   0 &   0 &   0 &   0 & ... &   0 &   0 &   0 &   0 & 0   & 0   & 0   & 0   & 0   & 0  \\\\\n",
       "\t 0   & 0   &   0 &   0 &   0 &   0 &   0 &   0 &   0 &   0 & ... &   0 &   0 &   0 &   0 & 0   & 0   & 0   & 0   & 0   & 0  \\\\\n",
       "\t 0   & 0   &   0 &   0 &   0 &   0 &   0 &   0 &   0 &   0 & ... &   0 &   0 &   0 &   0 & 0   & 0   & 0   & 0   & 0   & 0  \\\\\n",
       "\t 0   & 0   &   0 &   0 &   0 &   0 &   0 &   0 &   0 &   0 & ... &   0 &   0 &   0 &   0 & 0   & 0   & 0   & 0   & 0   & 0  \\\\\n",
       "\t 0   & 0   &   0 &   0 &   0 &   0 &   0 &   0 &   0 &   0 & ... &   0 &   0 &   0 &   0 & 0   & 0   & 0   & 0   & 0   & 0  \\\\\n",
       "\\end{tabular}\n"
      ],
      "text/markdown": [
       "\n",
       "| 0   | 0   |   0 |   0 |   0 |   0 |   0 |   0 |   0 |   0 | ... |   0 |   0 |   0 |   0 | 0   | 0   | 0   | 0   | 0   | 0   | \n",
       "| 0   | 0   |   0 |   0 |   0 |   0 |   0 |   0 |   0 |   0 | ... |   0 |   0 |   0 |   0 | 0   | 0   | 0   | 0   | 0   | 0   | \n",
       "| 0   | 0   |   0 |   0 |   0 |   0 |   0 |   0 |   0 |   0 | ... |   0 |   0 |   0 |   0 | 0   | 0   | 0   | 0   | 0   | 0   | \n",
       "| 0   | 0   |   0 |   0 |   0 |   0 |   0 |   0 |   0 |   0 | ... |   0 |   0 |   0 |   0 | 0   | 0   | 0   | 0   | 0   | 0   | \n",
       "| 0   | 0   |   0 |   0 |   0 |   0 |   0 |   0 |   0 |   0 | ... |   0 |   0 |   0 |   0 | 0   | 0   | 0   | 0   | 0   | 0   | \n",
       "| 0   | 0   |   0 |   0 |   0 |   0 |   0 |   0 |   0 |   0 | ... |   0 |   0 |   0 |   0 | 0   | 0   | 0   | 0   | 0   | 0   | \n",
       "| 0   | 0   |   0 |   0 |   0 |   0 |   0 |   0 |   0 |   0 | ... | 157 |  54 |   4 |   0 | 0   | 0   | 0   | 0   | 0   | 0   | \n",
       "| 0   | 0   |   0 |   0 |   0 |   0 |   0 |   0 |   0 |   0 | ... | 253 | 253 | 127 |  26 | 0   | 0   | 0   | 0   | 0   | 0   | \n",
       "| 0   | 0   |   0 |   0 |   0 |   0 |   0 |   0 |   0 |   0 | ... | 213 | 253 | 253 | 133 | 0   | 0   | 0   | 0   | 0   | 0   | \n",
       "| 0   | 0   |   0 |   0 |   0 |   0 |   0 |   0 |   0 |   0 | ... |  20 |  60 |  60 |  32 | 0   | 0   | 0   | 0   | 0   | 0   | \n",
       "| 0   | 0   |   0 |   0 |   0 |   0 |   0 |   0 |   0 |   0 | ... |   0 |   0 |   0 |   0 | 0   | 0   | 0   | 0   | 0   | 0   | \n",
       "| 0   | 0   |   0 |   0 |   0 |   0 |   0 |   0 |   0 |   0 | ... |   0 |   0 |   0 |   0 | 0   | 0   | 0   | 0   | 0   | 0   | \n",
       "| 0   | 0   |   0 |   0 |   0 |   0 |   0 |   0 |   0 |   0 | ... |   0 |   0 |   0 |   0 | 0   | 0   | 0   | 0   | 0   | 0   | \n",
       "| 0   | 0   |   0 |   0 |   0 |   0 |   0 |   0 |   0 |   0 | ... |   0 |   0 |   0 |   0 | 0   | 0   | 0   | 0   | 0   | 0   | \n",
       "| 0   | 0   |  76 | 133 | 117 |  13 |  13 |  13 |   3 |   0 | ... |   0 |   0 |   0 |   0 | 0   | 0   | 0   | 0   | 0   | 0   | \n",
       "| 0   | 0   | 253 | 253 | 253 | 253 | 253 | 253 | 166 | 145 | ... |   0 |   0 |   0 |   0 | 0   | 0   | 0   | 0   | 0   | 0   | \n",
       "| 0   | 0   |  96 | 107 | 217 | 224 | 253 | 253 | 253 | 253 | ... |   0 |   0 |   0 |   0 | 0   | 0   | 0   | 0   | 0   | 0   | \n",
       "| 0   | 0   |   0 |   0 |   0 |  16 |  84 | 176 | 205 | 223 | ... |  33 |  24 |   0 |   0 | 0   | 0   | 0   | 0   | 0   | 0   | \n",
       "| 0   | 0   |   0 |   0 |   0 |   0 |   0 |   0 |   0 |  28 | ... | 230 | 216 | 130 |  62 | 0   | 0   | 0   | 0   | 0   | 0   | \n",
       "| 0   | 0   |   0 |   0 |   0 |   0 |   0 |   0 |   0 |   0 | ... | 253 | 253 | 253 | 220 | 0   | 0   | 0   | 0   | 0   | 0   | \n",
       "| 0   | 0   |   0 |   0 |   0 |   0 |   0 |   0 |   0 |   0 | ... |  64 |  48 |  48 |  25 | 0   | 0   | 0   | 0   | 0   | 0   | \n",
       "| 0   | 0   |   0 |   0 |   0 |   0 |   0 |   0 |   0 |   0 | ... |  30 |   0 |   0 |   0 | 0   | 0   | 0   | 0   | 0   | 0   | \n",
       "| 0   | 0   |   0 |   0 |   0 |   0 |   0 |   0 |   0 |   0 | ... |   0 |   0 |   0 |   0 | 0   | 0   | 0   | 0   | 0   | 0   | \n",
       "| 0   | 0   |   0 |   0 |   0 |   0 |   0 |   0 |   0 |   0 | ... |   0 |   0 |   0 |   0 | 0   | 0   | 0   | 0   | 0   | 0   | \n",
       "| 0   | 0   |   0 |   0 |   0 |   0 |   0 |   0 |   0 |   0 | ... |   0 |   0 |   0 |   0 | 0   | 0   | 0   | 0   | 0   | 0   | \n",
       "| 0   | 0   |   0 |   0 |   0 |   0 |   0 |   0 |   0 |   0 | ... |   0 |   0 |   0 |   0 | 0   | 0   | 0   | 0   | 0   | 0   | \n",
       "| 0   | 0   |   0 |   0 |   0 |   0 |   0 |   0 |   0 |   0 | ... |   0 |   0 |   0 |   0 | 0   | 0   | 0   | 0   | 0   | 0   | \n",
       "| 0   | 0   |   0 |   0 |   0 |   0 |   0 |   0 |   0 |   0 | ... |   0 |   0 |   0 |   0 | 0   | 0   | 0   | 0   | 0   | 0   | \n",
       "\n",
       "\n"
      ],
      "text/plain": [
       "      [,1] [,2] [,3] [,4] [,5] [,6] [,7] [,8] [,9] [,10] [,11] [,12] [,13]\n",
       " [1,] 0    0      0    0    0    0    0    0    0    0   ...     0     0  \n",
       " [2,] 0    0      0    0    0    0    0    0    0    0   ...     0     0  \n",
       " [3,] 0    0      0    0    0    0    0    0    0    0   ...     0     0  \n",
       " [4,] 0    0      0    0    0    0    0    0    0    0   ...     0     0  \n",
       " [5,] 0    0      0    0    0    0    0    0    0    0   ...     0     0  \n",
       " [6,] 0    0      0    0    0    0    0    0    0    0   ...     0     0  \n",
       " [7,] 0    0      0    0    0    0    0    0    0    0   ...   157    54  \n",
       " [8,] 0    0      0    0    0    0    0    0    0    0   ...   253   253  \n",
       " [9,] 0    0      0    0    0    0    0    0    0    0   ...   213   253  \n",
       "[10,] 0    0      0    0    0    0    0    0    0    0   ...    20    60  \n",
       "[11,] 0    0      0    0    0    0    0    0    0    0   ...     0     0  \n",
       "[12,] 0    0      0    0    0    0    0    0    0    0   ...     0     0  \n",
       "[13,] 0    0      0    0    0    0    0    0    0    0   ...     0     0  \n",
       "[14,] 0    0      0    0    0    0    0    0    0    0   ...     0     0  \n",
       "[15,] 0    0     76  133  117   13   13   13    3    0   ...     0     0  \n",
       "[16,] 0    0    253  253  253  253  253  253  166  145   ...     0     0  \n",
       "[17,] 0    0     96  107  217  224  253  253  253  253   ...     0     0  \n",
       "[18,] 0    0      0    0    0   16   84  176  205  223   ...    33    24  \n",
       "[19,] 0    0      0    0    0    0    0    0    0   28   ...   230   216  \n",
       "[20,] 0    0      0    0    0    0    0    0    0    0   ...   253   253  \n",
       "[21,] 0    0      0    0    0    0    0    0    0    0   ...    64    48  \n",
       "[22,] 0    0      0    0    0    0    0    0    0    0   ...    30     0  \n",
       "[23,] 0    0      0    0    0    0    0    0    0    0   ...     0     0  \n",
       "[24,] 0    0      0    0    0    0    0    0    0    0   ...     0     0  \n",
       "[25,] 0    0      0    0    0    0    0    0    0    0   ...     0     0  \n",
       "[26,] 0    0      0    0    0    0    0    0    0    0   ...     0     0  \n",
       "[27,] 0    0      0    0    0    0    0    0    0    0   ...     0     0  \n",
       "[28,] 0    0      0    0    0    0    0    0    0    0   ...     0     0  \n",
       "      [,14] [,15] [,16] [,17] [,18] [,19] [,20] [,21]\n",
       " [1,]   0     0   0     0     0     0     0     0    \n",
       " [2,]   0     0   0     0     0     0     0     0    \n",
       " [3,]   0     0   0     0     0     0     0     0    \n",
       " [4,]   0     0   0     0     0     0     0     0    \n",
       " [5,]   0     0   0     0     0     0     0     0    \n",
       " [6,]   0     0   0     0     0     0     0     0    \n",
       " [7,]   4     0   0     0     0     0     0     0    \n",
       " [8,] 127    26   0     0     0     0     0     0    \n",
       " [9,] 253   133   0     0     0     0     0     0    \n",
       "[10,]  60    32   0     0     0     0     0     0    \n",
       "[11,]   0     0   0     0     0     0     0     0    \n",
       "[12,]   0     0   0     0     0     0     0     0    \n",
       "[13,]   0     0   0     0     0     0     0     0    \n",
       "[14,]   0     0   0     0     0     0     0     0    \n",
       "[15,]   0     0   0     0     0     0     0     0    \n",
       "[16,]   0     0   0     0     0     0     0     0    \n",
       "[17,]   0     0   0     0     0     0     0     0    \n",
       "[18,]   0     0   0     0     0     0     0     0    \n",
       "[19,] 130    62   0     0     0     0     0     0    \n",
       "[20,] 253   220   0     0     0     0     0     0    \n",
       "[21,]  48    25   0     0     0     0     0     0    \n",
       "[22,]   0     0   0     0     0     0     0     0    \n",
       "[23,]   0     0   0     0     0     0     0     0    \n",
       "[24,]   0     0   0     0     0     0     0     0    \n",
       "[25,]   0     0   0     0     0     0     0     0    \n",
       "[26,]   0     0   0     0     0     0     0     0    \n",
       "[27,]   0     0   0     0     0     0     0     0    \n",
       "[28,]   0     0   0     0     0     0     0     0    "
      ]
     },
     "metadata": {},
     "output_type": "display_data"
    }
   ],
   "source": [
    "dig"
   ]
  },
  {
   "cell_type": "code",
   "execution_count": 8,
   "metadata": {},
   "outputs": [
    {
     "name": "stderr",
     "output_type": "stream",
     "text": [
      "Warning message in par(new = TRUE):\n",
      "\"chamada de par(new=TRUE) sem plot\""
     ]
    },
    {
     "data": {
      "image/png": "[encoded data removed]",
      "text/plain": [
       "plot without title"
      ]
     },
     "metadata": {},
     "output_type": "display_data",
     "source": "R display func"
    }
   ],
   "source": [
    "screen(1)\n",
    "image(dig, col=gray.colors(255))"
   ]
  },
  {
   "cell_type": "code",
   "execution_count": 9,
   "metadata": {},
   "outputs": [
    {
     "data": {
      "text/html": [
       "4"
      ],
      "text/latex": [
       "4"
      ],
      "text/markdown": [
       "4"
      ],
      "text/plain": [
       "[1] 4"
      ]
     },
     "metadata": {},
     "output_type": "display_data"
    }
   ],
   "source": [
    "digitos[20,785]"
   ]
  },
  {
   "cell_type": "code",
   "execution_count": 10,
   "metadata": {},
   "outputs": [
    {
     "name": "stderr",
     "output_type": "stream",
     "text": [
      "Warning message in par(new = TRUE):\n",
      "\"chamada de par(new=TRUE) sem plot\""
     ]
    },
    {
     "data": {
      "image/png": "[encoded data removed]",
      "text/plain": [
       "plot without title"
      ]
     },
     "metadata": {},
     "output_type": "display_data",
     "source": "R display func"
    }
   ],
   "source": [
    "screen (2)\n",
    "dig = t(matrix(unlist (digitos[2, -785]),nrow=28,byrow=F))\n",
    "dig = t(apply (dig, 2, rev))\n",
    "image(dig, col=gray.colors(255))"
   ]
  },
  {
   "cell_type": "code",
   "execution_count": 11,
   "metadata": {},
   "outputs": [
    {
     "name": "stderr",
     "output_type": "stream",
     "text": [
      "Warning message in par(new = TRUE):\n",
      "\"chamada de par(new=TRUE) sem plot\""
     ]
    },
    {
     "data": {
      "image/png": "[encoded data removed]",
      "text/plain": [
       "plot without title"
      ]
     },
     "metadata": {},
     "output_type": "display_data",
     "source": "R display func"
    }
   ],
   "source": [
    "screen (3)\n",
    "dig = t(matrix(unlist (digitos[4, -785]),nrow=28,byrow=F))\n",
    "dig = t(apply (dig, 2, rev))\n",
    "image(dig, col=gray.colors(255))"
   ]
  },
  {
   "cell_type": "code",
   "execution_count": null,
   "metadata": {},
   "outputs": [],
   "source": []
  },
  {
   "cell_type": "code",
   "execution_count": 12,
   "metadata": {},
   "outputs": [
    {
     "name": "stderr",
     "output_type": "stream",
     "text": [
      "Warning message in par(new = TRUE):\n",
      "\"chamada de par(new=TRUE) sem plot\""
     ]
    },
    {
     "data": {
      "image/png": "[encoded data removed]",
      "text/plain": [
       "plot without title"
      ]
     },
     "metadata": {},
     "output_type": "display_data",
     "source": "R display func"
    }
   ],
   "source": [
    "screen (4)\n",
    "dig = t(matrix(unlist (digitos[5, -785]),nrow=28,byrow=F))\n",
    "dig = t(apply (dig, 2, rev))\n",
    "image(dig, col=gray.colors(255))"
   ]
  },
  {
   "cell_type": "code",
   "execution_count": 18,
   "metadata": {},
   "outputs": [
    {
     "data": {
      "text/html": [
       "FALSE"
      ],
      "text/latex": [
       "FALSE"
      ],
      "text/markdown": [
       "FALSE"
      ],
      "text/plain": [
       "[1] FALSE"
      ]
     },
     "metadata": {},
     "output_type": "display_data"
    },
    {
     "data": {
      "text/html": [
       "FALSE"
      ],
      "text/latex": [
       "FALSE"
      ],
      "text/markdown": [
       "FALSE"
      ],
      "text/plain": [
       "[1] FALSE"
      ]
     },
     "metadata": {},
     "output_type": "display_data"
    },
    {
     "data": {
      "image/png": "[encoded data removed]",
      "text/plain": [
       "plot without title"
      ]
     },
     "metadata": {},
     "output_type": "display_data",
     "source": "R display func"
    },
    {
     "data": {
      "text/html": [
       "FALSE"
      ],
      "text/latex": [
       "FALSE"
      ],
      "text/markdown": [
       "FALSE"
      ],
      "text/plain": [
       "[1] FALSE"
      ]
     },
     "metadata": {},
     "output_type": "display_data"
    },
    {
     "data": {
      "image/png": "[encoded data removed]",
      "text/plain": [
       "plot without title"
      ]
     },
     "metadata": {},
     "output_type": "display_data",
     "source": "R display func"
    },
    {
     "data": {
      "text/html": [
       "FALSE"
      ],
      "text/latex": [
       "FALSE"
      ],
      "text/markdown": [
       "FALSE"
      ],
      "text/plain": [
       "[1] FALSE"
      ]
     },
     "metadata": {},
     "output_type": "display_data"
    },
    {
     "data": {
      "image/png": "[encoded data removed]",
      "text/plain": [
       "plot without title"
      ]
     },
     "metadata": {},
     "output_type": "display_data",
     "source": "R display func"
    },
    {
     "data": {
      "image/png": "[encoded data removed]",
      "text/plain": [
       "plot without title"
      ]
     },
     "metadata": {},
     "output_type": "display_data",
     "source": "R display func"
    }
   ],
   "source": [
    "#para mostrar as 4 imagens juntas\n",
    "#tela 1\n",
    "screen (1)\n",
    "dig1 = t(matrix(unlist (digitos[20, -785]),nrow=28,byrow=F))\n",
    "dig1 = t(apply (dig1, 2, rev))\n",
    "image(dig1, col=gray.colors(255))\n",
    "#tela 2\n",
    "screen (2)\n",
    "dig2 = t(matrix(unlist (digitos[2, -785]),nrow=28,byrow=F))\n",
    "dig2 = t(apply (dig2, 2, rev))\n",
    "image(dig2, col=gray.colors(255))\n",
    "#tela 3\n",
    "screen (3)\n",
    "dig3 = t(matrix(unlist (digitos[4, -785]),nrow=28,byrow=F))\n",
    "dig3 = t(apply (dig3, 2, rev))\n",
    "image(dig3, col=gray.colors(255))\n",
    "#tela 4\n",
    "screen (4)\n",
    "dig4 = t(matrix(unlist (digitos[5, -785]),nrow=28,byrow=F))\n",
    "dig4 = t(apply (dig4, 2, rev))\n",
    "image(dig4, col=gray.colors(255))"
   ]
  },
  {
   "cell_type": "code",
   "execution_count": 15,
   "metadata": {},
   "outputs": [],
   "source": [
    "close.screen(all=T)"
   ]
  },
  {
   "cell_type": "code",
   "execution_count": 16,
   "metadata": {},
   "outputs": [
    {
     "data": {
      "image/png": "[encoded data removed]",
      "text/plain": [
       "plot without title"
      ]
     },
     "metadata": {},
     "output_type": "display_data",
     "source": "R display func"
    }
   ],
   "source": [
    "image(dig, col=gray.colors(255))"
   ]
  },
  {
   "cell_type": "markdown",
   "metadata": {},
   "source": [
    "## Deep Learning com o comando H2O"
   ]
  },
  {
   "cell_type": "code",
   "execution_count": 19,
   "metadata": {},
   "outputs": [
    {
     "name": "stderr",
     "output_type": "stream",
     "text": [
      "Installing package into 'C:/Users/dmiyake/Documents/R/win-library/3.4'\n",
      "(as 'lib' is unspecified)\n"
     ]
    },
    {
     "name": "stdout",
     "output_type": "stream",
     "text": [
      "package 'h2o' successfully unpacked and MD5 sums checked\n",
      "\n",
      "The downloaded binary packages are in\n",
      "\tC:\\Users\\dmiyake\\AppData\\Local\\Temp\\RtmpkHjdSH\\downloaded_packages\n"
     ]
    }
   ],
   "source": [
    "install.packages(\"h2o\")"
   ]
  },
  {
   "cell_type": "code",
   "execution_count": 20,
   "metadata": {},
   "outputs": [
    {
     "name": "stderr",
     "output_type": "stream",
     "text": [
      "\n",
      "----------------------------------------------------------------------\n",
      "\n",
      "Your next step is to start H2O:\n",
      "    > h2o.init()\n",
      "\n",
      "For H2O package documentation, ask for help:\n",
      "    > ??h2o\n",
      "\n",
      "After starting H2O, you can use the Web UI at http://localhost:54321\n",
      "For more information visit http://docs.h2o.ai\n",
      "\n",
      "----------------------------------------------------------------------\n",
      "\n",
      "\n",
      "Attaching package: 'h2o'\n",
      "\n",
      "The following objects are masked from 'package:stats':\n",
      "\n",
      "    cor, sd, var\n",
      "\n",
      "The following objects are masked from 'package:base':\n",
      "\n",
      "    %*%, %in%, &&, ||, apply, as.factor, as.numeric, colnames,\n",
      "    colnames<-, ifelse, is.character, is.factor, is.numeric, log,\n",
      "    log10, log1p, log2, round, signif, trunc\n",
      "\n"
     ]
    }
   ],
   "source": [
    "library(h2o)"
   ]
  },
  {
   "cell_type": "code",
   "execution_count": 21,
   "metadata": {},
   "outputs": [
    {
     "name": "stdout",
     "output_type": "stream",
     "text": [
      "\n",
      "H2O is not running yet, starting it now...\n",
      "\n",
      "Note:  In case of errors look at the following log files:\n",
      "    C:\\Users\\dmiyake\\AppData\\Local\\Temp\\RtmpkHjdSH/h2o_dmiyake_started_from_r.out\n",
      "    C:\\Users\\dmiyake\\AppData\\Local\\Temp\\RtmpkHjdSH/h2o_dmiyake_started_from_r.err\n",
      "\n",
      "\n",
      "Starting H2O JVM and connecting: . Connection successful!\n",
      "\n",
      "R is connected to the H2O cluster: \n",
      "    H2O cluster uptime:         2 seconds 691 milliseconds \n",
      "    H2O cluster version:        3.10.5.3 \n",
      "    H2O cluster version age:    9 months and 18 days !!! \n",
      "    H2O cluster name:           H2O_started_from_R_dmiyake_iwv143 \n",
      "    H2O cluster total nodes:    1 \n",
      "    H2O cluster total memory:   1.77 GB \n",
      "    H2O cluster total cores:    4 \n",
      "    H2O cluster allowed cores:  4 \n",
      "    H2O cluster healthy:        TRUE \n",
      "    H2O Connection ip:          localhost \n",
      "    H2O Connection port:        54321 \n",
      "    H2O Connection proxy:       NA \n",
      "    H2O Internal Security:      FALSE \n",
      "    R Version:                  R version 3.4.3 (2017-11-30) \n"
     ]
    },
    {
     "name": "stderr",
     "output_type": "stream",
     "text": [
      "Warning message in h2o.clusterInfo():\n",
      "\"\n",
      "Your H2O cluster version is too old (9 months and 18 days)!\n",
      "Please download and install the latest version from http://h2o.ai/download/\""
     ]
    },
    {
     "name": "stdout",
     "output_type": "stream",
     "text": [
      "\n"
     ]
    }
   ],
   "source": [
    "#Além de carregar o pacote é necessário inicializar o pacote, \n",
    "#O pacote usa java, se der erros pode estar relacionado ao java\n",
    "h2o.init()"
   ]
  },
  {
   "cell_type": "code",
   "execution_count": 22,
   "metadata": {},
   "outputs": [
    {
     "name": "stdout",
     "output_type": "stream",
     "text": [
      "  |======================================================================| 100%\n"
     ]
    }
   ],
   "source": [
    "treino = h2o.importFile(file.choose()) #importação do pacote Train.csv.gz"
   ]
  },
  {
   "cell_type": "code",
   "execution_count": 23,
   "metadata": {},
   "outputs": [
    {
     "name": "stdout",
     "output_type": "stream",
     "text": [
      "  |======================================================================| 100%\n"
     ]
    }
   ],
   "source": [
    "teste = h2o.importFile(file.choose()) #importação do pacote Teste.csv.gz"
   ]
  },
  {
   "cell_type": "code",
   "execution_count": 24,
   "metadata": {},
   "outputs": [
    {
     "data": {
      "text/html": [
       "<ol class=list-inline>\n",
       "\t<li>10000</li>\n",
       "\t<li>785</li>\n",
       "</ol>\n"
      ],
      "text/latex": [
       "\\begin{enumerate*}\n",
       "\\item 10000\n",
       "\\item 785\n",
       "\\end{enumerate*}\n"
      ],
      "text/markdown": [
       "1. 10000\n",
       "2. 785\n",
       "\n",
       "\n"
      ],
      "text/plain": [
       "[1] 10000   785"
      ]
     },
     "metadata": {},
     "output_type": "display_data"
    }
   ],
   "source": [
    "dim(teste)"
   ]
  },
  {
   "cell_type": "code",
   "execution_count": 25,
   "metadata": {},
   "outputs": [
    {
     "data": {
      "text/html": [
       "<ol class=list-inline>\n",
       "\t<li>60000</li>\n",
       "\t<li>785</li>\n",
       "</ol>\n"
      ],
      "text/latex": [
       "\\begin{enumerate*}\n",
       "\\item 60000\n",
       "\\item 785\n",
       "\\end{enumerate*}\n"
      ],
      "text/markdown": [
       "1. 60000\n",
       "2. 785\n",
       "\n",
       "\n"
      ],
      "text/plain": [
       "[1] 60000   785"
      ]
     },
     "metadata": {},
     "output_type": "display_data"
    }
   ],
   "source": [
    "dim(treino)"
   ]
  },
  {
   "cell_type": "code",
   "execution_count": 26,
   "metadata": {},
   "outputs": [],
   "source": [
    "treino[,785] = as.factor(treino[,785]) # transformar a variavel em um fator"
   ]
  },
  {
   "cell_type": "code",
   "execution_count": 27,
   "metadata": {},
   "outputs": [],
   "source": [
    "teste[,785] = as.factor(teste[,785])"
   ]
  },
  {
   "cell_type": "markdown",
   "metadata": {},
   "source": [
    "### Hora de fazer o deep learning com o h2o"
   ]
  },
  {
   "cell_type": "code",
   "execution_count": 30,
   "metadata": {},
   "outputs": [
    {
     "name": "stderr",
     "output_type": "stream",
     "text": [
      "Warning message in .h2o.startModelJob(algo, params, h2oRestApiVersion):\n",
      "\"Dropping bad and constant columns: [C86, C85, C729, C728, C646, C645, C169, C760, C561, C53, C11, C55, C10, C54, C57, C12, C56, C58, C17, C19, C18, C731, C730, C20, C22, C21, C24, C23, C26, C25, C28, C27, C702, C701, C29, C700, C1, C2, C784, C3, C783, C4, C782, C5, C781, C6, C142, C7, C141, C8, C9, C31, C30, C32, C759, C758, C757, C756, C755, C477, C113, C674, C112, C673, C672, C84, C83].\n",
      "\""
     ]
    },
    {
     "name": "stdout",
     "output_type": "stream",
     "text": [
      "  |======================================================================| 100%\n"
     ]
    }
   ],
   "source": [
    "modelo = h2o.deeplearning(x = colnames(treino[,1:784]), y = \"C785\", \n",
    "                           training_frame=treino, validation_frame=teste, distribution=\"AUTO\", \n",
    "                          activation=\"RectifierWithDropout\", hidden = c(64,64,64), sparse=TRUE,\n",
    "                          epochs = 20)"
   ]
  },
  {
   "cell_type": "code",
   "execution_count": 31,
   "metadata": {},
   "outputs": [
    {
     "data": {
      "image/png": "[encoded data removed]",
      "text/plain": [
       "Plot with title \"Scoring History\""
      ]
     },
     "metadata": {},
     "output_type": "display_data",
     "source": "R display func"
    }
   ],
   "source": [
    "plot(modelo)"
   ]
  },
  {
   "cell_type": "code",
   "execution_count": 32,
   "metadata": {},
   "outputs": [
    {
     "data": {
      "text/plain": [
       "H2OMultinomialMetrics: deeplearning\n",
       "** Reported on training data. **\n",
       "** Metrics reported on temporary training frame with 9922 samples **\n",
       "\n",
       "Training Set Metrics: \n",
       "=====================\n",
       "\n",
       "MSE: (Extract with `h2o.mse`) 0.03885591\n",
       "RMSE: (Extract with `h2o.rmse`) 0.197119\n",
       "Logloss: (Extract with `h2o.logloss`) 0.1433548\n",
       "Mean Per-Class Error: 0.04097699\n",
       "Confusion Matrix: Extract with `h2o.confusionMatrix(<model>,train = TRUE)`)\n",
       "=========================================================================\n",
       "Confusion Matrix: Row labels: Actual class; Column labels: Predicted class\n",
       "         0    1   2    3   4   5   6   7    8    9  Error          Rate\n",
       "0      949    0   1    0   1   3   2   1    9    0 0.0176 =    17 / 966\n",
       "1        0 1106  11    1   2   3   0   2   22    3 0.0383 =  44 / 1.150\n",
       "2        1    0 931    5   2   2   4   8   10    1 0.0342 =    33 / 964\n",
       "3        0    0  19  986   0  20   0   7   14    5 0.0618 =  65 / 1.051\n",
       "4        2    0   1    0 900   3  10   1    5   60 0.0835 =    82 / 982\n",
       "5        3    0   1   11   1 858   2   0   11    2 0.0349 =    31 / 889\n",
       "6        5    0   0    0   2   6 969   0   13    0 0.0261 =    26 / 995\n",
       "7        1    0  11    2   1   0   0 969    2   26 0.0425 =  43 / 1.012\n",
       "8        1    3   1    0   1   7   1   1  928    5 0.0211 =    20 / 948\n",
       "9        3    0   1    6  10   7   0   9   12  917 0.0497 =    48 / 965\n",
       "Totals 965 1109 977 1011 920 909 988 998 1026 1019 0.0412 = 409 / 9.922\n",
       "\n",
       "Hit Ratio Table: Extract with `h2o.hit_ratio_table(<model>,train = TRUE)`\n",
       "=======================================================================\n",
       "Top-10 Hit Ratios: \n",
       "    k hit_ratio\n",
       "1   1  0.958778\n",
       "2   2  0.984378\n",
       "3   3  0.992441\n",
       "4   4  0.995465\n",
       "5   5  0.997380\n",
       "6   6  0.998891\n",
       "7   7  0.999093\n",
       "8   8  0.999597\n",
       "9   9  0.999899\n",
       "10 10  1.000000\n"
      ]
     },
     "metadata": {},
     "output_type": "display_data"
    }
   ],
   "source": [
    "h2o.performance(modelo)"
   ]
  },
  {
   "cell_type": "markdown",
   "metadata": {},
   "source": [
    "O valor de erro foi pequeno 4% poderia ser menor, mas para isso os parâmetros aumentados e \n",
    "o processametno do hardware deveria ser maior."
   ]
  },
  {
   "cell_type": "code",
   "execution_count": 33,
   "metadata": {},
   "outputs": [
    {
     "data": {
      "text/html": [
       "4"
      ],
      "text/latex": [
       "4"
      ],
      "text/markdown": [
       "4"
      ],
      "text/plain": [
       "[1] 4\n",
       "Levels: 0 1 2 3 4 5 6 7 8 9"
      ]
     },
     "metadata": {},
     "output_type": "display_data"
    }
   ],
   "source": [
    "treino[20,785] #Verificação da linha 20"
   ]
  },
  {
   "cell_type": "code",
   "execution_count": 34,
   "metadata": {},
   "outputs": [
    {
     "name": "stdout",
     "output_type": "stream",
     "text": [
      "  |======================================================================| 100%\n"
     ]
    }
   ],
   "source": [
    "pred = h2o.predict(modelo, newdata=treino[20,1:784]) #verificação da predição da mesma"
   ]
  },
  {
   "cell_type": "code",
   "execution_count": 35,
   "metadata": {},
   "outputs": [
    {
     "data": {
      "text/plain": [
       "  predict\n",
       "1       4\n",
       "\n",
       "[1 row x 1 column] "
      ]
     },
     "metadata": {},
     "output_type": "display_data"
    }
   ],
   "source": [
    "pred$predict"
   ]
  },
  {
   "cell_type": "markdown",
   "metadata": {},
   "source": [
    "### FIM"
   ]
  }
 ],
 "metadata": {
  "kernelspec": {
   "display_name": "R",
   "language": "R",
   "name": "ir"
  },
  "language_info": {
   "codemirror_mode": "r",
   "file_extension": ".r",
   "mimetype": "text/x-r-source",
   "name": "R",
   "pygments_lexer": "r",
   "version": "3.4.3"
  }
 },
 "nbformat": 4,
 "nbformat_minor": 2
}
