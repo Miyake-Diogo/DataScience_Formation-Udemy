{
 "cells": [
  {
   "cell_type": "markdown",
   "metadata": {},
   "source": [
    "# Machine Learning - Formação Cientista de dados\n",
    "### Métodos de agrupamento Kmeans, Fuzzy C-means e Kmedoids\n",
    "Utilização das técnicas de agrupamento."
   ]
  },
  {
   "cell_type": "code",
   "execution_count": 1,
   "metadata": {},
   "outputs": [
    {
     "data": {
      "text/html": [
       "<ol class=list-inline>\n",
       "\t<li>150</li>\n",
       "\t<li>5</li>\n",
       "</ol>\n"
      ],
      "text/latex": [
       "\\begin{enumerate*}\n",
       "\\item 150\n",
       "\\item 5\n",
       "\\end{enumerate*}\n"
      ],
      "text/markdown": [
       "1. 150\n",
       "2. 5\n",
       "\n",
       "\n"
      ],
      "text/plain": [
       "[1] 150   5"
      ]
     },
     "metadata": {},
     "output_type": "display_data"
    }
   ],
   "source": [
    "#Será utilizado o dataset iris\n",
    "dim(iris)"
   ]
  },
  {
   "cell_type": "code",
   "execution_count": 2,
   "metadata": {},
   "outputs": [
    {
     "data": {
      "text/html": [
       "<table>\n",
       "<thead><tr><th scope=col>Sepal.Length</th><th scope=col>Sepal.Width</th><th scope=col>Petal.Length</th><th scope=col>Petal.Width</th><th scope=col>Species</th></tr></thead>\n",
       "<tbody>\n",
       "\t<tr><td>5.1   </td><td>3.5   </td><td>1.4   </td><td>0.2   </td><td>setosa</td></tr>\n",
       "\t<tr><td>4.9   </td><td>3.0   </td><td>1.4   </td><td>0.2   </td><td>setosa</td></tr>\n",
       "\t<tr><td>4.7   </td><td>3.2   </td><td>1.3   </td><td>0.2   </td><td>setosa</td></tr>\n",
       "\t<tr><td>4.6   </td><td>3.1   </td><td>1.5   </td><td>0.2   </td><td>setosa</td></tr>\n",
       "\t<tr><td>5.0   </td><td>3.6   </td><td>1.4   </td><td>0.2   </td><td>setosa</td></tr>\n",
       "\t<tr><td>5.4   </td><td>3.9   </td><td>1.7   </td><td>0.4   </td><td>setosa</td></tr>\n",
       "</tbody>\n",
       "</table>\n"
      ],
      "text/latex": [
       "\\begin{tabular}{r|lllll}\n",
       " Sepal.Length & Sepal.Width & Petal.Length & Petal.Width & Species\\\\\n",
       "\\hline\n",
       "\t 5.1    & 3.5    & 1.4    & 0.2    & setosa\\\\\n",
       "\t 4.9    & 3.0    & 1.4    & 0.2    & setosa\\\\\n",
       "\t 4.7    & 3.2    & 1.3    & 0.2    & setosa\\\\\n",
       "\t 4.6    & 3.1    & 1.5    & 0.2    & setosa\\\\\n",
       "\t 5.0    & 3.6    & 1.4    & 0.2    & setosa\\\\\n",
       "\t 5.4    & 3.9    & 1.7    & 0.4    & setosa\\\\\n",
       "\\end{tabular}\n"
      ],
      "text/markdown": [
       "\n",
       "Sepal.Length | Sepal.Width | Petal.Length | Petal.Width | Species | \n",
       "|---|---|---|---|---|---|\n",
       "| 5.1    | 3.5    | 1.4    | 0.2    | setosa | \n",
       "| 4.9    | 3.0    | 1.4    | 0.2    | setosa | \n",
       "| 4.7    | 3.2    | 1.3    | 0.2    | setosa | \n",
       "| 4.6    | 3.1    | 1.5    | 0.2    | setosa | \n",
       "| 5.0    | 3.6    | 1.4    | 0.2    | setosa | \n",
       "| 5.4    | 3.9    | 1.7    | 0.4    | setosa | \n",
       "\n",
       "\n"
      ],
      "text/plain": [
       "  Sepal.Length Sepal.Width Petal.Length Petal.Width Species\n",
       "1 5.1          3.5         1.4          0.2         setosa \n",
       "2 4.9          3.0         1.4          0.2         setosa \n",
       "3 4.7          3.2         1.3          0.2         setosa \n",
       "4 4.6          3.1         1.5          0.2         setosa \n",
       "5 5.0          3.6         1.4          0.2         setosa \n",
       "6 5.4          3.9         1.7          0.4         setosa "
      ]
     },
     "metadata": {},
     "output_type": "display_data"
    }
   ],
   "source": [
    "head(iris)"
   ]
  },
  {
   "cell_type": "code",
   "execution_count": 3,
   "metadata": {},
   "outputs": [
    {
     "data": {
      "text/plain": [
       "  Sepal.Length    Sepal.Width     Petal.Length    Petal.Width   \n",
       " Min.   :4.300   Min.   :2.000   Min.   :1.000   Min.   :0.100  \n",
       " 1st Qu.:5.100   1st Qu.:2.800   1st Qu.:1.600   1st Qu.:0.300  \n",
       " Median :5.800   Median :3.000   Median :4.350   Median :1.300  \n",
       " Mean   :5.843   Mean   :3.057   Mean   :3.758   Mean   :1.199  \n",
       " 3rd Qu.:6.400   3rd Qu.:3.300   3rd Qu.:5.100   3rd Qu.:1.800  \n",
       " Max.   :7.900   Max.   :4.400   Max.   :6.900   Max.   :2.500  \n",
       "       Species  \n",
       " setosa    :50  \n",
       " versicolor:50  \n",
       " virginica :50  \n",
       "                \n",
       "                \n",
       "                "
      ]
     },
     "metadata": {},
     "output_type": "display_data"
    }
   ],
   "source": [
    "summary(iris)"
   ]
  },
  {
   "cell_type": "markdown",
   "metadata": {},
   "source": [
    "### Kmeans"
   ]
  },
  {
   "cell_type": "code",
   "execution_count": 26,
   "metadata": {},
   "outputs": [],
   "source": [
    "#Finds a number of k-means clusting solutions using R's kmeans function, \n",
    "#and selects as the final solution the one that has the minimum total within-cluster sum of squared distances."
   ]
  },
  {
   "cell_type": "code",
   "execution_count": 5,
   "metadata": {},
   "outputs": [],
   "source": [
    "cluster = kmeans(iris[1:4], center=3) #criação da variavel cluster sendo atribuída a ela a função kmeans com centro igual a 3"
   ]
  },
  {
   "cell_type": "code",
   "execution_count": 6,
   "metadata": {},
   "outputs": [
    {
     "data": {
      "text/plain": [
       "K-means clustering with 3 clusters of sizes 50, 62, 38\n",
       "\n",
       "Cluster means:\n",
       "  Sepal.Length Sepal.Width Petal.Length Petal.Width\n",
       "1     5.006000    3.428000     1.462000    0.246000\n",
       "2     5.901613    2.748387     4.393548    1.433871\n",
       "3     6.850000    3.073684     5.742105    2.071053\n",
       "\n",
       "Clustering vector:\n",
       "  [1] 1 1 1 1 1 1 1 1 1 1 1 1 1 1 1 1 1 1 1 1 1 1 1 1 1 1 1 1 1 1 1 1 1 1 1 1 1\n",
       " [38] 1 1 1 1 1 1 1 1 1 1 1 1 1 2 2 3 2 2 2 2 2 2 2 2 2 2 2 2 2 2 2 2 2 2 2 2 2\n",
       " [75] 2 2 2 3 2 2 2 2 2 2 2 2 2 2 2 2 2 2 2 2 2 2 2 2 2 2 3 2 3 3 3 3 2 3 3 3 3\n",
       "[112] 3 3 2 2 3 3 3 3 2 3 2 3 2 3 3 2 2 3 3 3 3 3 2 3 3 3 3 2 3 3 3 2 3 3 3 2 3\n",
       "[149] 3 2\n",
       "\n",
       "Within cluster sum of squares by cluster:\n",
       "[1] 15.15100 39.82097 23.87947\n",
       " (between_SS / total_SS =  88.4 %)\n",
       "\n",
       "Available components:\n",
       "\n",
       "[1] \"cluster\"      \"centers\"      \"totss\"        \"withinss\"     \"tot.withinss\"\n",
       "[6] \"betweenss\"    \"size\"         \"iter\"         \"ifault\"      "
      ]
     },
     "metadata": {},
     "output_type": "display_data"
    }
   ],
   "source": [
    "cluster"
   ]
  },
  {
   "cell_type": "code",
   "execution_count": 7,
   "metadata": {},
   "outputs": [
    {
     "data": {
      "text/plain": [
       "            \n",
       "              1  2  3\n",
       "  setosa     50  0  0\n",
       "  versicolor  0 48  2\n",
       "  virginica   0 14 36"
      ]
     },
     "metadata": {},
     "output_type": "display_data"
    }
   ],
   "source": [
    "table(iris$Species, cluster$cluster) # tabela das espécies da iris com o cluster da cariavel cluster"
   ]
  },
  {
   "cell_type": "code",
   "execution_count": 9,
   "metadata": {},
   "outputs": [
    {
     "data": {
      "text/html": [
       "<ol class=list-inline>\n",
       "\t<li>1</li>\n",
       "\t<li>1</li>\n",
       "\t<li>1</li>\n",
       "\t<li>1</li>\n",
       "\t<li>1</li>\n",
       "\t<li>1</li>\n",
       "\t<li>1</li>\n",
       "\t<li>1</li>\n",
       "\t<li>1</li>\n",
       "\t<li>1</li>\n",
       "\t<li>1</li>\n",
       "\t<li>1</li>\n",
       "\t<li>1</li>\n",
       "\t<li>1</li>\n",
       "\t<li>1</li>\n",
       "\t<li>1</li>\n",
       "\t<li>1</li>\n",
       "\t<li>1</li>\n",
       "\t<li>1</li>\n",
       "\t<li>1</li>\n",
       "\t<li>1</li>\n",
       "\t<li>1</li>\n",
       "\t<li>1</li>\n",
       "\t<li>1</li>\n",
       "\t<li>1</li>\n",
       "\t<li>1</li>\n",
       "\t<li>1</li>\n",
       "\t<li>1</li>\n",
       "\t<li>1</li>\n",
       "\t<li>1</li>\n",
       "\t<li>1</li>\n",
       "\t<li>1</li>\n",
       "\t<li>1</li>\n",
       "\t<li>1</li>\n",
       "\t<li>1</li>\n",
       "\t<li>1</li>\n",
       "\t<li>1</li>\n",
       "\t<li>1</li>\n",
       "\t<li>1</li>\n",
       "\t<li>1</li>\n",
       "\t<li>1</li>\n",
       "\t<li>1</li>\n",
       "\t<li>1</li>\n",
       "\t<li>1</li>\n",
       "\t<li>1</li>\n",
       "\t<li>1</li>\n",
       "\t<li>1</li>\n",
       "\t<li>1</li>\n",
       "\t<li>1</li>\n",
       "\t<li>1</li>\n",
       "\t<li>2</li>\n",
       "\t<li>2</li>\n",
       "\t<li>3</li>\n",
       "\t<li>2</li>\n",
       "\t<li>2</li>\n",
       "\t<li>2</li>\n",
       "\t<li>2</li>\n",
       "\t<li>2</li>\n",
       "\t<li>2</li>\n",
       "\t<li>2</li>\n",
       "\t<li>2</li>\n",
       "\t<li>2</li>\n",
       "\t<li>2</li>\n",
       "\t<li>2</li>\n",
       "\t<li>2</li>\n",
       "\t<li>2</li>\n",
       "\t<li>2</li>\n",
       "\t<li>2</li>\n",
       "\t<li>2</li>\n",
       "\t<li>2</li>\n",
       "\t<li>2</li>\n",
       "\t<li>2</li>\n",
       "\t<li>2</li>\n",
       "\t<li>2</li>\n",
       "\t<li>2</li>\n",
       "\t<li>2</li>\n",
       "\t<li>2</li>\n",
       "\t<li>3</li>\n",
       "\t<li>2</li>\n",
       "\t<li>2</li>\n",
       "\t<li>2</li>\n",
       "\t<li>2</li>\n",
       "\t<li>2</li>\n",
       "\t<li>2</li>\n",
       "\t<li>2</li>\n",
       "\t<li>2</li>\n",
       "\t<li>2</li>\n",
       "\t<li>2</li>\n",
       "\t<li>2</li>\n",
       "\t<li>2</li>\n",
       "\t<li>2</li>\n",
       "\t<li>2</li>\n",
       "\t<li>2</li>\n",
       "\t<li>2</li>\n",
       "\t<li>2</li>\n",
       "\t<li>2</li>\n",
       "\t<li>2</li>\n",
       "\t<li>2</li>\n",
       "\t<li>2</li>\n",
       "\t<li>2</li>\n",
       "\t<li>3</li>\n",
       "\t<li>2</li>\n",
       "\t<li>3</li>\n",
       "\t<li>3</li>\n",
       "\t<li>3</li>\n",
       "\t<li>3</li>\n",
       "\t<li>2</li>\n",
       "\t<li>3</li>\n",
       "\t<li>3</li>\n",
       "\t<li>3</li>\n",
       "\t<li>3</li>\n",
       "\t<li>3</li>\n",
       "\t<li>3</li>\n",
       "\t<li>2</li>\n",
       "\t<li>2</li>\n",
       "\t<li>3</li>\n",
       "\t<li>3</li>\n",
       "\t<li>3</li>\n",
       "\t<li>3</li>\n",
       "\t<li>2</li>\n",
       "\t<li>3</li>\n",
       "\t<li>2</li>\n",
       "\t<li>3</li>\n",
       "\t<li>2</li>\n",
       "\t<li>3</li>\n",
       "\t<li>3</li>\n",
       "\t<li>2</li>\n",
       "\t<li>2</li>\n",
       "\t<li>3</li>\n",
       "\t<li>3</li>\n",
       "\t<li>3</li>\n",
       "\t<li>3</li>\n",
       "\t<li>3</li>\n",
       "\t<li>2</li>\n",
       "\t<li>3</li>\n",
       "\t<li>3</li>\n",
       "\t<li>3</li>\n",
       "\t<li>3</li>\n",
       "\t<li>2</li>\n",
       "\t<li>3</li>\n",
       "\t<li>3</li>\n",
       "\t<li>3</li>\n",
       "\t<li>2</li>\n",
       "\t<li>3</li>\n",
       "\t<li>3</li>\n",
       "\t<li>3</li>\n",
       "\t<li>2</li>\n",
       "\t<li>3</li>\n",
       "\t<li>3</li>\n",
       "\t<li>2</li>\n",
       "</ol>\n"
      ],
      "text/latex": [
       "\\begin{enumerate*}\n",
       "\\item 1\n",
       "\\item 1\n",
       "\\item 1\n",
       "\\item 1\n",
       "\\item 1\n",
       "\\item 1\n",
       "\\item 1\n",
       "\\item 1\n",
       "\\item 1\n",
       "\\item 1\n",
       "\\item 1\n",
       "\\item 1\n",
       "\\item 1\n",
       "\\item 1\n",
       "\\item 1\n",
       "\\item 1\n",
       "\\item 1\n",
       "\\item 1\n",
       "\\item 1\n",
       "\\item 1\n",
       "\\item 1\n",
       "\\item 1\n",
       "\\item 1\n",
       "\\item 1\n",
       "\\item 1\n",
       "\\item 1\n",
       "\\item 1\n",
       "\\item 1\n",
       "\\item 1\n",
       "\\item 1\n",
       "\\item 1\n",
       "\\item 1\n",
       "\\item 1\n",
       "\\item 1\n",
       "\\item 1\n",
       "\\item 1\n",
       "\\item 1\n",
       "\\item 1\n",
       "\\item 1\n",
       "\\item 1\n",
       "\\item 1\n",
       "\\item 1\n",
       "\\item 1\n",
       "\\item 1\n",
       "\\item 1\n",
       "\\item 1\n",
       "\\item 1\n",
       "\\item 1\n",
       "\\item 1\n",
       "\\item 1\n",
       "\\item 2\n",
       "\\item 2\n",
       "\\item 3\n",
       "\\item 2\n",
       "\\item 2\n",
       "\\item 2\n",
       "\\item 2\n",
       "\\item 2\n",
       "\\item 2\n",
       "\\item 2\n",
       "\\item 2\n",
       "\\item 2\n",
       "\\item 2\n",
       "\\item 2\n",
       "\\item 2\n",
       "\\item 2\n",
       "\\item 2\n",
       "\\item 2\n",
       "\\item 2\n",
       "\\item 2\n",
       "\\item 2\n",
       "\\item 2\n",
       "\\item 2\n",
       "\\item 2\n",
       "\\item 2\n",
       "\\item 2\n",
       "\\item 2\n",
       "\\item 3\n",
       "\\item 2\n",
       "\\item 2\n",
       "\\item 2\n",
       "\\item 2\n",
       "\\item 2\n",
       "\\item 2\n",
       "\\item 2\n",
       "\\item 2\n",
       "\\item 2\n",
       "\\item 2\n",
       "\\item 2\n",
       "\\item 2\n",
       "\\item 2\n",
       "\\item 2\n",
       "\\item 2\n",
       "\\item 2\n",
       "\\item 2\n",
       "\\item 2\n",
       "\\item 2\n",
       "\\item 2\n",
       "\\item 2\n",
       "\\item 2\n",
       "\\item 3\n",
       "\\item 2\n",
       "\\item 3\n",
       "\\item 3\n",
       "\\item 3\n",
       "\\item 3\n",
       "\\item 2\n",
       "\\item 3\n",
       "\\item 3\n",
       "\\item 3\n",
       "\\item 3\n",
       "\\item 3\n",
       "\\item 3\n",
       "\\item 2\n",
       "\\item 2\n",
       "\\item 3\n",
       "\\item 3\n",
       "\\item 3\n",
       "\\item 3\n",
       "\\item 2\n",
       "\\item 3\n",
       "\\item 2\n",
       "\\item 3\n",
       "\\item 2\n",
       "\\item 3\n",
       "\\item 3\n",
       "\\item 2\n",
       "\\item 2\n",
       "\\item 3\n",
       "\\item 3\n",
       "\\item 3\n",
       "\\item 3\n",
       "\\item 3\n",
       "\\item 2\n",
       "\\item 3\n",
       "\\item 3\n",
       "\\item 3\n",
       "\\item 3\n",
       "\\item 2\n",
       "\\item 3\n",
       "\\item 3\n",
       "\\item 3\n",
       "\\item 2\n",
       "\\item 3\n",
       "\\item 3\n",
       "\\item 3\n",
       "\\item 2\n",
       "\\item 3\n",
       "\\item 3\n",
       "\\item 2\n",
       "\\end{enumerate*}\n"
      ],
      "text/markdown": [
       "1. 1\n",
       "2. 1\n",
       "3. 1\n",
       "4. 1\n",
       "5. 1\n",
       "6. 1\n",
       "7. 1\n",
       "8. 1\n",
       "9. 1\n",
       "10. 1\n",
       "11. 1\n",
       "12. 1\n",
       "13. 1\n",
       "14. 1\n",
       "15. 1\n",
       "16. 1\n",
       "17. 1\n",
       "18. 1\n",
       "19. 1\n",
       "20. 1\n",
       "21. 1\n",
       "22. 1\n",
       "23. 1\n",
       "24. 1\n",
       "25. 1\n",
       "26. 1\n",
       "27. 1\n",
       "28. 1\n",
       "29. 1\n",
       "30. 1\n",
       "31. 1\n",
       "32. 1\n",
       "33. 1\n",
       "34. 1\n",
       "35. 1\n",
       "36. 1\n",
       "37. 1\n",
       "38. 1\n",
       "39. 1\n",
       "40. 1\n",
       "41. 1\n",
       "42. 1\n",
       "43. 1\n",
       "44. 1\n",
       "45. 1\n",
       "46. 1\n",
       "47. 1\n",
       "48. 1\n",
       "49. 1\n",
       "50. 1\n",
       "51. 2\n",
       "52. 2\n",
       "53. 3\n",
       "54. 2\n",
       "55. 2\n",
       "56. 2\n",
       "57. 2\n",
       "58. 2\n",
       "59. 2\n",
       "60. 2\n",
       "61. 2\n",
       "62. 2\n",
       "63. 2\n",
       "64. 2\n",
       "65. 2\n",
       "66. 2\n",
       "67. 2\n",
       "68. 2\n",
       "69. 2\n",
       "70. 2\n",
       "71. 2\n",
       "72. 2\n",
       "73. 2\n",
       "74. 2\n",
       "75. 2\n",
       "76. 2\n",
       "77. 2\n",
       "78. 3\n",
       "79. 2\n",
       "80. 2\n",
       "81. 2\n",
       "82. 2\n",
       "83. 2\n",
       "84. 2\n",
       "85. 2\n",
       "86. 2\n",
       "87. 2\n",
       "88. 2\n",
       "89. 2\n",
       "90. 2\n",
       "91. 2\n",
       "92. 2\n",
       "93. 2\n",
       "94. 2\n",
       "95. 2\n",
       "96. 2\n",
       "97. 2\n",
       "98. 2\n",
       "99. 2\n",
       "100. 2\n",
       "101. 3\n",
       "102. 2\n",
       "103. 3\n",
       "104. 3\n",
       "105. 3\n",
       "106. 3\n",
       "107. 2\n",
       "108. 3\n",
       "109. 3\n",
       "110. 3\n",
       "111. 3\n",
       "112. 3\n",
       "113. 3\n",
       "114. 2\n",
       "115. 2\n",
       "116. 3\n",
       "117. 3\n",
       "118. 3\n",
       "119. 3\n",
       "120. 2\n",
       "121. 3\n",
       "122. 2\n",
       "123. 3\n",
       "124. 2\n",
       "125. 3\n",
       "126. 3\n",
       "127. 2\n",
       "128. 2\n",
       "129. 3\n",
       "130. 3\n",
       "131. 3\n",
       "132. 3\n",
       "133. 3\n",
       "134. 2\n",
       "135. 3\n",
       "136. 3\n",
       "137. 3\n",
       "138. 3\n",
       "139. 2\n",
       "140. 3\n",
       "141. 3\n",
       "142. 3\n",
       "143. 2\n",
       "144. 3\n",
       "145. 3\n",
       "146. 3\n",
       "147. 2\n",
       "148. 3\n",
       "149. 3\n",
       "150. 2\n",
       "\n",
       "\n"
      ],
      "text/plain": [
       "  [1] 1 1 1 1 1 1 1 1 1 1 1 1 1 1 1 1 1 1 1 1 1 1 1 1 1 1 1 1 1 1 1 1 1 1 1 1 1\n",
       " [38] 1 1 1 1 1 1 1 1 1 1 1 1 1 2 2 3 2 2 2 2 2 2 2 2 2 2 2 2 2 2 2 2 2 2 2 2 2\n",
       " [75] 2 2 2 3 2 2 2 2 2 2 2 2 2 2 2 2 2 2 2 2 2 2 2 2 2 2 3 2 3 3 3 3 2 3 3 3 3\n",
       "[112] 3 3 2 2 3 3 3 3 2 3 2 3 2 3 3 2 2 3 3 3 3 3 2 3 3 3 3 2 3 3 3 2 3 3 3 2 3\n",
       "[149] 3 2"
      ]
     },
     "metadata": {},
     "output_type": "display_data"
    }
   ],
   "source": [
    "cluster$cluster"
   ]
  },
  {
   "cell_type": "code",
   "execution_count": 10,
   "metadata": {},
   "outputs": [
    {
     "data": {
      "image/png": "[encoded data removed]",
      "text/plain": [
       "plot without title"
      ]
     },
     "metadata": {},
     "output_type": "display_data",
     "source": "R display func"
    }
   ],
   "source": [
    "plot(iris[,1:4], col=cluster$cluster)"
   ]
  },
  {
   "cell_type": "code",
   "execution_count": 11,
   "metadata": {},
   "outputs": [
    {
     "data": {
      "text/plain": [
       "            \n",
       "              1  2  3\n",
       "  setosa     50  0  0\n",
       "  versicolor  0 48  2\n",
       "  virginica   0 14 36"
      ]
     },
     "metadata": {},
     "output_type": "display_data"
    }
   ],
   "source": [
    "table(iris$Species, cluster$cluster)"
   ]
  },
  {
   "cell_type": "markdown",
   "metadata": {},
   "source": [
    "### FUZZY C-Means"
   ]
  },
  {
   "cell_type": "code",
   "execution_count": 27,
   "metadata": {},
   "outputs": [],
   "source": [
    "#The fuzzy version of the known kmeans clustering algorithm as well as an on-line variant \n",
    "#(Unsupervised Fuzzy Competitive learning)."
   ]
  },
  {
   "cell_type": "code",
   "execution_count": 12,
   "metadata": {},
   "outputs": [],
   "source": [
    "library(e1071)"
   ]
  },
  {
   "cell_type": "code",
   "execution_count": 13,
   "metadata": {},
   "outputs": [],
   "source": [
    "cluster = cmeans(iris[,1:4], center=3)"
   ]
  },
  {
   "cell_type": "code",
   "execution_count": 14,
   "metadata": {},
   "outputs": [
    {
     "data": {
      "text/plain": [
       "Fuzzy c-means clustering with 3 clusters\n",
       "\n",
       "Cluster centers:\n",
       "  Sepal.Length Sepal.Width Petal.Length Petal.Width\n",
       "1     5.003966    3.414093     1.482809   0.2535435\n",
       "2     5.888853    2.761041     4.363836   1.3972554\n",
       "3     6.774916    3.052354     5.646663   2.0535006\n",
       "\n",
       "Memberships:\n",
       "                 1            2            3\n",
       "  [1,] 0.996623594 0.0023043889 0.0010720175\n",
       "  [2,] 0.975850463 0.0166510703 0.0074984667\n",
       "  [3,] 0.979824567 0.0137605190 0.0064149141\n",
       "  [4,] 0.967424690 0.0224671042 0.0101082057\n",
       "  [5,] 0.994470306 0.0037617653 0.0017679283\n",
       "  [6,] 0.934569661 0.0448094942 0.0206208450\n",
       "  [7,] 0.979490260 0.0140048697 0.0065048707\n",
       "  [8,] 0.999547225 0.0003115606 0.0001412145\n",
       "  [9,] 0.930374539 0.0477217540 0.0219037072\n",
       " [10,] 0.982721393 0.0119366514 0.0053419556\n",
       " [11,] 0.968040373 0.0217581824 0.0102014447\n",
       " [12,] 0.992136380 0.0054323607 0.0024312594\n",
       " [13,] 0.970637791 0.0201844521 0.0091777566\n",
       " [14,] 0.922965124 0.0517976715 0.0252372044\n",
       " [15,] 0.889753827 0.0726129759 0.0376331970\n",
       " [16,] 0.841337745 0.1043540268 0.0543082279\n",
       " [17,] 0.946922598 0.0355810732 0.0174963291\n",
       " [18,] 0.996652665 0.0022885410 0.0010587942\n",
       " [19,] 0.904129126 0.0655612536 0.0303096205\n",
       " [20,] 0.979187909 0.0141581610 0.0066539302\n",
       " [21,] 0.968601636 0.0218573926 0.0095409711\n",
       " [22,] 0.984831987 0.0103739133 0.0047940998\n",
       " [23,] 0.958656096 0.0275105826 0.0138333216\n",
       " [24,] 0.979424954 0.0144629706 0.0061120753\n",
       " [25,] 0.966915826 0.0232452045 0.0098389693\n",
       " [26,] 0.973565357 0.0184605528 0.0079740907\n",
       " [27,] 0.994844734 0.0035818112 0.0015734552\n",
       " [28,] 0.993347841 0.0045653295 0.0020868296\n",
       " [29,] 0.993675649 0.0043283046 0.0019960465\n",
       " [30,] 0.979514329 0.0142026488 0.0062830218\n",
       " [31,] 0.978725685 0.0148003715 0.0064739436\n",
       " [32,] 0.974362473 0.0176975946 0.0079399327\n",
       " [33,] 0.938517667 0.0411474066 0.0203349259\n",
       " [34,] 0.904165833 0.0634846257 0.0323495416\n",
       " [35,] 0.985063895 0.0103417676 0.0045943378\n",
       " [36,] 0.984992805 0.0102018104 0.0048053842\n",
       " [37,] 0.964182557 0.0242528701 0.0115645728\n",
       " [38,] 0.990890703 0.0061826947 0.0029266025\n",
       " [39,] 0.939680011 0.0410864626 0.0192335259\n",
       " [40,] 0.998288906 0.0011778194 0.0005332748\n",
       " [41,] 0.994727710 0.0035839654 0.0016883245\n",
       " [42,] 0.850725269 0.1022779698 0.0469967616\n",
       " [43,] 0.952612240 0.0321785994 0.0152091602\n",
       " [44,] 0.979286128 0.0143839790 0.0063298933\n",
       " [45,] 0.945266849 0.0381314961 0.0166016547\n",
       " [46,] 0.972144037 0.0192239301 0.0086320330\n",
       " [47,] 0.976791687 0.0158430462 0.0073652668\n",
       " [48,] 0.974219026 0.0176537711 0.0081272025\n",
       " [49,] 0.977219082 0.0155210565 0.0072598615\n",
       " [50,] 0.997072342 0.0020083160 0.0009193420\n",
       " [51,] 0.044574986 0.4541769104 0.5012481040\n",
       " [52,] 0.029167276 0.7639319032 0.2069008203\n",
       " [53,] 0.031264982 0.3686532701 0.6000817477\n",
       " [54,] 0.049334481 0.8702384056 0.0804271136\n",
       " [55,] 0.024112485 0.7586307445 0.2172567706\n",
       " [56,] 0.005739070 0.9737966322 0.0204642975\n",
       " [57,] 0.029799178 0.6728758374 0.2973249842\n",
       " [58,] 0.285145390 0.5825508287 0.1323037814\n",
       " [59,] 0.031235988 0.7209320396 0.2478319720\n",
       " [60,] 0.074740663 0.8305736769 0.0946856598\n",
       " [61,] 0.218392267 0.6365514778 0.1450562551\n",
       " [62,] 0.009185192 0.9620734917 0.0287413163\n",
       " [63,] 0.055617886 0.8432706507 0.1011114632\n",
       " [64,] 0.012120006 0.8995654788 0.0883145151\n",
       " [65,] 0.091622311 0.8162067422 0.0921709471\n",
       " [66,] 0.041722107 0.6898043235 0.2684735695\n",
       " [67,] 0.014154006 0.9331573593 0.0526886352\n",
       " [68,] 0.025881219 0.9257652199 0.0483535609\n",
       " [69,] 0.027145739 0.8353979892 0.1374562714\n",
       " [70,] 0.051538642 0.8777094813 0.0707518765\n",
       " [71,] 0.027619950 0.7215356354 0.2508444149\n",
       " [72,] 0.019488501 0.9342858607 0.0462256383\n",
       " [73,] 0.023974006 0.7053229911 0.2707030033\n",
       " [74,] 0.013937907 0.9026847228 0.0833773705\n",
       " [75,] 0.022908865 0.8758719711 0.1012191643\n",
       " [76,] 0.033944209 0.7547112388 0.2113445525\n",
       " [77,] 0.033606379 0.5235526027 0.4428410178\n",
       " [78,] 0.021183361 0.3062020789 0.6726145597\n",
       " [79,] 0.004941198 0.9688363807 0.0262224213\n",
       " [80,] 0.128292613 0.7670614980 0.1046458888\n",
       " [81,] 0.077783665 0.8323444828 0.0898718520\n",
       " [82,] 0.103754866 0.7955171912 0.1007279428\n",
       " [83,] 0.030966949 0.9187462648 0.0502867863\n",
       " [84,] 0.023973050 0.6561843224 0.3198426278\n",
       " [85,] 0.026379062 0.8911629164 0.0824580214\n",
       " [86,] 0.032146230 0.7970934921 0.1707602777\n",
       " [87,] 0.033454754 0.5552991783 0.4112460681\n",
       " [88,] 0.026864797 0.8576361520 0.1154990514\n",
       " [89,] 0.024081028 0.9289473694 0.0469716026\n",
       " [90,] 0.038162789 0.8994778970 0.0623593136\n",
       " [91,] 0.019622378 0.9311646210 0.0492130008\n",
       " [92,] 0.011623182 0.9155917120 0.0727851062\n",
       " [93,] 0.022504891 0.9357258217 0.0417692872\n",
       " [94,] 0.268901108 0.5983639830 0.1327349093\n",
       " [95,] 0.012670933 0.9589054460 0.0284236210\n",
       " [96,] 0.016775784 0.9455587449 0.0376654708\n",
       " [97,] 0.009570133 0.9674297640 0.0230001027\n",
       " [98,] 0.011408749 0.9438472089 0.0447440425\n",
       " [99,] 0.355319052 0.5201711254 0.1245098231\n",
       "[100,] 0.012680743 0.9605976976 0.0267215592\n",
       "[101,] 0.019358685 0.1207274688 0.8599138462\n",
       "[102,] 0.029297879 0.6154723544 0.3552297670\n",
       "[103,] 0.006077052 0.0381559808 0.9557669677\n",
       "[104,] 0.012521003 0.1418737162 0.8456052808\n",
       "[105,] 0.004753835 0.0376305000 0.9576156654\n",
       "[106,] 0.035461176 0.1526690474 0.8118697762\n",
       "[107,] 0.072967336 0.7599903031 0.1670423608\n",
       "[108,] 0.021898897 0.1151342591 0.8629668438\n",
       "[109,] 0.013991006 0.1173084377 0.8687005568\n",
       "[110,] 0.024418516 0.1145900543 0.8609914294\n",
       "[111,] 0.016759204 0.2097786178 0.7734621777\n",
       "[112,] 0.015750562 0.2230213098 0.7612281280\n",
       "[113,] 0.001165431 0.0100075132 0.9888270557\n",
       "[114,] 0.034364901 0.6598830502 0.3057520483\n",
       "[115,] 0.038367912 0.4609069560 0.5007251320\n",
       "[116,] 0.014059187 0.1360084343 0.8499323788\n",
       "[117,] 0.007157125 0.0795586983 0.9132841767\n",
       "[118,] 0.050589597 0.1858121661 0.7635982364\n",
       "[119,] 0.049183146 0.1932476706 0.7575691833\n",
       "[120,] 0.032188035 0.7106514282 0.2571605366\n",
       "[121,] 0.003828763 0.0257032765 0.9704679603\n",
       "[122,] 0.033641310 0.7068976403 0.2594610498\n",
       "[123,] 0.041971763 0.1748216884 0.7832065485\n",
       "[124,] 0.022801823 0.5955891853 0.3816089920\n",
       "[125,] 0.002913755 0.0217416678 0.9753445775\n",
       "[126,] 0.012908592 0.0751659548 0.9119254532\n",
       "[127,] 0.020981283 0.7076213965 0.2713973209\n",
       "[128,] 0.023092758 0.6467405114 0.3301667301\n",
       "[129,] 0.008354576 0.0829580659 0.9086873580\n",
       "[130,] 0.014445341 0.0947357876 0.8908188713\n",
       "[131,] 0.019787156 0.1074423242 0.8727705202\n",
       "[132,] 0.050904457 0.1889868757 0.7601086676\n",
       "[133,] 0.008953379 0.0848024246 0.9062441963\n",
       "[134,] 0.023389658 0.5400425005 0.4365678418\n",
       "[135,] 0.031181781 0.3926363391 0.5761818802\n",
       "[136,] 0.028662930 0.1317706889 0.8395663807\n",
       "[137,] 0.017224508 0.1286668139 0.8541086782\n",
       "[138,] 0.009778994 0.1100030421 0.8802179640\n",
       "[139,] 0.021727385 0.7497690301 0.2285035851\n",
       "[140,] 0.003487985 0.0289471435 0.9675648717\n",
       "[141,] 0.005077057 0.0376715512 0.9572513914\n",
       "[142,] 0.015398528 0.1294365704 0.8551649018\n",
       "[143,] 0.029297879 0.6154723544 0.3552297670\n",
       "[144,] 0.005250957 0.0337391762 0.9610098664\n",
       "[145,] 0.009701579 0.0631757334 0.9271226879\n",
       "[146,] 0.011258695 0.1063328518 0.8824084530\n",
       "[147,] 0.025796015 0.5073827722 0.4668212126\n",
       "[148,] 0.012108119 0.1563290811 0.8315628003\n",
       "[149,] 0.021578164 0.1889757009 0.7894461351\n",
       "[150,] 0.026920576 0.5816412603 0.3914381635\n",
       "\n",
       "Closest hard clustering:\n",
       "  [1] 1 1 1 1 1 1 1 1 1 1 1 1 1 1 1 1 1 1 1 1 1 1 1 1 1 1 1 1 1 1 1 1 1 1 1 1 1\n",
       " [38] 1 1 1 1 1 1 1 1 1 1 1 1 1 3 2 3 2 2 2 2 2 2 2 2 2 2 2 2 2 2 2 2 2 2 2 2 2\n",
       " [75] 2 2 2 3 2 2 2 2 2 2 2 2 2 2 2 2 2 2 2 2 2 2 2 2 2 2 3 2 3 3 3 3 2 3 3 3 3\n",
       "[112] 3 3 2 3 3 3 3 3 2 3 2 3 2 3 3 2 2 3 3 3 3 3 2 3 3 3 3 2 3 3 3 2 3 3 3 2 3\n",
       "[149] 3 2\n",
       "\n",
       "Available components:\n",
       "[1] \"centers\"     \"size\"        \"cluster\"     \"membership\"  \"iter\"       \n",
       "[6] \"withinerror\" \"call\"       "
      ]
     },
     "metadata": {},
     "output_type": "display_data"
    }
   ],
   "source": [
    "cluster"
   ]
  },
  {
   "cell_type": "code",
   "execution_count": 15,
   "metadata": {},
   "outputs": [
    {
     "data": {
      "text/plain": [
       "            \n",
       "              1  2  3\n",
       "  setosa     50  0  0\n",
       "  versicolor  0 47  3\n",
       "  virginica   0 13 37"
      ]
     },
     "metadata": {},
     "output_type": "display_data"
    }
   ],
   "source": [
    "table (iris$Species, cluster$cluster)"
   ]
  },
  {
   "cell_type": "markdown",
   "metadata": {},
   "source": [
    "### K-medoids"
   ]
  },
  {
   "cell_type": "code",
   "execution_count": null,
   "metadata": {},
   "outputs": [],
   "source": [
    "#Methods for Cluster analysis. Much extended the original from Peter Rousseeuw, \n",
    "#Anja Struyf and Mia Hubert, based on Kaufman and Rousseeuw (1990) \"Finding Groups in Data\"."
   ]
  },
  {
   "cell_type": "code",
   "execution_count": 16,
   "metadata": {},
   "outputs": [
    {
     "name": "stderr",
     "output_type": "stream",
     "text": [
      "Installing package into 'C:/Users/dmiyake/Documents/R/win-library/3.4'\n",
      "(as 'lib' is unspecified)\n"
     ]
    },
    {
     "name": "stdout",
     "output_type": "stream",
     "text": [
      "package 'cluster' successfully unpacked and MD5 sums checked\n"
     ]
    },
    {
     "name": "stderr",
     "output_type": "stream",
     "text": [
      "Warning message:\n",
      "\"unable to move temporary installation 'C:\\Users\\dmiyake\\Documents\\R\\win-library\\3.4\\file36858c72cfe\\cluster' to 'C:\\Users\\dmiyake\\Documents\\R\\win-library\\3.4\\cluster'\""
     ]
    },
    {
     "name": "stdout",
     "output_type": "stream",
     "text": [
      "\n",
      "The downloaded binary packages are in\n",
      "\tC:\\Users\\dmiyake\\AppData\\Local\\Temp\\RtmpGYtSW8\\downloaded_packages\n"
     ]
    }
   ],
   "source": [
    "install.packages(\"cluster\", dependencies = T)"
   ]
  },
  {
   "cell_type": "code",
   "execution_count": 17,
   "metadata": {},
   "outputs": [],
   "source": [
    "library(cluster)"
   ]
  },
  {
   "cell_type": "code",
   "execution_count": 18,
   "metadata": {},
   "outputs": [],
   "source": [
    "#pam = Partitioning Around Medoids (PAM) Object\n",
    "cluster = pam(iris [,1:4], k=3) # Variavel Cluster recebendo a função pam"
   ]
  },
  {
   "cell_type": "code",
   "execution_count": 19,
   "metadata": {},
   "outputs": [
    {
     "data": {
      "text/plain": [
       "Medoids:\n",
       "      ID Sepal.Length Sepal.Width Petal.Length Petal.Width\n",
       "[1,]   8          5.0         3.4          1.5         0.2\n",
       "[2,]  79          6.0         2.9          4.5         1.5\n",
       "[3,] 113          6.8         3.0          5.5         2.1\n",
       "Clustering vector:\n",
       "  [1] 1 1 1 1 1 1 1 1 1 1 1 1 1 1 1 1 1 1 1 1 1 1 1 1 1 1 1 1 1 1 1 1 1 1 1 1 1\n",
       " [38] 1 1 1 1 1 1 1 1 1 1 1 1 1 2 2 3 2 2 2 2 2 2 2 2 2 2 2 2 2 2 2 2 2 2 2 2 2\n",
       " [75] 2 2 2 3 2 2 2 2 2 2 2 2 2 2 2 2 2 2 2 2 2 2 2 2 2 2 3 2 3 3 3 3 2 3 3 3 3\n",
       "[112] 3 3 2 2 3 3 3 3 2 3 2 3 2 3 3 2 2 3 3 3 3 3 2 3 3 3 3 2 3 3 3 2 3 3 3 2 3\n",
       "[149] 3 2\n",
       "Objective function:\n",
       "    build      swap \n",
       "0.6709391 0.6542077 \n",
       "\n",
       "Available components:\n",
       " [1] \"medoids\"    \"id.med\"     \"clustering\" \"objective\"  \"isolation\" \n",
       " [6] \"clusinfo\"   \"silinfo\"    \"diss\"       \"call\"       \"data\"      "
      ]
     },
     "metadata": {},
     "output_type": "display_data"
    }
   ],
   "source": [
    "cluster"
   ]
  },
  {
   "cell_type": "code",
   "execution_count": 20,
   "metadata": {},
   "outputs": [
    {
     "data": {
      "image/png": "[encoded data removed]",
      "text/plain": [
       "Plot with title \"clusplot(pam(x = iris[, 1:4], k = 3))\""
      ]
     },
     "metadata": {},
     "output_type": "display_data",
     "source": "R display func"
    },
    {
     "data": {
      "image/png": "[encoded data removed]",
      "text/plain": [
       "Plot with title \"Silhouette plot of pam(x = iris[, 1:4], k = 3)\""
      ]
     },
     "metadata": {},
     "output_type": "display_data",
     "source": "R display func"
    }
   ],
   "source": [
    "plot(cluster)"
   ]
  },
  {
   "cell_type": "code",
   "execution_count": 21,
   "metadata": {},
   "outputs": [
    {
     "data": {
      "text/plain": [
       "            \n",
       "              1  2  3\n",
       "  setosa     50  0  0\n",
       "  versicolor  0 48  2\n",
       "  virginica   0 14 36"
      ]
     },
     "metadata": {},
     "output_type": "display_data"
    }
   ],
   "source": [
    "table(iris$Species, cluster$clustering)"
   ]
  },
  {
   "cell_type": "code",
   "execution_count": null,
   "metadata": {},
   "outputs": [],
   "source": []
  },
  {
   "cell_type": "code",
   "execution_count": null,
   "metadata": {},
   "outputs": [],
   "source": []
  }
 ],
 "metadata": {
  "kernelspec": {
   "display_name": "R",
   "language": "R",
   "name": "ir"
  },
  "language_info": {
   "codemirror_mode": "r",
   "file_extension": ".r",
   "mimetype": "text/x-r-source",
   "name": "R",
   "pygments_lexer": "r",
   "version": "3.4.3"
  }
 },
 "nbformat": 4,
 "nbformat_minor": 2
}
