{
 "cells": [
  {
   "cell_type": "markdown",
   "metadata": {},
   "source": [
    "# Análise de Credito - Formação Cientista de dados\n",
    "Projeto final"
   ]
  },
  {
   "cell_type": "markdown",
   "metadata": {},
   "source": [
    "\"Nossa taxa de inadimplência é de 35%. Você acha que com o uso das suas técnicas, conseguimos baixar este índice para pelo menos, 25%?\""
   ]
  },
  {
   "cell_type": "code",
   "execution_count": 1,
   "metadata": {},
   "outputs": [
    {
     "name": "stderr",
     "output_type": "stream",
     "text": [
      "randomForest 4.6-12\n",
      "Type rfNews() to see new features/changes/bug fixes.\n"
     ]
    }
   ],
   "source": [
    "# Começarei importando o Random Forest e utilizando técnicas de arvore de classificação\n",
    "library(randomForest)"
   ]
  },
  {
   "cell_type": "code",
   "execution_count": 4,
   "metadata": {},
   "outputs": [],
   "source": [
    "# Agora importarei o arquivo .csv, separando os cabealhos por \";\" e com o parametro de cabeçalho como verdadeiro\n",
    "credito  = read.csv(\"credito_WKD.csv\", sep = ';', header=T)"
   ]
  },
  {
   "cell_type": "code",
   "execution_count": 5,
   "metadata": {},
   "outputs": [
    {
     "data": {
      "text/html": [
       "<table>\n",
       "<thead><tr><th scope=col>CHEQUEESPECIAL</th><th scope=col>USO_CREDITO</th><th scope=col>HISTORICO_CREDITO</th><th scope=col>PROPOSITO</th><th scope=col>BALANCO_ATUAL</th><th scope=col>BALANCO_MEDIO_CREDITO</th><th scope=col>EMPREGADO</th><th scope=col>LOCAL</th><th scope=col>ESTADOCIVIL</th><th scope=col>OUTRASFUNCOES</th><th scope=col>RESIDENCIADESDE</th><th scope=col>TIPOSBENS</th><th scope=col>IDADE</th><th scope=col>OUTROSPLANOSPGTO</th><th scope=col>RESIDENCIA</th><th scope=col>CREDITOSEXISTENTES</th><th scope=col>EMPREGO</th><th scope=col>DEPENDENTES</th><th scope=col>TRABAESTRANGEIRO</th><th scope=col>CLASSE</th></tr></thead>\n",
       "<tbody>\n",
       "\t<tr><td><span style=white-space:pre-wrap>&lt;0        </span>      </td><td> 6                                                         </td><td>crítica / outros de crédito existente                      </td><td><span style=white-space:pre-wrap>Computador/TV      </span></td><td>1169                                                       </td><td>nenhuma economia conhecida                                 </td><td><span style=white-space:pre-wrap>&gt;=7   </span>          </td><td>4                                                          </td><td>masculino solteiro                                         </td><td>nenhum                                                     </td><td>4                                                          </td><td><span style=white-space:pre-wrap>bens imóveis     </span>  </td><td>67                                                         </td><td>nenhum                                                     </td><td><span style=white-space:pre-wrap>própria      </span>      </td><td>2                                                          </td><td><span style=white-space:pre-wrap>especializado    </span>  </td><td>1                                                          </td><td>sim                                                        </td><td>bom                                                        </td></tr>\n",
       "\t<tr><td><span style=white-space:pre-wrap>0&lt;=X&lt;200  </span>                     </td><td>48                                                                           </td><td><span style=white-space:pre-wrap>existente e pago                     </span></td><td><span style=white-space:pre-wrap>Computador/TV      </span>                  </td><td>5951                                                                         </td><td><span style=white-space:pre-wrap>&lt;100                      </span>        </td><td>1&lt;=X&lt;4                                                                 </td><td>2                                                                            </td><td><span style=white-space:pre-wrap>fem div/cas       </span>                   </td><td>nenhum                                                                       </td><td>2                                                                            </td><td><span style=white-space:pre-wrap>bens imóveis     </span>                    </td><td>22                                                                           </td><td>nenhum                                                                       </td><td><span style=white-space:pre-wrap>própria      </span>                        </td><td>1                                                                            </td><td><span style=white-space:pre-wrap>especializado    </span>                    </td><td>1                                                                            </td><td>sim                                                                          </td><td>ruim                                                                         </td></tr>\n",
       "\t<tr><td>sem cheque                                                           </td><td>12                                                                   </td><td>crítica / outros de crédito existente                                </td><td><span style=white-space:pre-wrap>educação           </span>          </td><td>2096                                                                 </td><td><span style=white-space:pre-wrap>&lt;100                      </span></td><td>4&lt;=X&lt;7                                                         </td><td>2                                                                    </td><td>masculino solteiro                                                   </td><td>nenhum                                                               </td><td>3                                                                    </td><td><span style=white-space:pre-wrap>bens imóveis     </span>            </td><td>49                                                                   </td><td>nenhum                                                               </td><td><span style=white-space:pre-wrap>própria      </span>                </td><td>1                                                                    </td><td>não especializado                                                    </td><td>2                                                                    </td><td>sim                                                                  </td><td>bom                                                                  </td></tr>\n",
       "\t<tr><td><span style=white-space:pre-wrap>&lt;0        </span>                        </td><td>42                                                                           </td><td><span style=white-space:pre-wrap>existente e pago                     </span></td><td>mobilia/equipamento                                                          </td><td>7882                                                                         </td><td><span style=white-space:pre-wrap>&lt;100                      </span>        </td><td>4&lt;=X&lt;7                                                                 </td><td>2                                                                            </td><td>masculino solteiro                                                           </td><td>fiador                                                                       </td><td>4                                                                            </td><td><span style=white-space:pre-wrap>seguro de vida   </span>                    </td><td>45                                                                           </td><td>nenhum                                                                       </td><td>gratuitamente                                                                </td><td>1                                                                            </td><td><span style=white-space:pre-wrap>especializado    </span>                    </td><td>2                                                                            </td><td>sim                                                                          </td><td>bom                                                                          </td></tr>\n",
       "\t<tr><td><span style=white-space:pre-wrap>&lt;0        </span>                        </td><td>24                                                                           </td><td><span style=white-space:pre-wrap>atrasos anteriores                   </span></td><td><span style=white-space:pre-wrap>carro novo         </span>                  </td><td>4870                                                                         </td><td><span style=white-space:pre-wrap>&lt;100                      </span>        </td><td>1&lt;=X&lt;4                                                                 </td><td>3                                                                            </td><td>masculino solteiro                                                           </td><td>nenhum                                                                       </td><td>4                                                                            </td><td>nenhuma conhecida                                                            </td><td>53                                                                           </td><td>nenhum                                                                       </td><td>gratuitamente                                                                </td><td>2                                                                            </td><td><span style=white-space:pre-wrap>especializado    </span>                    </td><td>2                                                                            </td><td>sim                                                                          </td><td>ruim                                                                         </td></tr>\n",
       "\t<tr><td>sem cheque                                                                   </td><td>36                                                                           </td><td><span style=white-space:pre-wrap>existente e pago                     </span></td><td><span style=white-space:pre-wrap>educação           </span>                  </td><td>9055                                                                         </td><td>nenhuma economia conhecida                                                   </td><td>1&lt;=X&lt;4                                                                 </td><td>2                                                                            </td><td>masculino solteiro                                                           </td><td>nenhum                                                                       </td><td>4                                                                            </td><td>nenhuma conhecida                                                            </td><td>35                                                                           </td><td>nenhum                                                                       </td><td>gratuitamente                                                                </td><td>1                                                                            </td><td>não especializado                                                            </td><td>2                                                                            </td><td>sim                                                                          </td><td>bom                                                                          </td></tr>\n",
       "</tbody>\n",
       "</table>\n"
      ],
      "text/latex": [
       "\\begin{tabular}{r|llllllllllllllllllll}\n",
       " CHEQUEESPECIAL & USO\\_CREDITO & HISTORICO\\_CREDITO & PROPOSITO & BALANCO\\_ATUAL & BALANCO\\_MEDIO\\_CREDITO & EMPREGADO & LOCAL & ESTADOCIVIL & OUTRASFUNCOES & RESIDENCIADESDE & TIPOSBENS & IDADE & OUTROSPLANOSPGTO & RESIDENCIA & CREDITOSEXISTENTES & EMPREGO & DEPENDENTES & TRABAESTRANGEIRO & CLASSE\\\\\n",
       "\\hline\n",
       "\t <0                                    &  6                                    & crítica / outros de crédito existente & Computador/TV                         & 1169                                  & nenhuma economia conhecida            & >=7                                   & 4                                     & masculino solteiro                    & nenhum                                & 4                                     & bens imóveis                          & 67                                    & nenhum                                & própria                               & 2                                     & especializado                         & 1                                     & sim                                   & bom                                  \\\\\n",
       "\t 0<=X<200                              & 48                                    & existente e pago                      & Computador/TV                         & 5951                                  & <100                                  & 1<=X<4                                & 2                                     & fem div/cas                           & nenhum                                & 2                                     & bens imóveis                          & 22                                    & nenhum                                & própria                               & 1                                     & especializado                         & 1                                     & sim                                   & ruim                                 \\\\\n",
       "\t sem cheque                            & 12                                    & crítica / outros de crédito existente & educação                              & 2096                                  & <100                                  & 4<=X<7                                & 2                                     & masculino solteiro                    & nenhum                                & 3                                     & bens imóveis                          & 49                                    & nenhum                                & própria                               & 1                                     & não especializado                     & 2                                     & sim                                   & bom                                  \\\\\n",
       "\t <0                                    & 42                                    & existente e pago                      & mobilia/equipamento                   & 7882                                  & <100                                  & 4<=X<7                                & 2                                     & masculino solteiro                    & fiador                                & 4                                     & seguro de vida                        & 45                                    & nenhum                                & gratuitamente                         & 1                                     & especializado                         & 2                                     & sim                                   & bom                                  \\\\\n",
       "\t <0                                    & 24                                    & atrasos anteriores                    & carro novo                            & 4870                                  & <100                                  & 1<=X<4                                & 3                                     & masculino solteiro                    & nenhum                                & 4                                     & nenhuma conhecida                     & 53                                    & nenhum                                & gratuitamente                         & 2                                     & especializado                         & 2                                     & sim                                   & ruim                                 \\\\\n",
       "\t sem cheque                            & 36                                    & existente e pago                      & educação                              & 9055                                  & nenhuma economia conhecida            & 1<=X<4                                & 2                                     & masculino solteiro                    & nenhum                                & 4                                     & nenhuma conhecida                     & 35                                    & nenhum                                & gratuitamente                         & 1                                     & não especializado                     & 2                                     & sim                                   & bom                                  \\\\\n",
       "\\end{tabular}\n"
      ],
      "text/markdown": [
       "\n",
       "CHEQUEESPECIAL | USO_CREDITO | HISTORICO_CREDITO | PROPOSITO | BALANCO_ATUAL | BALANCO_MEDIO_CREDITO | EMPREGADO | LOCAL | ESTADOCIVIL | OUTRASFUNCOES | RESIDENCIADESDE | TIPOSBENS | IDADE | OUTROSPLANOSPGTO | RESIDENCIA | CREDITOSEXISTENTES | EMPREGO | DEPENDENTES | TRABAESTRANGEIRO | CLASSE | \n",
       "|---|---|---|---|---|---|\n",
       "| <0                                    |  6                                    | crítica / outros de crédito existente | Computador/TV                         | 1169                                  | nenhuma economia conhecida            | >=7                                   | 4                                     | masculino solteiro                    | nenhum                                | 4                                     | bens imóveis                          | 67                                    | nenhum                                | própria                               | 2                                     | especializado                         | 1                                     | sim                                   | bom                                   | \n",
       "| 0<=X<200                              | 48                                    | existente e pago                      | Computador/TV                         | 5951                                  | <100                                  | 1<=X<4                                | 2                                     | fem div/cas                           | nenhum                                | 2                                     | bens imóveis                          | 22                                    | nenhum                                | própria                               | 1                                     | especializado                         | 1                                     | sim                                   | ruim                                  | \n",
       "| sem cheque                            | 12                                    | crítica / outros de crédito existente | educação                              | 2096                                  | <100                                  | 4<=X<7                                | 2                                     | masculino solteiro                    | nenhum                                | 3                                     | bens imóveis                          | 49                                    | nenhum                                | própria                               | 1                                     | não especializado                     | 2                                     | sim                                   | bom                                   | \n",
       "| <0                                    | 42                                    | existente e pago                      | mobilia/equipamento                   | 7882                                  | <100                                  | 4<=X<7                                | 2                                     | masculino solteiro                    | fiador                                | 4                                     | seguro de vida                        | 45                                    | nenhum                                | gratuitamente                         | 1                                     | especializado                         | 2                                     | sim                                   | bom                                   | \n",
       "| <0                                    | 24                                    | atrasos anteriores                    | carro novo                            | 4870                                  | <100                                  | 1<=X<4                                | 3                                     | masculino solteiro                    | nenhum                                | 4                                     | nenhuma conhecida                     | 53                                    | nenhum                                | gratuitamente                         | 2                                     | especializado                         | 2                                     | sim                                   | ruim                                  | \n",
       "| sem cheque                            | 36                                    | existente e pago                      | educação                              | 9055                                  | nenhuma economia conhecida            | 1<=X<4                                | 2                                     | masculino solteiro                    | nenhum                                | 4                                     | nenhuma conhecida                     | 35                                    | nenhum                                | gratuitamente                         | 1                                     | não especializado                     | 2                                     | sim                                   | bom                                   | \n",
       "\n",
       "\n"
      ],
      "text/plain": [
       "  CHEQUEESPECIAL USO_CREDITO HISTORICO_CREDITO                    \n",
       "1 <0              6          crítica / outros de crédito existente\n",
       "2 0<=X<200       48          existente e pago                     \n",
       "3 sem cheque     12          crítica / outros de crédito existente\n",
       "4 <0             42          existente e pago                     \n",
       "5 <0             24          atrasos anteriores                   \n",
       "6 sem cheque     36          existente e pago                     \n",
       "  PROPOSITO           BALANCO_ATUAL BALANCO_MEDIO_CREDITO      EMPREGADO LOCAL\n",
       "1 Computador/TV       1169          nenhuma economia conhecida >=7       4    \n",
       "2 Computador/TV       5951          <100                       1<=X<4    2    \n",
       "3 educação            2096          <100                       4<=X<7    2    \n",
       "4 mobilia/equipamento 7882          <100                       4<=X<7    2    \n",
       "5 carro novo          4870          <100                       1<=X<4    3    \n",
       "6 educação            9055          nenhuma economia conhecida 1<=X<4    2    \n",
       "  ESTADOCIVIL        OUTRASFUNCOES RESIDENCIADESDE TIPOSBENS         IDADE\n",
       "1 masculino solteiro nenhum        4               bens imóveis      67   \n",
       "2 fem div/cas        nenhum        2               bens imóveis      22   \n",
       "3 masculino solteiro nenhum        3               bens imóveis      49   \n",
       "4 masculino solteiro fiador        4               seguro de vida    45   \n",
       "5 masculino solteiro nenhum        4               nenhuma conhecida 53   \n",
       "6 masculino solteiro nenhum        4               nenhuma conhecida 35   \n",
       "  OUTROSPLANOSPGTO RESIDENCIA    CREDITOSEXISTENTES EMPREGO          \n",
       "1 nenhum           própria       2                  especializado    \n",
       "2 nenhum           própria       1                  especializado    \n",
       "3 nenhum           própria       1                  não especializado\n",
       "4 nenhum           gratuitamente 1                  especializado    \n",
       "5 nenhum           gratuitamente 2                  especializado    \n",
       "6 nenhum           gratuitamente 1                  não especializado\n",
       "  DEPENDENTES TRABAESTRANGEIRO CLASSE\n",
       "1 1           sim              bom   \n",
       "2 1           sim              ruim  \n",
       "3 2           sim              bom   \n",
       "4 2           sim              bom   \n",
       "5 2           sim              ruim  \n",
       "6 2           sim              bom   "
      ]
     },
     "metadata": {},
     "output_type": "display_data"
    }
   ],
   "source": [
    "head(credito)"
   ]
  },
  {
   "cell_type": "code",
   "execution_count": 6,
   "metadata": {},
   "outputs": [
    {
     "data": {
      "text/plain": [
       "    CHEQUEESPECIAL  USO_CREDITO                               HISTORICO_CREDITO\n",
       " <0        :274    Min.   : 4.0   atrasos anteriores                   : 88    \n",
       " >=200     : 63    1st Qu.:12.0   crítica / outros de crédito existente:293    \n",
       " 0<=X<200  :269    Median :18.0   existente e pago                     :530    \n",
       " sem cheque:394    Mean   :20.9   sem créditos/todos pagos             : 40    \n",
       "                   3rd Qu.:24.0   todos pagos                          : 49    \n",
       "                   Max.   :72.0                                                \n",
       "                                                                               \n",
       "               PROPOSITO   BALANCO_ATUAL                  BALANCO_MEDIO_CREDITO\n",
       " Computador/TV      :280   Min.   :  250   <100                      :603      \n",
       " carro novo         :234   1st Qu.: 1366   >=1000                    : 48      \n",
       " mobilia/equipamento:181   Median : 2320   100<=X<500                :103      \n",
       " carro usado        :103   Mean   : 3271   500<=X<1000               : 63      \n",
       " negócios           : 97   3rd Qu.: 3972   nenhuma economia conhecida:183      \n",
       " educação           : 50   Max.   :18424                                       \n",
       " (Other)            : 55                                                       \n",
       "        EMPREGADO       LOCAL                       ESTADOCIVIL \n",
       " <1          :172   Min.   :1.000   fem div/cas           :310  \n",
       " >=7         :253   1st Qu.:2.000   masculino casado/viuvo: 92  \n",
       " 1<=X<4      :339   Median :3.000   masculino div/sep     : 50  \n",
       " 4<=X<7      :174   Mean   :2.973   masculino solteiro    :548  \n",
       " desempregado: 62   3rd Qu.:4.000                               \n",
       "                    Max.   :4.000                               \n",
       "                                                                \n",
       "       OUTRASFUNCOES RESIDENCIADESDE             TIPOSBENS       IDADE      \n",
       " co requerente: 41   Min.   :1.000   bens imóveis     :282   Min.   :19.00  \n",
       " fiador       : 52   1st Qu.:2.000   carro            :332   1st Qu.:27.00  \n",
       " nenhum       :907   Median :3.000   nenhuma conhecida:154   Median :33.00  \n",
       "                     Mean   :2.845   seguro de vida   :232   Mean   :35.55  \n",
       "                     3rd Qu.:4.000                           3rd Qu.:42.00  \n",
       "                     Max.   :4.000                           Max.   :75.00  \n",
       "                                                                            \n",
       " OUTROSPLANOSPGTO         RESIDENCIA  CREDITOSEXISTENTES\n",
       " banco :139       alugada      :179   Min.   :1.000     \n",
       " nenhum:814       gratuitamente:108   1st Qu.:1.000     \n",
       " stores: 47       própria      :713   Median :1.000     \n",
       "                                      Mean   :1.407     \n",
       "                                      3rd Qu.:2.000     \n",
       "                                      Max.   :4.000     \n",
       "                                                        \n",
       "                               EMPREGO     DEPENDENTES    TRABAESTRANGEIRO\n",
       " alta qualificação/autonomo/Gerente:148   Min.   :1.000   não: 37         \n",
       " especializado                     :630   1st Qu.:1.000   sim:963         \n",
       " não especializado                 :200   Median :1.000                   \n",
       " unemp/unespecializado non res     : 22   Mean   :1.155                   \n",
       "                                          3rd Qu.:1.000                   \n",
       "                                          Max.   :2.000                   \n",
       "                                                                          \n",
       "  CLASSE   \n",
       " bom :700  \n",
       " ruim:300  \n",
       "           \n",
       "           \n",
       "           \n",
       "           \n",
       "           "
      ]
     },
     "metadata": {},
     "output_type": "display_data"
    }
   ],
   "source": [
    "summary (credito)"
   ]
  },
  {
   "cell_type": "code",
   "execution_count": 7,
   "metadata": {},
   "outputs": [],
   "source": [
    "# Ao todo tem-se 1000 usuários para fazer a anaçise, como não há dois arquivos de dados para teste e treino\n",
    "# este será dividido.\n",
    "# Será gerado uma amostra dos dados e dividido em 70% treino e 30% teste\n",
    "# A amostra pode ser substituivel\n",
    "amostra = sample(2,1000, replace = T, prob= c(0.7, 0.3))\n",
    "creditotreino = credito[amostra==1,]\n",
    "creditoteste = credito[amostra==2,]"
   ]
  },
  {
   "cell_type": "code",
   "execution_count": 8,
   "metadata": {},
   "outputs": [
    {
     "data": {
      "text/html": [
       "<table>\n",
       "<thead><tr><th></th><th scope=col>CHEQUEESPECIAL</th><th scope=col>USO_CREDITO</th><th scope=col>HISTORICO_CREDITO</th><th scope=col>PROPOSITO</th><th scope=col>BALANCO_ATUAL</th><th scope=col>BALANCO_MEDIO_CREDITO</th><th scope=col>EMPREGADO</th><th scope=col>LOCAL</th><th scope=col>ESTADOCIVIL</th><th scope=col>OUTRASFUNCOES</th><th scope=col>RESIDENCIADESDE</th><th scope=col>TIPOSBENS</th><th scope=col>IDADE</th><th scope=col>OUTROSPLANOSPGTO</th><th scope=col>RESIDENCIA</th><th scope=col>CREDITOSEXISTENTES</th><th scope=col>EMPREGO</th><th scope=col>DEPENDENTES</th><th scope=col>TRABAESTRANGEIRO</th><th scope=col>CLASSE</th></tr></thead>\n",
       "<tbody>\n",
       "\t<tr><th scope=row>1</th><td><span style=white-space:pre-wrap>&lt;0        </span>                     </td><td> 6                                                                        </td><td>crítica / outros de crédito existente                                     </td><td><span style=white-space:pre-wrap>Computador/TV      </span>               </td><td>1169                                                                      </td><td>nenhuma economia conhecida                                                </td><td><span style=white-space:pre-wrap>&gt;=7   </span>                         </td><td>4                                                                         </td><td>masculino solteiro                                                        </td><td>nenhum                                                                    </td><td>4                                                                         </td><td><span style=white-space:pre-wrap>bens imóveis     </span>                 </td><td>67                                                                        </td><td>nenhum                                                                    </td><td><span style=white-space:pre-wrap>própria      </span>                     </td><td>2                                                                         </td><td><span style=white-space:pre-wrap>especializado                     </span></td><td>1                                                                         </td><td>sim                                                                       </td><td>bom                                                                       </td></tr>\n",
       "\t<tr><th scope=row>4</th><td><span style=white-space:pre-wrap>&lt;0        </span>                        </td><td>42                                                                           </td><td><span style=white-space:pre-wrap>existente e pago                     </span></td><td>mobilia/equipamento                                                          </td><td>7882                                                                         </td><td><span style=white-space:pre-wrap>&lt;100                      </span>        </td><td>4&lt;=X&lt;7                                                                 </td><td>2                                                                            </td><td>masculino solteiro                                                           </td><td>fiador                                                                       </td><td>4                                                                            </td><td><span style=white-space:pre-wrap>seguro de vida   </span>                    </td><td>45                                                                           </td><td>nenhum                                                                       </td><td>gratuitamente                                                                </td><td>1                                                                            </td><td><span style=white-space:pre-wrap>especializado                     </span>   </td><td>2                                                                            </td><td>sim                                                                          </td><td>bom                                                                          </td></tr>\n",
       "\t<tr><th scope=row>5</th><td><span style=white-space:pre-wrap>&lt;0        </span>                        </td><td>24                                                                           </td><td><span style=white-space:pre-wrap>atrasos anteriores                   </span></td><td><span style=white-space:pre-wrap>carro novo         </span>                  </td><td>4870                                                                         </td><td><span style=white-space:pre-wrap>&lt;100                      </span>        </td><td>1&lt;=X&lt;4                                                                 </td><td>3                                                                            </td><td>masculino solteiro                                                           </td><td>nenhum                                                                       </td><td>4                                                                            </td><td>nenhuma conhecida                                                            </td><td>53                                                                           </td><td>nenhum                                                                       </td><td>gratuitamente                                                                </td><td>2                                                                            </td><td><span style=white-space:pre-wrap>especializado                     </span>   </td><td>2                                                                            </td><td>sim                                                                          </td><td>ruim                                                                         </td></tr>\n",
       "\t<tr><th scope=row>6</th><td>sem cheque                                                                   </td><td>36                                                                           </td><td><span style=white-space:pre-wrap>existente e pago                     </span></td><td><span style=white-space:pre-wrap>educação           </span>                  </td><td>9055                                                                         </td><td>nenhuma economia conhecida                                                   </td><td>1&lt;=X&lt;4                                                                 </td><td>2                                                                            </td><td>masculino solteiro                                                           </td><td>nenhum                                                                       </td><td>4                                                                            </td><td>nenhuma conhecida                                                            </td><td>35                                                                           </td><td>nenhum                                                                       </td><td>gratuitamente                                                                </td><td>1                                                                            </td><td><span style=white-space:pre-wrap>não especializado                 </span>   </td><td>2                                                                            </td><td>sim                                                                          </td><td>bom                                                                          </td></tr>\n",
       "\t<tr><th scope=row>7</th><td>sem cheque                                                                   </td><td>24                                                                           </td><td><span style=white-space:pre-wrap>existente e pago                     </span></td><td>mobilia/equipamento                                                          </td><td>2835                                                                         </td><td><span style=white-space:pre-wrap>500&lt;=X&lt;1000               </span>     </td><td><span style=white-space:pre-wrap>&gt;=7   </span>                            </td><td>3                                                                            </td><td>masculino solteiro                                                           </td><td>nenhum                                                                       </td><td>4                                                                            </td><td><span style=white-space:pre-wrap>seguro de vida   </span>                    </td><td>53                                                                           </td><td>nenhum                                                                       </td><td><span style=white-space:pre-wrap>própria      </span>                        </td><td>1                                                                            </td><td><span style=white-space:pre-wrap>especializado                     </span>   </td><td>1                                                                            </td><td>sim                                                                          </td><td>bom                                                                          </td></tr>\n",
       "\t<tr><th scope=row>8</th><td><span style=white-space:pre-wrap>0&lt;=X&lt;200  </span>                     </td><td>36                                                                           </td><td><span style=white-space:pre-wrap>existente e pago                     </span></td><td><span style=white-space:pre-wrap>carro usado        </span>                  </td><td>6948                                                                         </td><td><span style=white-space:pre-wrap>&lt;100                      </span>        </td><td>1&lt;=X&lt;4                                                                 </td><td>2                                                                            </td><td>masculino solteiro                                                           </td><td>nenhum                                                                       </td><td>2                                                                            </td><td><span style=white-space:pre-wrap>carro            </span>                    </td><td>35                                                                           </td><td>nenhum                                                                       </td><td><span style=white-space:pre-wrap>alugada      </span>                        </td><td>1                                                                            </td><td>alta qualificação/autonomo/Gerente                                           </td><td>1                                                                            </td><td>sim                                                                          </td><td>bom                                                                          </td></tr>\n",
       "</tbody>\n",
       "</table>\n"
      ],
      "text/latex": [
       "\\begin{tabular}{r|llllllllllllllllllll}\n",
       "  & CHEQUEESPECIAL & USO\\_CREDITO & HISTORICO\\_CREDITO & PROPOSITO & BALANCO\\_ATUAL & BALANCO\\_MEDIO\\_CREDITO & EMPREGADO & LOCAL & ESTADOCIVIL & OUTRASFUNCOES & RESIDENCIADESDE & TIPOSBENS & IDADE & OUTROSPLANOSPGTO & RESIDENCIA & CREDITOSEXISTENTES & EMPREGO & DEPENDENTES & TRABAESTRANGEIRO & CLASSE\\\\\n",
       "\\hline\n",
       "\t1 & <0                                    &  6                                    & crítica / outros de crédito existente & Computador/TV                         & 1169                                  & nenhuma economia conhecida            & >=7                                   & 4                                     & masculino solteiro                    & nenhum                                & 4                                     & bens imóveis                          & 67                                    & nenhum                                & própria                               & 2                                     & especializado                         & 1                                     & sim                                   & bom                                  \\\\\n",
       "\t4 & <0                                    & 42                                    & existente e pago                      & mobilia/equipamento                   & 7882                                  & <100                                  & 4<=X<7                                & 2                                     & masculino solteiro                    & fiador                                & 4                                     & seguro de vida                        & 45                                    & nenhum                                & gratuitamente                         & 1                                     & especializado                         & 2                                     & sim                                   & bom                                  \\\\\n",
       "\t5 & <0                                    & 24                                    & atrasos anteriores                    & carro novo                            & 4870                                  & <100                                  & 1<=X<4                                & 3                                     & masculino solteiro                    & nenhum                                & 4                                     & nenhuma conhecida                     & 53                                    & nenhum                                & gratuitamente                         & 2                                     & especializado                         & 2                                     & sim                                   & ruim                                 \\\\\n",
       "\t6 & sem cheque                            & 36                                    & existente e pago                      & educação                              & 9055                                  & nenhuma economia conhecida            & 1<=X<4                                & 2                                     & masculino solteiro                    & nenhum                                & 4                                     & nenhuma conhecida                     & 35                                    & nenhum                                & gratuitamente                         & 1                                     & não especializado                     & 2                                     & sim                                   & bom                                  \\\\\n",
       "\t7 & sem cheque                            & 24                                    & existente e pago                      & mobilia/equipamento                   & 2835                                  & 500<=X<1000                           & >=7                                   & 3                                     & masculino solteiro                    & nenhum                                & 4                                     & seguro de vida                        & 53                                    & nenhum                                & própria                               & 1                                     & especializado                         & 1                                     & sim                                   & bom                                  \\\\\n",
       "\t8 & 0<=X<200                              & 36                                    & existente e pago                      & carro usado                           & 6948                                  & <100                                  & 1<=X<4                                & 2                                     & masculino solteiro                    & nenhum                                & 2                                     & carro                                 & 35                                    & nenhum                                & alugada                               & 1                                     & alta qualificação/autonomo/Gerente    & 1                                     & sim                                   & bom                                  \\\\\n",
       "\\end{tabular}\n"
      ],
      "text/markdown": [
       "\n",
       "| <!--/--> | CHEQUEESPECIAL | USO_CREDITO | HISTORICO_CREDITO | PROPOSITO | BALANCO_ATUAL | BALANCO_MEDIO_CREDITO | EMPREGADO | LOCAL | ESTADOCIVIL | OUTRASFUNCOES | RESIDENCIADESDE | TIPOSBENS | IDADE | OUTROSPLANOSPGTO | RESIDENCIA | CREDITOSEXISTENTES | EMPREGO | DEPENDENTES | TRABAESTRANGEIRO | CLASSE | \n",
       "|---|---|---|---|---|---|\n",
       "| 1 | <0                                    |  6                                    | crítica / outros de crédito existente | Computador/TV                         | 1169                                  | nenhuma economia conhecida            | >=7                                   | 4                                     | masculino solteiro                    | nenhum                                | 4                                     | bens imóveis                          | 67                                    | nenhum                                | própria                               | 2                                     | especializado                         | 1                                     | sim                                   | bom                                   | \n",
       "| 4 | <0                                    | 42                                    | existente e pago                      | mobilia/equipamento                   | 7882                                  | <100                                  | 4<=X<7                                | 2                                     | masculino solteiro                    | fiador                                | 4                                     | seguro de vida                        | 45                                    | nenhum                                | gratuitamente                         | 1                                     | especializado                         | 2                                     | sim                                   | bom                                   | \n",
       "| 5 | <0                                    | 24                                    | atrasos anteriores                    | carro novo                            | 4870                                  | <100                                  | 1<=X<4                                | 3                                     | masculino solteiro                    | nenhum                                | 4                                     | nenhuma conhecida                     | 53                                    | nenhum                                | gratuitamente                         | 2                                     | especializado                         | 2                                     | sim                                   | ruim                                  | \n",
       "| 6 | sem cheque                            | 36                                    | existente e pago                      | educação                              | 9055                                  | nenhuma economia conhecida            | 1<=X<4                                | 2                                     | masculino solteiro                    | nenhum                                | 4                                     | nenhuma conhecida                     | 35                                    | nenhum                                | gratuitamente                         | 1                                     | não especializado                     | 2                                     | sim                                   | bom                                   | \n",
       "| 7 | sem cheque                            | 24                                    | existente e pago                      | mobilia/equipamento                   | 2835                                  | 500<=X<1000                           | >=7                                   | 3                                     | masculino solteiro                    | nenhum                                | 4                                     | seguro de vida                        | 53                                    | nenhum                                | própria                               | 1                                     | especializado                         | 1                                     | sim                                   | bom                                   | \n",
       "| 8 | 0<=X<200                              | 36                                    | existente e pago                      | carro usado                           | 6948                                  | <100                                  | 1<=X<4                                | 2                                     | masculino solteiro                    | nenhum                                | 2                                     | carro                                 | 35                                    | nenhum                                | alugada                               | 1                                     | alta qualificação/autonomo/Gerente    | 1                                     | sim                                   | bom                                   | \n",
       "\n",
       "\n"
      ],
      "text/plain": [
       "  CHEQUEESPECIAL USO_CREDITO HISTORICO_CREDITO                    \n",
       "1 <0              6          crítica / outros de crédito existente\n",
       "4 <0             42          existente e pago                     \n",
       "5 <0             24          atrasos anteriores                   \n",
       "6 sem cheque     36          existente e pago                     \n",
       "7 sem cheque     24          existente e pago                     \n",
       "8 0<=X<200       36          existente e pago                     \n",
       "  PROPOSITO           BALANCO_ATUAL BALANCO_MEDIO_CREDITO      EMPREGADO LOCAL\n",
       "1 Computador/TV       1169          nenhuma economia conhecida >=7       4    \n",
       "4 mobilia/equipamento 7882          <100                       4<=X<7    2    \n",
       "5 carro novo          4870          <100                       1<=X<4    3    \n",
       "6 educação            9055          nenhuma economia conhecida 1<=X<4    2    \n",
       "7 mobilia/equipamento 2835          500<=X<1000                >=7       3    \n",
       "8 carro usado         6948          <100                       1<=X<4    2    \n",
       "  ESTADOCIVIL        OUTRASFUNCOES RESIDENCIADESDE TIPOSBENS         IDADE\n",
       "1 masculino solteiro nenhum        4               bens imóveis      67   \n",
       "4 masculino solteiro fiador        4               seguro de vida    45   \n",
       "5 masculino solteiro nenhum        4               nenhuma conhecida 53   \n",
       "6 masculino solteiro nenhum        4               nenhuma conhecida 35   \n",
       "7 masculino solteiro nenhum        4               seguro de vida    53   \n",
       "8 masculino solteiro nenhum        2               carro             35   \n",
       "  OUTROSPLANOSPGTO RESIDENCIA    CREDITOSEXISTENTES\n",
       "1 nenhum           própria       2                 \n",
       "4 nenhum           gratuitamente 1                 \n",
       "5 nenhum           gratuitamente 2                 \n",
       "6 nenhum           gratuitamente 1                 \n",
       "7 nenhum           própria       1                 \n",
       "8 nenhum           alugada       1                 \n",
       "  EMPREGO                            DEPENDENTES TRABAESTRANGEIRO CLASSE\n",
       "1 especializado                      1           sim              bom   \n",
       "4 especializado                      2           sim              bom   \n",
       "5 especializado                      2           sim              ruim  \n",
       "6 não especializado                  2           sim              bom   \n",
       "7 especializado                      1           sim              bom   \n",
       "8 alta qualificação/autonomo/Gerente 1           sim              bom   "
      ]
     },
     "metadata": {},
     "output_type": "display_data"
    }
   ],
   "source": [
    "head(creditotreino)"
   ]
  },
  {
   "cell_type": "code",
   "execution_count": 38,
   "metadata": {},
   "outputs": [],
   "source": [
    "# criação da variavel floresta que ira receber os atributos do credito treino e gerar a arvore de classificação\n",
    "#floresta = randomForest (CLASSE ~. (classe e atributos), data=creditotreino (dado a ser pego), ntree = 150 (numero de arvores envolvidas), importance = T)\n",
    "floresta = randomForest (CLASSE ~., data=creditotreino, ntree = 300, importance = T)"
   ]
  },
  {
   "cell_type": "code",
   "execution_count": 39,
   "metadata": {},
   "outputs": [
    {
     "data": {
      "image/png": "[encoded data removed]",
      "text/plain": [
       "plot without title"
      ]
     },
     "metadata": {},
     "output_type": "display_data",
     "source": "R display func"
    }
   ],
   "source": [
    "# Plotagem da variável\n",
    "varImpPlot (floresta)"
   ]
  },
  {
   "cell_type": "code",
   "execution_count": 40,
   "metadata": {},
   "outputs": [],
   "source": [
    "# Agora gero a  previsão e depois a tabela de confusão para ver a porcentagem de acerto e de erro\n",
    "previsao = predict(floresta, creditoteste)"
   ]
  },
  {
   "cell_type": "code",
   "execution_count": 41,
   "metadata": {},
   "outputs": [],
   "source": [
    "confusao = table(previsao,creditoteste$CLASSE)"
   ]
  },
  {
   "cell_type": "code",
   "execution_count": 42,
   "metadata": {},
   "outputs": [
    {
     "data": {
      "text/plain": [
       "        \n",
       "previsao bom ruim\n",
       "    bom  175   55\n",
       "    ruim  15   35"
      ]
     },
     "metadata": {},
     "output_type": "display_data"
    }
   ],
   "source": [
    "confusao"
   ]
  },
  {
   "cell_type": "code",
   "execution_count": 43,
   "metadata": {},
   "outputs": [
    {
     "data": {
      "text/html": [
       "0.75"
      ],
      "text/latex": [
       "0.75"
      ],
      "text/markdown": [
       "0.75"
      ],
      "text/plain": [
       "[1] 0.75"
      ]
     },
     "metadata": {},
     "output_type": "display_data"
    }
   ],
   "source": [
    "taxaacerto = (confusao[1] + confusao[4]) / sum(confusao)\n",
    "taxaacerto"
   ]
  },
  {
   "cell_type": "code",
   "execution_count": 44,
   "metadata": {},
   "outputs": [
    {
     "data": {
      "text/html": [
       "0.25"
      ],
      "text/latex": [
       "0.25"
      ],
      "text/markdown": [
       "0.25"
      ],
      "text/plain": [
       "[1] 0.25"
      ]
     },
     "metadata": {},
     "output_type": "display_data"
    }
   ],
   "source": [
    "taxaerro = (confusao[2] + confusao[3]) / sum(confusao)\n",
    "taxaerro"
   ]
  },
  {
   "cell_type": "markdown",
   "metadata": {},
   "source": [
    "### Com o algoritmo acima foi assegurado uma taxa de erro de 25%, ou seja ele pode prever com maior precisão do que o atual com 35%"
   ]
  }
 ],
 "metadata": {
  "kernelspec": {
   "display_name": "R",
   "language": "R",
   "name": "ir"
  },
  "language_info": {
   "codemirror_mode": "r",
   "file_extension": ".r",
   "mimetype": "text/x-r-source",
   "name": "R",
   "pygments_lexer": "r",
   "version": "3.4.3"
  }
 },
 "nbformat": 4,
 "nbformat_minor": 2
}
