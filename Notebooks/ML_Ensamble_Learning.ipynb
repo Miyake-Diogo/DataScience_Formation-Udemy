{
 "cells": [
  {
   "cell_type": "markdown",
   "metadata": {},
   "source": [
    "# Machine Learning - Formação Cientista de dados\n",
    "### Ensamble Learning\n",
    "Aprendizado em grupo, onde o algoritmo cria várias arvores de decisões e busca a melhor performance entre a combinação dos modelos"
   ]
  },
  {
   "cell_type": "code",
   "execution_count": 1,
   "metadata": {},
   "outputs": [
    {
     "name": "stderr",
     "output_type": "stream",
     "text": [
      "Installing package into 'C:/Users/dmiyake/Documents/R/win-library/3.4'\n",
      "(as 'lib' is unspecified)\n"
     ]
    },
    {
     "name": "stdout",
     "output_type": "stream",
     "text": [
      "package 'randomForest' successfully unpacked and MD5 sums checked\n",
      "\n",
      "The downloaded binary packages are in\n",
      "\tC:\\Users\\dmiyake\\AppData\\Local\\Temp\\RtmpC6ndkt\\downloaded_packages\n"
     ]
    }
   ],
   "source": [
    "install.packages(\"randomForest\", dependencies=T)"
   ]
  },
  {
   "cell_type": "code",
   "execution_count": 4,
   "metadata": {},
   "outputs": [
    {
     "name": "stderr",
     "output_type": "stream",
     "text": [
      "randomForest 4.6-12\n",
      "Type rfNews() to see new features/changes/bug fixes.\n"
     ]
    }
   ],
   "source": [
    "library(randomForest)"
   ]
  },
  {
   "cell_type": "code",
   "execution_count": 5,
   "metadata": {},
   "outputs": [],
   "source": [
    "credito = read.csv(file.choose(), sep = ',', header=T) #arquivo credit.csv"
   ]
  },
  {
   "cell_type": "code",
   "execution_count": 6,
   "metadata": {},
   "outputs": [
    {
     "data": {
      "text/plain": [
       "      checking_status    duration                             credit_history\n",
       " 'no checking':394    Min.   : 4.0   'all paid'                      : 49   \n",
       " <0           :274    1st Qu.:12.0   'critical/other existing credit':293   \n",
       " >=200        : 63    Median :18.0   'delayed previously'            : 88   \n",
       " 0<=X<200     :269    Mean   :20.9   'existing paid'                 :530   \n",
       "                      3rd Qu.:24.0   'no credits/all paid'           : 40   \n",
       "                      Max.   :72.0                                          \n",
       "                                                                            \n",
       "                purpose    credit_amount              savings_status\n",
       " radio/tv           :280   Min.   :  250   'no known savings':183   \n",
       " 'new car'          :234   1st Qu.: 1366   <100              :603   \n",
       " furniture/equipment:181   Median : 2320   >=1000            : 48   \n",
       " 'used car'         :103   Mean   : 3271   100<=X<500        :103   \n",
       " business           : 97   3rd Qu.: 3972   500<=X<1000       : 63   \n",
       " education          : 50   Max.   :18424                            \n",
       " (Other)            : 55                                            \n",
       "      employment  installment_commitment             personal_status\n",
       " <1        :172   Min.   :1.000          'female div/dep/mar':310   \n",
       " >=7       :253   1st Qu.:2.000          'male div/sep'      : 50   \n",
       " 1<=X<4    :339   Median :3.000          'male mar/wid'      : 92   \n",
       " 4<=X<7    :174   Mean   :2.973          'male single'       :548   \n",
       " unemployed: 62   3rd Qu.:4.000                                     \n",
       "                  Max.   :4.000                                     \n",
       "                                                                    \n",
       "        other_parties residence_since           property_magnitude\n",
       " 'co applicant': 41   Min.   :1.000   'life insurance'   :232     \n",
       " guarantor     : 52   1st Qu.:2.000   'no known property':154     \n",
       " none          :907   Median :3.000   'real estate'      :282     \n",
       "                      Mean   :2.845   car                :332     \n",
       "                      3rd Qu.:4.000                               \n",
       "                      Max.   :4.000                               \n",
       "                                                                  \n",
       "      age        other_payment_plans       housing    existing_credits\n",
       " Min.   :19.00   bank  :139          'for free':108   Min.   :1.000   \n",
       " 1st Qu.:27.00   none  :814          own       :713   1st Qu.:1.000   \n",
       " Median :33.00   stores: 47          rent      :179   Median :1.000   \n",
       " Mean   :35.55                                        Mean   :1.407   \n",
       " 3rd Qu.:42.00                                        3rd Qu.:2.000   \n",
       " Max.   :75.00                                        Max.   :4.000   \n",
       "                                                                      \n",
       "                          job      num_dependents  own_telephone foreign_worker\n",
       " 'high qualif/self emp/mgmt':148   Min.   :1.000   none:596      no : 37       \n",
       " 'unemp/unskilled non res'  : 22   1st Qu.:1.000   yes :404      yes:963       \n",
       " 'unskilled resident'       :200   Median :1.000                               \n",
       " skilled                    :630   Mean   :1.155                               \n",
       "                                   3rd Qu.:1.000                               \n",
       "                                   Max.   :2.000                               \n",
       "                                                                               \n",
       "  class    \n",
       " bad :300  \n",
       " good:700  \n",
       "           \n",
       "           \n",
       "           \n",
       "           \n",
       "           "
      ]
     },
     "metadata": {},
     "output_type": "display_data"
    }
   ],
   "source": [
    "summary(credito)"
   ]
  },
  {
   "cell_type": "code",
   "execution_count": 4,
   "metadata": {},
   "outputs": [],
   "source": [
    "amostra = sample(2,1000, replace = T, prob= c(0.7, 0.3))\n",
    "creditotreino = credito[amostra==1,]\n",
    "creditoteste = credito[amostra==2,]"
   ]
  },
  {
   "cell_type": "code",
   "execution_count": 5,
   "metadata": {},
   "outputs": [],
   "source": [
    "#floresta = randomForest (class ~. (classe e atributos), data=creditotreino (dado a ser pego), ntree = 100 (numero de arvores envolvidas), importance = T)\n",
    "floresta = randomForest (class ~., data=creditotreino, ntree = 100, importance = T)"
   ]
  },
  {
   "cell_type": "code",
   "execution_count": 6,
   "metadata": {},
   "outputs": [
    {
     "data": {
      "image/png": "[encoded data removed]",
      "text/plain": [
       "plot without title"
      ]
     },
     "metadata": {},
     "output_type": "display_data",
     "source": "R display func"
    }
   ],
   "source": [
    "varImpPlot (floresta)"
   ]
  },
  {
   "cell_type": "code",
   "execution_count": null,
   "metadata": {},
   "outputs": [],
   "source": [
    "#meanDecreaseAccuracy = quanto pior o modelo ficaria sem o atributo\n",
    "#meanDecreaseGini = indice gini para testar a pureza dos nós da árvore"
   ]
  },
  {
   "cell_type": "code",
   "execution_count": 7,
   "metadata": {},
   "outputs": [],
   "source": [
    "previsao = predict(floresta, creditoteste)"
   ]
  },
  {
   "cell_type": "code",
   "execution_count": 9,
   "metadata": {},
   "outputs": [],
   "source": [
    "confusao = table(previsao,creditoteste$class)"
   ]
  },
  {
   "cell_type": "code",
   "execution_count": 10,
   "metadata": {},
   "outputs": [
    {
     "data": {
      "text/plain": [
       "        \n",
       "previsao bad good\n",
       "    bad   37   12\n",
       "    good  53  178"
      ]
     },
     "metadata": {},
     "output_type": "display_data"
    }
   ],
   "source": [
    "confusao"
   ]
  },
  {
   "cell_type": "code",
   "execution_count": 11,
   "metadata": {},
   "outputs": [],
   "source": [
    "taxaacerto = (confusao[1] + confusao[4]) / sum(confusao)"
   ]
  },
  {
   "cell_type": "code",
   "execution_count": 12,
   "metadata": {},
   "outputs": [
    {
     "data": {
      "text/html": [
       "0.767857142857143"
      ],
      "text/latex": [
       "0.767857142857143"
      ],
      "text/markdown": [
       "0.767857142857143"
      ],
      "text/plain": [
       "[1] 0.7678571"
      ]
     },
     "metadata": {},
     "output_type": "display_data"
    }
   ],
   "source": [
    "taxaacerto"
   ]
  },
  {
   "cell_type": "code",
   "execution_count": 13,
   "metadata": {},
   "outputs": [],
   "source": [
    "taxaerro = (confusao[2] + confusao[3]) / sum(confusao)"
   ]
  },
  {
   "cell_type": "code",
   "execution_count": 14,
   "metadata": {},
   "outputs": [
    {
     "data": {
      "text/html": [
       "0.232142857142857"
      ],
      "text/latex": [
       "0.232142857142857"
      ],
      "text/markdown": [
       "0.232142857142857"
      ],
      "text/plain": [
       "[1] 0.2321429"
      ]
     },
     "metadata": {},
     "output_type": "display_data"
    }
   ],
   "source": [
    "taxaerro"
   ]
  },
  {
   "cell_type": "markdown",
   "metadata": {},
   "source": [
    "## Conclusão indices maiores com os mesmos dados"
   ]
  }
 ],
 "metadata": {
  "kernelspec": {
   "display_name": "R",
   "language": "R",
   "name": "ir"
  },
  "language_info": {
   "codemirror_mode": "r",
   "file_extension": ".r",
   "mimetype": "text/x-r-source",
   "name": "R",
   "pygments_lexer": "r",
   "version": "3.4.3"
  }
 },
 "nbformat": 4,
 "nbformat_minor": 2
}
