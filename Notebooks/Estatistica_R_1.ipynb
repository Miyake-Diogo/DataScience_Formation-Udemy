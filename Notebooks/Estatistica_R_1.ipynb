{
 "cells": [
  {
   "cell_type": "markdown",
   "metadata": {},
   "source": [
    "# **Estatística usando o R**"
   ]
  },
  {
   "cell_type": "markdown",
   "metadata": {},
   "source": [
    "### O intuito deste material é mostrar algumas funções básicas de estatistica usando o R"
   ]
  },
  {
   "cell_type": "markdown",
   "metadata": {},
   "source": [
    "```\n",
    "Começando pela amostragem:\n",
    "sample();\n",
    "Geração de amostra aleatória simples, com ou sem reposição \n",
    "strata();\n",
    "Geração de amostra extratificada\n",
    "S.SY();\n",
    "Geração de amostra sistemática\n",
    "```"
   ]
  },
  {
   "cell_type": "markdown",
   "metadata": {},
   "source": [
    "### Amostra aleatória simples"
   ]
  },
  {
   "cell_type": "code",
   "execution_count": 5,
   "metadata": {},
   "outputs": [
    {
     "data": {
      "text/html": [
       "<table>\n",
       "<thead><tr><th scope=col>Sepal.Length</th><th scope=col>Sepal.Width</th><th scope=col>Petal.Length</th><th scope=col>Petal.Width</th><th scope=col>Species</th></tr></thead>\n",
       "<tbody>\n",
       "\t<tr><td>5.1   </td><td>3.5   </td><td>1.4   </td><td>0.2   </td><td>setosa</td></tr>\n",
       "\t<tr><td>4.9   </td><td>3.0   </td><td>1.4   </td><td>0.2   </td><td>setosa</td></tr>\n",
       "\t<tr><td>4.7   </td><td>3.2   </td><td>1.3   </td><td>0.2   </td><td>setosa</td></tr>\n",
       "\t<tr><td>4.6   </td><td>3.1   </td><td>1.5   </td><td>0.2   </td><td>setosa</td></tr>\n",
       "\t<tr><td>5.0   </td><td>3.6   </td><td>1.4   </td><td>0.2   </td><td>setosa</td></tr>\n",
       "\t<tr><td>5.4   </td><td>3.9   </td><td>1.7   </td><td>0.4   </td><td>setosa</td></tr>\n",
       "</tbody>\n",
       "</table>\n"
      ],
      "text/latex": [
       "\\begin{tabular}{r|lllll}\n",
       " Sepal.Length & Sepal.Width & Petal.Length & Petal.Width & Species\\\\\n",
       "\\hline\n",
       "\t 5.1    & 3.5    & 1.4    & 0.2    & setosa\\\\\n",
       "\t 4.9    & 3.0    & 1.4    & 0.2    & setosa\\\\\n",
       "\t 4.7    & 3.2    & 1.3    & 0.2    & setosa\\\\\n",
       "\t 4.6    & 3.1    & 1.5    & 0.2    & setosa\\\\\n",
       "\t 5.0    & 3.6    & 1.4    & 0.2    & setosa\\\\\n",
       "\t 5.4    & 3.9    & 1.7    & 0.4    & setosa\\\\\n",
       "\\end{tabular}\n"
      ],
      "text/markdown": [
       "\n",
       "Sepal.Length | Sepal.Width | Petal.Length | Petal.Width | Species | \n",
       "|---|---|---|---|---|---|\n",
       "| 5.1    | 3.5    | 1.4    | 0.2    | setosa | \n",
       "| 4.9    | 3.0    | 1.4    | 0.2    | setosa | \n",
       "| 4.7    | 3.2    | 1.3    | 0.2    | setosa | \n",
       "| 4.6    | 3.1    | 1.5    | 0.2    | setosa | \n",
       "| 5.0    | 3.6    | 1.4    | 0.2    | setosa | \n",
       "| 5.4    | 3.9    | 1.7    | 0.4    | setosa | \n",
       "\n",
       "\n"
      ],
      "text/plain": [
       "  Sepal.Length Sepal.Width Petal.Length Petal.Width Species\n",
       "1 5.1          3.5         1.4          0.2         setosa \n",
       "2 4.9          3.0         1.4          0.2         setosa \n",
       "3 4.7          3.2         1.3          0.2         setosa \n",
       "4 4.6          3.1         1.5          0.2         setosa \n",
       "5 5.0          3.6         1.4          0.2         setosa \n",
       "6 5.4          3.9         1.7          0.4         setosa "
      ]
     },
     "metadata": {},
     "output_type": "display_data"
    }
   ],
   "source": [
    "head(iris) #head mostra as primeiras linhas"
   ]
  },
  {
   "cell_type": "code",
   "execution_count": 7,
   "metadata": {},
   "outputs": [
    {
     "data": {
      "text/html": [
       "<ol class=list-inline>\n",
       "\t<li>150</li>\n",
       "\t<li>5</li>\n",
       "</ol>\n"
      ],
      "text/latex": [
       "\\begin{enumerate*}\n",
       "\\item 150\n",
       "\\item 5\n",
       "\\end{enumerate*}\n"
      ],
      "text/markdown": [
       "1. 150\n",
       "2. 5\n",
       "\n",
       "\n"
      ],
      "text/plain": [
       "[1] 150   5"
      ]
     },
     "metadata": {},
     "output_type": "display_data"
    }
   ],
   "source": [
    "dim(iris) #mostra a dimensão do dataset"
   ]
  },
  {
   "cell_type": "code",
   "execution_count": 8,
   "metadata": {},
   "outputs": [],
   "source": [
    "amostra = sample(c(0,1),150, replace = TRUE, prob =c(0.5,0.5 )) \n",
    "#sample recebe 4 parametros (conjunto de dados, quantidade de num. aleatorios, reposição ou não, vetor de probabilidade)"
   ]
  },
  {
   "cell_type": "code",
   "execution_count": 9,
   "metadata": {},
   "outputs": [
    {
     "data": {
      "text/html": [
       "<ol class=list-inline>\n",
       "\t<li>1</li>\n",
       "\t<li>0</li>\n",
       "\t<li>0</li>\n",
       "\t<li>1</li>\n",
       "\t<li>1</li>\n",
       "\t<li>1</li>\n",
       "\t<li>1</li>\n",
       "\t<li>1</li>\n",
       "\t<li>1</li>\n",
       "\t<li>1</li>\n",
       "\t<li>1</li>\n",
       "\t<li>0</li>\n",
       "\t<li>0</li>\n",
       "\t<li>1</li>\n",
       "\t<li>0</li>\n",
       "\t<li>0</li>\n",
       "\t<li>1</li>\n",
       "\t<li>1</li>\n",
       "\t<li>1</li>\n",
       "\t<li>0</li>\n",
       "\t<li>0</li>\n",
       "\t<li>1</li>\n",
       "\t<li>1</li>\n",
       "\t<li>1</li>\n",
       "\t<li>0</li>\n",
       "\t<li>0</li>\n",
       "\t<li>0</li>\n",
       "\t<li>0</li>\n",
       "\t<li>0</li>\n",
       "\t<li>0</li>\n",
       "\t<li>0</li>\n",
       "\t<li>1</li>\n",
       "\t<li>0</li>\n",
       "\t<li>1</li>\n",
       "\t<li>0</li>\n",
       "\t<li>1</li>\n",
       "\t<li>0</li>\n",
       "\t<li>0</li>\n",
       "\t<li>1</li>\n",
       "\t<li>1</li>\n",
       "\t<li>1</li>\n",
       "\t<li>0</li>\n",
       "\t<li>0</li>\n",
       "\t<li>0</li>\n",
       "\t<li>1</li>\n",
       "\t<li>1</li>\n",
       "\t<li>1</li>\n",
       "\t<li>0</li>\n",
       "\t<li>1</li>\n",
       "\t<li>0</li>\n",
       "\t<li>1</li>\n",
       "\t<li>0</li>\n",
       "\t<li>1</li>\n",
       "\t<li>1</li>\n",
       "\t<li>0</li>\n",
       "\t<li>0</li>\n",
       "\t<li>0</li>\n",
       "\t<li>0</li>\n",
       "\t<li>1</li>\n",
       "\t<li>0</li>\n",
       "\t<li>0</li>\n",
       "\t<li>1</li>\n",
       "\t<li>0</li>\n",
       "\t<li>1</li>\n",
       "\t<li>1</li>\n",
       "\t<li>0</li>\n",
       "\t<li>1</li>\n",
       "\t<li>0</li>\n",
       "\t<li>1</li>\n",
       "\t<li>0</li>\n",
       "\t<li>0</li>\n",
       "\t<li>1</li>\n",
       "\t<li>1</li>\n",
       "\t<li>1</li>\n",
       "\t<li>0</li>\n",
       "\t<li>0</li>\n",
       "\t<li>1</li>\n",
       "\t<li>0</li>\n",
       "\t<li>1</li>\n",
       "\t<li>1</li>\n",
       "\t<li>1</li>\n",
       "\t<li>0</li>\n",
       "\t<li>0</li>\n",
       "\t<li>1</li>\n",
       "\t<li>0</li>\n",
       "\t<li>0</li>\n",
       "\t<li>0</li>\n",
       "\t<li>0</li>\n",
       "\t<li>1</li>\n",
       "\t<li>1</li>\n",
       "\t<li>0</li>\n",
       "\t<li>1</li>\n",
       "\t<li>0</li>\n",
       "\t<li>1</li>\n",
       "\t<li>1</li>\n",
       "\t<li>1</li>\n",
       "\t<li>1</li>\n",
       "\t<li>0</li>\n",
       "\t<li>1</li>\n",
       "\t<li>0</li>\n",
       "\t<li>1</li>\n",
       "\t<li>1</li>\n",
       "\t<li>1</li>\n",
       "\t<li>0</li>\n",
       "\t<li>0</li>\n",
       "\t<li>0</li>\n",
       "\t<li>1</li>\n",
       "\t<li>0</li>\n",
       "\t<li>1</li>\n",
       "\t<li>1</li>\n",
       "\t<li>0</li>\n",
       "\t<li>0</li>\n",
       "\t<li>1</li>\n",
       "\t<li>1</li>\n",
       "\t<li>0</li>\n",
       "\t<li>1</li>\n",
       "\t<li>0</li>\n",
       "\t<li>1</li>\n",
       "\t<li>1</li>\n",
       "\t<li>1</li>\n",
       "\t<li>1</li>\n",
       "\t<li>0</li>\n",
       "\t<li>1</li>\n",
       "\t<li>0</li>\n",
       "\t<li>0</li>\n",
       "\t<li>1</li>\n",
       "\t<li>0</li>\n",
       "\t<li>1</li>\n",
       "\t<li>0</li>\n",
       "\t<li>1</li>\n",
       "\t<li>1</li>\n",
       "\t<li>0</li>\n",
       "\t<li>1</li>\n",
       "\t<li>1</li>\n",
       "\t<li>1</li>\n",
       "\t<li>1</li>\n",
       "\t<li>1</li>\n",
       "\t<li>0</li>\n",
       "\t<li>0</li>\n",
       "\t<li>1</li>\n",
       "\t<li>1</li>\n",
       "\t<li>0</li>\n",
       "\t<li>1</li>\n",
       "\t<li>0</li>\n",
       "\t<li>0</li>\n",
       "\t<li>1</li>\n",
       "\t<li>1</li>\n",
       "\t<li>0</li>\n",
       "\t<li>1</li>\n",
       "\t<li>0</li>\n",
       "</ol>\n"
      ],
      "text/latex": [
       "\\begin{enumerate*}\n",
       "\\item 1\n",
       "\\item 0\n",
       "\\item 0\n",
       "\\item 1\n",
       "\\item 1\n",
       "\\item 1\n",
       "\\item 1\n",
       "\\item 1\n",
       "\\item 1\n",
       "\\item 1\n",
       "\\item 1\n",
       "\\item 0\n",
       "\\item 0\n",
       "\\item 1\n",
       "\\item 0\n",
       "\\item 0\n",
       "\\item 1\n",
       "\\item 1\n",
       "\\item 1\n",
       "\\item 0\n",
       "\\item 0\n",
       "\\item 1\n",
       "\\item 1\n",
       "\\item 1\n",
       "\\item 0\n",
       "\\item 0\n",
       "\\item 0\n",
       "\\item 0\n",
       "\\item 0\n",
       "\\item 0\n",
       "\\item 0\n",
       "\\item 1\n",
       "\\item 0\n",
       "\\item 1\n",
       "\\item 0\n",
       "\\item 1\n",
       "\\item 0\n",
       "\\item 0\n",
       "\\item 1\n",
       "\\item 1\n",
       "\\item 1\n",
       "\\item 0\n",
       "\\item 0\n",
       "\\item 0\n",
       "\\item 1\n",
       "\\item 1\n",
       "\\item 1\n",
       "\\item 0\n",
       "\\item 1\n",
       "\\item 0\n",
       "\\item 1\n",
       "\\item 0\n",
       "\\item 1\n",
       "\\item 1\n",
       "\\item 0\n",
       "\\item 0\n",
       "\\item 0\n",
       "\\item 0\n",
       "\\item 1\n",
       "\\item 0\n",
       "\\item 0\n",
       "\\item 1\n",
       "\\item 0\n",
       "\\item 1\n",
       "\\item 1\n",
       "\\item 0\n",
       "\\item 1\n",
       "\\item 0\n",
       "\\item 1\n",
       "\\item 0\n",
       "\\item 0\n",
       "\\item 1\n",
       "\\item 1\n",
       "\\item 1\n",
       "\\item 0\n",
       "\\item 0\n",
       "\\item 1\n",
       "\\item 0\n",
       "\\item 1\n",
       "\\item 1\n",
       "\\item 1\n",
       "\\item 0\n",
       "\\item 0\n",
       "\\item 1\n",
       "\\item 0\n",
       "\\item 0\n",
       "\\item 0\n",
       "\\item 0\n",
       "\\item 1\n",
       "\\item 1\n",
       "\\item 0\n",
       "\\item 1\n",
       "\\item 0\n",
       "\\item 1\n",
       "\\item 1\n",
       "\\item 1\n",
       "\\item 1\n",
       "\\item 0\n",
       "\\item 1\n",
       "\\item 0\n",
       "\\item 1\n",
       "\\item 1\n",
       "\\item 1\n",
       "\\item 0\n",
       "\\item 0\n",
       "\\item 0\n",
       "\\item 1\n",
       "\\item 0\n",
       "\\item 1\n",
       "\\item 1\n",
       "\\item 0\n",
       "\\item 0\n",
       "\\item 1\n",
       "\\item 1\n",
       "\\item 0\n",
       "\\item 1\n",
       "\\item 0\n",
       "\\item 1\n",
       "\\item 1\n",
       "\\item 1\n",
       "\\item 1\n",
       "\\item 0\n",
       "\\item 1\n",
       "\\item 0\n",
       "\\item 0\n",
       "\\item 1\n",
       "\\item 0\n",
       "\\item 1\n",
       "\\item 0\n",
       "\\item 1\n",
       "\\item 1\n",
       "\\item 0\n",
       "\\item 1\n",
       "\\item 1\n",
       "\\item 1\n",
       "\\item 1\n",
       "\\item 1\n",
       "\\item 0\n",
       "\\item 0\n",
       "\\item 1\n",
       "\\item 1\n",
       "\\item 0\n",
       "\\item 1\n",
       "\\item 0\n",
       "\\item 0\n",
       "\\item 1\n",
       "\\item 1\n",
       "\\item 0\n",
       "\\item 1\n",
       "\\item 0\n",
       "\\end{enumerate*}\n"
      ],
      "text/markdown": [
       "1. 1\n",
       "2. 0\n",
       "3. 0\n",
       "4. 1\n",
       "5. 1\n",
       "6. 1\n",
       "7. 1\n",
       "8. 1\n",
       "9. 1\n",
       "10. 1\n",
       "11. 1\n",
       "12. 0\n",
       "13. 0\n",
       "14. 1\n",
       "15. 0\n",
       "16. 0\n",
       "17. 1\n",
       "18. 1\n",
       "19. 1\n",
       "20. 0\n",
       "21. 0\n",
       "22. 1\n",
       "23. 1\n",
       "24. 1\n",
       "25. 0\n",
       "26. 0\n",
       "27. 0\n",
       "28. 0\n",
       "29. 0\n",
       "30. 0\n",
       "31. 0\n",
       "32. 1\n",
       "33. 0\n",
       "34. 1\n",
       "35. 0\n",
       "36. 1\n",
       "37. 0\n",
       "38. 0\n",
       "39. 1\n",
       "40. 1\n",
       "41. 1\n",
       "42. 0\n",
       "43. 0\n",
       "44. 0\n",
       "45. 1\n",
       "46. 1\n",
       "47. 1\n",
       "48. 0\n",
       "49. 1\n",
       "50. 0\n",
       "51. 1\n",
       "52. 0\n",
       "53. 1\n",
       "54. 1\n",
       "55. 0\n",
       "56. 0\n",
       "57. 0\n",
       "58. 0\n",
       "59. 1\n",
       "60. 0\n",
       "61. 0\n",
       "62. 1\n",
       "63. 0\n",
       "64. 1\n",
       "65. 1\n",
       "66. 0\n",
       "67. 1\n",
       "68. 0\n",
       "69. 1\n",
       "70. 0\n",
       "71. 0\n",
       "72. 1\n",
       "73. 1\n",
       "74. 1\n",
       "75. 0\n",
       "76. 0\n",
       "77. 1\n",
       "78. 0\n",
       "79. 1\n",
       "80. 1\n",
       "81. 1\n",
       "82. 0\n",
       "83. 0\n",
       "84. 1\n",
       "85. 0\n",
       "86. 0\n",
       "87. 0\n",
       "88. 0\n",
       "89. 1\n",
       "90. 1\n",
       "91. 0\n",
       "92. 1\n",
       "93. 0\n",
       "94. 1\n",
       "95. 1\n",
       "96. 1\n",
       "97. 1\n",
       "98. 0\n",
       "99. 1\n",
       "100. 0\n",
       "101. 1\n",
       "102. 1\n",
       "103. 1\n",
       "104. 0\n",
       "105. 0\n",
       "106. 0\n",
       "107. 1\n",
       "108. 0\n",
       "109. 1\n",
       "110. 1\n",
       "111. 0\n",
       "112. 0\n",
       "113. 1\n",
       "114. 1\n",
       "115. 0\n",
       "116. 1\n",
       "117. 0\n",
       "118. 1\n",
       "119. 1\n",
       "120. 1\n",
       "121. 1\n",
       "122. 0\n",
       "123. 1\n",
       "124. 0\n",
       "125. 0\n",
       "126. 1\n",
       "127. 0\n",
       "128. 1\n",
       "129. 0\n",
       "130. 1\n",
       "131. 1\n",
       "132. 0\n",
       "133. 1\n",
       "134. 1\n",
       "135. 1\n",
       "136. 1\n",
       "137. 1\n",
       "138. 0\n",
       "139. 0\n",
       "140. 1\n",
       "141. 1\n",
       "142. 0\n",
       "143. 1\n",
       "144. 0\n",
       "145. 0\n",
       "146. 1\n",
       "147. 1\n",
       "148. 0\n",
       "149. 1\n",
       "150. 0\n",
       "\n",
       "\n"
      ],
      "text/plain": [
       "  [1] 1 0 0 1 1 1 1 1 1 1 1 0 0 1 0 0 1 1 1 0 0 1 1 1 0 0 0 0 0 0 0 1 0 1 0 1 0\n",
       " [38] 0 1 1 1 0 0 0 1 1 1 0 1 0 1 0 1 1 0 0 0 0 1 0 0 1 0 1 1 0 1 0 1 0 0 1 1 1\n",
       " [75] 0 0 1 0 1 1 1 0 0 1 0 0 0 0 1 1 0 1 0 1 1 1 1 0 1 0 1 1 1 0 0 0 1 0 1 1 0\n",
       "[112] 0 1 1 0 1 0 1 1 1 1 0 1 0 0 1 0 1 0 1 1 0 1 1 1 1 1 0 0 1 1 0 1 0 0 1 1 0\n",
       "[149] 1 0"
      ]
     },
     "metadata": {},
     "output_type": "display_data"
    }
   ],
   "source": [
    "amostra"
   ]
  },
  {
   "cell_type": "code",
   "execution_count": 11,
   "metadata": {},
   "outputs": [
    {
     "data": {
      "text/html": [
       "80"
      ],
      "text/latex": [
       "80"
      ],
      "text/markdown": [
       "80"
      ],
      "text/plain": [
       "[1] 80"
      ]
     },
     "metadata": {},
     "output_type": "display_data"
    }
   ],
   "source": [
    "length(amostra[amostra==1]) #comprimento da amostra para 1"
   ]
  },
  {
   "cell_type": "code",
   "execution_count": 13,
   "metadata": {},
   "outputs": [
    {
     "data": {
      "text/html": [
       "70"
      ],
      "text/latex": [
       "70"
      ],
      "text/markdown": [
       "70"
      ],
      "text/plain": [
       "[1] 70"
      ]
     },
     "metadata": {},
     "output_type": "display_data"
    }
   ],
   "source": [
    "length(amostra[amostra==0]) #comprimento da amostra para 0"
   ]
  },
  {
   "cell_type": "code",
   "execution_count": 19,
   "metadata": {},
   "outputs": [],
   "source": [
    "set.seed(2345) #retorna sempre o mesmo valor para uma semente de aleatoriedade"
   ]
  },
  {
   "cell_type": "code",
   "execution_count": 21,
   "metadata": {},
   "outputs": [
    {
     "data": {
      "text/html": [
       "20"
      ],
      "text/latex": [
       "20"
      ],
      "text/markdown": [
       "20"
      ],
      "text/plain": [
       "[1] 20"
      ]
     },
     "metadata": {},
     "output_type": "display_data"
    }
   ],
   "source": [
    "sample(c(100),1) #amostra simples para o set.seed, tem de ser feitos em seguida para gerar o mesmo valor de seed"
   ]
  },
  {
   "cell_type": "code",
   "execution_count": 22,
   "metadata": {},
   "outputs": [
    {
     "data": {
      "text/plain": [
       "  Sepal.Length    Sepal.Width     Petal.Length    Petal.Width   \n",
       " Min.   :4.300   Min.   :2.000   Min.   :1.000   Min.   :0.100  \n",
       " 1st Qu.:5.100   1st Qu.:2.800   1st Qu.:1.600   1st Qu.:0.300  \n",
       " Median :5.800   Median :3.000   Median :4.350   Median :1.300  \n",
       " Mean   :5.843   Mean   :3.057   Mean   :3.758   Mean   :1.199  \n",
       " 3rd Qu.:6.400   3rd Qu.:3.300   3rd Qu.:5.100   3rd Qu.:1.800  \n",
       " Max.   :7.900   Max.   :4.400   Max.   :6.900   Max.   :2.500  \n",
       "       Species  \n",
       " setosa    :50  \n",
       " versicolor:50  \n",
       " virginica :50  \n",
       "                \n",
       "                \n",
       "                "
      ]
     },
     "metadata": {},
     "output_type": "display_data"
    }
   ],
   "source": [
    "summary(iris)"
   ]
  },
  {
   "cell_type": "markdown",
   "metadata": {},
   "source": [
    "#instalar o pacote Sampling caso não tenha"
   ]
  },
  {
   "cell_type": "code",
   "execution_count": 29,
   "metadata": {},
   "outputs": [
    {
     "name": "stderr",
     "output_type": "stream",
     "text": [
      "Installing package into 'C:/Users/dmiyake/Documents/R/win-library/3.4'\n",
      "(as 'lib' is unspecified)\n"
     ]
    },
    {
     "name": "stdout",
     "output_type": "stream",
     "text": [
      "package 'sampling' successfully unpacked and MD5 sums checked\n",
      "\n",
      "The downloaded binary packages are in\n",
      "\tC:\\Users\\dmiyake\\AppData\\Local\\Temp\\RtmpOGPU0j\\downloaded_packages\n"
     ]
    }
   ],
   "source": [
    "install.packages(\"sampling\")"
   ]
  },
  {
   "cell_type": "code",
   "execution_count": 33,
   "metadata": {},
   "outputs": [],
   "source": [
    "library(sampling)"
   ]
  },
  {
   "cell_type": "markdown",
   "metadata": {},
   "source": [
    "#para a amostra extratificada\n",
    "#os parametros são (conjunto de dados, vetor com as colunas, vetor com o tamanho de cada extrato, metodo)"
   ]
  },
  {
   "cell_type": "code",
   "execution_count": 51,
   "metadata": {},
   "outputs": [],
   "source": [
    "amostra_iris2 = strata(iris, c(\"Species\"), size = c(25,25,25), method = \"srswor\") \n",
    "#metodo srswor é padrão sem reposição."
   ]
  },
  {
   "cell_type": "code",
   "execution_count": 36,
   "metadata": {},
   "outputs": [
    {
     "data": {
      "text/html": [
       "<table>\n",
       "<thead><tr><th></th><th scope=col>Species</th><th scope=col>ID_unit</th><th scope=col>Prob</th><th scope=col>Stratum</th></tr></thead>\n",
       "<tbody>\n",
       "\t<tr><th scope=row>2</th><td>setosa    </td><td> 2        </td><td>0.5       </td><td>1         </td></tr>\n",
       "\t<tr><th scope=row>4</th><td>setosa    </td><td> 4        </td><td>0.5       </td><td>1         </td></tr>\n",
       "\t<tr><th scope=row>6</th><td>setosa    </td><td> 6        </td><td>0.5       </td><td>1         </td></tr>\n",
       "\t<tr><th scope=row>7</th><td>setosa    </td><td> 7        </td><td>0.5       </td><td>1         </td></tr>\n",
       "\t<tr><th scope=row>10</th><td>setosa    </td><td>10        </td><td>0.5       </td><td>1         </td></tr>\n",
       "\t<tr><th scope=row>13</th><td>setosa    </td><td>13        </td><td>0.5       </td><td>1         </td></tr>\n",
       "\t<tr><th scope=row>14</th><td>setosa    </td><td>14        </td><td>0.5       </td><td>1         </td></tr>\n",
       "\t<tr><th scope=row>15</th><td>setosa    </td><td>15        </td><td>0.5       </td><td>1         </td></tr>\n",
       "\t<tr><th scope=row>16</th><td>setosa    </td><td>16        </td><td>0.5       </td><td>1         </td></tr>\n",
       "\t<tr><th scope=row>18</th><td>setosa    </td><td>18        </td><td>0.5       </td><td>1         </td></tr>\n",
       "\t<tr><th scope=row>23</th><td>setosa    </td><td>23        </td><td>0.5       </td><td>1         </td></tr>\n",
       "\t<tr><th scope=row>24</th><td>setosa    </td><td>24        </td><td>0.5       </td><td>1         </td></tr>\n",
       "\t<tr><th scope=row>25</th><td>setosa    </td><td>25        </td><td>0.5       </td><td>1         </td></tr>\n",
       "\t<tr><th scope=row>28</th><td>setosa    </td><td>28        </td><td>0.5       </td><td>1         </td></tr>\n",
       "\t<tr><th scope=row>31</th><td>setosa    </td><td>31        </td><td>0.5       </td><td>1         </td></tr>\n",
       "\t<tr><th scope=row>32</th><td>setosa    </td><td>32        </td><td>0.5       </td><td>1         </td></tr>\n",
       "\t<tr><th scope=row>35</th><td>setosa    </td><td>35        </td><td>0.5       </td><td>1         </td></tr>\n",
       "\t<tr><th scope=row>36</th><td>setosa    </td><td>36        </td><td>0.5       </td><td>1         </td></tr>\n",
       "\t<tr><th scope=row>38</th><td>setosa    </td><td>38        </td><td>0.5       </td><td>1         </td></tr>\n",
       "\t<tr><th scope=row>40</th><td>setosa    </td><td>40        </td><td>0.5       </td><td>1         </td></tr>\n",
       "\t<tr><th scope=row>41</th><td>setosa    </td><td>41        </td><td>0.5       </td><td>1         </td></tr>\n",
       "\t<tr><th scope=row>42</th><td>setosa    </td><td>42        </td><td>0.5       </td><td>1         </td></tr>\n",
       "\t<tr><th scope=row>45</th><td>setosa    </td><td>45        </td><td>0.5       </td><td>1         </td></tr>\n",
       "\t<tr><th scope=row>48</th><td>setosa    </td><td>48        </td><td>0.5       </td><td>1         </td></tr>\n",
       "\t<tr><th scope=row>50</th><td>setosa    </td><td>50        </td><td>0.5       </td><td>1         </td></tr>\n",
       "\t<tr><th scope=row>53</th><td>versicolor</td><td>53        </td><td>0.5       </td><td>2         </td></tr>\n",
       "\t<tr><th scope=row>54</th><td>versicolor</td><td>54        </td><td>0.5       </td><td>2         </td></tr>\n",
       "\t<tr><th scope=row>56</th><td>versicolor</td><td>56        </td><td>0.5       </td><td>2         </td></tr>\n",
       "\t<tr><th scope=row>58</th><td>versicolor</td><td>58        </td><td>0.5       </td><td>2         </td></tr>\n",
       "\t<tr><th scope=row>59</th><td>versicolor</td><td>59        </td><td>0.5       </td><td>2         </td></tr>\n",
       "\t<tr><th scope=row>...</th><td>...</td><td>...</td><td>...</td><td>...</td></tr>\n",
       "\t<tr><th scope=row>90</th><td>versicolor</td><td> 90       </td><td>0.5       </td><td>2         </td></tr>\n",
       "\t<tr><th scope=row>92</th><td>versicolor</td><td> 92       </td><td>0.5       </td><td>2         </td></tr>\n",
       "\t<tr><th scope=row>94</th><td>versicolor</td><td> 94       </td><td>0.5       </td><td>2         </td></tr>\n",
       "\t<tr><th scope=row>96</th><td>versicolor</td><td> 96       </td><td>0.5       </td><td>2         </td></tr>\n",
       "\t<tr><th scope=row>99</th><td>versicolor</td><td> 99       </td><td>0.5       </td><td>2         </td></tr>\n",
       "\t<tr><th scope=row>101</th><td>virginica </td><td>101       </td><td>0.5       </td><td>3         </td></tr>\n",
       "\t<tr><th scope=row>102</th><td>virginica </td><td>102       </td><td>0.5       </td><td>3         </td></tr>\n",
       "\t<tr><th scope=row>104</th><td>virginica </td><td>104       </td><td>0.5       </td><td>3         </td></tr>\n",
       "\t<tr><th scope=row>106</th><td>virginica </td><td>106       </td><td>0.5       </td><td>3         </td></tr>\n",
       "\t<tr><th scope=row>110</th><td>virginica </td><td>110       </td><td>0.5       </td><td>3         </td></tr>\n",
       "\t<tr><th scope=row>111</th><td>virginica </td><td>111       </td><td>0.5       </td><td>3         </td></tr>\n",
       "\t<tr><th scope=row>113</th><td>virginica </td><td>113       </td><td>0.5       </td><td>3         </td></tr>\n",
       "\t<tr><th scope=row>114</th><td>virginica </td><td>114       </td><td>0.5       </td><td>3         </td></tr>\n",
       "\t<tr><th scope=row>115</th><td>virginica </td><td>115       </td><td>0.5       </td><td>3         </td></tr>\n",
       "\t<tr><th scope=row>116</th><td>virginica </td><td>116       </td><td>0.5       </td><td>3         </td></tr>\n",
       "\t<tr><th scope=row>119</th><td>virginica </td><td>119       </td><td>0.5       </td><td>3         </td></tr>\n",
       "\t<tr><th scope=row>122</th><td>virginica </td><td>122       </td><td>0.5       </td><td>3         </td></tr>\n",
       "\t<tr><th scope=row>125</th><td>virginica </td><td>125       </td><td>0.5       </td><td>3         </td></tr>\n",
       "\t<tr><th scope=row>126</th><td>virginica </td><td>126       </td><td>0.5       </td><td>3         </td></tr>\n",
       "\t<tr><th scope=row>127</th><td>virginica </td><td>127       </td><td>0.5       </td><td>3         </td></tr>\n",
       "\t<tr><th scope=row>128</th><td>virginica </td><td>128       </td><td>0.5       </td><td>3         </td></tr>\n",
       "\t<tr><th scope=row>129</th><td>virginica </td><td>129       </td><td>0.5       </td><td>3         </td></tr>\n",
       "\t<tr><th scope=row>131</th><td>virginica </td><td>131       </td><td>0.5       </td><td>3         </td></tr>\n",
       "\t<tr><th scope=row>134</th><td>virginica </td><td>134       </td><td>0.5       </td><td>3         </td></tr>\n",
       "\t<tr><th scope=row>136</th><td>virginica </td><td>136       </td><td>0.5       </td><td>3         </td></tr>\n",
       "\t<tr><th scope=row>137</th><td>virginica </td><td>137       </td><td>0.5       </td><td>3         </td></tr>\n",
       "\t<tr><th scope=row>140</th><td>virginica </td><td>140       </td><td>0.5       </td><td>3         </td></tr>\n",
       "\t<tr><th scope=row>142</th><td>virginica </td><td>142       </td><td>0.5       </td><td>3         </td></tr>\n",
       "\t<tr><th scope=row>143</th><td>virginica </td><td>143       </td><td>0.5       </td><td>3         </td></tr>\n",
       "\t<tr><th scope=row>150</th><td>virginica </td><td>150       </td><td>0.5       </td><td>3         </td></tr>\n",
       "</tbody>\n",
       "</table>\n"
      ],
      "text/latex": [
       "\\begin{tabular}{r|llll}\n",
       "  & Species & ID\\_unit & Prob & Stratum\\\\\n",
       "\\hline\n",
       "\t2 & setosa     &  2         & 0.5        & 1         \\\\\n",
       "\t4 & setosa     &  4         & 0.5        & 1         \\\\\n",
       "\t6 & setosa     &  6         & 0.5        & 1         \\\\\n",
       "\t7 & setosa     &  7         & 0.5        & 1         \\\\\n",
       "\t10 & setosa     & 10         & 0.5        & 1         \\\\\n",
       "\t13 & setosa     & 13         & 0.5        & 1         \\\\\n",
       "\t14 & setosa     & 14         & 0.5        & 1         \\\\\n",
       "\t15 & setosa     & 15         & 0.5        & 1         \\\\\n",
       "\t16 & setosa     & 16         & 0.5        & 1         \\\\\n",
       "\t18 & setosa     & 18         & 0.5        & 1         \\\\\n",
       "\t23 & setosa     & 23         & 0.5        & 1         \\\\\n",
       "\t24 & setosa     & 24         & 0.5        & 1         \\\\\n",
       "\t25 & setosa     & 25         & 0.5        & 1         \\\\\n",
       "\t28 & setosa     & 28         & 0.5        & 1         \\\\\n",
       "\t31 & setosa     & 31         & 0.5        & 1         \\\\\n",
       "\t32 & setosa     & 32         & 0.5        & 1         \\\\\n",
       "\t35 & setosa     & 35         & 0.5        & 1         \\\\\n",
       "\t36 & setosa     & 36         & 0.5        & 1         \\\\\n",
       "\t38 & setosa     & 38         & 0.5        & 1         \\\\\n",
       "\t40 & setosa     & 40         & 0.5        & 1         \\\\\n",
       "\t41 & setosa     & 41         & 0.5        & 1         \\\\\n",
       "\t42 & setosa     & 42         & 0.5        & 1         \\\\\n",
       "\t45 & setosa     & 45         & 0.5        & 1         \\\\\n",
       "\t48 & setosa     & 48         & 0.5        & 1         \\\\\n",
       "\t50 & setosa     & 50         & 0.5        & 1         \\\\\n",
       "\t53 & versicolor & 53         & 0.5        & 2         \\\\\n",
       "\t54 & versicolor & 54         & 0.5        & 2         \\\\\n",
       "\t56 & versicolor & 56         & 0.5        & 2         \\\\\n",
       "\t58 & versicolor & 58         & 0.5        & 2         \\\\\n",
       "\t59 & versicolor & 59         & 0.5        & 2         \\\\\n",
       "\t... & ... & ... & ... & ...\\\\\n",
       "\t90 & versicolor &  90        & 0.5        & 2         \\\\\n",
       "\t92 & versicolor &  92        & 0.5        & 2         \\\\\n",
       "\t94 & versicolor &  94        & 0.5        & 2         \\\\\n",
       "\t96 & versicolor &  96        & 0.5        & 2         \\\\\n",
       "\t99 & versicolor &  99        & 0.5        & 2         \\\\\n",
       "\t101 & virginica  & 101        & 0.5        & 3         \\\\\n",
       "\t102 & virginica  & 102        & 0.5        & 3         \\\\\n",
       "\t104 & virginica  & 104        & 0.5        & 3         \\\\\n",
       "\t106 & virginica  & 106        & 0.5        & 3         \\\\\n",
       "\t110 & virginica  & 110        & 0.5        & 3         \\\\\n",
       "\t111 & virginica  & 111        & 0.5        & 3         \\\\\n",
       "\t113 & virginica  & 113        & 0.5        & 3         \\\\\n",
       "\t114 & virginica  & 114        & 0.5        & 3         \\\\\n",
       "\t115 & virginica  & 115        & 0.5        & 3         \\\\\n",
       "\t116 & virginica  & 116        & 0.5        & 3         \\\\\n",
       "\t119 & virginica  & 119        & 0.5        & 3         \\\\\n",
       "\t122 & virginica  & 122        & 0.5        & 3         \\\\\n",
       "\t125 & virginica  & 125        & 0.5        & 3         \\\\\n",
       "\t126 & virginica  & 126        & 0.5        & 3         \\\\\n",
       "\t127 & virginica  & 127        & 0.5        & 3         \\\\\n",
       "\t128 & virginica  & 128        & 0.5        & 3         \\\\\n",
       "\t129 & virginica  & 129        & 0.5        & 3         \\\\\n",
       "\t131 & virginica  & 131        & 0.5        & 3         \\\\\n",
       "\t134 & virginica  & 134        & 0.5        & 3         \\\\\n",
       "\t136 & virginica  & 136        & 0.5        & 3         \\\\\n",
       "\t137 & virginica  & 137        & 0.5        & 3         \\\\\n",
       "\t140 & virginica  & 140        & 0.5        & 3         \\\\\n",
       "\t142 & virginica  & 142        & 0.5        & 3         \\\\\n",
       "\t143 & virginica  & 143        & 0.5        & 3         \\\\\n",
       "\t150 & virginica  & 150        & 0.5        & 3         \\\\\n",
       "\\end{tabular}\n"
      ],
      "text/markdown": [
       "\n",
       "| <!--/--> | Species | ID_unit | Prob | Stratum | \n",
       "|---|---|---|---|---|---|---|---|---|---|---|---|---|---|---|---|---|---|---|---|---|---|---|---|---|---|---|---|---|---|---|---|---|---|---|---|---|---|---|---|---|---|---|---|---|---|---|---|---|---|---|---|---|---|---|---|---|---|---|---|---|\n",
       "| 2 | setosa     |  2         | 0.5        | 1          | \n",
       "| 4 | setosa     |  4         | 0.5        | 1          | \n",
       "| 6 | setosa     |  6         | 0.5        | 1          | \n",
       "| 7 | setosa     |  7         | 0.5        | 1          | \n",
       "| 10 | setosa     | 10         | 0.5        | 1          | \n",
       "| 13 | setosa     | 13         | 0.5        | 1          | \n",
       "| 14 | setosa     | 14         | 0.5        | 1          | \n",
       "| 15 | setosa     | 15         | 0.5        | 1          | \n",
       "| 16 | setosa     | 16         | 0.5        | 1          | \n",
       "| 18 | setosa     | 18         | 0.5        | 1          | \n",
       "| 23 | setosa     | 23         | 0.5        | 1          | \n",
       "| 24 | setosa     | 24         | 0.5        | 1          | \n",
       "| 25 | setosa     | 25         | 0.5        | 1          | \n",
       "| 28 | setosa     | 28         | 0.5        | 1          | \n",
       "| 31 | setosa     | 31         | 0.5        | 1          | \n",
       "| 32 | setosa     | 32         | 0.5        | 1          | \n",
       "| 35 | setosa     | 35         | 0.5        | 1          | \n",
       "| 36 | setosa     | 36         | 0.5        | 1          | \n",
       "| 38 | setosa     | 38         | 0.5        | 1          | \n",
       "| 40 | setosa     | 40         | 0.5        | 1          | \n",
       "| 41 | setosa     | 41         | 0.5        | 1          | \n",
       "| 42 | setosa     | 42         | 0.5        | 1          | \n",
       "| 45 | setosa     | 45         | 0.5        | 1          | \n",
       "| 48 | setosa     | 48         | 0.5        | 1          | \n",
       "| 50 | setosa     | 50         | 0.5        | 1          | \n",
       "| 53 | versicolor | 53         | 0.5        | 2          | \n",
       "| 54 | versicolor | 54         | 0.5        | 2          | \n",
       "| 56 | versicolor | 56         | 0.5        | 2          | \n",
       "| 58 | versicolor | 58         | 0.5        | 2          | \n",
       "| 59 | versicolor | 59         | 0.5        | 2          | \n",
       "| ... | ... | ... | ... | ... | \n",
       "| 90 | versicolor |  90        | 0.5        | 2          | \n",
       "| 92 | versicolor |  92        | 0.5        | 2          | \n",
       "| 94 | versicolor |  94        | 0.5        | 2          | \n",
       "| 96 | versicolor |  96        | 0.5        | 2          | \n",
       "| 99 | versicolor |  99        | 0.5        | 2          | \n",
       "| 101 | virginica  | 101        | 0.5        | 3          | \n",
       "| 102 | virginica  | 102        | 0.5        | 3          | \n",
       "| 104 | virginica  | 104        | 0.5        | 3          | \n",
       "| 106 | virginica  | 106        | 0.5        | 3          | \n",
       "| 110 | virginica  | 110        | 0.5        | 3          | \n",
       "| 111 | virginica  | 111        | 0.5        | 3          | \n",
       "| 113 | virginica  | 113        | 0.5        | 3          | \n",
       "| 114 | virginica  | 114        | 0.5        | 3          | \n",
       "| 115 | virginica  | 115        | 0.5        | 3          | \n",
       "| 116 | virginica  | 116        | 0.5        | 3          | \n",
       "| 119 | virginica  | 119        | 0.5        | 3          | \n",
       "| 122 | virginica  | 122        | 0.5        | 3          | \n",
       "| 125 | virginica  | 125        | 0.5        | 3          | \n",
       "| 126 | virginica  | 126        | 0.5        | 3          | \n",
       "| 127 | virginica  | 127        | 0.5        | 3          | \n",
       "| 128 | virginica  | 128        | 0.5        | 3          | \n",
       "| 129 | virginica  | 129        | 0.5        | 3          | \n",
       "| 131 | virginica  | 131        | 0.5        | 3          | \n",
       "| 134 | virginica  | 134        | 0.5        | 3          | \n",
       "| 136 | virginica  | 136        | 0.5        | 3          | \n",
       "| 137 | virginica  | 137        | 0.5        | 3          | \n",
       "| 140 | virginica  | 140        | 0.5        | 3          | \n",
       "| 142 | virginica  | 142        | 0.5        | 3          | \n",
       "| 143 | virginica  | 143        | 0.5        | 3          | \n",
       "| 150 | virginica  | 150        | 0.5        | 3          | \n",
       "\n",
       "\n"
      ],
      "text/plain": [
       "    Species    ID_unit Prob Stratum\n",
       "2   setosa      2      0.5  1      \n",
       "4   setosa      4      0.5  1      \n",
       "6   setosa      6      0.5  1      \n",
       "7   setosa      7      0.5  1      \n",
       "10  setosa     10      0.5  1      \n",
       "13  setosa     13      0.5  1      \n",
       "14  setosa     14      0.5  1      \n",
       "15  setosa     15      0.5  1      \n",
       "16  setosa     16      0.5  1      \n",
       "18  setosa     18      0.5  1      \n",
       "23  setosa     23      0.5  1      \n",
       "24  setosa     24      0.5  1      \n",
       "25  setosa     25      0.5  1      \n",
       "28  setosa     28      0.5  1      \n",
       "31  setosa     31      0.5  1      \n",
       "32  setosa     32      0.5  1      \n",
       "35  setosa     35      0.5  1      \n",
       "36  setosa     36      0.5  1      \n",
       "38  setosa     38      0.5  1      \n",
       "40  setosa     40      0.5  1      \n",
       "41  setosa     41      0.5  1      \n",
       "42  setosa     42      0.5  1      \n",
       "45  setosa     45      0.5  1      \n",
       "48  setosa     48      0.5  1      \n",
       "50  setosa     50      0.5  1      \n",
       "53  versicolor 53      0.5  2      \n",
       "54  versicolor 54      0.5  2      \n",
       "56  versicolor 56      0.5  2      \n",
       "58  versicolor 58      0.5  2      \n",
       "59  versicolor 59      0.5  2      \n",
       "... ...        ...     ...  ...    \n",
       "90  versicolor  90     0.5  2      \n",
       "92  versicolor  92     0.5  2      \n",
       "94  versicolor  94     0.5  2      \n",
       "96  versicolor  96     0.5  2      \n",
       "99  versicolor  99     0.5  2      \n",
       "101 virginica  101     0.5  3      \n",
       "102 virginica  102     0.5  3      \n",
       "104 virginica  104     0.5  3      \n",
       "106 virginica  106     0.5  3      \n",
       "110 virginica  110     0.5  3      \n",
       "111 virginica  111     0.5  3      \n",
       "113 virginica  113     0.5  3      \n",
       "114 virginica  114     0.5  3      \n",
       "115 virginica  115     0.5  3      \n",
       "116 virginica  116     0.5  3      \n",
       "119 virginica  119     0.5  3      \n",
       "122 virginica  122     0.5  3      \n",
       "125 virginica  125     0.5  3      \n",
       "126 virginica  126     0.5  3      \n",
       "127 virginica  127     0.5  3      \n",
       "128 virginica  128     0.5  3      \n",
       "129 virginica  129     0.5  3      \n",
       "131 virginica  131     0.5  3      \n",
       "134 virginica  134     0.5  3      \n",
       "136 virginica  136     0.5  3      \n",
       "137 virginica  137     0.5  3      \n",
       "140 virginica  140     0.5  3      \n",
       "142 virginica  142     0.5  3      \n",
       "143 virginica  143     0.5  3      \n",
       "150 virginica  150     0.5  3      "
      ]
     },
     "metadata": {},
     "output_type": "display_data"
    }
   ],
   "source": [
    "amostra_iris2"
   ]
  },
  {
   "cell_type": "code",
   "execution_count": 37,
   "metadata": {},
   "outputs": [
    {
     "data": {
      "text/plain": [
       "       Species      ID_unit            Prob        Stratum \n",
       " setosa    :25   Min.   :  2.00   Min.   :0.5   Min.   :1  \n",
       " versicolor:25   1st Qu.: 39.00   1st Qu.:0.5   1st Qu.:1  \n",
       " virginica :25   Median : 75.00   Median :0.5   Median :2  \n",
       "                 Mean   : 74.63   Mean   :0.5   Mean   :2  \n",
       "                 3rd Qu.:112.00   3rd Qu.:0.5   3rd Qu.:3  \n",
       "                 Max.   :150.00   Max.   :0.5   Max.   :3  "
      ]
     },
     "metadata": {},
     "output_type": "display_data"
    }
   ],
   "source": [
    "summary(amostra_iris2)"
   ]
  },
  {
   "cell_type": "markdown",
   "metadata": {},
   "source": [
    "### Amostra Extratificada"
   ]
  },
  {
   "cell_type": "code",
   "execution_count": 38,
   "metadata": {},
   "outputs": [
    {
     "data": {
      "text/html": [
       "<table>\n",
       "<thead><tr><th scope=col>education</th><th scope=col>age</th><th scope=col>parity</th><th scope=col>induced</th><th scope=col>case</th><th scope=col>spontaneous</th><th scope=col>stratum</th><th scope=col>pooled.stratum</th></tr></thead>\n",
       "<tbody>\n",
       "\t<tr><td>0-5yrs </td><td>26     </td><td>6      </td><td>1      </td><td>1      </td><td>2      </td><td> 1     </td><td> 3     </td></tr>\n",
       "\t<tr><td>0-5yrs </td><td>42     </td><td>1      </td><td>1      </td><td>1      </td><td>0      </td><td> 2     </td><td> 1     </td></tr>\n",
       "\t<tr><td>0-5yrs </td><td>39     </td><td>6      </td><td>2      </td><td>1      </td><td>0      </td><td> 3     </td><td> 4     </td></tr>\n",
       "\t<tr><td>0-5yrs </td><td>34     </td><td>4      </td><td>2      </td><td>1      </td><td>0      </td><td> 4     </td><td> 2     </td></tr>\n",
       "\t<tr><td>6-11yrs</td><td>35     </td><td>3      </td><td>1      </td><td>1      </td><td>1      </td><td> 5     </td><td>32     </td></tr>\n",
       "\t<tr><td>6-11yrs</td><td>36     </td><td>4      </td><td>2      </td><td>1      </td><td>1      </td><td> 6     </td><td>36     </td></tr>\n",
       "\t<tr><td>6-11yrs</td><td>23     </td><td>1      </td><td>0      </td><td>1      </td><td>0      </td><td> 7     </td><td> 6     </td></tr>\n",
       "\t<tr><td>6-11yrs</td><td>32     </td><td>2      </td><td>0      </td><td>1      </td><td>0      </td><td> 8     </td><td>22     </td></tr>\n",
       "\t<tr><td>6-11yrs</td><td>21     </td><td>1      </td><td>0      </td><td>1      </td><td>1      </td><td> 9     </td><td> 5     </td></tr>\n",
       "\t<tr><td>6-11yrs</td><td>28     </td><td>2      </td><td>0      </td><td>1      </td><td>0      </td><td>10     </td><td>19     </td></tr>\n",
       "\t<tr><td>6-11yrs</td><td>29     </td><td>2      </td><td>1      </td><td>1      </td><td>0      </td><td>11     </td><td>20     </td></tr>\n",
       "\t<tr><td>6-11yrs</td><td>37     </td><td>4      </td><td>2      </td><td>1      </td><td>1      </td><td>12     </td><td>37     </td></tr>\n",
       "\t<tr><td>6-11yrs</td><td>31     </td><td>1      </td><td>1      </td><td>1      </td><td>0      </td><td>13     </td><td> 9     </td></tr>\n",
       "\t<tr><td>6-11yrs</td><td>29     </td><td>3      </td><td>2      </td><td>1      </td><td>0      </td><td>14     </td><td>29     </td></tr>\n",
       "\t<tr><td>6-11yrs</td><td>31     </td><td>2      </td><td>1      </td><td>1      </td><td>1      </td><td>15     </td><td>21     </td></tr>\n",
       "\t<tr><td>6-11yrs</td><td>27     </td><td>2      </td><td>2      </td><td>1      </td><td>0      </td><td>16     </td><td>18     </td></tr>\n",
       "\t<tr><td>6-11yrs</td><td>30     </td><td>5      </td><td>2      </td><td>1      </td><td>1      </td><td>17     </td><td>38     </td></tr>\n",
       "\t<tr><td>6-11yrs</td><td>26     </td><td>1      </td><td>0      </td><td>1      </td><td>1      </td><td>18     </td><td> 7     </td></tr>\n",
       "\t<tr><td>6-11yrs</td><td>25     </td><td>3      </td><td>2      </td><td>1      </td><td>1      </td><td>19     </td><td>28     </td></tr>\n",
       "\t<tr><td>6-11yrs</td><td>44     </td><td>1      </td><td>0      </td><td>1      </td><td>1      </td><td>20     </td><td>17     </td></tr>\n",
       "\t<tr><td>6-11yrs</td><td>40     </td><td>1      </td><td>0      </td><td>1      </td><td>1      </td><td>21     </td><td>14     </td></tr>\n",
       "\t<tr><td>6-11yrs</td><td>35     </td><td>2      </td><td>2      </td><td>1      </td><td>0      </td><td>22     </td><td>24     </td></tr>\n",
       "\t<tr><td>6-11yrs</td><td>28     </td><td>2      </td><td>0      </td><td>1      </td><td>2      </td><td>23     </td><td>19     </td></tr>\n",
       "\t<tr><td>6-11yrs</td><td>36     </td><td>1      </td><td>0      </td><td>1      </td><td>1      </td><td>24     </td><td>12     </td></tr>\n",
       "\t<tr><td>6-11yrs</td><td>27     </td><td>2      </td><td>1      </td><td>1      </td><td>1      </td><td>25     </td><td>18     </td></tr>\n",
       "\t<tr><td>6-11yrs</td><td>40     </td><td>2      </td><td>0      </td><td>1      </td><td>2      </td><td>26     </td><td>27     </td></tr>\n",
       "\t<tr><td>6-11yrs</td><td>38     </td><td>2      </td><td>0      </td><td>1      </td><td>2      </td><td>27     </td><td>26     </td></tr>\n",
       "\t<tr><td>6-11yrs</td><td>34     </td><td>3      </td><td>0      </td><td>1      </td><td>2      </td><td>28     </td><td>31     </td></tr>\n",
       "\t<tr><td>6-11yrs</td><td>28     </td><td>4      </td><td>1      </td><td>1      </td><td>2      </td><td>29     </td><td>34     </td></tr>\n",
       "\t<tr><td>6-11yrs</td><td>30     </td><td>4      </td><td>2      </td><td>1      </td><td>0      </td><td>30     </td><td>35     </td></tr>\n",
       "\t<tr><td>...</td><td>...</td><td>...</td><td>...</td><td>...</td><td>...</td><td>...</td><td>...</td></tr>\n",
       "\t<tr><td>12+ yrs</td><td>28     </td><td>1      </td><td>0      </td><td>0      </td><td>1      </td><td>54     </td><td>42     </td></tr>\n",
       "\t<tr><td>12+ yrs</td><td>29     </td><td>2      </td><td>1      </td><td>0      </td><td>1      </td><td>55     </td><td>52     </td></tr>\n",
       "\t<tr><td>12+ yrs</td><td>36     </td><td>2      </td><td>0      </td><td>0      </td><td>1      </td><td>56     </td><td>55     </td></tr>\n",
       "\t<tr><td>12+ yrs</td><td>28     </td><td>2      </td><td>2      </td><td>0      </td><td>0      </td><td>57     </td><td>51     </td></tr>\n",
       "\t<tr><td>12+ yrs</td><td>28     </td><td>2      </td><td>1      </td><td>0      </td><td>0      </td><td>58     </td><td>51     </td></tr>\n",
       "\t<tr><td>12+ yrs</td><td>28     </td><td>1      </td><td>0      </td><td>0      </td><td>0      </td><td>59     </td><td>42     </td></tr>\n",
       "\t<tr><td>12+ yrs</td><td>27     </td><td>2      </td><td>1      </td><td>0      </td><td>0      </td><td>60     </td><td>50     </td></tr>\n",
       "\t<tr><td>12+ yrs</td><td>35     </td><td>2      </td><td>1      </td><td>0      </td><td>0      </td><td>61     </td><td>54     </td></tr>\n",
       "\t<tr><td>12+ yrs</td><td>25     </td><td>1      </td><td>1      </td><td>0      </td><td>0      </td><td>62     </td><td>41     </td></tr>\n",
       "\t<tr><td>12+ yrs</td><td>34     </td><td>1      </td><td>0      </td><td>0      </td><td>0      </td><td>63     </td><td>47     </td></tr>\n",
       "\t<tr><td>12+ yrs</td><td>31     </td><td>2      </td><td>1      </td><td>0      </td><td>0      </td><td>64     </td><td>53     </td></tr>\n",
       "\t<tr><td>12+ yrs</td><td>26     </td><td>2      </td><td>0      </td><td>0      </td><td>2      </td><td>65     </td><td>49     </td></tr>\n",
       "\t<tr><td>12+ yrs</td><td>32     </td><td>1      </td><td>1      </td><td>0      </td><td>0      </td><td>66     </td><td>46     </td></tr>\n",
       "\t<tr><td>12+ yrs</td><td>21     </td><td>1      </td><td>0      </td><td>0      </td><td>0      </td><td>67     </td><td>39     </td></tr>\n",
       "\t<tr><td>12+ yrs</td><td>28     </td><td>3      </td><td>2      </td><td>0      </td><td>0      </td><td>68     </td><td>58     </td></tr>\n",
       "\t<tr><td>12+ yrs</td><td>37     </td><td>3      </td><td>0      </td><td>0      </td><td>2      </td><td>69     </td><td>59     </td></tr>\n",
       "\t<tr><td>12+ yrs</td><td>25     </td><td>1      </td><td>1      </td><td>0      </td><td>0      </td><td>70     </td><td>41     </td></tr>\n",
       "\t<tr><td>12+ yrs</td><td>32     </td><td>1      </td><td>0      </td><td>0      </td><td>0      </td><td>71     </td><td>46     </td></tr>\n",
       "\t<tr><td>12+ yrs</td><td>25     </td><td>1      </td><td>1      </td><td>0      </td><td>0      </td><td>72     </td><td>41     </td></tr>\n",
       "\t<tr><td>12+ yrs</td><td>31     </td><td>1      </td><td>0      </td><td>0      </td><td>0      </td><td>73     </td><td>45     </td></tr>\n",
       "\t<tr><td>12+ yrs</td><td>38     </td><td>6      </td><td>0      </td><td>0      </td><td>2      </td><td>74     </td><td>63     </td></tr>\n",
       "\t<tr><td>12+ yrs</td><td>26     </td><td>2      </td><td>1      </td><td>0      </td><td>1      </td><td>75     </td><td>49     </td></tr>\n",
       "\t<tr><td>12+ yrs</td><td>31     </td><td>1      </td><td>1      </td><td>0      </td><td>0      </td><td>76     </td><td>45     </td></tr>\n",
       "\t<tr><td>12+ yrs</td><td>31     </td><td>2      </td><td>0      </td><td>0      </td><td>1      </td><td>77     </td><td>53     </td></tr>\n",
       "\t<tr><td>12+ yrs</td><td>25     </td><td>1      </td><td>0      </td><td>0      </td><td>1      </td><td>78     </td><td>41     </td></tr>\n",
       "\t<tr><td>12+ yrs</td><td>31     </td><td>1      </td><td>0      </td><td>0      </td><td>1      </td><td>79     </td><td>45     </td></tr>\n",
       "\t<tr><td>12+ yrs</td><td>34     </td><td>1      </td><td>0      </td><td>0      </td><td>0      </td><td>80     </td><td>47     </td></tr>\n",
       "\t<tr><td>12+ yrs</td><td>35     </td><td>2      </td><td>2      </td><td>0      </td><td>0      </td><td>81     </td><td>54     </td></tr>\n",
       "\t<tr><td>12+ yrs</td><td>29     </td><td>1      </td><td>0      </td><td>0      </td><td>1      </td><td>82     </td><td>43     </td></tr>\n",
       "\t<tr><td>12+ yrs</td><td>23     </td><td>1      </td><td>0      </td><td>0      </td><td>1      </td><td>83     </td><td>40     </td></tr>\n",
       "</tbody>\n",
       "</table>\n"
      ],
      "text/latex": [
       "\\begin{tabular}{r|llllllll}\n",
       " education & age & parity & induced & case & spontaneous & stratum & pooled.stratum\\\\\n",
       "\\hline\n",
       "\t 0-5yrs  & 26      & 6       & 1       & 1       & 2       &  1      &  3     \\\\\n",
       "\t 0-5yrs  & 42      & 1       & 1       & 1       & 0       &  2      &  1     \\\\\n",
       "\t 0-5yrs  & 39      & 6       & 2       & 1       & 0       &  3      &  4     \\\\\n",
       "\t 0-5yrs  & 34      & 4       & 2       & 1       & 0       &  4      &  2     \\\\\n",
       "\t 6-11yrs & 35      & 3       & 1       & 1       & 1       &  5      & 32     \\\\\n",
       "\t 6-11yrs & 36      & 4       & 2       & 1       & 1       &  6      & 36     \\\\\n",
       "\t 6-11yrs & 23      & 1       & 0       & 1       & 0       &  7      &  6     \\\\\n",
       "\t 6-11yrs & 32      & 2       & 0       & 1       & 0       &  8      & 22     \\\\\n",
       "\t 6-11yrs & 21      & 1       & 0       & 1       & 1       &  9      &  5     \\\\\n",
       "\t 6-11yrs & 28      & 2       & 0       & 1       & 0       & 10      & 19     \\\\\n",
       "\t 6-11yrs & 29      & 2       & 1       & 1       & 0       & 11      & 20     \\\\\n",
       "\t 6-11yrs & 37      & 4       & 2       & 1       & 1       & 12      & 37     \\\\\n",
       "\t 6-11yrs & 31      & 1       & 1       & 1       & 0       & 13      &  9     \\\\\n",
       "\t 6-11yrs & 29      & 3       & 2       & 1       & 0       & 14      & 29     \\\\\n",
       "\t 6-11yrs & 31      & 2       & 1       & 1       & 1       & 15      & 21     \\\\\n",
       "\t 6-11yrs & 27      & 2       & 2       & 1       & 0       & 16      & 18     \\\\\n",
       "\t 6-11yrs & 30      & 5       & 2       & 1       & 1       & 17      & 38     \\\\\n",
       "\t 6-11yrs & 26      & 1       & 0       & 1       & 1       & 18      &  7     \\\\\n",
       "\t 6-11yrs & 25      & 3       & 2       & 1       & 1       & 19      & 28     \\\\\n",
       "\t 6-11yrs & 44      & 1       & 0       & 1       & 1       & 20      & 17     \\\\\n",
       "\t 6-11yrs & 40      & 1       & 0       & 1       & 1       & 21      & 14     \\\\\n",
       "\t 6-11yrs & 35      & 2       & 2       & 1       & 0       & 22      & 24     \\\\\n",
       "\t 6-11yrs & 28      & 2       & 0       & 1       & 2       & 23      & 19     \\\\\n",
       "\t 6-11yrs & 36      & 1       & 0       & 1       & 1       & 24      & 12     \\\\\n",
       "\t 6-11yrs & 27      & 2       & 1       & 1       & 1       & 25      & 18     \\\\\n",
       "\t 6-11yrs & 40      & 2       & 0       & 1       & 2       & 26      & 27     \\\\\n",
       "\t 6-11yrs & 38      & 2       & 0       & 1       & 2       & 27      & 26     \\\\\n",
       "\t 6-11yrs & 34      & 3       & 0       & 1       & 2       & 28      & 31     \\\\\n",
       "\t 6-11yrs & 28      & 4       & 1       & 1       & 2       & 29      & 34     \\\\\n",
       "\t 6-11yrs & 30      & 4       & 2       & 1       & 0       & 30      & 35     \\\\\n",
       "\t ... & ... & ... & ... & ... & ... & ... & ...\\\\\n",
       "\t 12+ yrs & 28      & 1       & 0       & 0       & 1       & 54      & 42     \\\\\n",
       "\t 12+ yrs & 29      & 2       & 1       & 0       & 1       & 55      & 52     \\\\\n",
       "\t 12+ yrs & 36      & 2       & 0       & 0       & 1       & 56      & 55     \\\\\n",
       "\t 12+ yrs & 28      & 2       & 2       & 0       & 0       & 57      & 51     \\\\\n",
       "\t 12+ yrs & 28      & 2       & 1       & 0       & 0       & 58      & 51     \\\\\n",
       "\t 12+ yrs & 28      & 1       & 0       & 0       & 0       & 59      & 42     \\\\\n",
       "\t 12+ yrs & 27      & 2       & 1       & 0       & 0       & 60      & 50     \\\\\n",
       "\t 12+ yrs & 35      & 2       & 1       & 0       & 0       & 61      & 54     \\\\\n",
       "\t 12+ yrs & 25      & 1       & 1       & 0       & 0       & 62      & 41     \\\\\n",
       "\t 12+ yrs & 34      & 1       & 0       & 0       & 0       & 63      & 47     \\\\\n",
       "\t 12+ yrs & 31      & 2       & 1       & 0       & 0       & 64      & 53     \\\\\n",
       "\t 12+ yrs & 26      & 2       & 0       & 0       & 2       & 65      & 49     \\\\\n",
       "\t 12+ yrs & 32      & 1       & 1       & 0       & 0       & 66      & 46     \\\\\n",
       "\t 12+ yrs & 21      & 1       & 0       & 0       & 0       & 67      & 39     \\\\\n",
       "\t 12+ yrs & 28      & 3       & 2       & 0       & 0       & 68      & 58     \\\\\n",
       "\t 12+ yrs & 37      & 3       & 0       & 0       & 2       & 69      & 59     \\\\\n",
       "\t 12+ yrs & 25      & 1       & 1       & 0       & 0       & 70      & 41     \\\\\n",
       "\t 12+ yrs & 32      & 1       & 0       & 0       & 0       & 71      & 46     \\\\\n",
       "\t 12+ yrs & 25      & 1       & 1       & 0       & 0       & 72      & 41     \\\\\n",
       "\t 12+ yrs & 31      & 1       & 0       & 0       & 0       & 73      & 45     \\\\\n",
       "\t 12+ yrs & 38      & 6       & 0       & 0       & 2       & 74      & 63     \\\\\n",
       "\t 12+ yrs & 26      & 2       & 1       & 0       & 1       & 75      & 49     \\\\\n",
       "\t 12+ yrs & 31      & 1       & 1       & 0       & 0       & 76      & 45     \\\\\n",
       "\t 12+ yrs & 31      & 2       & 0       & 0       & 1       & 77      & 53     \\\\\n",
       "\t 12+ yrs & 25      & 1       & 0       & 0       & 1       & 78      & 41     \\\\\n",
       "\t 12+ yrs & 31      & 1       & 0       & 0       & 1       & 79      & 45     \\\\\n",
       "\t 12+ yrs & 34      & 1       & 0       & 0       & 0       & 80      & 47     \\\\\n",
       "\t 12+ yrs & 35      & 2       & 2       & 0       & 0       & 81      & 54     \\\\\n",
       "\t 12+ yrs & 29      & 1       & 0       & 0       & 1       & 82      & 43     \\\\\n",
       "\t 12+ yrs & 23      & 1       & 0       & 0       & 1       & 83      & 40     \\\\\n",
       "\\end{tabular}\n"
      ],
      "text/markdown": [
       "\n",
       "education | age | parity | induced | case | spontaneous | stratum | pooled.stratum | \n",
       "|---|---|---|---|---|---|---|---|---|---|---|---|---|---|---|---|---|---|---|---|---|---|---|---|---|---|---|---|---|---|---|---|---|---|---|---|---|---|---|---|---|---|---|---|---|---|---|---|---|---|---|---|---|---|---|---|---|---|---|---|---|\n",
       "| 0-5yrs  | 26      | 6       | 1       | 1       | 2       |  1      |  3      | \n",
       "| 0-5yrs  | 42      | 1       | 1       | 1       | 0       |  2      |  1      | \n",
       "| 0-5yrs  | 39      | 6       | 2       | 1       | 0       |  3      |  4      | \n",
       "| 0-5yrs  | 34      | 4       | 2       | 1       | 0       |  4      |  2      | \n",
       "| 6-11yrs | 35      | 3       | 1       | 1       | 1       |  5      | 32      | \n",
       "| 6-11yrs | 36      | 4       | 2       | 1       | 1       |  6      | 36      | \n",
       "| 6-11yrs | 23      | 1       | 0       | 1       | 0       |  7      |  6      | \n",
       "| 6-11yrs | 32      | 2       | 0       | 1       | 0       |  8      | 22      | \n",
       "| 6-11yrs | 21      | 1       | 0       | 1       | 1       |  9      |  5      | \n",
       "| 6-11yrs | 28      | 2       | 0       | 1       | 0       | 10      | 19      | \n",
       "| 6-11yrs | 29      | 2       | 1       | 1       | 0       | 11      | 20      | \n",
       "| 6-11yrs | 37      | 4       | 2       | 1       | 1       | 12      | 37      | \n",
       "| 6-11yrs | 31      | 1       | 1       | 1       | 0       | 13      |  9      | \n",
       "| 6-11yrs | 29      | 3       | 2       | 1       | 0       | 14      | 29      | \n",
       "| 6-11yrs | 31      | 2       | 1       | 1       | 1       | 15      | 21      | \n",
       "| 6-11yrs | 27      | 2       | 2       | 1       | 0       | 16      | 18      | \n",
       "| 6-11yrs | 30      | 5       | 2       | 1       | 1       | 17      | 38      | \n",
       "| 6-11yrs | 26      | 1       | 0       | 1       | 1       | 18      |  7      | \n",
       "| 6-11yrs | 25      | 3       | 2       | 1       | 1       | 19      | 28      | \n",
       "| 6-11yrs | 44      | 1       | 0       | 1       | 1       | 20      | 17      | \n",
       "| 6-11yrs | 40      | 1       | 0       | 1       | 1       | 21      | 14      | \n",
       "| 6-11yrs | 35      | 2       | 2       | 1       | 0       | 22      | 24      | \n",
       "| 6-11yrs | 28      | 2       | 0       | 1       | 2       | 23      | 19      | \n",
       "| 6-11yrs | 36      | 1       | 0       | 1       | 1       | 24      | 12      | \n",
       "| 6-11yrs | 27      | 2       | 1       | 1       | 1       | 25      | 18      | \n",
       "| 6-11yrs | 40      | 2       | 0       | 1       | 2       | 26      | 27      | \n",
       "| 6-11yrs | 38      | 2       | 0       | 1       | 2       | 27      | 26      | \n",
       "| 6-11yrs | 34      | 3       | 0       | 1       | 2       | 28      | 31      | \n",
       "| 6-11yrs | 28      | 4       | 1       | 1       | 2       | 29      | 34      | \n",
       "| 6-11yrs | 30      | 4       | 2       | 1       | 0       | 30      | 35      | \n",
       "| ... | ... | ... | ... | ... | ... | ... | ... | \n",
       "| 12+ yrs | 28      | 1       | 0       | 0       | 1       | 54      | 42      | \n",
       "| 12+ yrs | 29      | 2       | 1       | 0       | 1       | 55      | 52      | \n",
       "| 12+ yrs | 36      | 2       | 0       | 0       | 1       | 56      | 55      | \n",
       "| 12+ yrs | 28      | 2       | 2       | 0       | 0       | 57      | 51      | \n",
       "| 12+ yrs | 28      | 2       | 1       | 0       | 0       | 58      | 51      | \n",
       "| 12+ yrs | 28      | 1       | 0       | 0       | 0       | 59      | 42      | \n",
       "| 12+ yrs | 27      | 2       | 1       | 0       | 0       | 60      | 50      | \n",
       "| 12+ yrs | 35      | 2       | 1       | 0       | 0       | 61      | 54      | \n",
       "| 12+ yrs | 25      | 1       | 1       | 0       | 0       | 62      | 41      | \n",
       "| 12+ yrs | 34      | 1       | 0       | 0       | 0       | 63      | 47      | \n",
       "| 12+ yrs | 31      | 2       | 1       | 0       | 0       | 64      | 53      | \n",
       "| 12+ yrs | 26      | 2       | 0       | 0       | 2       | 65      | 49      | \n",
       "| 12+ yrs | 32      | 1       | 1       | 0       | 0       | 66      | 46      | \n",
       "| 12+ yrs | 21      | 1       | 0       | 0       | 0       | 67      | 39      | \n",
       "| 12+ yrs | 28      | 3       | 2       | 0       | 0       | 68      | 58      | \n",
       "| 12+ yrs | 37      | 3       | 0       | 0       | 2       | 69      | 59      | \n",
       "| 12+ yrs | 25      | 1       | 1       | 0       | 0       | 70      | 41      | \n",
       "| 12+ yrs | 32      | 1       | 0       | 0       | 0       | 71      | 46      | \n",
       "| 12+ yrs | 25      | 1       | 1       | 0       | 0       | 72      | 41      | \n",
       "| 12+ yrs | 31      | 1       | 0       | 0       | 0       | 73      | 45      | \n",
       "| 12+ yrs | 38      | 6       | 0       | 0       | 2       | 74      | 63      | \n",
       "| 12+ yrs | 26      | 2       | 1       | 0       | 1       | 75      | 49      | \n",
       "| 12+ yrs | 31      | 1       | 1       | 0       | 0       | 76      | 45      | \n",
       "| 12+ yrs | 31      | 2       | 0       | 0       | 1       | 77      | 53      | \n",
       "| 12+ yrs | 25      | 1       | 0       | 0       | 1       | 78      | 41      | \n",
       "| 12+ yrs | 31      | 1       | 0       | 0       | 1       | 79      | 45      | \n",
       "| 12+ yrs | 34      | 1       | 0       | 0       | 0       | 80      | 47      | \n",
       "| 12+ yrs | 35      | 2       | 2       | 0       | 0       | 81      | 54      | \n",
       "| 12+ yrs | 29      | 1       | 0       | 0       | 1       | 82      | 43      | \n",
       "| 12+ yrs | 23      | 1       | 0       | 0       | 1       | 83      | 40      | \n",
       "\n",
       "\n"
      ],
      "text/plain": [
       "    education age parity induced case spontaneous stratum pooled.stratum\n",
       "1   0-5yrs    26  6      1       1    2            1       3            \n",
       "2   0-5yrs    42  1      1       1    0            2       1            \n",
       "3   0-5yrs    39  6      2       1    0            3       4            \n",
       "4   0-5yrs    34  4      2       1    0            4       2            \n",
       "5   6-11yrs   35  3      1       1    1            5      32            \n",
       "6   6-11yrs   36  4      2       1    1            6      36            \n",
       "7   6-11yrs   23  1      0       1    0            7       6            \n",
       "8   6-11yrs   32  2      0       1    0            8      22            \n",
       "9   6-11yrs   21  1      0       1    1            9       5            \n",
       "10  6-11yrs   28  2      0       1    0           10      19            \n",
       "11  6-11yrs   29  2      1       1    0           11      20            \n",
       "12  6-11yrs   37  4      2       1    1           12      37            \n",
       "13  6-11yrs   31  1      1       1    0           13       9            \n",
       "14  6-11yrs   29  3      2       1    0           14      29            \n",
       "15  6-11yrs   31  2      1       1    1           15      21            \n",
       "16  6-11yrs   27  2      2       1    0           16      18            \n",
       "17  6-11yrs   30  5      2       1    1           17      38            \n",
       "18  6-11yrs   26  1      0       1    1           18       7            \n",
       "19  6-11yrs   25  3      2       1    1           19      28            \n",
       "20  6-11yrs   44  1      0       1    1           20      17            \n",
       "21  6-11yrs   40  1      0       1    1           21      14            \n",
       "22  6-11yrs   35  2      2       1    0           22      24            \n",
       "23  6-11yrs   28  2      0       1    2           23      19            \n",
       "24  6-11yrs   36  1      0       1    1           24      12            \n",
       "25  6-11yrs   27  2      1       1    1           25      18            \n",
       "26  6-11yrs   40  2      0       1    2           26      27            \n",
       "27  6-11yrs   38  2      0       1    2           27      26            \n",
       "28  6-11yrs   34  3      0       1    2           28      31            \n",
       "29  6-11yrs   28  4      1       1    2           29      34            \n",
       "30  6-11yrs   30  4      2       1    0           30      35            \n",
       "... ...       ... ...    ...     ...  ...         ...     ...           \n",
       "219 12+ yrs   28  1      0       0    1           54      42            \n",
       "220 12+ yrs   29  2      1       0    1           55      52            \n",
       "221 12+ yrs   36  2      0       0    1           56      55            \n",
       "222 12+ yrs   28  2      2       0    0           57      51            \n",
       "223 12+ yrs   28  2      1       0    0           58      51            \n",
       "224 12+ yrs   28  1      0       0    0           59      42            \n",
       "225 12+ yrs   27  2      1       0    0           60      50            \n",
       "226 12+ yrs   35  2      1       0    0           61      54            \n",
       "227 12+ yrs   25  1      1       0    0           62      41            \n",
       "228 12+ yrs   34  1      0       0    0           63      47            \n",
       "229 12+ yrs   31  2      1       0    0           64      53            \n",
       "230 12+ yrs   26  2      0       0    2           65      49            \n",
       "231 12+ yrs   32  1      1       0    0           66      46            \n",
       "232 12+ yrs   21  1      0       0    0           67      39            \n",
       "233 12+ yrs   28  3      2       0    0           68      58            \n",
       "234 12+ yrs   37  3      0       0    2           69      59            \n",
       "235 12+ yrs   25  1      1       0    0           70      41            \n",
       "236 12+ yrs   32  1      0       0    0           71      46            \n",
       "237 12+ yrs   25  1      1       0    0           72      41            \n",
       "238 12+ yrs   31  1      0       0    0           73      45            \n",
       "239 12+ yrs   38  6      0       0    2           74      63            \n",
       "240 12+ yrs   26  2      1       0    1           75      49            \n",
       "241 12+ yrs   31  1      1       0    0           76      45            \n",
       "242 12+ yrs   31  2      0       0    1           77      53            \n",
       "243 12+ yrs   25  1      0       0    1           78      41            \n",
       "244 12+ yrs   31  1      0       0    1           79      45            \n",
       "245 12+ yrs   34  1      0       0    0           80      47            \n",
       "246 12+ yrs   35  2      2       0    0           81      54            \n",
       "247 12+ yrs   29  1      0       0    1           82      43            \n",
       "248 12+ yrs   23  1      0       0    1           83      40            "
      ]
     },
     "metadata": {},
     "output_type": "display_data"
    }
   ],
   "source": [
    "infert #abrir o conjunto infer, de infertilidade"
   ]
  },
  {
   "cell_type": "code",
   "execution_count": 39,
   "metadata": {},
   "outputs": [
    {
     "data": {
      "text/plain": [
       "   education        age            parity         induced      \n",
       " 0-5yrs : 12   Min.   :21.00   Min.   :1.000   Min.   :0.0000  \n",
       " 6-11yrs:120   1st Qu.:28.00   1st Qu.:1.000   1st Qu.:0.0000  \n",
       " 12+ yrs:116   Median :31.00   Median :2.000   Median :0.0000  \n",
       "               Mean   :31.50   Mean   :2.093   Mean   :0.5726  \n",
       "               3rd Qu.:35.25   3rd Qu.:3.000   3rd Qu.:1.0000  \n",
       "               Max.   :44.00   Max.   :6.000   Max.   :2.0000  \n",
       "      case         spontaneous        stratum      pooled.stratum \n",
       " Min.   :0.0000   Min.   :0.0000   Min.   : 1.00   Min.   : 1.00  \n",
       " 1st Qu.:0.0000   1st Qu.:0.0000   1st Qu.:21.00   1st Qu.:19.00  \n",
       " Median :0.0000   Median :0.0000   Median :42.00   Median :36.00  \n",
       " Mean   :0.3347   Mean   :0.5766   Mean   :41.87   Mean   :33.58  \n",
       " 3rd Qu.:1.0000   3rd Qu.:1.0000   3rd Qu.:62.25   3rd Qu.:48.25  \n",
       " Max.   :1.0000   Max.   :2.0000   Max.   :83.00   Max.   :63.00  "
      ]
     },
     "metadata": {},
     "output_type": "display_data"
    }
   ],
   "source": [
    "summary(infert)"
   ]
  },
  {
   "cell_type": "code",
   "execution_count": 41,
   "metadata": {},
   "outputs": [
    {
     "data": {
      "text/html": [
       "4.83870967741935"
      ],
      "text/latex": [
       "4.83870967741935"
      ],
      "text/markdown": [
       "4.83870967741935"
      ],
      "text/plain": [
       "[1] 4.83871"
      ]
     },
     "metadata": {},
     "output_type": "display_data"
    }
   ],
   "source": [
    "#calculo da proporção do extrato\n",
    "#de 0-5 anos\n",
    "12/248 * 100 #tamanho da amostra do item / amostra total * tamanho da amostra que se quer"
   ]
  },
  {
   "cell_type": "code",
   "execution_count": 42,
   "metadata": {},
   "outputs": [
    {
     "data": {
      "text/html": [
       "48.3870967741936"
      ],
      "text/latex": [
       "48.3870967741936"
      ],
      "text/markdown": [
       "48.3870967741936"
      ],
      "text/plain": [
       "[1] 48.3871"
      ]
     },
     "metadata": {},
     "output_type": "display_data"
    }
   ],
   "source": [
    "#de 6-11 anos\n",
    "120/248 * 100 "
   ]
  },
  {
   "cell_type": "code",
   "execution_count": 43,
   "metadata": {},
   "outputs": [
    {
     "data": {
      "text/html": [
       "46.7741935483871"
      ],
      "text/latex": [
       "46.7741935483871"
      ],
      "text/markdown": [
       "46.7741935483871"
      ],
      "text/plain": [
       "[1] 46.77419"
      ]
     },
     "metadata": {},
     "output_type": "display_data"
    }
   ],
   "source": [
    "#de 12 anos acima\n",
    "116/248 * 100 "
   ]
  },
  {
   "cell_type": "code",
   "execution_count": 48,
   "metadata": {},
   "outputs": [],
   "source": [
    "amostra_infert_1 = strata(infert, c(\"education\"), size = c(5,48,47), method = \"srswor\")"
   ]
  },
  {
   "cell_type": "code",
   "execution_count": 49,
   "metadata": {},
   "outputs": [
    {
     "data": {
      "text/html": [
       "<table>\n",
       "<thead><tr><th></th><th scope=col>education</th><th scope=col>ID_unit</th><th scope=col>Prob</th><th scope=col>Stratum</th></tr></thead>\n",
       "<tbody>\n",
       "\t<tr><th scope=row>1</th><td>0-5yrs   </td><td>  1      </td><td>0.4166667</td><td>1        </td></tr>\n",
       "\t<tr><th scope=row>3</th><td>0-5yrs   </td><td>  3      </td><td>0.4166667</td><td>1        </td></tr>\n",
       "\t<tr><th scope=row>84</th><td>0-5yrs   </td><td> 84      </td><td>0.4166667</td><td>1        </td></tr>\n",
       "\t<tr><th scope=row>166</th><td>0-5yrs   </td><td>166      </td><td>0.4166667</td><td>1        </td></tr>\n",
       "\t<tr><th scope=row>169</th><td>0-5yrs   </td><td>169      </td><td>0.4166667</td><td>1        </td></tr>\n",
       "\t<tr><th scope=row>6</th><td>6-11yrs  </td><td>  6      </td><td>0.4000000</td><td>2        </td></tr>\n",
       "\t<tr><th scope=row>8</th><td>6-11yrs  </td><td>  8      </td><td>0.4000000</td><td>2        </td></tr>\n",
       "\t<tr><th scope=row>10</th><td>6-11yrs  </td><td> 10      </td><td>0.4000000</td><td>2        </td></tr>\n",
       "\t<tr><th scope=row>12</th><td>6-11yrs  </td><td> 12      </td><td>0.4000000</td><td>2        </td></tr>\n",
       "\t<tr><th scope=row>14</th><td>6-11yrs  </td><td> 14      </td><td>0.4000000</td><td>2        </td></tr>\n",
       "\t<tr><th scope=row>17</th><td>6-11yrs  </td><td> 17      </td><td>0.4000000</td><td>2        </td></tr>\n",
       "\t<tr><th scope=row>18</th><td>6-11yrs  </td><td> 18      </td><td>0.4000000</td><td>2        </td></tr>\n",
       "\t<tr><th scope=row>20</th><td>6-11yrs  </td><td> 20      </td><td>0.4000000</td><td>2        </td></tr>\n",
       "\t<tr><th scope=row>23</th><td>6-11yrs  </td><td> 23      </td><td>0.4000000</td><td>2        </td></tr>\n",
       "\t<tr><th scope=row>28</th><td>6-11yrs  </td><td> 28      </td><td>0.4000000</td><td>2        </td></tr>\n",
       "\t<tr><th scope=row>31</th><td>6-11yrs  </td><td> 31      </td><td>0.4000000</td><td>2        </td></tr>\n",
       "\t<tr><th scope=row>32</th><td>6-11yrs  </td><td> 32      </td><td>0.4000000</td><td>2        </td></tr>\n",
       "\t<tr><th scope=row>34</th><td>6-11yrs  </td><td> 34      </td><td>0.4000000</td><td>2        </td></tr>\n",
       "\t<tr><th scope=row>37</th><td>6-11yrs  </td><td> 37      </td><td>0.4000000</td><td>2        </td></tr>\n",
       "\t<tr><th scope=row>38</th><td>6-11yrs  </td><td> 38      </td><td>0.4000000</td><td>2        </td></tr>\n",
       "\t<tr><th scope=row>39</th><td>6-11yrs  </td><td> 39      </td><td>0.4000000</td><td>2        </td></tr>\n",
       "\t<tr><th scope=row>42</th><td>6-11yrs  </td><td> 42      </td><td>0.4000000</td><td>2        </td></tr>\n",
       "\t<tr><th scope=row>44</th><td>6-11yrs  </td><td> 44      </td><td>0.4000000</td><td>2        </td></tr>\n",
       "\t<tr><th scope=row>90</th><td>6-11yrs  </td><td> 90      </td><td>0.4000000</td><td>2        </td></tr>\n",
       "\t<tr><th scope=row>94</th><td>6-11yrs  </td><td> 94      </td><td>0.4000000</td><td>2        </td></tr>\n",
       "\t<tr><th scope=row>95</th><td>6-11yrs  </td><td> 95      </td><td>0.4000000</td><td>2        </td></tr>\n",
       "\t<tr><th scope=row>98</th><td>6-11yrs  </td><td> 98      </td><td>0.4000000</td><td>2        </td></tr>\n",
       "\t<tr><th scope=row>99</th><td>6-11yrs  </td><td> 99      </td><td>0.4000000</td><td>2        </td></tr>\n",
       "\t<tr><th scope=row>100</th><td>6-11yrs  </td><td>100      </td><td>0.4000000</td><td>2        </td></tr>\n",
       "\t<tr><th scope=row>101</th><td>6-11yrs  </td><td>101      </td><td>0.4000000</td><td>2        </td></tr>\n",
       "\t<tr><th scope=row>...</th><td>...</td><td>...</td><td>...</td><td>...</td></tr>\n",
       "\t<tr><th scope=row>132</th><td>12+ yrs  </td><td>132      </td><td>0.4051724</td><td>3        </td></tr>\n",
       "\t<tr><th scope=row>133</th><td>12+ yrs  </td><td>133      </td><td>0.4051724</td><td>3        </td></tr>\n",
       "\t<tr><th scope=row>134</th><td>12+ yrs  </td><td>134      </td><td>0.4051724</td><td>3        </td></tr>\n",
       "\t<tr><th scope=row>135</th><td>12+ yrs  </td><td>135      </td><td>0.4051724</td><td>3        </td></tr>\n",
       "\t<tr><th scope=row>136</th><td>12+ yrs  </td><td>136      </td><td>0.4051724</td><td>3        </td></tr>\n",
       "\t<tr><th scope=row>137</th><td>12+ yrs  </td><td>137      </td><td>0.4051724</td><td>3        </td></tr>\n",
       "\t<tr><th scope=row>138</th><td>12+ yrs  </td><td>138      </td><td>0.4051724</td><td>3        </td></tr>\n",
       "\t<tr><th scope=row>140</th><td>12+ yrs  </td><td>140      </td><td>0.4051724</td><td>3        </td></tr>\n",
       "\t<tr><th scope=row>141</th><td>12+ yrs  </td><td>141      </td><td>0.4051724</td><td>3        </td></tr>\n",
       "\t<tr><th scope=row>147</th><td>12+ yrs  </td><td>147      </td><td>0.4051724</td><td>3        </td></tr>\n",
       "\t<tr><th scope=row>148</th><td>12+ yrs  </td><td>148      </td><td>0.4051724</td><td>3        </td></tr>\n",
       "\t<tr><th scope=row>151</th><td>12+ yrs  </td><td>151      </td><td>0.4051724</td><td>3        </td></tr>\n",
       "\t<tr><th scope=row>152</th><td>12+ yrs  </td><td>152      </td><td>0.4051724</td><td>3        </td></tr>\n",
       "\t<tr><th scope=row>156</th><td>12+ yrs  </td><td>156      </td><td>0.4051724</td><td>3        </td></tr>\n",
       "\t<tr><th scope=row>157</th><td>12+ yrs  </td><td>157      </td><td>0.4051724</td><td>3        </td></tr>\n",
       "\t<tr><th scope=row>162</th><td>12+ yrs  </td><td>162      </td><td>0.4051724</td><td>3        </td></tr>\n",
       "\t<tr><th scope=row>164</th><td>12+ yrs  </td><td>164      </td><td>0.4051724</td><td>3        </td></tr>\n",
       "\t<tr><th scope=row>211</th><td>12+ yrs  </td><td>211      </td><td>0.4051724</td><td>3        </td></tr>\n",
       "\t<tr><th scope=row>212</th><td>12+ yrs  </td><td>212      </td><td>0.4051724</td><td>3        </td></tr>\n",
       "\t<tr><th scope=row>214</th><td>12+ yrs  </td><td>214      </td><td>0.4051724</td><td>3        </td></tr>\n",
       "\t<tr><th scope=row>216</th><td>12+ yrs  </td><td>216      </td><td>0.4051724</td><td>3        </td></tr>\n",
       "\t<tr><th scope=row>219</th><td>12+ yrs  </td><td>219      </td><td>0.4051724</td><td>3        </td></tr>\n",
       "\t<tr><th scope=row>229</th><td>12+ yrs  </td><td>229      </td><td>0.4051724</td><td>3        </td></tr>\n",
       "\t<tr><th scope=row>232</th><td>12+ yrs  </td><td>232      </td><td>0.4051724</td><td>3        </td></tr>\n",
       "\t<tr><th scope=row>234</th><td>12+ yrs  </td><td>234      </td><td>0.4051724</td><td>3        </td></tr>\n",
       "\t<tr><th scope=row>236</th><td>12+ yrs  </td><td>236      </td><td>0.4051724</td><td>3        </td></tr>\n",
       "\t<tr><th scope=row>238</th><td>12+ yrs  </td><td>238      </td><td>0.4051724</td><td>3        </td></tr>\n",
       "\t<tr><th scope=row>240</th><td>12+ yrs  </td><td>240      </td><td>0.4051724</td><td>3        </td></tr>\n",
       "\t<tr><th scope=row>241</th><td>12+ yrs  </td><td>241      </td><td>0.4051724</td><td>3        </td></tr>\n",
       "\t<tr><th scope=row>244</th><td>12+ yrs  </td><td>244      </td><td>0.4051724</td><td>3        </td></tr>\n",
       "</tbody>\n",
       "</table>\n"
      ],
      "text/latex": [
       "\\begin{tabular}{r|llll}\n",
       "  & education & ID\\_unit & Prob & Stratum\\\\\n",
       "\\hline\n",
       "\t1 & 0-5yrs    &   1       & 0.4166667 & 1        \\\\\n",
       "\t3 & 0-5yrs    &   3       & 0.4166667 & 1        \\\\\n",
       "\t84 & 0-5yrs    &  84       & 0.4166667 & 1        \\\\\n",
       "\t166 & 0-5yrs    & 166       & 0.4166667 & 1        \\\\\n",
       "\t169 & 0-5yrs    & 169       & 0.4166667 & 1        \\\\\n",
       "\t6 & 6-11yrs   &   6       & 0.4000000 & 2        \\\\\n",
       "\t8 & 6-11yrs   &   8       & 0.4000000 & 2        \\\\\n",
       "\t10 & 6-11yrs   &  10       & 0.4000000 & 2        \\\\\n",
       "\t12 & 6-11yrs   &  12       & 0.4000000 & 2        \\\\\n",
       "\t14 & 6-11yrs   &  14       & 0.4000000 & 2        \\\\\n",
       "\t17 & 6-11yrs   &  17       & 0.4000000 & 2        \\\\\n",
       "\t18 & 6-11yrs   &  18       & 0.4000000 & 2        \\\\\n",
       "\t20 & 6-11yrs   &  20       & 0.4000000 & 2        \\\\\n",
       "\t23 & 6-11yrs   &  23       & 0.4000000 & 2        \\\\\n",
       "\t28 & 6-11yrs   &  28       & 0.4000000 & 2        \\\\\n",
       "\t31 & 6-11yrs   &  31       & 0.4000000 & 2        \\\\\n",
       "\t32 & 6-11yrs   &  32       & 0.4000000 & 2        \\\\\n",
       "\t34 & 6-11yrs   &  34       & 0.4000000 & 2        \\\\\n",
       "\t37 & 6-11yrs   &  37       & 0.4000000 & 2        \\\\\n",
       "\t38 & 6-11yrs   &  38       & 0.4000000 & 2        \\\\\n",
       "\t39 & 6-11yrs   &  39       & 0.4000000 & 2        \\\\\n",
       "\t42 & 6-11yrs   &  42       & 0.4000000 & 2        \\\\\n",
       "\t44 & 6-11yrs   &  44       & 0.4000000 & 2        \\\\\n",
       "\t90 & 6-11yrs   &  90       & 0.4000000 & 2        \\\\\n",
       "\t94 & 6-11yrs   &  94       & 0.4000000 & 2        \\\\\n",
       "\t95 & 6-11yrs   &  95       & 0.4000000 & 2        \\\\\n",
       "\t98 & 6-11yrs   &  98       & 0.4000000 & 2        \\\\\n",
       "\t99 & 6-11yrs   &  99       & 0.4000000 & 2        \\\\\n",
       "\t100 & 6-11yrs   & 100       & 0.4000000 & 2        \\\\\n",
       "\t101 & 6-11yrs   & 101       & 0.4000000 & 2        \\\\\n",
       "\t... & ... & ... & ... & ...\\\\\n",
       "\t132 & 12+ yrs   & 132       & 0.4051724 & 3        \\\\\n",
       "\t133 & 12+ yrs   & 133       & 0.4051724 & 3        \\\\\n",
       "\t134 & 12+ yrs   & 134       & 0.4051724 & 3        \\\\\n",
       "\t135 & 12+ yrs   & 135       & 0.4051724 & 3        \\\\\n",
       "\t136 & 12+ yrs   & 136       & 0.4051724 & 3        \\\\\n",
       "\t137 & 12+ yrs   & 137       & 0.4051724 & 3        \\\\\n",
       "\t138 & 12+ yrs   & 138       & 0.4051724 & 3        \\\\\n",
       "\t140 & 12+ yrs   & 140       & 0.4051724 & 3        \\\\\n",
       "\t141 & 12+ yrs   & 141       & 0.4051724 & 3        \\\\\n",
       "\t147 & 12+ yrs   & 147       & 0.4051724 & 3        \\\\\n",
       "\t148 & 12+ yrs   & 148       & 0.4051724 & 3        \\\\\n",
       "\t151 & 12+ yrs   & 151       & 0.4051724 & 3        \\\\\n",
       "\t152 & 12+ yrs   & 152       & 0.4051724 & 3        \\\\\n",
       "\t156 & 12+ yrs   & 156       & 0.4051724 & 3        \\\\\n",
       "\t157 & 12+ yrs   & 157       & 0.4051724 & 3        \\\\\n",
       "\t162 & 12+ yrs   & 162       & 0.4051724 & 3        \\\\\n",
       "\t164 & 12+ yrs   & 164       & 0.4051724 & 3        \\\\\n",
       "\t211 & 12+ yrs   & 211       & 0.4051724 & 3        \\\\\n",
       "\t212 & 12+ yrs   & 212       & 0.4051724 & 3        \\\\\n",
       "\t214 & 12+ yrs   & 214       & 0.4051724 & 3        \\\\\n",
       "\t216 & 12+ yrs   & 216       & 0.4051724 & 3        \\\\\n",
       "\t219 & 12+ yrs   & 219       & 0.4051724 & 3        \\\\\n",
       "\t229 & 12+ yrs   & 229       & 0.4051724 & 3        \\\\\n",
       "\t232 & 12+ yrs   & 232       & 0.4051724 & 3        \\\\\n",
       "\t234 & 12+ yrs   & 234       & 0.4051724 & 3        \\\\\n",
       "\t236 & 12+ yrs   & 236       & 0.4051724 & 3        \\\\\n",
       "\t238 & 12+ yrs   & 238       & 0.4051724 & 3        \\\\\n",
       "\t240 & 12+ yrs   & 240       & 0.4051724 & 3        \\\\\n",
       "\t241 & 12+ yrs   & 241       & 0.4051724 & 3        \\\\\n",
       "\t244 & 12+ yrs   & 244       & 0.4051724 & 3        \\\\\n",
       "\\end{tabular}\n"
      ],
      "text/markdown": [
       "\n",
       "| <!--/--> | education | ID_unit | Prob | Stratum | \n",
       "|---|---|---|---|---|---|---|---|---|---|---|---|---|---|---|---|---|---|---|---|---|---|---|---|---|---|---|---|---|---|---|---|---|---|---|---|---|---|---|---|---|---|---|---|---|---|---|---|---|---|---|---|---|---|---|---|---|---|---|---|---|\n",
       "| 1 | 0-5yrs    |   1       | 0.4166667 | 1         | \n",
       "| 3 | 0-5yrs    |   3       | 0.4166667 | 1         | \n",
       "| 84 | 0-5yrs    |  84       | 0.4166667 | 1         | \n",
       "| 166 | 0-5yrs    | 166       | 0.4166667 | 1         | \n",
       "| 169 | 0-5yrs    | 169       | 0.4166667 | 1         | \n",
       "| 6 | 6-11yrs   |   6       | 0.4000000 | 2         | \n",
       "| 8 | 6-11yrs   |   8       | 0.4000000 | 2         | \n",
       "| 10 | 6-11yrs   |  10       | 0.4000000 | 2         | \n",
       "| 12 | 6-11yrs   |  12       | 0.4000000 | 2         | \n",
       "| 14 | 6-11yrs   |  14       | 0.4000000 | 2         | \n",
       "| 17 | 6-11yrs   |  17       | 0.4000000 | 2         | \n",
       "| 18 | 6-11yrs   |  18       | 0.4000000 | 2         | \n",
       "| 20 | 6-11yrs   |  20       | 0.4000000 | 2         | \n",
       "| 23 | 6-11yrs   |  23       | 0.4000000 | 2         | \n",
       "| 28 | 6-11yrs   |  28       | 0.4000000 | 2         | \n",
       "| 31 | 6-11yrs   |  31       | 0.4000000 | 2         | \n",
       "| 32 | 6-11yrs   |  32       | 0.4000000 | 2         | \n",
       "| 34 | 6-11yrs   |  34       | 0.4000000 | 2         | \n",
       "| 37 | 6-11yrs   |  37       | 0.4000000 | 2         | \n",
       "| 38 | 6-11yrs   |  38       | 0.4000000 | 2         | \n",
       "| 39 | 6-11yrs   |  39       | 0.4000000 | 2         | \n",
       "| 42 | 6-11yrs   |  42       | 0.4000000 | 2         | \n",
       "| 44 | 6-11yrs   |  44       | 0.4000000 | 2         | \n",
       "| 90 | 6-11yrs   |  90       | 0.4000000 | 2         | \n",
       "| 94 | 6-11yrs   |  94       | 0.4000000 | 2         | \n",
       "| 95 | 6-11yrs   |  95       | 0.4000000 | 2         | \n",
       "| 98 | 6-11yrs   |  98       | 0.4000000 | 2         | \n",
       "| 99 | 6-11yrs   |  99       | 0.4000000 | 2         | \n",
       "| 100 | 6-11yrs   | 100       | 0.4000000 | 2         | \n",
       "| 101 | 6-11yrs   | 101       | 0.4000000 | 2         | \n",
       "| ... | ... | ... | ... | ... | \n",
       "| 132 | 12+ yrs   | 132       | 0.4051724 | 3         | \n",
       "| 133 | 12+ yrs   | 133       | 0.4051724 | 3         | \n",
       "| 134 | 12+ yrs   | 134       | 0.4051724 | 3         | \n",
       "| 135 | 12+ yrs   | 135       | 0.4051724 | 3         | \n",
       "| 136 | 12+ yrs   | 136       | 0.4051724 | 3         | \n",
       "| 137 | 12+ yrs   | 137       | 0.4051724 | 3         | \n",
       "| 138 | 12+ yrs   | 138       | 0.4051724 | 3         | \n",
       "| 140 | 12+ yrs   | 140       | 0.4051724 | 3         | \n",
       "| 141 | 12+ yrs   | 141       | 0.4051724 | 3         | \n",
       "| 147 | 12+ yrs   | 147       | 0.4051724 | 3         | \n",
       "| 148 | 12+ yrs   | 148       | 0.4051724 | 3         | \n",
       "| 151 | 12+ yrs   | 151       | 0.4051724 | 3         | \n",
       "| 152 | 12+ yrs   | 152       | 0.4051724 | 3         | \n",
       "| 156 | 12+ yrs   | 156       | 0.4051724 | 3         | \n",
       "| 157 | 12+ yrs   | 157       | 0.4051724 | 3         | \n",
       "| 162 | 12+ yrs   | 162       | 0.4051724 | 3         | \n",
       "| 164 | 12+ yrs   | 164       | 0.4051724 | 3         | \n",
       "| 211 | 12+ yrs   | 211       | 0.4051724 | 3         | \n",
       "| 212 | 12+ yrs   | 212       | 0.4051724 | 3         | \n",
       "| 214 | 12+ yrs   | 214       | 0.4051724 | 3         | \n",
       "| 216 | 12+ yrs   | 216       | 0.4051724 | 3         | \n",
       "| 219 | 12+ yrs   | 219       | 0.4051724 | 3         | \n",
       "| 229 | 12+ yrs   | 229       | 0.4051724 | 3         | \n",
       "| 232 | 12+ yrs   | 232       | 0.4051724 | 3         | \n",
       "| 234 | 12+ yrs   | 234       | 0.4051724 | 3         | \n",
       "| 236 | 12+ yrs   | 236       | 0.4051724 | 3         | \n",
       "| 238 | 12+ yrs   | 238       | 0.4051724 | 3         | \n",
       "| 240 | 12+ yrs   | 240       | 0.4051724 | 3         | \n",
       "| 241 | 12+ yrs   | 241       | 0.4051724 | 3         | \n",
       "| 244 | 12+ yrs   | 244       | 0.4051724 | 3         | \n",
       "\n",
       "\n"
      ],
      "text/plain": [
       "    education ID_unit Prob      Stratum\n",
       "1   0-5yrs      1     0.4166667 1      \n",
       "3   0-5yrs      3     0.4166667 1      \n",
       "84  0-5yrs     84     0.4166667 1      \n",
       "166 0-5yrs    166     0.4166667 1      \n",
       "169 0-5yrs    169     0.4166667 1      \n",
       "6   6-11yrs     6     0.4000000 2      \n",
       "8   6-11yrs     8     0.4000000 2      \n",
       "10  6-11yrs    10     0.4000000 2      \n",
       "12  6-11yrs    12     0.4000000 2      \n",
       "14  6-11yrs    14     0.4000000 2      \n",
       "17  6-11yrs    17     0.4000000 2      \n",
       "18  6-11yrs    18     0.4000000 2      \n",
       "20  6-11yrs    20     0.4000000 2      \n",
       "23  6-11yrs    23     0.4000000 2      \n",
       "28  6-11yrs    28     0.4000000 2      \n",
       "31  6-11yrs    31     0.4000000 2      \n",
       "32  6-11yrs    32     0.4000000 2      \n",
       "34  6-11yrs    34     0.4000000 2      \n",
       "37  6-11yrs    37     0.4000000 2      \n",
       "38  6-11yrs    38     0.4000000 2      \n",
       "39  6-11yrs    39     0.4000000 2      \n",
       "42  6-11yrs    42     0.4000000 2      \n",
       "44  6-11yrs    44     0.4000000 2      \n",
       "90  6-11yrs    90     0.4000000 2      \n",
       "94  6-11yrs    94     0.4000000 2      \n",
       "95  6-11yrs    95     0.4000000 2      \n",
       "98  6-11yrs    98     0.4000000 2      \n",
       "99  6-11yrs    99     0.4000000 2      \n",
       "100 6-11yrs   100     0.4000000 2      \n",
       "101 6-11yrs   101     0.4000000 2      \n",
       "... ...       ...     ...       ...    \n",
       "132 12+ yrs   132     0.4051724 3      \n",
       "133 12+ yrs   133     0.4051724 3      \n",
       "134 12+ yrs   134     0.4051724 3      \n",
       "135 12+ yrs   135     0.4051724 3      \n",
       "136 12+ yrs   136     0.4051724 3      \n",
       "137 12+ yrs   137     0.4051724 3      \n",
       "138 12+ yrs   138     0.4051724 3      \n",
       "140 12+ yrs   140     0.4051724 3      \n",
       "141 12+ yrs   141     0.4051724 3      \n",
       "147 12+ yrs   147     0.4051724 3      \n",
       "148 12+ yrs   148     0.4051724 3      \n",
       "151 12+ yrs   151     0.4051724 3      \n",
       "152 12+ yrs   152     0.4051724 3      \n",
       "156 12+ yrs   156     0.4051724 3      \n",
       "157 12+ yrs   157     0.4051724 3      \n",
       "162 12+ yrs   162     0.4051724 3      \n",
       "164 12+ yrs   164     0.4051724 3      \n",
       "211 12+ yrs   211     0.4051724 3      \n",
       "212 12+ yrs   212     0.4051724 3      \n",
       "214 12+ yrs   214     0.4051724 3      \n",
       "216 12+ yrs   216     0.4051724 3      \n",
       "219 12+ yrs   219     0.4051724 3      \n",
       "229 12+ yrs   229     0.4051724 3      \n",
       "232 12+ yrs   232     0.4051724 3      \n",
       "234 12+ yrs   234     0.4051724 3      \n",
       "236 12+ yrs   236     0.4051724 3      \n",
       "238 12+ yrs   238     0.4051724 3      \n",
       "240 12+ yrs   240     0.4051724 3      \n",
       "241 12+ yrs   241     0.4051724 3      \n",
       "244 12+ yrs   244     0.4051724 3      "
      ]
     },
     "metadata": {},
     "output_type": "display_data"
    }
   ],
   "source": [
    "amostra_infert_1"
   ]
  },
  {
   "cell_type": "code",
   "execution_count": 50,
   "metadata": {},
   "outputs": [
    {
     "data": {
      "text/plain": [
       "   education     ID_unit           Prob           Stratum    \n",
       " 0-5yrs : 5   Min.   :  1.0   Min.   :0.4000   Min.   :1.00  \n",
       " 6-11yrs:48   1st Qu.: 53.5   1st Qu.:0.4000   1st Qu.:2.00  \n",
       " 12+ yrs:47   Median :124.0   Median :0.4052   Median :2.00  \n",
       "              Mean   :118.7   Mean   :0.4033   Mean   :2.42  \n",
       "              3rd Qu.:181.2   3rd Qu.:0.4052   3rd Qu.:3.00  \n",
       "              Max.   :244.0   Max.   :0.4167   Max.   :3.00  "
      ]
     },
     "metadata": {},
     "output_type": "display_data"
    }
   ],
   "source": [
    "summary (amostra_infert_1)"
   ]
  },
  {
   "cell_type": "markdown",
   "metadata": {},
   "source": [
    "### Amostra sistemárica"
   ]
  },
  {
   "cell_type": "code",
   "execution_count": 53,
   "metadata": {},
   "outputs": [
    {
     "name": "stderr",
     "output_type": "stream",
     "text": [
      "Installing package into 'C:/Users/dmiyake/Documents/R/win-library/3.4'\n",
      "(as 'lib' is unspecified)\n"
     ]
    },
    {
     "name": "stdout",
     "output_type": "stream",
     "text": [
      "package 'TeachingSampling' successfully unpacked and MD5 sums checked\n",
      "\n",
      "The downloaded binary packages are in\n",
      "\tC:\\Users\\dmiyake\\AppData\\Local\\Temp\\RtmpOGPU0j\\downloaded_packages\n"
     ]
    }
   ],
   "source": [
    "#instalação do pacote teaching samples\n",
    "install.packages(\"TeachingSampling\")"
   ]
  },
  {
   "cell_type": "code",
   "execution_count": 55,
   "metadata": {},
   "outputs": [],
   "source": [
    "library(TeachingSampling)"
   ]
  },
  {
   "cell_type": "code",
   "execution_count": 57,
   "metadata": {},
   "outputs": [],
   "source": [
    "amostra_sitematica = S.SY(150,10) #parametros(total da amostra requerida, intervalo)"
   ]
  },
  {
   "cell_type": "code",
   "execution_count": 58,
   "metadata": {},
   "outputs": [
    {
     "data": {
      "text/html": [
       "<table>\n",
       "<tbody>\n",
       "\t<tr><td>  7</td></tr>\n",
       "\t<tr><td> 17</td></tr>\n",
       "\t<tr><td> 27</td></tr>\n",
       "\t<tr><td> 37</td></tr>\n",
       "\t<tr><td> 47</td></tr>\n",
       "\t<tr><td> 57</td></tr>\n",
       "\t<tr><td> 67</td></tr>\n",
       "\t<tr><td> 77</td></tr>\n",
       "\t<tr><td> 87</td></tr>\n",
       "\t<tr><td> 97</td></tr>\n",
       "\t<tr><td>107</td></tr>\n",
       "\t<tr><td>117</td></tr>\n",
       "\t<tr><td>127</td></tr>\n",
       "\t<tr><td>137</td></tr>\n",
       "\t<tr><td>147</td></tr>\n",
       "</tbody>\n",
       "</table>\n"
      ],
      "text/latex": [
       "\\begin{tabular}{l}\n",
       "\t   7\\\\\n",
       "\t  17\\\\\n",
       "\t  27\\\\\n",
       "\t  37\\\\\n",
       "\t  47\\\\\n",
       "\t  57\\\\\n",
       "\t  67\\\\\n",
       "\t  77\\\\\n",
       "\t  87\\\\\n",
       "\t  97\\\\\n",
       "\t 107\\\\\n",
       "\t 117\\\\\n",
       "\t 127\\\\\n",
       "\t 137\\\\\n",
       "\t 147\\\\\n",
       "\\end{tabular}\n"
      ],
      "text/markdown": [
       "\n",
       "|   7 | \n",
       "|  17 | \n",
       "|  27 | \n",
       "|  37 | \n",
       "|  47 | \n",
       "|  57 | \n",
       "|  67 | \n",
       "|  77 | \n",
       "|  87 | \n",
       "|  97 | \n",
       "| 107 | \n",
       "| 117 | \n",
       "| 127 | \n",
       "| 137 | \n",
       "| 147 | \n",
       "\n",
       "\n"
      ],
      "text/plain": [
       "      [,1]\n",
       " [1,]   7 \n",
       " [2,]  17 \n",
       " [3,]  27 \n",
       " [4,]  37 \n",
       " [5,]  47 \n",
       " [6,]  57 \n",
       " [7,]  67 \n",
       " [8,]  77 \n",
       " [9,]  87 \n",
       "[10,]  97 \n",
       "[11,] 107 \n",
       "[12,] 117 \n",
       "[13,] 127 \n",
       "[14,] 137 \n",
       "[15,] 147 "
      ]
     },
     "metadata": {},
     "output_type": "display_data"
    }
   ],
   "source": [
    "amostra_sitematica"
   ]
  },
  {
   "cell_type": "code",
   "execution_count": 59,
   "metadata": {},
   "outputs": [
    {
     "data": {
      "text/html": [
       "<table>\n",
       "<thead><tr><th></th><th scope=col>Sepal.Length</th><th scope=col>Sepal.Width</th><th scope=col>Petal.Length</th><th scope=col>Petal.Width</th><th scope=col>Species</th></tr></thead>\n",
       "<tbody>\n",
       "\t<tr><th scope=row>7</th><td>4.6       </td><td>3.4       </td><td>1.4       </td><td>0.3       </td><td>setosa    </td></tr>\n",
       "\t<tr><th scope=row>17</th><td>5.4       </td><td>3.9       </td><td>1.3       </td><td>0.4       </td><td>setosa    </td></tr>\n",
       "\t<tr><th scope=row>27</th><td>5.0       </td><td>3.4       </td><td>1.6       </td><td>0.4       </td><td>setosa    </td></tr>\n",
       "\t<tr><th scope=row>37</th><td>5.5       </td><td>3.5       </td><td>1.3       </td><td>0.2       </td><td>setosa    </td></tr>\n",
       "\t<tr><th scope=row>47</th><td>5.1       </td><td>3.8       </td><td>1.6       </td><td>0.2       </td><td>setosa    </td></tr>\n",
       "\t<tr><th scope=row>57</th><td>6.3       </td><td>3.3       </td><td>4.7       </td><td>1.6       </td><td>versicolor</td></tr>\n",
       "\t<tr><th scope=row>67</th><td>5.6       </td><td>3.0       </td><td>4.5       </td><td>1.5       </td><td>versicolor</td></tr>\n",
       "\t<tr><th scope=row>77</th><td>6.8       </td><td>2.8       </td><td>4.8       </td><td>1.4       </td><td>versicolor</td></tr>\n",
       "\t<tr><th scope=row>87</th><td>6.7       </td><td>3.1       </td><td>4.7       </td><td>1.5       </td><td>versicolor</td></tr>\n",
       "\t<tr><th scope=row>97</th><td>5.7       </td><td>2.9       </td><td>4.2       </td><td>1.3       </td><td>versicolor</td></tr>\n",
       "\t<tr><th scope=row>107</th><td>4.9       </td><td>2.5       </td><td>4.5       </td><td>1.7       </td><td>virginica </td></tr>\n",
       "\t<tr><th scope=row>117</th><td>6.5       </td><td>3.0       </td><td>5.5       </td><td>1.8       </td><td>virginica </td></tr>\n",
       "\t<tr><th scope=row>127</th><td>6.2       </td><td>2.8       </td><td>4.8       </td><td>1.8       </td><td>virginica </td></tr>\n",
       "\t<tr><th scope=row>137</th><td>6.3       </td><td>3.4       </td><td>5.6       </td><td>2.4       </td><td>virginica </td></tr>\n",
       "\t<tr><th scope=row>147</th><td>6.3       </td><td>2.5       </td><td>5.0       </td><td>1.9       </td><td>virginica </td></tr>\n",
       "</tbody>\n",
       "</table>\n"
      ],
      "text/latex": [
       "\\begin{tabular}{r|lllll}\n",
       "  & Sepal.Length & Sepal.Width & Petal.Length & Petal.Width & Species\\\\\n",
       "\\hline\n",
       "\t7 & 4.6        & 3.4        & 1.4        & 0.3        & setosa    \\\\\n",
       "\t17 & 5.4        & 3.9        & 1.3        & 0.4        & setosa    \\\\\n",
       "\t27 & 5.0        & 3.4        & 1.6        & 0.4        & setosa    \\\\\n",
       "\t37 & 5.5        & 3.5        & 1.3        & 0.2        & setosa    \\\\\n",
       "\t47 & 5.1        & 3.8        & 1.6        & 0.2        & setosa    \\\\\n",
       "\t57 & 6.3        & 3.3        & 4.7        & 1.6        & versicolor\\\\\n",
       "\t67 & 5.6        & 3.0        & 4.5        & 1.5        & versicolor\\\\\n",
       "\t77 & 6.8        & 2.8        & 4.8        & 1.4        & versicolor\\\\\n",
       "\t87 & 6.7        & 3.1        & 4.7        & 1.5        & versicolor\\\\\n",
       "\t97 & 5.7        & 2.9        & 4.2        & 1.3        & versicolor\\\\\n",
       "\t107 & 4.9        & 2.5        & 4.5        & 1.7        & virginica \\\\\n",
       "\t117 & 6.5        & 3.0        & 5.5        & 1.8        & virginica \\\\\n",
       "\t127 & 6.2        & 2.8        & 4.8        & 1.8        & virginica \\\\\n",
       "\t137 & 6.3        & 3.4        & 5.6        & 2.4        & virginica \\\\\n",
       "\t147 & 6.3        & 2.5        & 5.0        & 1.9        & virginica \\\\\n",
       "\\end{tabular}\n"
      ],
      "text/markdown": [
       "\n",
       "| <!--/--> | Sepal.Length | Sepal.Width | Petal.Length | Petal.Width | Species | \n",
       "|---|---|---|---|---|---|---|---|---|---|---|---|---|---|---|\n",
       "| 7 | 4.6        | 3.4        | 1.4        | 0.3        | setosa     | \n",
       "| 17 | 5.4        | 3.9        | 1.3        | 0.4        | setosa     | \n",
       "| 27 | 5.0        | 3.4        | 1.6        | 0.4        | setosa     | \n",
       "| 37 | 5.5        | 3.5        | 1.3        | 0.2        | setosa     | \n",
       "| 47 | 5.1        | 3.8        | 1.6        | 0.2        | setosa     | \n",
       "| 57 | 6.3        | 3.3        | 4.7        | 1.6        | versicolor | \n",
       "| 67 | 5.6        | 3.0        | 4.5        | 1.5        | versicolor | \n",
       "| 77 | 6.8        | 2.8        | 4.8        | 1.4        | versicolor | \n",
       "| 87 | 6.7        | 3.1        | 4.7        | 1.5        | versicolor | \n",
       "| 97 | 5.7        | 2.9        | 4.2        | 1.3        | versicolor | \n",
       "| 107 | 4.9        | 2.5        | 4.5        | 1.7        | virginica  | \n",
       "| 117 | 6.5        | 3.0        | 5.5        | 1.8        | virginica  | \n",
       "| 127 | 6.2        | 2.8        | 4.8        | 1.8        | virginica  | \n",
       "| 137 | 6.3        | 3.4        | 5.6        | 2.4        | virginica  | \n",
       "| 147 | 6.3        | 2.5        | 5.0        | 1.9        | virginica  | \n",
       "\n",
       "\n"
      ],
      "text/plain": [
       "    Sepal.Length Sepal.Width Petal.Length Petal.Width Species   \n",
       "7   4.6          3.4         1.4          0.3         setosa    \n",
       "17  5.4          3.9         1.3          0.4         setosa    \n",
       "27  5.0          3.4         1.6          0.4         setosa    \n",
       "37  5.5          3.5         1.3          0.2         setosa    \n",
       "47  5.1          3.8         1.6          0.2         setosa    \n",
       "57  6.3          3.3         4.7          1.6         versicolor\n",
       "67  5.6          3.0         4.5          1.5         versicolor\n",
       "77  6.8          2.8         4.8          1.4         versicolor\n",
       "87  6.7          3.1         4.7          1.5         versicolor\n",
       "97  5.7          2.9         4.2          1.3         versicolor\n",
       "107 4.9          2.5         4.5          1.7         virginica \n",
       "117 6.5          3.0         5.5          1.8         virginica \n",
       "127 6.2          2.8         4.8          1.8         virginica \n",
       "137 6.3          3.4         5.6          2.4         virginica \n",
       "147 6.3          2.5         5.0          1.9         virginica "
      ]
     },
     "metadata": {},
     "output_type": "display_data"
    }
   ],
   "source": [
    "#vinculando a variavel amostra_sitematica a amostra iris\n",
    "amostra_iris = iris[amostra_sitematica,]\n",
    "amostra_iris"
   ]
  },
  {
   "cell_type": "markdown",
   "metadata": {},
   "source": [
    "## Medidas de Centralidade e Variabilidade"
   ]
  },
  {
   "cell_type": "markdown",
   "metadata": {},
   "source": [
    "```\n",
    "quantile()\n",
    "Quartil\n",
    "sd()\n",
    "Desvio Padrão\n",
    "var()\n",
    "Variância\n",
    "mean()\n",
    "Média \n",
    "median()\n",
    "Mediana\n",
    "```"
   ]
  },
  {
   "cell_type": "code",
   "execution_count": 61,
   "metadata": {},
   "outputs": [],
   "source": [
    "jogadores = c(40000, 18000, 12000, 25000, 30000, 14000, 30000, 40000, 80000)"
   ]
  },
  {
   "cell_type": "code",
   "execution_count": 62,
   "metadata": {},
   "outputs": [
    {
     "data": {
      "text/html": [
       "32111.1111111111"
      ],
      "text/latex": [
       "32111.1111111111"
      ],
      "text/markdown": [
       "32111.1111111111"
      ],
      "text/plain": [
       "[1] 32111.11"
      ]
     },
     "metadata": {},
     "output_type": "display_data"
    }
   ],
   "source": [
    "mean(jogadores)"
   ]
  },
  {
   "cell_type": "code",
   "execution_count": 63,
   "metadata": {},
   "outputs": [
    {
     "data": {
      "text/html": [
       "30000"
      ],
      "text/latex": [
       "30000"
      ],
      "text/markdown": [
       "30000"
      ],
      "text/plain": [
       "[1] 30000"
      ]
     },
     "metadata": {},
     "output_type": "display_data"
    }
   ],
   "source": [
    "median(jogadores)"
   ]
  },
  {
   "cell_type": "code",
   "execution_count": 64,
   "metadata": {},
   "outputs": [
    {
     "data": {
      "text/html": [
       "426111111.111111"
      ],
      "text/latex": [
       "426111111.111111"
      ],
      "text/markdown": [
       "426111111.111111"
      ],
      "text/plain": [
       "[1] 426111111"
      ]
     },
     "metadata": {},
     "output_type": "display_data"
    }
   ],
   "source": [
    "var(jogadores)"
   ]
  },
  {
   "cell_type": "code",
   "execution_count": 65,
   "metadata": {},
   "outputs": [],
   "source": [
    "quartis = quantile(jogadores)"
   ]
  },
  {
   "cell_type": "code",
   "execution_count": 66,
   "metadata": {},
   "outputs": [
    {
     "data": {
      "text/html": [
       "<dl class=dl-horizontal>\n",
       "\t<dt>0%</dt>\n",
       "\t\t<dd>12000</dd>\n",
       "\t<dt>25%</dt>\n",
       "\t\t<dd>18000</dd>\n",
       "\t<dt>50%</dt>\n",
       "\t\t<dd>30000</dd>\n",
       "\t<dt>75%</dt>\n",
       "\t\t<dd>40000</dd>\n",
       "\t<dt>100%</dt>\n",
       "\t\t<dd>80000</dd>\n",
       "</dl>\n"
      ],
      "text/latex": [
       "\\begin{description*}\n",
       "\\item[0\\textbackslash{}\\%] 12000\n",
       "\\item[25\\textbackslash{}\\%] 18000\n",
       "\\item[50\\textbackslash{}\\%] 30000\n",
       "\\item[75\\textbackslash{}\\%] 40000\n",
       "\\item[100\\textbackslash{}\\%] 80000\n",
       "\\end{description*}\n"
      ],
      "text/markdown": [
       "0%\n",
       ":   1200025%\n",
       ":   1800050%\n",
       ":   3000075%\n",
       ":   40000100%\n",
       ":   80000\n",
       "\n"
      ],
      "text/plain": [
       "   0%   25%   50%   75%  100% \n",
       "12000 18000 30000 40000 80000 "
      ]
     },
     "metadata": {},
     "output_type": "display_data"
    }
   ],
   "source": [
    "quartis"
   ]
  },
  {
   "cell_type": "code",
   "execution_count": 67,
   "metadata": {},
   "outputs": [
    {
     "data": {
      "text/html": [
       "<strong>75%:</strong> 40000"
      ],
      "text/latex": [
       "\\textbf{75\\textbackslash{}\\%:} 40000"
      ],
      "text/markdown": [
       "**75%:** 40000"
      ],
      "text/plain": [
       "  75% \n",
       "40000 "
      ]
     },
     "metadata": {},
     "output_type": "display_data"
    }
   ],
   "source": [
    "quartis[4]"
   ]
  },
  {
   "cell_type": "code",
   "execution_count": 68,
   "metadata": {},
   "outputs": [
    {
     "data": {
      "text/html": [
       "20642.4589405214"
      ],
      "text/latex": [
       "20642.4589405214"
      ],
      "text/markdown": [
       "20642.4589405214"
      ],
      "text/plain": [
       "[1] 20642.46"
      ]
     },
     "metadata": {},
     "output_type": "display_data"
    }
   ],
   "source": [
    "sd(jogadores)"
   ]
  },
  {
   "cell_type": "code",
   "execution_count": 69,
   "metadata": {},
   "outputs": [
    {
     "data": {
      "text/plain": [
       "   Min. 1st Qu.  Median    Mean 3rd Qu.    Max. \n",
       "  12000   18000   30000   32111   40000   80000 "
      ]
     },
     "metadata": {},
     "output_type": "display_data"
    }
   ],
   "source": [
    "summary(jogadores)"
   ]
  },
  {
   "cell_type": "markdown",
   "metadata": {},
   "source": [
    "### Probabilidade"
   ]
  },
  {
   "cell_type": "markdown",
   "metadata": {},
   "source": [
    "```\n",
    "Distribuição binomial\n",
    "dbinom(sucessos buscados, numero de experimentos, probabilidade)\n",
    "Probabilidade cumulativa\n",
    "pbinom(sucessos buscados, numero de experimentos, probabilidade)\n",
    "\n",
    "```"
   ]
  },
  {
   "cell_type": "code",
   "execution_count": 70,
   "metadata": {},
   "outputs": [
    {
     "data": {
      "text/html": [
       "0.3125"
      ],
      "text/latex": [
       "0.3125"
      ],
      "text/markdown": [
       "0.3125"
      ],
      "text/plain": [
       "[1] 0.3125"
      ]
     },
     "metadata": {},
     "output_type": "display_data"
    }
   ],
   "source": [
    "#Probabilidade de dar cara três vezes, jogando a moeda 5 vezes.\n",
    "dbinom(3,5,0.5)"
   ]
  },
  {
   "cell_type": "code",
   "execution_count": 71,
   "metadata": {},
   "outputs": [
    {
     "data": {
      "text/html": [
       "0.0114712715148926"
      ],
      "text/latex": [
       "0.0114712715148926"
      ],
      "text/markdown": [
       "0.0114712715148926"
      ],
      "text/plain": [
       "[1] 0.01147127"
      ]
     },
     "metadata": {},
     "output_type": "display_data"
    }
   ],
   "source": [
    "#Prova de 12 questões, 7 questões e 4 alternativas\n",
    "dbinom(7,12,0.25)\n"
   ]
  },
  {
   "cell_type": "code",
   "execution_count": 72,
   "metadata": {},
   "outputs": [
    {
     "data": {
      "text/html": [
       "0.997218489646912"
      ],
      "text/latex": [
       "0.997218489646912"
      ],
      "text/markdown": [
       "0.997218489646912"
      ],
      "text/plain": [
       "[1] 0.9972185"
      ]
     },
     "metadata": {},
     "output_type": "display_data"
    }
   ],
   "source": [
    "pbinom(7,12,0.25)\n"
   ]
  },
  {
   "cell_type": "markdown",
   "metadata": {},
   "source": [
    "### Distribuição normal em R"
   ]
  },
  {
   "cell_type": "markdown",
   "metadata": {},
   "source": [
    "```\n",
    "P[X>x]\n",
    "pnorm() = gera a probabilidade normal\n",
    "P[X>x] = lower.tail = FALSE\n",
    "qnorm() = inverso da pnormal\n",
    "rnorm() = gera numeros aleatórios pra uma probabilidade normal\n",
    "qqnorm() = gera o teste de normalidade\n",
    "qqline() = gera a linha de normalidade\n",
    "shapiro.test() =  teste de shapiro para verificar a normalidade dos dados\n",
    "```"
   ]
  },
  {
   "cell_type": "code",
   "execution_count": 75,
   "metadata": {},
   "outputs": [
    {
     "data": {
      "text/html": [
       "0.158655253931457"
      ],
      "text/latex": [
       "0.158655253931457"
      ],
      "text/markdown": [
       "0.158655253931457"
      ],
      "text/plain": [
       "[1] 0.1586553"
      ]
     },
     "metadata": {},
     "output_type": "display_data"
    }
   ],
   "source": [
    "#Qual a chance de ter uma caixa com um conjunto de objetos , qual a probabilidade de tirar um objeto com o peso <6 kilos\n",
    "#media = 8 , desvio padrão = 2\n",
    "pnorm(6,8,2)"
   ]
  },
  {
   "cell_type": "code",
   "execution_count": 77,
   "metadata": {},
   "outputs": [
    {
     "data": {
      "text/html": [
       "0.841344746068543"
      ],
      "text/latex": [
       "0.841344746068543"
      ],
      "text/markdown": [
       "0.841344746068543"
      ],
      "text/plain": [
       "[1] 0.8413447"
      ]
     },
     "metadata": {},
     "output_type": "display_data"
    }
   ],
   "source": [
    "#Qual a chance de ter uma caixa com um conjunto de objetos , qual a probabilidade de tirar um objeto com o peso > 6 kilos\n",
    "#media = 8 , desvio padrão = 2\n",
    "pnorm(6,8,2, lower.tail = FALSE)"
   ]
  },
  {
   "cell_type": "code",
   "execution_count": 78,
   "metadata": {},
   "outputs": [
    {
     "data": {
      "text/html": [
       "0.841344746068543"
      ],
      "text/latex": [
       "0.841344746068543"
      ],
      "text/markdown": [
       "0.841344746068543"
      ],
      "text/plain": [
       "[1] 0.8413447"
      ]
     },
     "metadata": {},
     "output_type": "display_data"
    }
   ],
   "source": [
    "#ou \n",
    "1 - pnorm(6,8,2)"
   ]
  },
  {
   "cell_type": "code",
   "execution_count": 79,
   "metadata": {},
   "outputs": [
    {
     "data": {
      "text/html": [
       "0.317310507862914"
      ],
      "text/latex": [
       "0.317310507862914"
      ],
      "text/markdown": [
       "0.317310507862914"
      ],
      "text/plain": [
       "[1] 0.3173105"
      ]
     },
     "metadata": {},
     "output_type": "display_data"
    }
   ],
   "source": [
    "# E para tirar um objeto com mais de 6 kilos ou menos de 10?\n",
    "pnorm(6,8,2) + pnorm(10,8,2, lower.tail = FALSE)"
   ]
  },
  {
   "cell_type": "code",
   "execution_count": 81,
   "metadata": {},
   "outputs": [
    {
     "data": {
      "text/html": [
       "0.682689492137086"
      ],
      "text/latex": [
       "0.682689492137086"
      ],
      "text/markdown": [
       "0.682689492137086"
      ],
      "text/plain": [
       "[1] 0.6826895"
      ]
     },
     "metadata": {},
     "output_type": "display_data"
    }
   ],
   "source": [
    "# E para tirar um objeto com mais de 6 kilos e menos de 10?\n",
    "pnorm(10,8,2) - pnorm(6,8,2)"
   ]
  },
  {
   "cell_type": "code",
   "execution_count": 89,
   "metadata": {},
   "outputs": [],
   "source": [
    "x = rnorm(50)"
   ]
  },
  {
   "cell_type": "code",
   "execution_count": 90,
   "metadata": {},
   "outputs": [
    {
     "data": {
      "text/plain": [
       "    Min.  1st Qu.   Median     Mean  3rd Qu.     Max. \n",
       "-1.81925 -0.86848 -0.19983 -0.09253  0.74492  2.26315 "
      ]
     },
     "metadata": {},
     "output_type": "display_data"
    }
   ],
   "source": [
    "summary (x)"
   ]
  },
  {
   "cell_type": "code",
   "execution_count": 91,
   "metadata": {},
   "outputs": [
    {
     "data": {
      "text/html": [
       "<ol class=list-inline>\n",
       "\t<li>1.60942881186707</li>\n",
       "\t<li>0.792704210609947</li>\n",
       "\t<li>-0.42779423007731</li>\n",
       "\t<li>-0.893290383516911</li>\n",
       "\t<li>-1.06776135927502</li>\n",
       "\t<li>-0.412555015217023</li>\n",
       "\t<li>0.111064700179335</li>\n",
       "\t<li>-0.79404420869077</li>\n",
       "\t<li>1.06564501253951</li>\n",
       "\t<li>-0.273099605829212</li>\n",
       "\t<li>1.44560596069178</li>\n",
       "\t<li>-0.361799132384581</li>\n",
       "\t<li>0.0592870834964877</li>\n",
       "\t<li>-1.12494872129071</li>\n",
       "\t<li>0.146547103602029</li>\n",
       "\t<li>0.247408486523714</li>\n",
       "\t<li>0.798672210944715</li>\n",
       "\t<li>-1.81924988437844</li>\n",
       "\t<li>-0.999061971105305</li>\n",
       "\t<li>-1.32648190651586</li>\n",
       "\t<li>-0.141053895000232</li>\n",
       "\t<li>-1.23741446394501</li>\n",
       "\t<li>0.764615208228798</li>\n",
       "\t<li>-0.25860080485369</li>\n",
       "\t<li>-0.0590172331592288</li>\n",
       "\t<li>-0.556746439208238</li>\n",
       "\t<li>0.902973119134536</li>\n",
       "\t<li>-0.284668677366558</li>\n",
       "\t<li>-0.969156721833055</li>\n",
       "\t<li>-0.765217174457315</li>\n",
       "\t<li>0.120821858626001</li>\n",
       "\t<li>-1.4808662579412</li>\n",
       "\t<li>0.433084749118547</li>\n",
       "\t<li>-1.73263026685425</li>\n",
       "\t<li>-0.693128679711352</li>\n",
       "\t<li>1.25525837484562</li>\n",
       "\t<li>-1.52537709553191</li>\n",
       "\t<li>-1.33893034837038</li>\n",
       "\t<li>1.71816000096094</li>\n",
       "\t<li>-0.378569883513475</li>\n",
       "\t<li>-1.58740197276451</li>\n",
       "\t<li>0.215097533254924</li>\n",
       "\t<li>2.26314713656823</li>\n",
       "\t<li>0.685831872631933</li>\n",
       "\t<li>1.4256907771721</li>\n",
       "\t<li>1.14863024540547</li>\n",
       "\t<li>-0.705465190663617</li>\n",
       "\t<li>0.0688120688175334</li>\n",
       "\t<li>0.245082335411254</li>\n",
       "\t<li>1.06426075513816</li>\n",
       "</ol>\n"
      ],
      "text/latex": [
       "\\begin{enumerate*}\n",
       "\\item 1.60942881186707\n",
       "\\item 0.792704210609947\n",
       "\\item -0.42779423007731\n",
       "\\item -0.893290383516911\n",
       "\\item -1.06776135927502\n",
       "\\item -0.412555015217023\n",
       "\\item 0.111064700179335\n",
       "\\item -0.79404420869077\n",
       "\\item 1.06564501253951\n",
       "\\item -0.273099605829212\n",
       "\\item 1.44560596069178\n",
       "\\item -0.361799132384581\n",
       "\\item 0.0592870834964877\n",
       "\\item -1.12494872129071\n",
       "\\item 0.146547103602029\n",
       "\\item 0.247408486523714\n",
       "\\item 0.798672210944715\n",
       "\\item -1.81924988437844\n",
       "\\item -0.999061971105305\n",
       "\\item -1.32648190651586\n",
       "\\item -0.141053895000232\n",
       "\\item -1.23741446394501\n",
       "\\item 0.764615208228798\n",
       "\\item -0.25860080485369\n",
       "\\item -0.0590172331592288\n",
       "\\item -0.556746439208238\n",
       "\\item 0.902973119134536\n",
       "\\item -0.284668677366558\n",
       "\\item -0.969156721833055\n",
       "\\item -0.765217174457315\n",
       "\\item 0.120821858626001\n",
       "\\item -1.4808662579412\n",
       "\\item 0.433084749118547\n",
       "\\item -1.73263026685425\n",
       "\\item -0.693128679711352\n",
       "\\item 1.25525837484562\n",
       "\\item -1.52537709553191\n",
       "\\item -1.33893034837038\n",
       "\\item 1.71816000096094\n",
       "\\item -0.378569883513475\n",
       "\\item -1.58740197276451\n",
       "\\item 0.215097533254924\n",
       "\\item 2.26314713656823\n",
       "\\item 0.685831872631933\n",
       "\\item 1.4256907771721\n",
       "\\item 1.14863024540547\n",
       "\\item -0.705465190663617\n",
       "\\item 0.0688120688175334\n",
       "\\item 0.245082335411254\n",
       "\\item 1.06426075513816\n",
       "\\end{enumerate*}\n"
      ],
      "text/markdown": [
       "1. 1.60942881186707\n",
       "2. 0.792704210609947\n",
       "3. -0.42779423007731\n",
       "4. -0.893290383516911\n",
       "5. -1.06776135927502\n",
       "6. -0.412555015217023\n",
       "7. 0.111064700179335\n",
       "8. -0.79404420869077\n",
       "9. 1.06564501253951\n",
       "10. -0.273099605829212\n",
       "11. 1.44560596069178\n",
       "12. -0.361799132384581\n",
       "13. 0.0592870834964877\n",
       "14. -1.12494872129071\n",
       "15. 0.146547103602029\n",
       "16. 0.247408486523714\n",
       "17. 0.798672210944715\n",
       "18. -1.81924988437844\n",
       "19. -0.999061971105305\n",
       "20. -1.32648190651586\n",
       "21. -0.141053895000232\n",
       "22. -1.23741446394501\n",
       "23. 0.764615208228798\n",
       "24. -0.25860080485369\n",
       "25. -0.0590172331592288\n",
       "26. -0.556746439208238\n",
       "27. 0.902973119134536\n",
       "28. -0.284668677366558\n",
       "29. -0.969156721833055\n",
       "30. -0.765217174457315\n",
       "31. 0.120821858626001\n",
       "32. -1.4808662579412\n",
       "33. 0.433084749118547\n",
       "34. -1.73263026685425\n",
       "35. -0.693128679711352\n",
       "36. 1.25525837484562\n",
       "37. -1.52537709553191\n",
       "38. -1.33893034837038\n",
       "39. 1.71816000096094\n",
       "40. -0.378569883513475\n",
       "41. -1.58740197276451\n",
       "42. 0.215097533254924\n",
       "43. 2.26314713656823\n",
       "44. 0.685831872631933\n",
       "45. 1.4256907771721\n",
       "46. 1.14863024540547\n",
       "47. -0.705465190663617\n",
       "48. 0.0688120688175334\n",
       "49. 0.245082335411254\n",
       "50. 1.06426075513816\n",
       "\n",
       "\n"
      ],
      "text/plain": [
       " [1]  1.60942881  0.79270421 -0.42779423 -0.89329038 -1.06776136 -0.41255502\n",
       " [7]  0.11106470 -0.79404421  1.06564501 -0.27309961  1.44560596 -0.36179913\n",
       "[13]  0.05928708 -1.12494872  0.14654710  0.24740849  0.79867221 -1.81924988\n",
       "[19] -0.99906197 -1.32648191 -0.14105390 -1.23741446  0.76461521 -0.25860080\n",
       "[25] -0.05901723 -0.55674644  0.90297312 -0.28466868 -0.96915672 -0.76521717\n",
       "[31]  0.12082186 -1.48086626  0.43308475 -1.73263027 -0.69312868  1.25525837\n",
       "[37] -1.52537710 -1.33893035  1.71816000 -0.37856988 -1.58740197  0.21509753\n",
       "[43]  2.26314714  0.68583187  1.42569078  1.14863025 -0.70546519  0.06881207\n",
       "[49]  0.24508234  1.06426076"
      ]
     },
     "metadata": {},
     "output_type": "display_data"
    }
   ],
   "source": [
    "x"
   ]
  },
  {
   "cell_type": "code",
   "execution_count": 92,
   "metadata": {},
   "outputs": [
    {
     "data": {
      "image/png": "[encoded data removed]",
      "text/plain": [
       "Plot with title \"Normal Q-Q Plot\""
      ]
     },
     "metadata": {},
     "output_type": "display_data",
     "source": "R display func"
    }
   ],
   "source": [
    "qqnorm(x)"
   ]
  },
  {
   "cell_type": "code",
   "execution_count": 93,
   "metadata": {},
   "outputs": [
    {
     "data": {
      "image/png": "[encoded data removed]",
      "text/plain": [
       "Plot with title \"Normal Q-Q Plot\""
      ]
     },
     "metadata": {},
     "output_type": "display_data",
     "source": "R display func"
    }
   ],
   "source": [
    "qqnorm(x)\n",
    "qqline(x)"
   ]
  },
  {
   "cell_type": "code",
   "execution_count": 94,
   "metadata": {},
   "outputs": [
    {
     "data": {
      "text/plain": [
       "\n",
       "\tShapiro-Wilk normality test\n",
       "\n",
       "data:  x\n",
       "W = 0.97676, p-value = 0.4248\n"
      ]
     },
     "metadata": {},
     "output_type": "display_data"
    }
   ],
   "source": [
    "shapiro.test(x)"
   ]
  },
  {
   "cell_type": "markdown",
   "metadata": {},
   "source": [
    "```\n",
    "Para t student\n",
    "P[X<x]\n",
    "pt()\n",
    "e para P[X>x] usa o lower.tail = F\n",
    "```"
   ]
  },
  {
   "cell_type": "code",
   "execution_count": 95,
   "metadata": {},
   "outputs": [
    {
     "data": {
      "text/html": [
       "0.913998354024044"
      ],
      "text/latex": [
       "0.913998354024044"
      ],
      "text/markdown": [
       "0.913998354024044"
      ],
      "text/plain": [
       "[1] 0.9139984"
      ]
     },
     "metadata": {},
     "output_type": "display_data"
    }
   ],
   "source": [
    "# Seja o Salario de um cientista de dados medio = 75 R$/h, o desvio padrão = 10, e a amsotra = 9 pessoas, qual o probabilidade\n",
    "#de contratar um cientista de dados com um salario < que R$80/h?\n",
    "pt(1.5,8) #(valor econtrado de t, graus de liberdade)\n"
   ]
  },
  {
   "cell_type": "code",
   "execution_count": 96,
   "metadata": {},
   "outputs": [
    {
     "data": {
      "text/html": [
       "0.0860016459759557"
      ],
      "text/latex": [
       "0.0860016459759557"
      ],
      "text/markdown": [
       "0.0860016459759557"
      ],
      "text/plain": [
       "[1] 0.08600165"
      ]
     },
     "metadata": {},
     "output_type": "display_data"
    }
   ],
   "source": [
    "pt(1.5,8, lower.tail = F)"
   ]
  },
  {
   "cell_type": "code",
   "execution_count": 97,
   "metadata": {},
   "outputs": [
    {
     "data": {
      "text/html": [
       "1"
      ],
      "text/latex": [
       "1"
      ],
      "text/markdown": [
       "1"
      ],
      "text/plain": [
       "[1] 1"
      ]
     },
     "metadata": {},
     "output_type": "display_data"
    }
   ],
   "source": [
    "pt(1.5,8) + pt(1.5,8, lower.tail = F)"
   ]
  },
  {
   "cell_type": "code",
   "execution_count": null,
   "metadata": {},
   "outputs": [],
   "source": []
  },
  {
   "cell_type": "code",
   "execution_count": null,
   "metadata": {},
   "outputs": [],
   "source": []
  },
  {
   "cell_type": "code",
   "execution_count": null,
   "metadata": {},
   "outputs": [],
   "source": []
  },
  {
   "cell_type": "code",
   "execution_count": null,
   "metadata": {},
   "outputs": [],
   "source": []
  }
 ],
 "metadata": {
  "kernelspec": {
   "display_name": "R",
   "language": "R",
   "name": "ir"
  },
  "language_info": {
   "codemirror_mode": "r",
   "file_extension": ".r",
   "mimetype": "text/x-r-source",
   "name": "R",
   "pygments_lexer": "r",
   "version": "3.4.3"
  }
 },
 "nbformat": 4,
 "nbformat_minor": 2
}
