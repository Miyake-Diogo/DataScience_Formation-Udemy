{
 "cells": [
  {
   "cell_type": "markdown",
   "metadata": {},
   "source": [
    "# Resumo Series temporais - Formação Cientista de dados"
   ]
  },
  {
   "cell_type": "markdown",
   "metadata": {},
   "source": [
    "### Será usado o dataset airpassengers do R"
   ]
  },
  {
   "cell_type": "markdown",
   "metadata": {},
   "source": [
    "### Tendência e Sazonalidade"
   ]
  },
  {
   "cell_type": "code",
   "execution_count": null,
   "metadata": {},
   "outputs": [],
   "source": [
    "AirPassengers"
   ]
  },
  {
   "cell_type": "code",
   "execution_count": null,
   "metadata": {},
   "outputs": [],
   "source": [
    "start(AirPassengers) #inicio do dataset"
   ]
  },
  {
   "cell_type": "code",
   "execution_count": null,
   "metadata": {},
   "outputs": [],
   "source": [
    "end(AirPassengers) #fim do dataset"
   ]
  },
  {
   "cell_type": "code",
   "execution_count": null,
   "metadata": {},
   "outputs": [],
   "source": [
    "plot(AirPassengers)"
   ]
  },
  {
   "cell_type": "markdown",
   "metadata": {},
   "source": [
    "Conclusão do plot :\n",
    "O transporte teve evolução ao longo do tempo"
   ]
  },
  {
   "cell_type": "code",
   "execution_count": null,
   "metadata": {},
   "outputs": [],
   "source": [
    "plot(aggregate(AirPassengers))"
   ]
  },
  {
   "cell_type": "markdown",
   "metadata": {},
   "source": [
    "Nota-se a suavização através do valor total do ano."
   ]
  },
  {
   "cell_type": "code",
   "execution_count": null,
   "metadata": {},
   "outputs": [],
   "source": [
    "monthplot(AirPassengers) #valor agregado por mês"
   ]
  },
  {
   "cell_type": "markdown",
   "metadata": {},
   "source": [
    "Nota-se o pico próximo ao período de férias "
   ]
  },
  {
   "cell_type": "code",
   "execution_count": null,
   "metadata": {},
   "outputs": [],
   "source": [
    "subst = window (AirPassengers, start = c(1960,1), end=c(1960,12)) #extração de uma janela da série temporal\n",
    "plot(subst)"
   ]
  },
  {
   "cell_type": "markdown",
   "metadata": {},
   "source": [
    "Nota-se a série com mais detalhamento."
   ]
  },
  {
   "cell_type": "markdown",
   "metadata": {},
   "source": [
    "Conclusão: Embora haja efeitos sazonais há uma tendência de crescimento ao longo das datas."
   ]
  },
  {
   "cell_type": "markdown",
   "metadata": {},
   "source": [
    "### Decomposição"
   ]
  },
  {
   "cell_type": "code",
   "execution_count": null,
   "metadata": {},
   "outputs": [],
   "source": [
    "dec = decompose(AirPassengers) # decomposição das séries temporais\n",
    "dec"
   ]
  },
  {
   "cell_type": "code",
   "execution_count": null,
   "metadata": {},
   "outputs": [],
   "source": [
    "dec$seasonal #sazonalidade"
   ]
  },
  {
   "cell_type": "code",
   "execution_count": null,
   "metadata": {},
   "outputs": [],
   "source": [
    "dec$trend #tendencia"
   ]
  },
  {
   "cell_type": "code",
   "execution_count": null,
   "metadata": {},
   "outputs": [],
   "source": [
    "dec$random # aleatoridade"
   ]
  },
  {
   "cell_type": "code",
   "execution_count": null,
   "metadata": {},
   "outputs": [],
   "source": [
    "plot(dec$seasonal) # Nota-se o efeito da sazonalidade estável"
   ]
  },
  {
   "cell_type": "code",
   "execution_count": null,
   "metadata": {},
   "outputs": [],
   "source": [
    "plot(dec$trend) # nota-se o efeito de crescimento"
   ]
  },
  {
   "cell_type": "code",
   "execution_count": null,
   "metadata": {},
   "outputs": [],
   "source": [
    "plot(dec$random) #Nota se o efeito da aleatoridade do modelo"
   ]
  },
  {
   "cell_type": "code",
   "execution_count": null,
   "metadata": {},
   "outputs": [],
   "source": [
    "plot(dec)"
   ]
  },
  {
   "cell_type": "markdown",
   "metadata": {},
   "source": [
    "Todos os dados plotados juntos"
   ]
  },
  {
   "cell_type": "markdown",
   "metadata": {},
   "source": [
    "### Previsão\n",
    "Há várias maneiras de realizar a previsão do modelo, será demonstrado algumas abaixo:"
   ]
  },
  {
   "cell_type": "code",
   "execution_count": null,
   "metadata": {},
   "outputs": [],
   "source": [
    "mean(AirPassengers) # Pela média pode-se ter uma noção sobre a previsão mas possui muitos erros."
   ]
  },
  {
   "cell_type": "code",
   "execution_count": null,
   "metadata": {},
   "outputs": [],
   "source": [
    "#pelo ultimo ano, pode-se atenuar o erro.\n",
    "mean(window(AirPassengers, start=c(1960, 1), end= c(1960,12)))"
   ]
  },
  {
   "cell_type": "code",
   "execution_count": null,
   "metadata": {},
   "outputs": [],
   "source": [
    "# Mesmo assim a série é temporal e possui sazonalidade e tendencia...."
   ]
  },
  {
   "cell_type": "code",
   "execution_count": 1,
   "metadata": {},
   "outputs": [
    {
     "name": "stderr",
     "output_type": "stream",
     "text": [
      "Installing package into 'C:/Users/dmiyake/Documents/R/win-library/3.4'\n",
      "(as 'lib' is unspecified)\n"
     ]
    },
    {
     "name": "stdout",
     "output_type": "stream",
     "text": [
      "package 'forecast' successfully unpacked and MD5 sums checked\n",
      "\n",
      "The downloaded binary packages are in\n",
      "\tC:\\Users\\dmiyake\\AppData\\Local\\Temp\\RtmpyG5MCy\\downloaded_packages\n"
     ]
    }
   ],
   "source": [
    "#Pela média móvel, o valor da média se ajusta com o passar do tempo\n",
    "#Para isso é necessário instalar o pacote forecast\n",
    "install.packages(\"forecast\")"
   ]
  },
  {
   "cell_type": "code",
   "execution_count": 2,
   "metadata": {},
   "outputs": [],
   "source": [
    "library(forecast)"
   ]
  },
  {
   "cell_type": "code",
   "execution_count": 4,
   "metadata": {},
   "outputs": [
    {
     "data": {
      "text/plain": [
       "          Jan      Feb      Mar      Apr      May      Jun      Jul      Aug\n",
       "1949       NA       NA       NA       NA       NA       NA 126.7917 127.2500\n",
       "1950 131.2500 133.0833 134.9167 136.4167 137.4167 138.7500 140.9167 143.1667\n",
       "1951 157.1250 159.5417 161.8333 164.1250 166.6667 169.0833 171.2500 173.5833\n",
       "1952 183.1250 186.2083 189.0417 191.2917 193.5833 195.8333 198.0417 199.7500\n",
       "1953 215.8333 218.5000 220.9167 222.9167 224.0833 224.7083 225.3333 225.3333\n",
       "1954 228.0000 230.4583 232.2500 233.9167 235.6250 237.7500 240.5000 243.9583\n",
       "1955 261.8333 266.6667 271.1250 275.2083 278.5000 281.9583 285.7500 289.3333\n",
       "1956 309.9583 314.4167 318.6250 321.7500 324.5000 327.0833 329.5417 331.8333\n",
       "1957 348.2500 353.0000 357.6250 361.3750 364.5000 367.1667 369.4583 371.2083\n",
       "1958 375.2500 377.9167 379.5000 380.0000 380.7083 380.9583 381.8333 383.6667\n",
       "1959 402.5417 407.1667 411.8750 416.3333 420.5000 425.5000 430.7083 435.1250\n",
       "1960 456.3333 461.3750 465.2083 469.3333 472.7500 475.0417       NA       NA\n",
       "          Sep      Oct      Nov      Dec\n",
       "1949 127.9583 128.5833 129.0000 129.7500\n",
       "1950 145.7083 148.4167 151.5417 154.7083\n",
       "1951 175.4583 176.8333 178.0417 180.1667\n",
       "1952 202.2083 206.2500 210.4167 213.3750\n",
       "1953 224.9583 224.5833 224.4583 225.5417\n",
       "1954 247.1667 250.2500 253.5000 257.1250\n",
       "1955 293.2500 297.1667 301.0000 305.4583\n",
       "1956 334.4583 337.5417 340.5417 344.0833\n",
       "1957 372.1667 372.4167 372.7500 373.6250\n",
       "1958 386.5000 390.3333 394.7083 398.6250\n",
       "1959 437.7083 440.9583 445.8333 450.6250\n",
       "1960       NA       NA       NA       NA"
      ]
     },
     "metadata": {},
     "output_type": "display_data"
    }
   ],
   "source": [
    "mediamovel = ma(AirPassengers, order=12)\n",
    "mediamovel"
   ]
  },
  {
   "cell_type": "code",
   "execution_count": 5,
   "metadata": {},
   "outputs": [
    {
     "data": {
      "text/plain": [
       "        Jan    Feb    Mar    Apr    May    Jun    Jul    Aug    Sep    Oct\n",
       "1949     NA 120.00 127.75 127.75 126.50 134.75 144.75 145.00 134.75 119.50\n",
       "1950 118.50 127.00 135.75 134.00 133.50 148.25 164.75 167.00 154.75 134.50\n",
       "1951 145.00 155.75 167.25 169.00 171.25 181.75 193.75 195.25 182.25 163.50\n",
       "1952 172.00 181.00 186.75 184.50 191.25 212.25 230.00 230.75 212.75 190.75\n",
       "1953 195.50 206.00 225.75 233.75 234.00 244.75 260.75 261.25 239.25 209.75\n",
       "1954 199.25 203.75 221.25 230.75 239.75 266.00 290.25 286.75 260.00 230.00\n",
       "1955 236.50 243.75 259.00 268.75 281.00 316.00 347.50 342.50 311.25 274.25\n",
       "1956 280.75 288.75 306.00 315.25 330.75 369.75 401.25 394.50 355.25 309.50\n",
       "1957 309.25 318.25 340.25 351.75 370.00 416.00 454.75 450.75 405.50 350.75\n",
       "1958 333.50 334.50 347.50 355.25 377.25 431.00 480.50 476.25 418.00 358.00\n",
       "1959 349.75 362.50 387.50 404.50 427.00 478.00 531.75 532.25 473.00 409.75\n",
       "1960 407.50 404.50 422.50 453.25 485.00 541.00 596.25 585.50 520.75 455.00\n",
       "        Nov    Dec\n",
       "1949 111.25 113.75\n",
       "1950 125.25 134.75\n",
       "1951 155.00 162.25\n",
       "1952 182.25 189.00\n",
       "1953 193.00 196.50\n",
       "1954 216.00 225.75\n",
       "1955 256.50 269.25\n",
       "1956 288.50 299.50\n",
       "1957 323.25 329.25\n",
       "1958 329.00 336.00\n",
       "1959 384.00 397.25\n",
       "1960 418.25     NA"
      ]
     },
     "metadata": {},
     "output_type": "display_data"
    }
   ],
   "source": [
    "mediamovel = ma(AirPassengers, order=2) #calcula a order em 2\n",
    "mediamovel"
   ]
  },
  {
   "cell_type": "code",
   "execution_count": 6,
   "metadata": {},
   "outputs": [
    {
     "name": "stderr",
     "output_type": "stream",
     "text": [
      "Warning message in ets(object, lambda = lambda, allow.multiplicative.trend = allow.multiplicative.trend, :\n",
      "\"Missing values encountered. Using longest contiguous portion of time series\""
     ]
    }
   ],
   "source": [
    "mediamovel = ma(AirPassengers, order=12)\n",
    "previsao = forecast(mediamovel, h=12)"
   ]
  },
  {
   "cell_type": "code",
   "execution_count": 7,
   "metadata": {},
   "outputs": [
    {
     "data": {
      "text/plain": [
       "         Point Forecast    Lo 80    Hi 80    Lo 95    Hi 95\n",
       "Jul 1960       477.3339 475.9379 478.7299 475.1989 479.4689\n",
       "Aug 1960       479.6260 476.5022 482.7498 474.8485 484.4035\n",
       "Sep 1960       481.9181 476.6856 487.1507 473.9156 489.9206\n",
       "Oct 1960       484.2102 476.5421 491.8784 472.4828 495.9377\n",
       "Nov 1960       486.5023 476.1077 496.8970 470.6051 502.3996\n",
       "Dec 1960       488.7944 475.4083 502.1806 468.3220 509.2668\n",
       "Jan 1961       491.0866 474.4634 507.7097 465.6637 516.5094\n",
       "Feb 1961       493.3787 473.2887 513.4687 462.6537 524.1037\n",
       "Mar 1961       495.6708 471.8965 519.4450 459.3112 532.0303\n",
       "Apr 1961       497.9629 470.2975 525.6282 455.6524 540.2734\n",
       "May 1961       500.2550 468.5005 532.0095 451.6907 548.8193\n",
       "Jun 1961       502.5471 466.5131 538.5811 447.4378 557.6564"
      ]
     },
     "metadata": {},
     "output_type": "display_data"
    }
   ],
   "source": [
    "previsao"
   ]
  },
  {
   "cell_type": "code",
   "execution_count": 8,
   "metadata": {},
   "outputs": [
    {
     "data": {
      "image/png": "[encoded data removed]",
      "text/plain": [
       "Plot with title \"Forecasts from ETS(M,A,N)\""
      ]
     },
     "metadata": {},
     "output_type": "display_data",
     "source": "R display func"
    }
   ],
   "source": [
    "plot(previsao)"
   ]
  },
  {
   "cell_type": "markdown",
   "metadata": {},
   "source": [
    "Nota-se o efeito da média movel de acordo com a previsão do modelo"
   ]
  },
  {
   "cell_type": "code",
   "execution_count": 10,
   "metadata": {},
   "outputs": [
    {
     "data": {
      "text/plain": [
       "Series: AirPassengers \n",
       "ARIMA(2,1,1)(0,1,0)[12]                    \n",
       "\n",
       "Coefficients:\n",
       "         ar1     ar2      ma1\n",
       "      0.5960  0.2143  -0.9819\n",
       "s.e.  0.0888  0.0880   0.0292\n",
       "\n",
       "sigma^2 estimated as 132.3:  log likelihood=-504.92\n",
       "AIC=1017.85   AICc=1018.17   BIC=1029.35"
      ]
     },
     "metadata": {},
     "output_type": "display_data"
    }
   ],
   "source": [
    "arima = auto.arima(AirPassengers)\n",
    "arima"
   ]
  },
  {
   "cell_type": "code",
   "execution_count": 11,
   "metadata": {},
   "outputs": [
    {
     "data": {
      "text/plain": [
       "         Point Forecast    Lo 80    Hi 80    Lo 95    Hi 95\n",
       "Jan 1961       445.6349 430.8903 460.3795 423.0851 468.1847\n",
       "Feb 1961       420.3950 403.0907 437.6993 393.9304 446.8596\n",
       "Mar 1961       449.1983 429.7726 468.6240 419.4892 478.9074\n",
       "Apr 1961       491.8399 471.0270 512.6529 460.0092 523.6707\n",
       "May 1961       503.3945 481.5559 525.2330 469.9953 536.7937\n",
       "Jun 1961       566.8624 544.2637 589.4612 532.3007 601.4242\n",
       "Jul 1961       654.2602 631.0820 677.4383 618.8122 689.7081\n",
       "Aug 1961       638.5975 614.9704 662.2246 602.4630 674.7320\n",
       "Sep 1961       540.8837 516.9028 564.8647 504.2081 577.5594\n",
       "Oct 1961       494.1266 469.8624 518.3909 457.0177 531.2356\n",
       "Nov 1961       423.3327 398.8381 447.8273 385.8715 460.7939\n",
       "Dec 1961       465.5076 440.8229 490.1923 427.7556 503.2596"
      ]
     },
     "metadata": {},
     "output_type": "display_data"
    }
   ],
   "source": [
    "previsao = forecast(arima, h=12)\n",
    "previsao"
   ]
  },
  {
   "cell_type": "code",
   "execution_count": 12,
   "metadata": {},
   "outputs": [
    {
     "data": {
      "image/png": "[encoded data removed]",
      "text/plain": [
       "Plot with title \"Forecasts from ARIMA(2,1,1)(0,1,0)[12]\""
      ]
     },
     "metadata": {},
     "output_type": "display_data",
     "source": "R display func"
    }
   ],
   "source": [
    "plot(previsao)"
   ]
  },
  {
   "cell_type": "markdown",
   "metadata": {},
   "source": [
    "A previsão seguiu a estrutura do efeito sazonal, tendo assim uma previsão mais segura."
   ]
  }
 ],
 "metadata": {
  "kernelspec": {
   "display_name": "R",
   "language": "R",
   "name": "ir"
  },
  "language_info": {
   "codemirror_mode": "r",
   "file_extension": ".r",
   "mimetype": "text/x-r-source",
   "name": "R",
   "pygments_lexer": "r",
   "version": "3.4.3"
  }
 },
 "nbformat": 4,
 "nbformat_minor": 2
}
